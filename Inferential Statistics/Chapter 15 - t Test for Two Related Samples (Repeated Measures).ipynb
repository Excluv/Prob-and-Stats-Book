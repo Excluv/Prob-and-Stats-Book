{
 "cells": [
  {
   "cell_type": "markdown",
   "id": "bc9f2648-339d-4e96-a4ea-be692fab87de",
   "metadata": {
    "jp-MarkdownHeadingCollapsed": true,
    "tags": []
   },
   "source": [
    "### **15.1** EPO EXPERIMENT WITH REPEATED MEASURES"
   ]
  },
  {
   "cell_type": "markdown",
   "id": "f2288999-8869-4195-93ba-4793407d7eeb",
   "metadata": {},
   "source": [
    "- Any observed mean difference between the samples might be resulted from various uncontrolled variables, beside from the effect that is being test, if it exists.\n",
    "- In order to minimize the influence of these factors, investigators can apply the so-call repeated mearsure, that is, assign the subjects that were previously in the treatment group, to the control group in the repeated experiment, so that the difference within that group itself can be examined."
   ]
  },
  {
   "cell_type": "markdown",
   "id": "747d00ee-d0d6-4c13-946c-7ed5d2b33c16",
   "metadata": {},
   "source": [
    "#### **Difference (D) Scores** "
   ]
  },
  {
   "cell_type": "markdown",
   "id": "3c8b37c8-4e7b-4067-9522-5b7e6bad26e5",
   "metadata": {},
   "source": [
    "- Definition:\n",
    "    + The arithmetic difference between each pair of scores in repeated measures or, more generally, in two related samples."
   ]
  },
  {
   "cell_type": "markdown",
   "id": "b64ad7ef-0cef-4333-8228-8a6644e4b7b1",
   "metadata": {},
   "source": [
    "<center><b>DIFFERENCE SCORE (D)</b></center> <br>\n",
    "<center>$\\Large D = X_1 - X_2$</center>\n",
    "Where: <br>\n",
    "+ $X_1, X_2$: paired scores for each subject measured twice. <br>\n",
    "+ $X_1$: the score of the subject that was assigned to the treatment group. <br>\n",
    "+ $X_2$: the score of the subject that was assigned to the control group."
   ]
  },
  {
   "cell_type": "markdown",
   "id": "069b6679-98e8-49ef-9a2e-679905d217ae",
   "metadata": {},
   "source": [
    "#### **Mean Difference Score ($\\overline{D}$)** "
   ]
  },
  {
   "cell_type": "markdown",
   "id": "ec1014d2-e6af-487f-96aa-741f6717ed2f",
   "metadata": {},
   "source": [
    "<center><b>MEAN DIFFERENCE SCORE ($\\overline{D}$)</b></center> <br>\n",
    "<center>$\\Large \\overline{D} = \\frac{\\sum{D}}{n}$</center>"
   ]
  },
  {
   "cell_type": "markdown",
   "id": "046a6ccd-3232-469a-96ab-b0e817395f78",
   "metadata": {},
   "source": [
    "#### **Comparing the Two Experiments** "
   ]
  },
  {
   "cell_type": "markdown",
   "id": "6d81e7f8-2eaf-4e5c-8768-12bbfd516608",
   "metadata": {},
   "source": [
    "- The distributions for the scores of repeated measures usually have smaller variability, therefore, produce better statistical stability and a higher chance of rejecting the null hypothesis + a likely smaller p-value."
   ]
  },
  {
   "cell_type": "markdown",
   "id": "00062f52-40f7-4d44-87b1-eb13127b727c",
   "metadata": {},
   "source": [
    "#### **Repeated Measures** "
   ]
  },
  {
   "cell_type": "markdown",
   "id": "e16d33a6-3106-42ef-8cd6-51601f6c92e2",
   "metadata": {},
   "source": [
    "- Definition:\n",
    "    + Whenever the same subject is measured more than once."
   ]
  },
  {
   "cell_type": "markdown",
   "id": "8e4d4ff6-1fe4-4b0c-9078-f74b093a9959",
   "metadata": {},
   "source": [
    "#### **Two Related Samples**"
   ]
  },
  {
   "cell_type": "markdown",
   "id": "e89d8704-2c7a-4def-9437-e5b55b90dd95",
   "metadata": {},
   "source": [
    "- Definition:\n",
    "    + Each observation in one sample is paired, on a one-to-one basis, with a single observation in the other sample."
   ]
  },
  {
   "cell_type": "markdown",
   "id": "6a89cb28-479f-4a93-a592-d67496e4232c",
   "metadata": {},
   "source": [
    "- Repeated measures might not always be feasible since, as discussed below, several potential complications must be resolved before measuring subjects twice. An investigator still might choose to use two related samples by matching pairs of different subjects in terms of some uncontrolled variable that appears to have a considerable impact on the dependent variable."
   ]
  },
  {
   "cell_type": "markdown",
   "id": "538e44f6-5d3f-4f1d-b356-b60508c868bd",
   "metadata": {
    "jp-MarkdownHeadingCollapsed": true,
    "tags": []
   },
   "source": [
    "#### **Progress Check 15.1**"
   ]
  },
  {
   "cell_type": "markdown",
   "id": "d38cafc3-fa75-4c16-aeda-84f8b931e308",
   "metadata": {},
   "source": [
    "(a) Two independent samples."
   ]
  },
  {
   "cell_type": "markdown",
   "id": "5ce96b33-7454-43e6-af0f-b4e840c53dbf",
   "metadata": {},
   "source": [
    "(b) Two related samples, repeated measures."
   ]
  },
  {
   "cell_type": "markdown",
   "id": "e95d7df5-1705-4618-84f7-5aa1e42f1153",
   "metadata": {},
   "source": [
    "(c) Two related samples, matched pairs."
   ]
  },
  {
   "cell_type": "markdown",
   "id": "b064b385-ef64-4418-bbdc-214074bea030",
   "metadata": {},
   "source": [
    "(d) Two related samples, matched pairs."
   ]
  },
  {
   "cell_type": "markdown",
   "id": "1f3413ca-0131-4e30-b0f0-c77e0dc7b712",
   "metadata": {},
   "source": [
    "#### **Some Complications with Repeated Measurements**"
   ]
  },
  {
   "cell_type": "markdown",
   "id": "9ffc6c83-4fda-42b6-b864-94244ec80246",
   "metadata": {},
   "source": [
    "#### **Counterbalancing**"
   ]
  },
  {
   "cell_type": "markdown",
   "id": "588faf96-f445-42d9-a492-d4de75f0f392",
   "metadata": {},
   "source": [
    "- Definition:\n",
    "    + Reversing the order of conditions for equal numbers of all subjects."
   ]
  },
  {
   "cell_type": "markdown",
   "id": "0698b286-63e9-411b-b647-b5af14d9c37d",
   "metadata": {
    "jp-MarkdownHeadingCollapsed": true,
    "tags": []
   },
   "source": [
    "### **15.2** STATISTICAL HYPOTHESES"
   ]
  },
  {
   "cell_type": "markdown",
   "id": "b28cd93b-fca9-4378-aac0-aaa08cc44632",
   "metadata": {},
   "source": [
    "#### **Null Hypothesis**"
   ]
  },
  {
   "cell_type": "markdown",
   "id": "342f9215-1fda-4f80-8912-157ab9f9cc3f",
   "metadata": {},
   "source": [
    "#### **Alternative (or Reasearch) Hypothesis**"
   ]
  },
  {
   "cell_type": "markdown",
   "id": "654135bf-0b83-4861-984b-fd72fc82f514",
   "metadata": {},
   "source": [
    "#### **Two Other Possible Alternative Hypotheses**"
   ]
  },
  {
   "cell_type": "markdown",
   "id": "7e955d2a-a489-4304-86c8-dc4118099985",
   "metadata": {
    "jp-MarkdownHeadingCollapsed": true,
    "tags": []
   },
   "source": [
    "### **15.3** SAMPLING DISTRIBUTION OF $\\overline{D}$"
   ]
  },
  {
   "cell_type": "markdown",
   "id": "338df5f0-230c-4e60-80ac-3079feaca4d0",
   "metadata": {},
   "source": [
    "<center><b>MEAN OF ALL SAMPLE MEAN DIFFERENCE SCORES</b></center> <br>\n",
    "<center>$\\Large \\mu_{\\overline{D}} = \\mu_D$</center>\n",
    "Where: <br>\n",
    "+ $\\mu_{\\overline{D}}$: the mean of mean difference scores for all possible samples. <br>\n",
    "+ $\\mu_D$: the population mean of all sample difference scores."
   ]
  },
  {
   "cell_type": "markdown",
   "id": "18af6cde-e4bd-416a-9b9c-5a72930087a5",
   "metadata": {},
   "source": [
    "<center><b>STANDARD ERROR OF ALL SAMPLE MEAN DIFFERENCE SCORES</b></center> <br>\n",
    "<center>$\\Large \\sigma_{\\overline{D}} = \\frac{\\sigma_D}{\\sqrt{n}}$</center>"
   ]
  },
  {
   "cell_type": "markdown",
   "id": "d2056715-f9a9-4169-a3bb-fc58c68c6573",
   "metadata": {
    "tags": []
   },
   "source": [
    "### **15.4** t TEST"
   ]
  },
  {
   "cell_type": "markdown",
   "id": "65a56296-2245-4733-8c9c-8c5ac2ab7d4d",
   "metadata": {},
   "source": [
    "<center><b>t RATIO FOR TWO POPULATION MEANS (TWO RELATED SAMPLES)</b></center> <br>\n",
    "<center>$\\Large t = \\frac{\\overline{D} \\,-\\, \\mu_{\\text{hyp}}}{s_{\\overline{D}}}$</center>"
   ]
  },
  {
   "cell_type": "markdown",
   "id": "b1194cdb-8db9-4365-aea0-5285ba9e1f20",
   "metadata": {},
   "source": [
    "#### **Finding Critical t Values**"
   ]
  },
  {
   "cell_type": "markdown",
   "id": "9cb51467-bc0e-4b5e-be9c-a0916370bfef",
   "metadata": {},
   "source": [
    "#### **Summary for EPO Experiment**"
   ]
  },
  {
   "cell_type": "markdown",
   "id": "32a77bca-b3a9-4df2-9ef8-cb10ae292a97",
   "metadata": {},
   "source": [
    "- Repeated measures eliminates one important source of variability - the variability due to individual differences, which inflates the standard error term and therefore, stretches the sampling distribution horizontally and increases the probability of type II error (in other words, increases the proportion of $\\beta$)."
   ]
  },
  {
   "cell_type": "markdown",
   "id": "40312272-14e9-46ba-ab00-82b995cf666b",
   "metadata": {},
   "source": [
    "- It is important to mention the use of repeated measures (or any matching) in the conclusion of the report."
   ]
  },
  {
   "cell_type": "markdown",
   "id": "f52880e4-465f-4bbc-a58d-38671ffd02ce",
   "metadata": {
    "jp-MarkdownHeadingCollapsed": true,
    "tags": []
   },
   "source": [
    "### **15.5** DETAILS: CALCULATIONS FOR t TEST"
   ]
  },
  {
   "cell_type": "markdown",
   "id": "b3225532-c500-408d-83bb-1047a0e29d18",
   "metadata": {},
   "source": [
    "<center><b>SAMPLE STANDARD DEVIATION, $s_D$</b></center> <br>\n",
    "<center>$\\Large s_D = \\sqrt{\\frac{SS_D}{n-1}}$</center>"
   ]
  },
  {
   "cell_type": "markdown",
   "id": "c69c8231-6650-44fb-891b-b389d8af5112",
   "metadata": {},
   "source": [
    "<center><b>ESTIMATED STANDARD ERROR, $s_{\\overline{D}}$</b></center> <br>\n",
    "<center>$\\Large s_{\\overline{D}} = \\frac{s_D}{\\sqrt{n}}$"
   ]
  },
  {
   "cell_type": "markdown",
   "id": "7a5ab0de-dc51-4784-a007-f55234339094",
   "metadata": {
    "jp-MarkdownHeadingCollapsed": true,
    "tags": []
   },
   "source": [
    "#### **Progress Check 15.2**"
   ]
  },
  {
   "cell_type": "markdown",
   "id": "b5f9bea0-8a52-4317-ba3c-32e37aa67531",
   "metadata": {},
   "source": [
    "Research Problems: <br>\n",
    "$\\;\\;\\;\\;$When subjects are of matched pairs for home environment, each subject in a pair was randomly and equally assigned to either the group that received real vitamin C or the group that received fake one, does the consumption of vitamin C reduce the severity of common colds. <br>\n",
    "Statistical Hypotheses: <br>\n",
    "$\\;\\;\\;\\;$$H_0: \\mu_{\\overline{D}} \\ge 0$ <br>\n",
    "$\\;\\;\\;\\;$$H_1: \\mu_{\\overline{D}} \\lt 0$ <br>\n",
    "Decision Rule: <br>\n",
    "$\\;\\;\\;\\;$Reject the null hypothesis at the 0.05 level of significance if $t \\le -1.833$ given that df = n - 1 = 9. <br>\n",
    "Calculations: <br>"
   ]
  },
  {
   "cell_type": "code",
   "execution_count": 1,
   "id": "b0383830-3038-4688-b353-daadee3f5d08",
   "metadata": {},
   "outputs": [],
   "source": [
    "import numpy as np\n",
    "import os\n",
    "import sys\n",
    "\n",
    "sys.path.append(os.path.join(sys.path[0], os.path.pardir))\n",
    "\n",
    "import utils.HypothesisTest as HT"
   ]
  },
  {
   "cell_type": "code",
   "execution_count": 5,
   "id": "2d625fdb-4ff4-42b5-bcc9-9c61b3a03359",
   "metadata": {},
   "outputs": [
    {
     "data": {
      "text/plain": [
       "-3.75"
      ]
     },
     "execution_count": 5,
     "metadata": {},
     "output_type": "execute_result"
    }
   ],
   "source": [
    "t_group = np.array([2, 5, 7, 0, 3, 7, 4, 5, 1, 3])\n",
    "c_group = np.array([3, 4, 9, 3, 5, 7, 6, 8, 2, 5])\n",
    "diff_scores = t_group - c_group\n",
    "std_error = HT.estimated_stderror(diff_scores, 10, \"1 sample\")\n",
    "t = HT.calc_tscore(diff_scores.mean(), 0, std_error)\n",
    "t"
   ]
  },
  {
   "cell_type": "markdown",
   "id": "e9231b1c-19ec-4504-a37c-a9bfca5ff096",
   "metadata": {},
   "source": [
    "Decision: <br>\n",
    "$\\;\\;\\;\\;$Reject $H_0$ at the 0.05 level of significance because the calculated t of -3.75 is less than -1.833. <br>\n",
    "Interpretation: <br>\n",
    "$\\;\\;\\;\\;$There is evidence that when subjects are of matched pairs for home environment, vitamin C is found to reduce the severity of common colds."
   ]
  },
  {
   "cell_type": "markdown",
   "id": "bc325960-5e8b-482c-a095-a43c71717d70",
   "metadata": {
    "jp-MarkdownHeadingCollapsed": true,
    "tags": []
   },
   "source": [
    "### **15.6** ESTIMATING EFFECT SIZE"
   ]
  },
  {
   "cell_type": "markdown",
   "id": "9a377143-e643-4133-8dd0-4768cab52e6e",
   "metadata": {},
   "source": [
    "#### **Confidence Interval for $\\mu_D$**"
   ]
  },
  {
   "cell_type": "markdown",
   "id": "d65f81f9-11ed-4a79-b52a-425a55bd5bdb",
   "metadata": {},
   "source": [
    "<center><b>CONFIDENCE INTERVAL FOR $\\mu_D$ (TWO RELATED SAMPLES)</b></center> <br>\n",
    "<center>$\\Large \\overline{D} \\pm (t_{\\text{conf}})(s_{\\overline{D}})$</center>"
   ]
  },
  {
   "cell_type": "markdown",
   "id": "81f603d4-3dc9-414d-a002-9b88b57e0426",
   "metadata": {},
   "source": [
    "#### **Finding $t_{\\text{conf}}$**"
   ]
  },
  {
   "cell_type": "markdown",
   "id": "e10adc51-99f0-4c7a-af08-8e3fce3725f4",
   "metadata": {},
   "source": [
    "#### **Interpreting Confidence Intervals for $\\mu_D$**"
   ]
  },
  {
   "cell_type": "markdown",
   "id": "5ddd4f04-e62e-4872-83c6-9db345422e64",
   "metadata": {
    "jp-MarkdownHeadingCollapsed": true,
    "tags": []
   },
   "source": [
    "#### **Progress Check 15.3**"
   ]
  },
  {
   "cell_type": "code",
   "execution_count": 6,
   "id": "0133bdf9-5284-4bd3-adbb-5fa20ce3376e",
   "metadata": {},
   "outputs": [],
   "source": [
    "import utils.ConfidenceInterval as CI"
   ]
  },
  {
   "cell_type": "code",
   "execution_count": 11,
   "id": "6e03dd16-e9a6-406e-a0d6-342fba63a425",
   "metadata": {},
   "outputs": [
    {
     "data": {
      "text/plain": [
       "array([-2.4, -0.6])"
      ]
     },
     "execution_count": 11,
     "metadata": {},
     "output_type": "execute_result"
    }
   ],
   "source": [
    "interval = CI.confidence_interval(diff_scores.mean(), 2.262, std_error)\n",
    "interval"
   ]
  },
  {
   "cell_type": "markdown",
   "id": "af5136e1-5685-42f2-90ad-2f504f209d32",
   "metadata": {},
   "source": [
    "Interpretation: <br>\n",
    "$\\;\\;\\;\\;$When the subjects are matched for home environment, we are 95% confident that the interval between -2.4 and -0.6 covers the reduction in estimated severity of common colds."
   ]
  },
  {
   "cell_type": "markdown",
   "id": "b43551be-9790-4554-8e2a-efbb912ecbb4",
   "metadata": {},
   "source": [
    "#### **Standardized Effect Size, Cohen's d**"
   ]
  },
  {
   "cell_type": "markdown",
   "id": "5ec7c2d2-ffcf-430b-96e9-322ae9b6f818",
   "metadata": {},
   "source": [
    "<center><b>STANDARDIZED EFFECT SIZE, COHEN'S d (TWO RELATED SAMPLES)</b></center> <br>\n",
    "<center>$\\Large d = \\frac{\\overline{D}}{s_D}$</center>"
   ]
  },
  {
   "cell_type": "markdown",
   "id": "77ad8d88-0718-42d3-ac25-429853b4306a",
   "metadata": {
    "tags": []
   },
   "source": [
    "#### **Progress Check 15.4**"
   ]
  },
  {
   "cell_type": "code",
   "execution_count": 13,
   "id": "5926080a-b12b-470b-8d72-648b6dbee13d",
   "metadata": {},
   "outputs": [
    {
     "data": {
      "text/plain": [
       "-1.1811023622047243"
      ]
     },
     "execution_count": 13,
     "metadata": {},
     "output_type": "execute_result"
    }
   ],
   "source": [
    "d = -1.5 / 1.27\n",
    "d"
   ]
  },
  {
   "cell_type": "markdown",
   "id": "4bd13f2e-94f9-4efc-893f-01da3a077ebb",
   "metadata": {
    "tags": []
   },
   "source": [
    "### **15.7** ASSUMPTIONS"
   ]
  },
  {
   "cell_type": "markdown",
   "id": "418dd8c8-b5ed-43da-92e9-31748d4e6f54",
   "metadata": {
    "jp-MarkdownHeadingCollapsed": true,
    "tags": []
   },
   "source": [
    "### **15.8** OVERVIEW: THREE t TESTS FOR POPULATION MEANS"
   ]
  },
  {
   "attachments": {
    "05c0ffd9-97e6-4dde-ab16-d2b76a3dd14c.png": {
     "image/png": "[encoded data removed]"
    }
   },
   "cell_type": "markdown",
   "id": "047a25d6-1c0f-4f45-a8a4-7a9be3f72307",
   "metadata": {},
   "source": [
    "![image.png](attachment:05c0ffd9-97e6-4dde-ab16-d2b76a3dd14c.png)"
   ]
  },
  {
   "cell_type": "markdown",
   "id": "1b939f09-c25e-42f6-8c23-d983898edbd2",
   "metadata": {},
   "source": [
    "#### **One or Two Samples**"
   ]
  },
  {
   "cell_type": "markdown",
   "id": "571df5b5-a9e2-428f-8c25-a2558570c28e",
   "metadata": {},
   "source": [
    "#### **Are the Two Samples Paired**"
   ]
  },
  {
   "cell_type": "markdown",
   "id": "01685f46-7ecb-454e-8dc2-f6d44ca7aed0",
   "metadata": {},
   "source": [
    "#### **Examples**"
   ]
  },
  {
   "cell_type": "markdown",
   "id": "edc1e536-7c88-43d9-87eb-19cf41b92a97",
   "metadata": {},
   "source": [
    "#### **Study A**"
   ]
  },
  {
   "cell_type": "markdown",
   "id": "116bef67-7069-4ee8-bcde-cf5ae994c751",
   "metadata": {},
   "source": [
    "#### **Study B**"
   ]
  },
  {
   "cell_type": "markdown",
   "id": "645a6bb9-e8e0-489b-86ee-f0dcb9029701",
   "metadata": {},
   "source": [
    "#### **Study C**"
   ]
  },
  {
   "cell_type": "markdown",
   "id": "b6a90066-d36c-4fd7-8b47-1cef3d509b9b",
   "metadata": {},
   "source": [
    "#### **Progress Check 15.5**"
   ]
  },
  {
   "cell_type": "markdown",
   "id": "2b631826-8252-4439-82d0-38a362b512a2",
   "metadata": {},
   "source": [
    "(a) Because there's no indication of any pairing criteria, and the subjects are separated into two sets of samples, the appropriate t test is that for two independent samples."
   ]
  },
  {
   "cell_type": "markdown",
   "id": "774fb26d-2c0e-4cbc-bd97-5a72caf2bc6e",
   "metadata": {},
   "source": [
    "(b) There subjects are of matched pairs for biological identifications, and divided into two different groups, so that the appropriate t test is the one for two related samples."
   ]
  },
  {
   "cell_type": "markdown",
   "id": "c21e3d8d-ebe3-4462-a582-b5e3cc84f10a",
   "metadata": {},
   "source": [
    "(c) "
   ]
  },
  {
   "cell_type": "markdown",
   "id": "c8d266ff-01a2-4fd1-8e8b-098f0dddf6ab",
   "metadata": {},
   "source": [
    "(d) t test for one sample."
   ]
  },
  {
   "cell_type": "markdown",
   "id": "53754bb3-b005-482b-9668-574bd90e0b65",
   "metadata": {},
   "source": [
    "(e) t test for two related samples, repeated measures."
   ]
  },
  {
   "cell_type": "markdown",
   "id": "80135b54-120d-413f-863d-a1abe916fa1b",
   "metadata": {
    "jp-MarkdownHeadingCollapsed": true,
    "tags": []
   },
   "source": [
    "### **15.9** t TEST FOR POPULATION CORRELATION COEFFICIENT, $\\rho$"
   ]
  },
  {
   "cell_type": "markdown",
   "id": "75b291dd-a8fe-42e7-9d7b-185cd5ba8527",
   "metadata": {},
   "source": [
    "- Definition:\n",
    "    + $\\rho$ (population correlation coefficient): A number between -1.00 and 1.00 that describes the linear relationship between pairs of quantitative variables for some population."
   ]
  },
  {
   "cell_type": "markdown",
   "id": "b654c08a-1ff1-4c27-8bc6-bd8954c724d9",
   "metadata": {},
   "source": [
    "- The t test for $\\rho$ always examines the significance of the observed correlation coefficient within a set of samples in order to eventually identify whether there exists any relationship between pairs of variables in the population."
   ]
  },
  {
   "cell_type": "markdown",
   "id": "4cf9d2f6-0490-4ad5-8208-6f3837af6ad4",
   "metadata": {},
   "source": [
    "#### **Null Hypothesis**"
   ]
  },
  {
   "cell_type": "markdown",
   "id": "e0765c51-5d60-40d2-af41-009f5ca64af5",
   "metadata": {},
   "source": [
    "- The null hypothesis in this t test always assumes $\\rho = 0$."
   ]
  },
  {
   "cell_type": "markdown",
   "id": "f993332e-be2d-410f-8f05-c274f81525ee",
   "metadata": {},
   "source": [
    "#### **Focus on Relationships Instead of Mean Difference**"
   ]
  },
  {
   "cell_type": "markdown",
   "id": "ff86fb25-432b-4b24-b582-85391a07767e",
   "metadata": {},
   "source": [
    "- As mentioned above, the goal of this t test is to identify the existence of any relationship in the population based on the observed correlation coefficient in the given sample, so that the mean difference between variables in the sample is ignored."
   ]
  },
  {
   "cell_type": "markdown",
   "id": "0f6d9439-7d0f-44c6-8c48-42af1ed9525a",
   "metadata": {},
   "source": [
    "#### **t Test**"
   ]
  },
  {
   "cell_type": "markdown",
   "id": "fab3023a-43ef-4c47-84c6-09c824db0071",
   "metadata": {},
   "source": [
    "<center><b>t RATIO FOR A SINGLE POPULATION CORRELATION COEFFICIENT</b></center> <br>\n",
    "<center>$\\Large t = \\frac{r - \\rho_{\\text{hyp}}}{\\sqrt{\\frac{1 - r^2}{n - 2}}}$</center>\n",
    "Where: <br>\n",
    "+ r: the observed correlation coeffcient of the pairs of variables in the sample. <br>\n",
    "+ $r^2$: the total amount of variability of one variable that is predictable from the relationship with the other variable. <br>\n",
    "+ $\\rho_{\\text{hyp}}$: the population correlation coefficient. <br>\n",
    "+ n: the sample size"
   ]
  },
  {
   "cell_type": "markdown",
   "id": "acb53390-a690-4be3-86c5-ab7f204567a9",
   "metadata": {},
   "source": [
    "#### **Importance of Sample Size**"
   ]
  },
  {
   "cell_type": "markdown",
   "id": "d1607d83-7ed2-4cf8-abc1-273af99eeee3",
   "metadata": {},
   "source": [
    "- The size of the sample has an inverse proportional relationship with the precision of the generalization to the population.\n",
    "- An investigator should always consult the power curve and the limits of the confidence interval to determine the most appropriate sample size possible."
   ]
  },
  {
   "cell_type": "markdown",
   "id": "4744787e-9b06-4f24-9dd1-23b887078761",
   "metadata": {
    "tags": []
   },
   "source": [
    "#### **Progres Check 15.6**"
   ]
  },
  {
   "cell_type": "code",
   "execution_count": 2,
   "id": "2e3248f0-cf9d-4432-8dd3-51aa3e4bca60",
   "metadata": {},
   "outputs": [
    {
     "data": {
      "text/plain": [
       "2.263"
      ]
     },
     "execution_count": 2,
     "metadata": {},
     "output_type": "execute_result"
    }
   ],
   "source": [
    "std_error = HT.estimated_stderror(sample_size=25, pearson_r=0.43, test_type=\"correlation coefficient\")\n",
    "t = HT.calc_tscore(0.43, 0, std_error)\n",
    "t"
   ]
  },
  {
   "cell_type": "markdown",
   "id": "de457db8-61b8-4733-8018-f41c7a628850",
   "metadata": {},
   "source": [
    "- There is sufficient evidence to suggest that there's correlation between educational level and annual income for the population of California taxpayers based on a t test."
   ]
  },
  {
   "cell_type": "markdown",
   "id": "4be9471f-4c75-4181-8f81-dc9c52b7349c",
   "metadata": {},
   "source": [
    "#### **Assumptions**"
   ]
  },
  {
   "cell_type": "markdown",
   "id": "faf679e5-93ab-4be1-bc8e-e98b39f81016",
   "metadata": {},
   "source": [
    "- The use of this t test assumes that the relationship between the two variables can be described by a straight line, and that the sample originates from a normal bivariate distribution, that is, both the distributions of variable 1 and variable 2 are normal. If the assumption is violated, then the result should be taken with caution."
   ]
  },
  {
   "cell_type": "markdown",
   "id": "2aaeafdd-04a4-4c51-99db-a6ab3b525609",
   "metadata": {
    "tags": []
   },
   "source": [
    "### **Review Questions**"
   ]
  },
  {
   "cell_type": "code",
   "execution_count": 1,
   "id": "9b1df2b1-7ec1-4d00-8c50-6c7ee5dc58e6",
   "metadata": {},
   "outputs": [],
   "source": [
    "import numpy as np\n",
    "import os\n",
    "import sys\n",
    "\n",
    "sys.path.append(os.path.join(sys.path[0], os.path.pardir))\n",
    "\n",
    "import utils.HypothesisTest as HT\n",
    "import utils.ConfidenceInterval as CI"
   ]
  },
  {
   "cell_type": "markdown",
   "id": "4252b7bb-f5b7-4394-9925-86a0dc06293a",
   "metadata": {
    "jp-MarkdownHeadingCollapsed": true,
    "tags": []
   },
   "source": [
    "#### **15.7**"
   ]
  },
  {
   "cell_type": "markdown",
   "id": "4cbc8239-9bb4-4136-8d80-c9b58907e485",
   "metadata": {},
   "source": [
    "(a) <br>\n",
    "- Research Problem: <br>\n",
    "Does physical exercise cause an increase in the mean GPAs of students, given that pairs of students are orginally matched for their GPAs? <br>\n",
    "- Statistical Hypotheses: <br>\n",
    "$H_0: \\mu_D \\le 0$ <br>\n",
    "$H_1: \\mu_D \\gt 0$ <br>\n",
    "- Decision Rule: <br>\n",
    "Reject the null hypothesis at the 0.01 level of significance if $t \\ge 3.143$, given df = 7 - 1 = 6. <br>\n",
    "- Calculations:"
   ]
  },
  {
   "cell_type": "code",
   "execution_count": 3,
   "id": "40c5371e-23b9-40f7-9e5e-4ba664755b60",
   "metadata": {
    "tags": []
   },
   "outputs": [
    {
     "data": {
      "text/plain": [
       "3.714"
      ]
     },
     "execution_count": 3,
     "metadata": {},
     "output_type": "execute_result"
    }
   ],
   "source": [
    "t_group = np.array([4.00, 2.67, 3.65, 2.11, 3.21, 3.60, 2.80])\n",
    "c_group = np.array([3.75, 2.74, 3.42, 1.67, 3.00, 3.25, 2.65])\n",
    "diff = t_group - c_group\n",
    "std_error = HT.estimated_stderror(data=diff, sample_size=7, test_type=\"1 sample\")\n",
    "t_score = HT.calc_tscore(diff.mean(), 0, std_error)\n",
    "t_score"
   ]
  },
  {
   "cell_type": "markdown",
   "id": "4322792c-c391-466b-addc-d9ff06e79ca8",
   "metadata": {},
   "source": [
    "- Decision: <br>\n",
    "Reject the null hypothesis because t = 3.714 that is greater than 3.143. <br>\n",
    "- Interpretation: <br>\n",
    "There's sufficient evidence to suggest that regular physical exercises does improve academic achievement in the population of college students."
   ]
  },
  {
   "cell_type": "markdown",
   "id": "8b1a28bb-5310-45f2-b259-8b2ed938a0e8",
   "metadata": {},
   "source": [
    "(b) p < 0.01"
   ]
  },
  {
   "cell_type": "markdown",
   "id": "ec6d7385-0547-43c3-b445-db3d737925a2",
   "metadata": {},
   "source": [
    "(c) d = 1.50"
   ]
  },
  {
   "cell_type": "code",
   "execution_count": null,
   "id": "a97a3949-ca8c-4778-b64d-4a26f35d1ef7",
   "metadata": {},
   "outputs": [
    {
     "data": {
      "text/plain": [
       "1.495994283562021"
      ]
     },
     "execution_count": 4,
     "metadata": {},
     "output_type": "execute_result"
    }
   ],
   "source": [
    "d = diff.mean() / diff.std()\n",
    "d"
   ]
  },
  {
   "cell_type": "markdown",
   "id": "bee6ce8d-be61-4aa8-9d59-8920b51dc889",
   "metadata": {},
   "source": [
    "(d) On average, academic achievement for the college students group that performs regular physical exercise ($\\overline{X}$ = 3.15, s = 0.61) significantly exceeds that for the group of college students that does not exercise ($\\overline{X}$ = 2.93, s = 0.62) according to a t test [t(6) = 3.714, p < 0.01 and d = 1.50], when pairs of students are matched for their original GPAs."
   ]
  },
  {
   "cell_type": "markdown",
   "id": "845dfc05-d9d6-4a9b-9d42-86c322a2bb99",
   "metadata": {
    "jp-MarkdownHeadingCollapsed": true,
    "tags": []
   },
   "source": [
    "#### **15.8**"
   ]
  },
  {
   "cell_type": "markdown",
   "id": "fb3bd134-86d5-41e7-9cfd-b4bc6c5b299d",
   "metadata": {},
   "source": [
    "(a)"
   ]
  },
  {
   "cell_type": "code",
   "execution_count": 16,
   "id": "d6bd135c-01be-41e7-adc8-c362202e2e84",
   "metadata": {},
   "outputs": [
    {
     "data": {
      "text/plain": [
       "-2.5"
      ]
     },
     "execution_count": 16,
     "metadata": {},
     "output_type": "execute_result"
    }
   ],
   "source": [
    "c_group = np.array([28, 29, 31, 44, 35, 20, 50, 25])\n",
    "t_group = np.array([26, 27, 32, 44, 35, 16, 47, 23])\n",
    "diff = t_group - c_group\n",
    "std_error = HT.estimated_stderror(data=diff, sample_size=8)\n",
    "t_score = HT.calc_tscore(diff.mean(), 0, std_error)\n",
    "t_score"
   ]
  },
  {
   "cell_type": "markdown",
   "id": "fc81da74-6934-44ca-b92b-03332866af72",
   "metadata": {},
   "source": [
    "(b) p < 0.05"
   ]
  },
  {
   "cell_type": "markdown",
   "id": "2e5e16c4-4e8c-4665-abe0-a3a1c40fcc8f",
   "metadata": {},
   "source": [
    "(c)"
   ]
  },
  {
   "cell_type": "code",
   "execution_count": 18,
   "id": "752c73cd-5d83-409f-a9b7-a2a5c46e5756",
   "metadata": {},
   "outputs": [
    {
     "data": {
      "text/plain": [
       "array([-2.92, -0.08])"
      ]
     },
     "execution_count": 18,
     "metadata": {},
     "output_type": "execute_result"
    }
   ],
   "source": [
    "ci = CI.confidence_interval(diff.mean(), 2.365, std_error)\n",
    "ci"
   ]
  },
  {
   "cell_type": "markdown",
   "id": "589492e0-4a95-43f1-842b-82dd19b68c9f",
   "metadata": {},
   "source": [
    "Interpretation: <br>\n",
    "We can be 95% confident that the interval includes the true mean reduction in cigarettes consumption by the population of teenager smokers during the month after the antismoking film presentation."
   ]
  },
  {
   "cell_type": "code",
   "execution_count": 19,
   "id": "73ede59c-eb2b-4594-8b3d-64222c42fdf7",
   "metadata": {},
   "outputs": [
    {
     "data": {
      "text/plain": [
       "-0.9486832980505138"
      ]
     },
     "execution_count": 19,
     "metadata": {},
     "output_type": "execute_result"
    }
   ],
   "source": [
    "d = diff.mean() / diff.std()\n",
    "d"
   ]
  },
  {
   "cell_type": "markdown",
   "id": "8dc0f30f-43fe-4d0f-bf8a-e91b4277e7ee",
   "metadata": {},
   "source": [
    "Interpretation: <br>\n",
    "The value of d = -.94 indicates a significantly large estimate of effect size, which further supports the decision to reject the null hypothesis."
   ]
  },
  {
   "cell_type": "markdown",
   "id": "63d04e4b-3a92-4653-904b-9e563ef3eba4",
   "metadata": {},
   "source": [
    "(d) Even though there is sufficient evidence to support the rejection of the null hypothesis, the confidence interval suggests a probable insignificant effect size in the vicinity of -0.08. If the investigator is to determine that result is not convincing enough, then another test with a larger sample size, determined with the aid of the power curves or the inverse calculation from the desired confidence interval limits, should be conducted to obtain a more precise result."
   ]
  },
  {
   "cell_type": "markdown",
   "id": "7018019d-db9a-4897-ae3e-627062cf0018",
   "metadata": {
    "jp-MarkdownHeadingCollapsed": true,
    "tags": []
   },
   "source": [
    "#### **15.9**"
   ]
  },
  {
   "cell_type": "markdown",
   "id": "557571ba-9809-4f1d-9ced-db7437481a04",
   "metadata": {},
   "source": [
    "(a)"
   ]
  },
  {
   "cell_type": "code",
   "execution_count": 20,
   "id": "40b74bb4-c867-472d-b4d9-65ec185aa25f",
   "metadata": {},
   "outputs": [
    {
     "data": {
      "text/plain": [
       "1.413"
      ]
     },
     "execution_count": 20,
     "metadata": {},
     "output_type": "execute_result"
    }
   ],
   "source": [
    "t_score = HT.calc_tscore(2.12, 0, 1.5)\n",
    "t_score"
   ]
  },
  {
   "cell_type": "markdown",
   "id": "76b4394b-6bf6-4d7a-a534-5487c953661a",
   "metadata": {},
   "source": [
    "The null hypothesis is decided to be retained because t is less than 1.699."
   ]
  },
  {
   "cell_type": "markdown",
   "id": "fae18ec0-58e7-4d21-965e-116117782934",
   "metadata": {},
   "source": [
    "(b) p > 0.05."
   ]
  },
  {
   "cell_type": "markdown",
   "id": "e772d513-6a6e-4079-95b1-be8a955f3282",
   "metadata": {},
   "source": [
    "(c) Several uncontrolled factors should be taken into account and resolve before conducting an experiment such as the present one, some of them are:\n",
    "+ The speed at which the drivers drive the cars.\n",
    "+ The types of car that are used in the experiment.\n",
    "+ The types of road on which the cars travel.\n",
    "+ The weather condition under which the experiment is conducted.\n",
    "\n",
    "Should these problems not addressed, any result obtained from the present experiment cannot be taken seriously due to the unspecified weights of uncontrolled variables."
   ]
  },
  {
   "cell_type": "markdown",
   "id": "93a3d085-3da9-40fb-977b-93f5ac77a48e",
   "metadata": {
    "jp-MarkdownHeadingCollapsed": true,
    "tags": []
   },
   "source": [
    "#### **15.10**"
   ]
  },
  {
   "cell_type": "markdown",
   "id": "397b7b1a-1efd-4e45-8e7a-d08213c1ca3a",
   "metadata": {},
   "source": [
    "(a)"
   ]
  },
  {
   "cell_type": "code",
   "execution_count": 23,
   "id": "28dc0174-dd72-46ee-9dae-81e552cd0033",
   "metadata": {},
   "outputs": [
    {
     "data": {
      "text/plain": [
       "2.681"
      ]
     },
     "execution_count": 23,
     "metadata": {},
     "output_type": "execute_result"
    }
   ],
   "source": [
    "std_error = 66.33 / np.sqrt(12)\n",
    "t_score = HT.calc_tscore(51.33, 0, std_error)\n",
    "t_score"
   ]
  },
  {
   "cell_type": "markdown",
   "id": "326b1ae0-f0a4-43e5-b272-7a0d84ef01eb",
   "metadata": {},
   "source": [
    "(b) p < 0.05."
   ]
  },
  {
   "cell_type": "markdown",
   "id": "967f5128-6eb9-4903-a05a-da94393a3117",
   "metadata": {},
   "source": [
    "(c) Yes."
   ]
  },
  {
   "cell_type": "markdown",
   "id": "90df6e19-7463-4b17-8405-d10e000f79e8",
   "metadata": {},
   "source": [
    "(d) We can be 95% confident that the obtained interval includes the true mean difference in running times of the athletes after and before taking the treatment."
   ]
  },
  {
   "cell_type": "code",
   "execution_count": 24,
   "id": "6032bbea-cf6e-4d61-a40f-9d82eb238658",
   "metadata": {},
   "outputs": [
    {
     "data": {
      "text/plain": [
       "array([ 9.19, 93.47])"
      ]
     },
     "execution_count": 24,
     "metadata": {},
     "output_type": "execute_result"
    }
   ],
   "source": [
    "ci = CI.confidence_interval(51.33, 2.201, std_error)\n",
    "ci"
   ]
  },
  {
   "cell_type": "markdown",
   "id": "e3e70c52-f9e7-4bd8-97d4-34def24e087e",
   "metadata": {},
   "source": [
    "(e) The value of Cohens'd d indicates a significantly large estimated effect."
   ]
  },
  {
   "cell_type": "code",
   "execution_count": 26,
   "id": "85f9e45e-a090-4961-8091-15e9dd8d7842",
   "metadata": {},
   "outputs": [
    {
     "data": {
      "text/plain": [
       "0.77"
      ]
     },
     "execution_count": 26,
     "metadata": {},
     "output_type": "execute_result"
    }
   ],
   "source": [
    "d = HT.calc_cohensd(51.33, 0, 66.33**2)\n",
    "d"
   ]
  },
  {
   "cell_type": "markdown",
   "id": "d0176126-cd0d-425a-9f10-561dd0ac8666",
   "metadata": {},
   "source": [
    "(f)"
   ]
  },
  {
   "cell_type": "markdown",
   "id": "8b59cad4-2ab0-42cd-a91c-cbd673e86f12",
   "metadata": {},
   "source": [
    "(g) The counterbalancing method effectively minimizes the effect the uncontrolled variable, the psychological believes of the experimented athletes that receiving the treatment could enhance/hinder their performances."
   ]
  },
  {
   "cell_type": "markdown",
   "id": "ef3c9423-5e4d-4158-a322-18ea468db99c",
   "metadata": {},
   "source": [
    "(h) 24 hours is a considerably short period for such a repeated measure, even in such a case that the amount of time is scientifically proven to be sufficient for the dissipation of the effect of the treatment, it is still not a reasonabe interval for the relaxation of the athletes to participate in another long-distance run, with or without the blood-doped substance."
   ]
  },
  {
   "cell_type": "markdown",
   "id": "14f6b00e-89ec-4333-b75a-2ab9757cd46c",
   "metadata": {
    "jp-MarkdownHeadingCollapsed": true,
    "tags": []
   },
   "source": [
    "#### **15.11**"
   ]
  },
  {
   "cell_type": "markdown",
   "id": "5ae0ba54-201f-4318-b5af-0235f035651d",
   "metadata": {},
   "source": [
    "Although the subjects share a similar characteristics, that is, they are all college students of first year, there's no other evidence to suggest one-to-one relationship between any pairs of students, so that the t test repeated measures is not appropriate because there exist individual differences."
   ]
  },
  {
   "cell_type": "markdown",
   "id": "9a6cc263-c6a5-4493-b4c5-61d1e33a5c7c",
   "metadata": {
    "jp-MarkdownHeadingCollapsed": true,
    "tags": []
   },
   "source": [
    "#### **15.12**"
   ]
  },
  {
   "cell_type": "markdown",
   "id": "84e8c40f-b892-4cff-927e-495fa1858d43",
   "metadata": {},
   "source": [
    "The t test for two independent samples, although applied on the same set of subjects, will produce a larger standard error, thus increases the probability of type II error."
   ]
  },
  {
   "cell_type": "markdown",
   "id": "32932c6f-d7c8-433f-8def-43032e65635b",
   "metadata": {
    "jp-MarkdownHeadingCollapsed": true,
    "tags": []
   },
   "source": [
    "#### **15.13**"
   ]
  },
  {
   "cell_type": "markdown",
   "id": "0932310c-778d-4bd6-9908-21e4a1df11b6",
   "metadata": {},
   "source": [
    "t score = -1.5, p > 0.05 => there's no evidence to suggest there's a relationship between the test scores and the amount time students spent on taking the test."
   ]
  },
  {
   "cell_type": "code",
   "execution_count": 8,
   "id": "f680910d-96d5-480d-9cce-5c9e5d51ff30",
   "metadata": {},
   "outputs": [
    {
     "data": {
      "text/plain": [
       "-1.5"
      ]
     },
     "execution_count": 8,
     "metadata": {},
     "output_type": "execute_result"
    }
   ],
   "source": [
    "estimated_stderror = HT.estimated_stderror(sample_size=38, pearson_r=-0.24, test_type=\"correlation coefficient\")\n",
    "tscore = HT.calc_tscore(-0.24, 0, estimated_stderror)\n",
    "tscore"
   ]
  },
  {
   "cell_type": "markdown",
   "id": "cbd94609-2950-43bf-8f47-6ba69f9ac505",
   "metadata": {
    "jp-MarkdownHeadingCollapsed": true,
    "tags": []
   },
   "source": [
    "#### **15.14**"
   ]
  },
  {
   "cell_type": "markdown",
   "id": "7d4307d5-2288-4aa1-8f3a-f8bf750d2477",
   "metadata": {},
   "source": [
    "(a) t score  = 2.486"
   ]
  },
  {
   "cell_type": "code",
   "execution_count": 10,
   "id": "46fbf6a1-04bf-496e-8f14-cb78a4b4f0ce",
   "metadata": {},
   "outputs": [
    {
     "data": {
      "text/plain": [
       "2.486"
      ]
     },
     "execution_count": 10,
     "metadata": {},
     "output_type": "execute_result"
    }
   ],
   "source": [
    "data = [28, 53, 17, 37, 27, 27, 22, -25, -7, 0]\n",
    "estimated_stderror = HT.estimated_stderror(data=data, sample_size=len(data), test_type=\"2 related samples\")\n",
    "tscore = HT.calc_tscore(np.mean(data), 0, estimated_stderror)\n",
    "tscore"
   ]
  },
  {
   "cell_type": "markdown",
   "id": "a78e0d38-4e55-4996-a6d1-cc89b1258afd",
   "metadata": {},
   "source": [
    "(b) p < 0.05"
   ]
  },
  {
   "cell_type": "markdown",
   "id": "fc2571eb-a4ac-46fb-a41a-5d4e743a65c3",
   "metadata": {},
   "source": [
    "(c) CI = [1.61, 34.19]"
   ]
  },
  {
   "cell_type": "code",
   "execution_count": 11,
   "id": "6d7fd436-c544-4c12-ad5c-17d7b1658ddb",
   "metadata": {},
   "outputs": [
    {
     "data": {
      "text/plain": [
       "array([ 1.61, 34.19])"
      ]
     },
     "execution_count": 11,
     "metadata": {},
     "output_type": "execute_result"
    }
   ],
   "source": [
    "CI.confidence_interval(np.mean(data), 2.262, estimated_stderror)"
   ]
  },
  {
   "cell_type": "markdown",
   "id": "8b37b90d-5d3e-43c8-a24f-a36add8cf5d7",
   "metadata": {},
   "source": [
    "(d) Cohen's d = 0.8"
   ]
  },
  {
   "cell_type": "code",
   "execution_count": 13,
   "id": "05b4c73c-c95f-4271-925d-57c576abb67d",
   "metadata": {},
   "outputs": [
    {
     "data": {
      "text/plain": [
       "0.8289435947794199"
      ]
     },
     "execution_count": 13,
     "metadata": {},
     "output_type": "execute_result"
    }
   ],
   "source": [
    "cohensd = np.mean(data) / np.std(data)\n",
    "cohensd"
   ]
  },
  {
   "cell_type": "markdown",
   "id": "e9176279-eb61-4c34-bcca-783b874a56a1",
   "metadata": {},
   "source": [
    "(e) The top ten major league batters for 2014, on average, regressed toward the mean for 2015 with a mean drop of 17.90 points of batting average, that was statistically significant (0.05). This is a large effect (0.8)."
   ]
  }
 ],
 "metadata": {
  "kernelspec": {
   "display_name": "Python 3 (ipykernel)",
   "language": "python",
   "name": "python3"
  },
  "language_info": {
   "codemirror_mode": {
    "name": "ipython",
    "version": 3
   },
   "file_extension": ".py",
   "mimetype": "text/x-python",
   "name": "python",
   "nbconvert_exporter": "python",
   "pygments_lexer": "ipython3",
   "version": "3.10.4"
  }
 },
 "nbformat": 4,
 "nbformat_minor": 5
}
