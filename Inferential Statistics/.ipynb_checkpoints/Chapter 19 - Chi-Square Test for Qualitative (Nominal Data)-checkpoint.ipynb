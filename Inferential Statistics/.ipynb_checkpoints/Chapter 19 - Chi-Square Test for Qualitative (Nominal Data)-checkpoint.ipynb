{
 "cells": [
  {
   "cell_type": "markdown",
   "id": "b0c9a038-8414-40cb-bbff-2299e2f0642f",
   "metadata": {},
   "source": [
    "## **ONE-VARIABLE ($\\chi^2$) TEST**"
   ]
  },
  {
   "cell_type": "markdown",
   "id": "6ce40e65-de6f-4f5c-94c7-d4aed3528854",
   "metadata": {
    "jp-MarkdownHeadingCollapsed": true,
    "tags": []
   },
   "source": [
    "### **19.1** SURVEY OF BLOOD TYPES"
   ]
  },
  {
   "cell_type": "markdown",
   "id": "6576e8de-e199-40ac-943e-f41413cc6ecb",
   "metadata": {},
   "source": [
    "#### **A Test for Qualitative (Nominal) Data**"
   ]
  },
  {
   "cell_type": "markdown",
   "id": "c130a456-a55b-4737-8040-8b6434238c1a",
   "metadata": {
    "tags": []
   },
   "source": [
    "#### **One-Variable Versus Two-Variable**"
   ]
  },
  {
   "cell_type": "markdown",
   "id": "61451c76-9189-46f2-979a-f5482d4625fd",
   "metadata": {},
   "source": [
    "- Definition:\n",
    "    + One-Variable ($\\chi^2$) Test: Evaluates whether observed frequencies for a single qualitative variable are adequately described by the hypothesized or expected frequencies.\n",
    "    + Goodness-of-fit: An indication of how well the given data fits a distribution of a population that is orginally normally distributed."
   ]
  },
  {
   "cell_type": "markdown",
   "id": "05a38842-eabf-4d83-bc19-0041a633a28e",
   "metadata": {
    "jp-MarkdownHeadingCollapsed": true,
    "tags": []
   },
   "source": [
    "### **19.2** STATISTICAL HYPOTHESES"
   ]
  },
  {
   "cell_type": "markdown",
   "id": "7172e405-2cc8-4552-92f7-619b9c17a878",
   "metadata": {
    "tags": []
   },
   "source": [
    "#### **Null Hypothesis**"
   ]
  },
  {
   "cell_type": "markdown",
   "id": "c43a4d97-3eb8-4a8d-9cbf-7f06c98ecf3a",
   "metadata": {},
   "source": [
    "- In this type of test, the null hypotheses come in the form of assumed or expected probability/frequency for each particular subject involved."
   ]
  },
  {
   "cell_type": "markdown",
   "id": "ccd0ed12-1580-4270-9e4c-5a108eb17bcf",
   "metadata": {},
   "source": [
    "#### **Other Examples**"
   ]
  },
  {
   "cell_type": "markdown",
   "id": "26eaf8cd-c8c4-402e-97b9-23e4390d6a67",
   "metadata": {},
   "source": [
    "#### **Alternative Hypothesis**"
   ]
  },
  {
   "cell_type": "markdown",
   "id": "05cd3458-c78e-48a3-abb6-715df10cb45c",
   "metadata": {},
   "source": [
    "- Similarly to that in every other test, the alternative hypothesis indicates the contrary of the null hypothesis, something special that is not attributable to chance is occuring to the sample/underlying population."
   ]
  },
  {
   "cell_type": "markdown",
   "id": "50718ec5-bd96-429d-b989-6c357e5bba59",
   "metadata": {
    "jp-MarkdownHeadingCollapsed": true,
    "tags": []
   },
   "source": [
    "#### **Progress Check 19.1**"
   ]
  },
  {
   "cell_type": "markdown",
   "id": "6ecb19fe-eb2d-4344-89e0-f379736994a3",
   "metadata": {},
   "source": [
    "(a) $H_0: P_A = P_B = \\frac{1}{2}$ <br>\n",
    "Where $P_A$ is the probability/frequency of candidate A receiving votes and $P_B$ is that of candidate B."
   ]
  },
  {
   "cell_type": "markdown",
   "id": "7dd5b698-c98d-438b-a4fa-1d6d3563d478",
   "metadata": {},
   "source": [
    "(b) $H_0: P_{north} = P_{south} = P_{west} = P_{east} = \\frac{1}{4}$ <br>\n",
    "Where $P_{direction}$ is the probability of flying to a particular direction of the migratory birds."
   ]
  },
  {
   "cell_type": "markdown",
   "id": "23c93c16-2b36-4119-811e-5441bff3128c",
   "metadata": {},
   "source": [
    "(c) $H_0: P_{cc-\\text{day of week}} = \\frac{1}{7} = 0.14$ <br>\n",
    "Where $P_{cc-\\text{day of week}}$ is the probabibility of crimes commitment to occur on a particular day of a week."
   ]
  },
  {
   "cell_type": "markdown",
   "id": "f2fabce0-a205-4934-aa9b-76c5637d545b",
   "metadata": {},
   "source": [
    "(d) $H_0: P_{cc-\\text{weekend}} = \\frac{2}{7},\\; P_{cc-\\text{weekday}} = \\frac{5}{7}$"
   ]
  },
  {
   "cell_type": "markdown",
   "id": "81b811ef-baa3-457e-ad3a-f6fbaec77c9a",
   "metadata": {
    "jp-MarkdownHeadingCollapsed": true,
    "tags": []
   },
   "source": [
    "### **19.3** DETAILS: CALCULATING $\\chi^2$"
   ]
  },
  {
   "cell_type": "markdown",
   "id": "50b7b4ca-0c8e-4ad6-80d0-627214626025",
   "metadata": {},
   "source": [
    "- Definition:\n",
    "    + Expected Frequency ($f_e$): The hypothesized frequency for each category, if the null hypothesis is true.\n",
    "    + Observed Frequency ($f_o$): The observed frequency for each category."
   ]
  },
  {
   "cell_type": "markdown",
   "id": "d6258536-377b-445b-8af7-cb446609ccf9",
   "metadata": {},
   "source": [
    "<center><b>EXPECTED FREQUENCY (ONE-VARIABLE $\\chi^2$ TEST)</b></center> <br>\n",
    "<center>$\\Large \\it f_e = \\text{(expected proportion)(total sample size)}$</center>"
   ]
  },
  {
   "cell_type": "markdown",
   "id": "555767f1-a109-41c6-a790-4cac4ce3f601",
   "metadata": {},
   "source": [
    "#### **Evaluating Discrepancies**"
   ]
  },
  {
   "cell_type": "markdown",
   "id": "f4309bab-d098-4286-8278-90e11d08cfec",
   "metadata": {},
   "source": [
    "- In any kind of test, it is most unlikely that the random sample - because of its inevitable variability - will exactly reflect the characteristics of its population. Because of this notion, variability is always accounted for when statistical hypotheses are tested, the crucial question is whether the discrepancies between observed and expected frequencies small enough to be regarded as a common outcome, if the null hypothesis is true. In such a case, the null hypothesis is retained, otherwise, if the discrepancies are large enough to qualify as a rare outcome, the null hypothesis is rejected."
   ]
  },
  {
   "cell_type": "markdown",
   "id": "ebfbef28-1326-4186-afc3-9c6ca883e6ca",
   "metadata": {},
   "source": [
    "#### **Computing $\\chi^2$**"
   ]
  },
  {
   "cell_type": "markdown",
   "id": "e967cd1d-c527-4096-ac7f-b59dc03281fd",
   "metadata": {},
   "source": [
    "<center><b>$\\chi^2$ RATIO</b></center> <br>\n",
    "<center>$\\Large \\chi^2 = \\sum{\\frac{(f_o - f_e)^2}{f_e}}$</center>"
   ]
  },
  {
   "cell_type": "markdown",
   "id": "b0ce8ef7-9d4b-41ff-be9c-df700be05d51",
   "metadata": {
    "jp-MarkdownHeadingCollapsed": true,
    "tags": []
   },
   "source": [
    "### **19.4** TABLE FOR THE $\\chi^2$ DISTRIBUTION"
   ]
  },
  {
   "cell_type": "markdown",
   "id": "d6eb0ea9-1601-475e-844d-3e9e4fd83f33",
   "metadata": {},
   "source": [
    "<center><b>DEGREES OF FREEDOM (ONE-VARIABLE $\\chi^2$ TEST)</b></center> <br>\n",
    "<center>$\\Large \\it \\text{df} = c - 1$</center>\n",
    "\n",
    "Where:\n",
    "- c: the total number of categories of the qualitative variable."
   ]
  },
  {
   "cell_type": "markdown",
   "id": "ea49581b-42cd-4ab6-a5e5-0e46cbaafc49",
   "metadata": {},
   "source": [
    "#### **Lose One Degree of Freedom**"
   ]
  },
  {
   "cell_type": "markdown",
   "id": "13fef6bf-84a2-48a3-9504-10242d63de9f",
   "metadata": {},
   "source": [
    "- From the abstract perspective of degree of freedom, there always exists one proportion that is not free to vary, since it must be justitied (in some way) so that the sum of it with the remaining proportions can equal 1, this is due to the fact the maximum probability can only be 1."
   ]
  },
  {
   "cell_type": "markdown",
   "id": "53afa6c6-c3af-4cc1-a1ee-3b1afdc9da93",
   "metadata": {},
   "source": [
    "### **19.5** $\\chi^2$ Test"
   ]
  },
  {
   "cell_type": "markdown",
   "id": "2711c79d-5162-4b47-b1fc-b53b54a6a7bd",
   "metadata": {
    "jp-MarkdownHeadingCollapsed": true,
    "tags": []
   },
   "source": [
    "#### **Progress Check 19.2**"
   ]
  },
  {
   "cell_type": "markdown",
   "id": "7b575eb5-6a40-4ddf-980c-5295e31af07a",
   "metadata": {},
   "source": [
    "(a)"
   ]
  },
  {
   "cell_type": "code",
   "execution_count": null,
   "id": "a5c8bb70-d093-4155-b2be-90d3432469ff",
   "metadata": {},
   "outputs": [],
   "source": [
    "observed_frequencies = [25, 10, 5, 25, 10, 15]\n",
    "categories = len(observed_frequencies)\n",
    "expected_frequency = 90 / categories\n",
    "chisquare = calc_chisquare(observed_frequencies, expected_frequency)\n",
    "chisquare"
   ]
  },
  {
   "cell_type": "code",
   "execution_count": null,
   "id": "0e3fc121-dd20-4a22-a980-3d27ad05da5d",
   "metadata": {},
   "outputs": [],
   "source": [
    "kwargs = dict(\n",
    "    report_type=\"summary\",\n",
    "    test_type=\"Chi-Square $\\chi^2$ for One Variable\",\n",
    "    research_problem=\"\"\"\n",
    "                     Are of desires for love, wealth, power, health, fame, \n",
    "                     family hap. equally distributed among college students\n",
    "                     \"\"\",\n",
    "    h0=\"\"\"\n",
    "       $H_0: P_{love} = P_{wealth} = P_{power} = P_{health} = P_{fame} = P_{fam. hap.} = 0.167$\n",
    "       \"\"\",\n",
    "    h1=\"\"\"\n",
    "       $H_1: H_0\\; is\\; false$\n",
    "       \"\"\",\n",
    "    levelof_significance=0.05,\n",
    "    crit_value=\"$\\chi^2 \\ge 11.07$\",\n",
    "    act_value=\"$\\chi^2 = 23.33$\",\n",
    "    decision=False,\n",
    "    hypothesis=\"\",\n",
    "    interpretation=\"\"\n",
    ")\n",
    "SR.Report(**kwargs)"
   ]
  },
  {
   "cell_type": "markdown",
   "id": "6871250b-0bb7-409a-a386-cfb32e545239",
   "metadata": {},
   "source": [
    "(b) p < 0.001"
   ]
  },
  {
   "cell_type": "markdown",
   "id": "55d37b08-4799-4b31-b677-c77559ac6983",
   "metadata": {},
   "source": [
    "#### **$\\chi^2$ Test Is Nondirectional**"
   ]
  },
  {
   "cell_type": "markdown",
   "id": "4cd4caf9-ecd7-4597-84e2-f89a8eb67eba",
   "metadata": {},
   "source": [
    "## **TWO-VARIABLE $\\chi^2$ TEST**"
   ]
  },
  {
   "cell_type": "markdown",
   "id": "c755381a-121d-4b39-82ab-a75ebfe6b256",
   "metadata": {
    "jp-MarkdownHeadingCollapsed": true,
    "tags": []
   },
   "source": [
    "### **19.6** LOST LETTER STUDY"
   ]
  },
  {
   "cell_type": "markdown",
   "id": "4ac78b77-d2c4-41f7-b8c8-780e5ba9bab5",
   "metadata": {},
   "source": [
    "- Definition:\n",
    "    + Two-Variable $\\chi^2$ Test: Evaluates whether observed frequencies reflect the independence of two qualitative variables."
   ]
  },
  {
   "cell_type": "markdown",
   "id": "a4758e34-d812-4a1d-a8fc-11b4f3c24e39",
   "metadata": {
    "jp-MarkdownHeadingCollapsed": true,
    "tags": []
   },
   "source": [
    "### **19.7** STATISTICAL HYPOTHESES"
   ]
  },
  {
   "cell_type": "markdown",
   "id": "95c0056f-b42c-4c6a-8947-ff1d365ea8a9",
   "metadata": {},
   "source": [
    "#### **Null Hypothesis**"
   ]
  },
  {
   "cell_type": "markdown",
   "id": "39530ad0-6b0f-47c8-a3e6-72c71d03e6be",
   "metadata": {},
   "source": [
    "- For the two-variable $\\chi^2$ test, the null hypothesis always makes a statement about the lack of relationship between two qualitative variables in the underlying population.\n",
    "- Example:\n",
    "<center>$H_0$: \"Qualitative variable 1\" and qualitative variable 2\" are independent</center>"
   ]
  },
  {
   "cell_type": "markdown",
   "id": "d6a725fc-a322-41a5-8977-c4eb8a7162f7",
   "metadata": {},
   "source": [
    "#### **Alternative Hypothesis**"
   ]
  },
  {
   "cell_type": "markdown",
   "id": "7b86f41b-fb38-454a-b4b0-21139510b894",
   "metadata": {},
   "source": [
    "- The alternative hypothesis is the contrary to the null hypothesis, which claims the existence of a relationship between the variables.\n",
    "<center>$H_1$: $H_0$ is false</center> <br>"
   ]
  },
  {
   "cell_type": "markdown",
   "id": "c68ba4e6-4c58-40bc-ad1a-0d56d98622a4",
   "metadata": {},
   "source": [
    "#### **Progress Check 19.3**"
   ]
  },
  {
   "cell_type": "markdown",
   "id": "1eee6a8f-50db-46cd-918b-027571c95aa3",
   "metadata": {},
   "source": [
    "(a) $H_0$: The educational level of adults and their preference on right-to-abortion legislation are independent."
   ]
  },
  {
   "cell_type": "markdown",
   "id": "80dea1da-5071-45de-b4ee-844d253a1419",
   "metadata": {},
   "source": [
    "(b) $H_0$: The attendance to a marital therapy of adults and their parents' marital status are independent."
   ]
  },
  {
   "cell_type": "markdown",
   "id": "2c2a0616-4743-4e63-ada3-308fbff9f718",
   "metadata": {},
   "source": [
    "(c) $H_0$: The performances of employees and their work schedules are independent."
   ]
  },
  {
   "cell_type": "markdown",
   "id": "9c81e26d-e1a7-47aa-95dd-7b45a5285f2e",
   "metadata": {
    "jp-MarkdownHeadingCollapsed": true,
    "tags": []
   },
   "source": [
    "### **19.8** DETAILS: CALCULATING $\\chi^2$"
   ]
  },
  {
   "cell_type": "markdown",
   "id": "e2a4315c-b577-4e04-9ecc-edbb1d2110fb",
   "metadata": {},
   "source": [
    "#### **Finding Expected Frequencies from Proportions**"
   ]
  },
  {
   "cell_type": "markdown",
   "id": "6b029d63-6815-4489-8dc1-9589f1ed35eb",
   "metadata": {},
   "source": [
    "#### **Finding Expected Frequencies from Totals**"
   ]
  },
  {
   "cell_type": "markdown",
   "id": "e0d21196-6663-4103-ade9-30e1b99cfde5",
   "metadata": {},
   "source": [
    "<center><b>EXPECTED FREQUENCY (TWO-VARIABLE $\\chi^2$ TEST)</b></center> <br>\n",
    "<center>$\\Large \\it f_e = \\frac{\\text{(row total)(column total)}}{\\text{grand total}}$</center>\n",
    "\n",
    "Where:\n",
    "- $\\it \\text{row total}$: the total frequency for the row occupied by a particular cell\n",
    "- $\\it \\text{column total}$: the total frequency for the column occupied by that cell\n",
    "- $\\it \\text{grand total}$: the total for all columns (or rows)"
   ]
  },
  {
   "cell_type": "markdown",
   "id": "71f1e21c-b324-45ab-97b5-6b39a9834b73",
   "metadata": {
    "jp-MarkdownHeadingCollapsed": true,
    "tags": []
   },
   "source": [
    "### **19.9** TABLE FOR THE $\\chi^2$ DISTRIBUTION "
   ]
  },
  {
   "cell_type": "markdown",
   "id": "0191c122-f566-4876-83d0-a01f4798b3b9",
   "metadata": {},
   "source": [
    "<center><b>DEGREES OF FREEDOM (TWO-VARIABLE $\\chi^2$ TEST)</b></center> <br>\n",
    "<center>$\\Large \\it \\text{df} = (c - 1)(r - 1)$</center>\n",
    "\n",
    "Where:\n",
    "- c: the number of categories for the column variable.\n",
    "- r: the number of categories for the row variable."
   ]
  },
  {
   "cell_type": "markdown",
   "id": "fbff6656-7a97-44e7-aadc-3d622d4de7b7",
   "metadata": {},
   "source": [
    "#### **Explanation for Degrees of Freedom**"
   ]
  },
  {
   "cell_type": "markdown",
   "id": "6440ebc2-e5b6-4a4c-863a-887a18281a7f",
   "metadata": {
    "jp-MarkdownHeadingCollapsed": true,
    "tags": []
   },
   "source": [
    "### **19.10** $\\chi^2$ TEST"
   ]
  },
  {
   "cell_type": "markdown",
   "id": "6daab06f-339b-41a1-ad9f-3580688b3cce",
   "metadata": {
    "jp-MarkdownHeadingCollapsed": true,
    "tags": []
   },
   "source": [
    "#### **Progress Check 19.4**"
   ]
  },
  {
   "cell_type": "markdown",
   "id": "dda66a29-2a2f-4244-8a23-b51096747b71",
   "metadata": {},
   "source": [
    "(a)"
   ]
  },
  {
   "cell_type": "code",
   "execution_count": 80,
   "id": "509496c7-a557-4be2-aa1d-3bf97cefef30",
   "metadata": {},
   "outputs": [
    {
     "data": {
      "text/plain": [
       "(15.28, 3.0)"
      ]
     },
     "execution_count": 80,
     "metadata": {},
     "output_type": "execute_result"
    }
   ],
   "source": [
    "data = np.array([[10, 20], [30, 30], [60, 30], [80, 40]])\n",
    "exp_frequency = calc_expfrequency(data)\n",
    "df = calc_df(data)\n",
    "chisquare = calc_chisquare(data, exp_frequency.T)\n",
    "chisquare, df"
   ]
  },
  {
   "cell_type": "markdown",
   "id": "5ad93bc4-3ce5-49f3-95b7-7bf8bad0d28b",
   "metadata": {},
   "source": [
    "(b) p < 0.01"
   ]
  },
  {
   "cell_type": "markdown",
   "id": "dbba08af-ddf5-43dd-84df-c2a052239f37",
   "metadata": {
    "jp-MarkdownHeadingCollapsed": true,
    "tags": []
   },
   "source": [
    "### **19.11** ESTIMATING EFFECT SIZE"
   ]
  },
  {
   "cell_type": "markdown",
   "id": "824e2b0b-3ce1-4cf3-b544-81d82573e24a",
   "metadata": {},
   "source": [
    "- Definition:\n",
    "    + Squared Cramer's Phi Coefficient ($\\phi^2_c$): A very rough estimate of the proportion of explained variance (or predictability) between two qualitative variables."
   ]
  },
  {
   "cell_type": "markdown",
   "id": "f14e463a-7486-49f0-ae9b-611165a35866",
   "metadata": {
    "tags": []
   },
   "source": [
    "#### **Squared Cramer's Phi Coefficient ($\\phi^2_c$)**"
   ]
  },
  {
   "cell_type": "markdown",
   "id": "43aaa7ae-039b-488b-a551-8d1b63c80e76",
   "metadata": {},
   "source": [
    "<center><b>PROPORTION OF EXPLAINED VARIANCE (TWO-VARIABLE $\\chi^2$)</b></center> <br>\n",
    "<center>$\\Large \\phi^2_p = \\frac{\\chi^2}{n(k - 1)}$</center>\n",
    "\n",
    "Where:\n",
    "- $\\chi^2$: the obtained value of statistically significant two-variable test.\n",
    "- $n$: the total sample size.\n",
    "- $k$: the smaller of either c (column) or r (row)."
   ]
  },
  {
   "cell_type": "markdown",
   "id": "99a49ed0-05cb-45b3-b1e4-053dfd5c507b",
   "metadata": {},
   "source": [
    "- As suggested in the formula, whenever the value of $\\chi^2$ indicates a statistically significant result."
   ]
  },
  {
   "attachments": {
    "3885ab3e-8696-4bf8-bb42-a47b277965ad.png": {
     "image/png": "[encoded data removed]"
    }
   },
   "cell_type": "markdown",
   "id": "4c81ab07-1613-451d-bc0e-907157f1c85e",
   "metadata": {},
   "source": [
    "- Cohen's guidelines for estimating the effect size: <br>\n",
    "![image.png](attachment:3885ab3e-8696-4bf8-bb42-a47b277965ad.png) <br>"
   ]
  },
  {
   "cell_type": "markdown",
   "id": "7924d014-b8f3-4117-87aa-be41c0836d1f",
   "metadata": {
    "tags": []
   },
   "source": [
    "#### **Progress Check 19.5**"
   ]
  },
  {
   "cell_type": "code",
   "execution_count": 86,
   "id": "443f0b21-c951-4fd4-b895-f88ab870a816",
   "metadata": {},
   "outputs": [
    {
     "data": {
      "text/plain": [
       "0.05"
      ]
     },
     "execution_count": 86,
     "metadata": {},
     "output_type": "execute_result"
    }
   ],
   "source": [
    "k = np.size(data, axis=0 if ( np.size(data, axis=0) <= np.size(data, axis=1) ) else 1)\n",
    "cramersphi = calc_cramersphi(chisquare, data.sum(), k)\n",
    "cramersphi"
   ]
  },
  {
   "cell_type": "markdown",
   "id": "4e8531aa-94b5-40f3-956a-bbbbad242f13",
   "metadata": {
    "jp-MarkdownHeadingCollapsed": true,
    "tags": []
   },
   "source": [
    "### **19.12** ODDS RATIOS"
   ]
  },
  {
   "cell_type": "markdown",
   "id": "84518387-e1d8-4f2e-80ed-2b0c22b353a2",
   "metadata": {},
   "source": [
    "- Definition:\n",
    "    + Indicates the relative occurrence of one value of the dependent variable across the two categories of the independent variable."
   ]
  },
  {
   "cell_type": "markdown",
   "id": "6153a540-8c95-48a3-b0a1-597305f5f1aa",
   "metadata": {},
   "source": [
    "#### **Calculating the Odds Ratio**"
   ]
  },
  {
   "cell_type": "markdown",
   "id": "6e253118-5d43-43db-a5d8-6d452a62390c",
   "metadata": {},
   "source": [
    "<center><b>ODDS</b></center> <br>\n",
    "<center>$\\Large \\it \\text{odds of each dependent variable} = \\frac{\\text{frequency of occurrence}}{\\text{frequency of nonoccurrence}}$</center>"
   ]
  },
  {
   "cell_type": "markdown",
   "id": "e9c0945b-8e32-4f7c-a867-ad999f47f984",
   "metadata": {
    "jp-MarkdownHeadingCollapsed": true,
    "tags": []
   },
   "source": [
    "#### **Progress Check 19.6**"
   ]
  },
  {
   "cell_type": "markdown",
   "id": "13c9cf7b-0c7f-4bf3-95b3-dd013c4c37bd",
   "metadata": {},
   "source": [
    "(a) A returned letter is 2.37 times more likely to come from campus than from off-campus."
   ]
  },
  {
   "cell_type": "code",
   "execution_count": 96,
   "id": "e97e3c65-6742-47a6-89b4-de687a913164",
   "metadata": {},
   "outputs": [
    {
     "data": {
      "text/plain": [
       "2.3729977116704806"
      ]
     },
     "execution_count": 96,
     "metadata": {},
     "output_type": "execute_result"
    }
   ],
   "source": [
    "data = [[69, 61], [51, 19]]\n",
    "odds = calc_odds(data)\n",
    "ratio = odds[1] / odds[0]\n",
    "ratio"
   ]
  },
  {
   "cell_type": "markdown",
   "id": "759299b2-58fe-45d6-a293-26bb65577369",
   "metadata": {},
   "source": [
    "(b) A returned letter is 0.42 times less likely to come from off-campus than from campus."
   ]
  },
  {
   "cell_type": "code",
   "execution_count": 97,
   "id": "82411088-8fc2-4ba7-ad41-c9c030f62f7a",
   "metadata": {},
   "outputs": [
    {
     "data": {
      "text/plain": [
       "0.4214079074252652"
      ]
     },
     "execution_count": 97,
     "metadata": {},
     "output_type": "execute_result"
    }
   ],
   "source": [
    "ratio = odds[0] / odds[1]\n",
    "ratio"
   ]
  },
  {
   "cell_type": "code",
   "execution_count": null,
   "id": "15407ac8-1030-4516-bcb2-276a9965d486",
   "metadata": {},
   "outputs": [],
   "source": []
  },
  {
   "cell_type": "code",
   "execution_count": null,
   "id": "8d2431d7-5af4-4518-b0e9-19425d107cc5",
   "metadata": {},
   "outputs": [],
   "source": []
  },
  {
   "cell_type": "markdown",
   "id": "025a0aad-81c9-4570-8aaa-300a857e648a",
   "metadata": {
    "jp-MarkdownHeadingCollapsed": true,
    "tags": []
   },
   "source": [
    "### **19.13** REPORTS IN THE LITERATURE"
   ]
  },
  {
   "attachments": {
    "9d938f33-705f-4b8b-a246-a3c1090d1d67.png": {
     "image/png": "[encoded data removed]"
    }
   },
   "cell_type": "markdown",
   "id": "42233db0-f256-4c19-9c14-c76bf0f8f80a",
   "metadata": {},
   "source": [
    "![image.png](attachment:9d938f33-705f-4b8b-a246-a3c1090d1d67.png)"
   ]
  },
  {
   "cell_type": "markdown",
   "id": "e1d50669-35a0-4af9-941f-6c889999aee2",
   "metadata": {
    "tags": []
   },
   "source": [
    "#### **Progress Check 19.7**"
   ]
  },
  {
   "cell_type": "markdown",
   "id": "c4a9e495-ecf3-4eaa-98f7-81a92df54298",
   "metadata": {},
   "source": [
    "There is evidence that the susceptability to oak poison is related to a person's hair color [$\\chi^2$(3, n = 300) = 15.28, p < 0.01, $\\phi^2_p$ = 0.05]."
   ]
  },
  {
   "cell_type": "markdown",
   "id": "ce69d3d5-4fa6-4606-bc3d-dfdd2f34e1d5",
   "metadata": {
    "jp-MarkdownHeadingCollapsed": true,
    "tags": []
   },
   "source": [
    "### **19.14** SOME PRECAUTIONS"
   ]
  },
  {
   "cell_type": "markdown",
   "id": "d6a49262-ab21-48cd-a1d1-3a2c7c59d3ac",
   "metadata": {},
   "source": [
    "#### **Avoid Dependent Observations**"
   ]
  },
  {
   "cell_type": "markdown",
   "id": "68021957-ef4c-40ff-8806-289419e0b6ec",
   "metadata": {},
   "source": [
    "- The valid use of $\\chi^2$ requires that observations be independent of one another."
   ]
  },
  {
   "cell_type": "markdown",
   "id": "e891d99a-8505-40e1-b4b7-da5a5d30c0fe",
   "metadata": {},
   "source": [
    "- The total observed frequencies should never exceed the total number of subjects."
   ]
  },
  {
   "cell_type": "markdown",
   "id": "c66aa289-8807-40f0-8840-c9b387fc6f90",
   "metadata": {},
   "source": [
    "#### **Avoid Small Expected Frequencies**"
   ]
  },
  {
   "cell_type": "markdown",
   "id": "b6eac8ad-d80a-4e36-9b6a-59e387f9b0c4",
   "metadata": {},
   "source": [
    "- A conservative rule specifies that all expected frequencies be 5 or more."
   ]
  },
  {
   "cell_type": "markdown",
   "id": "db480529-7e1c-4980-abeb-1115e191e880",
   "metadata": {},
   "source": [
    "- Avoid small expected frequencies by using larger sample sizes."
   ]
  },
  {
   "cell_type": "markdown",
   "id": "e6fa8ce0-5afb-4e11-8334-f2d50bbbcfe5",
   "metadata": {},
   "source": [
    "#### **Avoid Extreme Sample Size**"
   ]
  },
  {
   "cell_type": "markdown",
   "id": "8af7056a-af28-42b4-a1f7-1e1bfd798868",
   "metadata": {},
   "source": [
    "- A unduly small sample size produces a test that tends to miss even a seriously false null hypothesis, while an excessively large sample size produces a test that tends to detect a small, yet unimportant departures from the null hypothesis."
   ]
  },
  {
   "cell_type": "markdown",
   "id": "1fed9d51-2de1-48d9-831a-f000925e3ff5",
   "metadata": {
    "jp-MarkdownHeadingCollapsed": true,
    "tags": []
   },
   "source": [
    "### **19.15** COMPUTER OUTPUT"
   ]
  },
  {
   "cell_type": "markdown",
   "id": "64710e7b-3a70-4d59-b25f-2f2ead510263",
   "metadata": {
    "jp-MarkdownHeadingCollapsed": true,
    "tags": []
   },
   "source": [
    "#### **Progress Check 19.8**"
   ]
  },
  {
   "cell_type": "markdown",
   "id": "765f9208-6231-43ed-bdee-d1873897c8fe",
   "metadata": {},
   "source": [
    "(a) 30"
   ]
  },
  {
   "cell_type": "markdown",
   "id": "c9ffc5c2-07d0-4be3-8535-3c34f0353ccc",
   "metadata": {},
   "source": [
    "(b) (32.50, 25.00, 42.50) or (26.25, 50.00, 23.75)"
   ]
  },
  {
   "cell_type": "markdown",
   "id": "4473486c-b119-48db-a685-31310eaadb32",
   "metadata": {},
   "source": [
    "(c) 0.07"
   ]
  },
  {
   "cell_type": "markdown",
   "id": "23fb279c-69fe-42cc-8ee8-0b41ce6e1aa8",
   "metadata": {},
   "source": [
    "<center><b></b></center> <br>\n",
    "<center>$\\Large$</center>"
   ]
  },
  {
   "cell_type": "markdown",
   "id": "4fc1ef5a-fcf9-486c-8dd2-becf5446dea9",
   "metadata": {},
   "source": [
    "### **Review Questions**"
   ]
  },
  {
   "cell_type": "markdown",
   "id": "146d4c1c-f930-45dd-a575-d1e8ad9a9606",
   "metadata": {
    "jp-MarkdownHeadingCollapsed": true,
    "tags": []
   },
   "source": [
    "#### **19.9**"
   ]
  },
  {
   "cell_type": "markdown",
   "id": "11fd6d2d-9e70-4bc0-a247-9dc76671f7c8",
   "metadata": {},
   "source": [
    "(a) The null hypothesis is retained."
   ]
  },
  {
   "cell_type": "code",
   "execution_count": 108,
   "id": "dbe15e68-7b29-4efa-80fc-dfd49711329c",
   "metadata": {},
   "outputs": [
    {
     "data": {
      "text/plain": [
       "3.4"
      ]
     },
     "execution_count": 108,
     "metadata": {},
     "output_type": "execute_result"
    }
   ],
   "source": [
    "data = [17, 21, 22, 18, 23, 24, 15]\n",
    "exp_frequency = np.sum(data) / len(data)\n",
    "chisquare = calc_chisquare(data, exp_frequency)\n",
    "chisquare"
   ]
  },
  {
   "cell_type": "markdown",
   "id": "46082c3e-6ee2-4916-b36c-4da685673ddd",
   "metadata": {},
   "source": [
    "(b) p > 0.1"
   ]
  },
  {
   "cell_type": "markdown",
   "id": "9a1af7a6-943b-4970-8dd5-3bbd8600ee5d",
   "metadata": {},
   "source": [
    "(c) There is evidence to suggest that the crimes are equally likely to be committed on any day of a week [$\\chi^2$(6, n = 140) = 3.4, p > 0.1]"
   ]
  },
  {
   "cell_type": "code",
   "execution_count": 109,
   "id": "9207775d-d9f8-4c8e-99a8-aa55d17aa52b",
   "metadata": {},
   "outputs": [
    {
     "data": {
      "text/plain": [
       "0.0"
      ]
     },
     "execution_count": 109,
     "metadata": {},
     "output_type": "execute_result"
    }
   ],
   "source": [
    "cramersphi = calc_cramersphi(chisquare, np.sum(data), 6)\n",
    "cramersphi"
   ]
  },
  {
   "cell_type": "markdown",
   "id": "d1911060-a246-4fd2-8cb3-9dfc761bc8e1",
   "metadata": {
    "jp-MarkdownHeadingCollapsed": true,
    "tags": []
   },
   "source": [
    "#### **19.10**"
   ]
  },
  {
   "cell_type": "markdown",
   "id": "f34fa892-45a3-4168-b5be-32e6a56d91dd",
   "metadata": {},
   "source": [
    "(a) The null hypothesis is rejected."
   ]
  },
  {
   "cell_type": "code",
   "execution_count": 112,
   "id": "7f75451d-dc01-410e-baa0-64070f501b37",
   "metadata": {},
   "outputs": [
    {
     "data": {
      "text/plain": [
       "13.29"
      ]
     },
     "execution_count": 112,
     "metadata": {},
     "output_type": "execute_result"
    }
   ],
   "source": [
    "data = [33, 70]\n",
    "exp_frequency = [103 / 2]\n",
    "chisquare = calc_chisquare(data, exp_frequency)\n",
    "chisquare"
   ]
  },
  {
   "cell_type": "markdown",
   "id": "5b6da21d-2a57-4c87-bce7-ce47d3bfe301",
   "metadata": {},
   "source": [
    "(b) p < 0.001"
   ]
  },
  {
   "cell_type": "markdown",
   "id": "86f308aa-deeb-49ae-ad4e-b4df0c51e1d0",
   "metadata": {},
   "source": [
    "(c) There is evidence to suggest that elderly people are more likely to pass away after rather than before Harvest Moon Festival [$\\chi^2$(1, n = 103) = 13.29, p < 0.001, $\\phi^2_p$ = 0.13]."
   ]
  },
  {
   "cell_type": "code",
   "execution_count": 113,
   "id": "7b5fa9bd-f33b-437a-853e-854b26c905d4",
   "metadata": {},
   "outputs": [
    {
     "data": {
      "text/plain": [
       "0.13"
      ]
     },
     "execution_count": 113,
     "metadata": {},
     "output_type": "execute_result"
    }
   ],
   "source": [
    "cramersphi = calc_cramersphi(chisquare, 103, 2)\n",
    "cramersphi"
   ]
  },
  {
   "cell_type": "markdown",
   "id": "f2bc23ba-38f9-4369-861e-4f8c929df1ab",
   "metadata": {
    "jp-MarkdownHeadingCollapsed": true,
    "tags": []
   },
   "source": [
    "#### **19.11**"
   ]
  },
  {
   "cell_type": "markdown",
   "id": "2b6948b8-6693-49b0-b3db-7b3a9ae64735",
   "metadata": {},
   "source": [
    "(a) The null hypothesis is retained, that is, the coin is unbiased."
   ]
  },
  {
   "cell_type": "code",
   "execution_count": 114,
   "id": "6ceacab7-b3b1-4d82-b7c4-b49b71d27b27",
   "metadata": {},
   "outputs": [
    {
     "data": {
      "text/plain": [
       "2.0"
      ]
     },
     "execution_count": 114,
     "metadata": {},
     "output_type": "execute_result"
    }
   ],
   "source": [
    "data = [30, 20]\n",
    "exp_frequency = 25\n",
    "chisquare = calc_chisquare(data, exp_frequency)\n",
    "chisquare"
   ]
  },
  {
   "cell_type": "markdown",
   "id": "1688db26-38e0-45ed-aed5-575bbdb6d70a",
   "metadata": {},
   "source": [
    "(b) p > 0.1."
   ]
  },
  {
   "cell_type": "markdown",
   "id": "251a57a9-a3b4-4c7b-9bd5-2c4ecddaeb85",
   "metadata": {
    "jp-MarkdownHeadingCollapsed": true,
    "tags": []
   },
   "source": [
    "#### **19.12**"
   ]
  },
  {
   "cell_type": "code",
   "execution_count": 115,
   "id": "d89fec74-a834-49d9-a7b5-74ea9c983e18",
   "metadata": {},
   "outputs": [
    {
     "data": {
      "text/plain": [
       "31.72"
      ]
     },
     "execution_count": 115,
     "metadata": {},
     "output_type": "execute_result"
    }
   ],
   "source": [
    "data = [27, 53 - 27]\n",
    "exp_frequency = 5.3 * np.array([2, 8])\n",
    "chisquare = calc_chisquare(data, exp_frequency)\n",
    "chisquare"
   ]
  },
  {
   "cell_type": "markdown",
   "id": "4bc53107-2189-4c86-9952-5a026183c92e",
   "metadata": {},
   "source": [
    "The null hypothesis is rejected."
   ]
  },
  {
   "cell_type": "markdown",
   "id": "decb4757-c433-452c-87ae-b07d01cececf",
   "metadata": {
    "jp-MarkdownHeadingCollapsed": true,
    "tags": []
   },
   "source": [
    "#### **19.13**"
   ]
  },
  {
   "cell_type": "markdown",
   "id": "8382edca-4ffa-4b35-9973-d36596e0ed22",
   "metadata": {},
   "source": [
    "(a) Yes, each of the observed frequencies is a multiple of 10, suggesting that the dataset is fictious in order to simplify calculations."
   ]
  },
  {
   "cell_type": "markdown",
   "id": "305aeec9-f94c-4bac-bb17-34597983676a",
   "metadata": {},
   "source": [
    "(b)"
   ]
  },
  {
   "cell_type": "code",
   "execution_count": 122,
   "id": "8c5936b1-af2c-40db-9b30-2d4f8a64147b",
   "metadata": {},
   "outputs": [
    {
     "data": {
      "text/plain": [
       "220.0"
      ]
     },
     "execution_count": 122,
     "metadata": {},
     "output_type": "execute_result"
    }
   ],
   "source": [
    "data = [[30, 10, 10, 0], [30, 10, 10, 0], [40, 40, 20, 0], [60, 20, 20, 0], [40, 20, 40, 100]]\n",
    "exp_frequency = calc_expfrequency(data).T\n",
    "df = calc_df(data)\n",
    "chisquare = calc_chisquare(data, exp_frequency)\n",
    "chisquare"
   ]
  },
  {
   "cell_type": "markdown",
   "id": "a5a4665d-b8aa-4437-8565-8bb8cafa65e9",
   "metadata": {},
   "source": [
    "(c)"
   ]
  },
  {
   "cell_type": "code",
   "execution_count": 128,
   "id": "1374cb8b-4846-4b80-90cd-d57aa039d38c",
   "metadata": {},
   "outputs": [
    {
     "data": {
      "text/plain": [
       "0.15"
      ]
     },
     "execution_count": 128,
     "metadata": {},
     "output_type": "execute_result"
    }
   ],
   "source": [
    "cramersphi = calc_cramersphi(chisquare, np.sum(data))\n",
    "cramersphi"
   ]
  },
  {
   "cell_type": "markdown",
   "id": "021ee4e0-4516-49db-98a9-48b2b324b135",
   "metadata": {
    "jp-MarkdownHeadingCollapsed": true,
    "tags": []
   },
   "source": [
    "#### **19.14**"
   ]
  },
  {
   "cell_type": "code",
   "execution_count": 48,
   "id": "fd32dc4c-93ac-4f89-b466-d3c77e9ca805",
   "metadata": {},
   "outputs": [],
   "source": [
    "data = [[299, 280], [186, 526]]\n",
    "exp_frequency = calc_expfrequency(data)\n",
    "chisquare = calc_chisquare(data, exp_frequency.T)\n",
    "df = calc_df(data)\n",
    "cramersphi = calc_cramersphi(data)\n",
    "odds = calc_odds(data)"
   ]
  },
  {
   "cell_type": "code",
   "execution_count": 49,
   "id": "72fd46b0-1f4e-4e96-8394-5c699c254342",
   "metadata": {},
   "outputs": [
    {
     "data": {
      "text/plain": [
       "(1.0, 88.64, 0.07, array([1.06785714, 0.35361217]))"
      ]
     },
     "execution_count": 49,
     "metadata": {},
     "output_type": "execute_result"
    }
   ],
   "source": [
    "df, chisquare, cramersphi, odds"
   ]
  },
  {
   "cell_type": "code",
   "execution_count": 50,
   "id": "e4fa14f1-4df5-4329-a535-8a40251808ed",
   "metadata": {},
   "outputs": [
    {
     "data": {
      "text/plain": [
       "3.019854070660522"
      ]
     },
     "execution_count": 50,
     "metadata": {},
     "output_type": "execute_result"
    }
   ],
   "source": [
    "odds[0] / odds[1]"
   ]
  },
  {
   "cell_type": "markdown",
   "id": "f68e458f-bdd0-4c74-98a6-543f62db9274",
   "metadata": {},
   "source": [
    "(a) There is a significant evidence of a relationship between the survival rates and the passangers' accommodations on the Titanic. Thus the decision is to reject the null hypothesis."
   ]
  },
  {
   "cell_type": "markdown",
   "id": "43be8bba-a893-4be5-8b79-a16a4d7cbe84",
   "metadata": {},
   "source": [
    "(b) The value of $\\phi^2_p$ is 0.07, which suggests a medium-strength correlation between the two qualitative variables, according to Cohen's guidelines."
   ]
  },
  {
   "cell_type": "markdown",
   "id": "163c16c7-4251-4724-aacd-bef5bc4a7f4d",
   "metadata": {},
   "source": [
    "(c) Based on the observed frequencies, a survivor of the Titanic would more than 3 times be likely to accommodate in the Cabin rather than in the Steerage."
   ]
  },
  {
   "cell_type": "markdown",
   "id": "565e0259-666b-4471-b614-b165daa21737",
   "metadata": {
    "jp-MarkdownHeadingCollapsed": true,
    "tags": []
   },
   "source": [
    "#### **19.15**"
   ]
  },
  {
   "cell_type": "code",
   "execution_count": 51,
   "id": "2fe7632f-9307-44b2-a0da-5617a2bdb42a",
   "metadata": {},
   "outputs": [],
   "source": [
    "data = [[72, 71, 25, 25], [28, 29, 75, 75]]\n",
    "exp_frequency = calc_expfrequency(data)\n",
    "chisquare = calc_chisquare(data, exp_frequency.T)\n",
    "df = calc_df(data)\n",
    "cramersphi = calc_cramersphi(data)\n",
    "odds = calc_odds(data)"
   ]
  },
  {
   "cell_type": "code",
   "execution_count": 52,
   "id": "4277009d-23ff-4f5b-8ad6-7b58938b4cf8",
   "metadata": {},
   "outputs": [
    {
     "data": {
      "text/plain": [
       "(3.0, 86.62, 0.22, array([1.01408451, 0.96551724]))"
      ]
     },
     "execution_count": 52,
     "metadata": {},
     "output_type": "execute_result"
    }
   ],
   "source": [
    "df, chisquare, cramersphi, odds"
   ]
  },
  {
   "cell_type": "code",
   "execution_count": 53,
   "id": "1b40bf9e-7540-4b74-9679-5216fb527cab",
   "metadata": {},
   "outputs": [
    {
     "data": {
      "text/plain": [
       "array([[48.25, 51.75],\n",
       "       [48.25, 51.75],\n",
       "       [48.25, 51.75],\n",
       "       [48.25, 51.75]])"
      ]
     },
     "execution_count": 53,
     "metadata": {},
     "output_type": "execute_result"
    }
   ],
   "source": [
    "exp_frequency"
   ]
  },
  {
   "cell_type": "markdown",
   "id": "fa3bdd9b-3895-4f31-8971-c014159d6c35",
   "metadata": {},
   "source": [
    "(a) The addresses of the letters are definitely related to the their return rates."
   ]
  },
  {
   "cell_type": "markdown",
   "id": "712c5d02-6888-4430-91bd-44c97da0f909",
   "metadata": {},
   "source": [
    "(b) p < 0.001"
   ]
  },
  {
   "cell_type": "markdown",
   "id": "d10d6346-a42f-4036-959b-5b7d198b9c80",
   "metadata": {},
   "source": [
    "(c) The value of $\\phi^2_p$ is 0.22, which suggests a strong correlation."
   ]
  },
  {
   "cell_type": "markdown",
   "id": "79686519-34a6-46f2-be56-169bae06f81a",
   "metadata": {},
   "source": [
    "(d) There's significant evidence to suggest that the return rates of letters are strongly associated with their intended addresses [$\\chi^2$(3. n = 400) = 86.62, p < 0.001, $\\phi^2_p$ = 0.22]."
   ]
  },
  {
   "cell_type": "markdown",
   "id": "d8398413-29be-478f-86c9-44ac534bff3e",
   "metadata": {},
   "source": [
    "#### **19.16**"
   ]
  },
  {
   "cell_type": "markdown",
   "id": "6bf6abe1-fba0-4ce7-809d-ff152441219d",
   "metadata": {},
   "source": [
    "#### **19.17**"
   ]
  },
  {
   "cell_type": "markdown",
   "id": "1e01d006-c6f9-4926-b9d2-70c5e1294398",
   "metadata": {},
   "source": [
    "#### **19.18**"
   ]
  },
  {
   "cell_type": "markdown",
   "id": "3cec68fd-6f7b-4c16-81c0-39484023ea48",
   "metadata": {
    "tags": []
   },
   "source": [
    "### Imports and Functions"
   ]
  },
  {
   "cell_type": "code",
   "execution_count": 1,
   "id": "a2719996-1b51-451e-8d27-91f12d2adb83",
   "metadata": {},
   "outputs": [],
   "source": [
    "import numpy as np\n",
    "import pandas as pd\n",
    "import os\n",
    "import sys\n",
    "\n",
    "sys.path.append(os.path.join(sys.path[0], os.path.pardir))\n",
    "\n",
    "import utils.StatsReport as SR"
   ]
  },
  {
   "cell_type": "code",
   "execution_count": 2,
   "id": "bdc21936-00ca-4be9-91f5-b1bf766a17c0",
   "metadata": {},
   "outputs": [],
   "source": [
    "def calc_chisquare(observed_frequencies, expected_frequency):\n",
    "    observed_frequencies = np.array(observed_frequencies)\n",
    "    chisquare = np.sum( (observed_frequencies-expected_frequency)**2 / expected_frequency)\n",
    "    \n",
    "    return np.round(chisquare, decimals=2)"
   ]
  },
  {
   "cell_type": "code",
   "execution_count": 3,
   "id": "ec136dbe-603c-4197-8524-3f87d9dcb11e",
   "metadata": {},
   "outputs": [],
   "source": [
    "def calc_expfrequency(data):\n",
    "    data = np.array(data)\n",
    "    row_sums = data.sum(axis=0)\n",
    "    col_sums = data.sum(axis=1)\n",
    "    expected_frequencies = list()\n",
    "    for each_sum in row_sums:\n",
    "        expected_frequencies.append(np.round( (col_sums*each_sum)/data.sum() , decimals=2))\n",
    "    \n",
    "    # Require that the return array be transposed to match the shape of given data array\n",
    "    return np.array(expected_frequencies).T"
   ]
  },
  {
   "cell_type": "code",
   "execution_count": 4,
   "id": "ab34d083-e510-4d01-820d-8c25121f55c2",
   "metadata": {},
   "outputs": [],
   "source": [
    "def calc_df(data):\n",
    "    data = np.array(data)\n",
    "    no_rows = data.size / np.size(data, axis=0)\n",
    "    no_cols = data.size / no_rows\n",
    "    \n",
    "    return (no_rows - 1)*(no_cols -1)"
   ]
  },
  {
   "cell_type": "code",
   "execution_count": 5,
   "id": "adb89f66-c99b-4069-b4d0-a8c2237c9cd3",
   "metadata": {},
   "outputs": [],
   "source": [
    "# Requires the obtained exp_frequency be tranposed\n",
    "def calc_chisquare(data, exp_frequency):\n",
    "    return np.round(np.sum( (data-exp_frequency)**2 / exp_frequency ), decimals=2)"
   ]
  },
  {
   "cell_type": "code",
   "execution_count": 30,
   "id": "5b07c598-95fc-4339-86b6-a58978e7eb32",
   "metadata": {},
   "outputs": [],
   "source": [
    "def calc_cramersphi(data):\n",
    "    exp_frequency = calc_expfrequency(data)\n",
    "    chisquare = calc_chisquare(data, exp_frequency.T)\n",
    "    k = np.size(data, axis=0 if ( np.size(data, axis=0) <= np.size(data, axis=1) ) else 1)\n",
    "\n",
    "    return np.round( chisquare / (np.sum(data)*(k - 1)) , decimals=2)"
   ]
  },
  {
   "cell_type": "code",
   "execution_count": 23,
   "id": "89d8e726-11d1-48d0-a6ca-dbe72fe2841a",
   "metadata": {},
   "outputs": [],
   "source": [
    "def calc_odds(data):\n",
    "    data = np.array(data)\n",
    "    odds = data[:, 0] / data[:, 1]\n",
    "        \n",
    "    return odds"
   ]
  }
 ],
 "metadata": {
  "kernelspec": {
   "display_name": "Python 3 (ipykernel)",
   "language": "python",
   "name": "python3"
  },
  "language_info": {
   "codemirror_mode": {
    "name": "ipython",
    "version": 3
   },
   "file_extension": ".py",
   "mimetype": "text/x-python",
   "name": "python",
   "nbconvert_exporter": "python",
   "pygments_lexer": "ipython3",
   "version": "3.10.4"
  }
 },
 "nbformat": 4,
 "nbformat_minor": 5
}
