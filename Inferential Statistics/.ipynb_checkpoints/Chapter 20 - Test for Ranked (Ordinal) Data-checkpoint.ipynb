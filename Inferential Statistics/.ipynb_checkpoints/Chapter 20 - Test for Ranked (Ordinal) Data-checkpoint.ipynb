{
 "cells": [
  {
   "cell_type": "markdown",
   "id": "a482aeb8-0945-491d-be7d-b54bc1e70ea0",
   "metadata": {
    "jp-MarkdownHeadingCollapsed": true,
    "tags": []
   },
   "source": [
    "### **20.1** USE ONLY WHEN APPROPRIATE"
   ]
  },
  {
   "cell_type": "markdown",
   "id": "cbab21d3-0ad3-4053-bf63-c671d57b5950",
   "metadata": {},
   "source": [
    "- Use the Mann-Whitney $U$, Wilcoxon $T$, and Krusal-Wallis $H$ tests described in this chapter only under appropriate circumstances, that is:\n",
    "    + (1): when the original data are ranked (ordinal) or\n",
    "    + (2): when the original data are quantitative but do not appear to originate from normally distributed populations with equal variances.\n",
    "- When the data are quantitative and the populations appear to be normally distributed, with equal variances, use the $t$ and $F$ tests."
   ]
  },
  {
   "cell_type": "markdown",
   "id": "130c8b4f-1347-486e-bb53-62780ebf5882",
   "metadata": {},
   "source": [
    "- Remark:\n",
    "    + On Non-normality: When sample sizes are small (less than about 10), the observed non-normality should be carefully taken into account since there's chances that these samples originate from either tails of truely normal distributions.\n",
    "    + On Unequal Variances: Similarly, when sample sizes are small and unequal, it increases the probability that these samples originate from different low-density regions of their truely normal distributions and therefore, more likely to possess unequal variances."
   ]
  },
  {
   "cell_type": "markdown",
   "id": "0ec02299-9f7e-4df9-a8ba-12c41d46a0ee",
   "metadata": {
    "tags": []
   },
   "source": [
    "### **20.2** A NOTE ON TERMINOLOGY"
   ]
  },
  {
   "cell_type": "markdown",
   "id": "7c977f53-388d-4080-bc8e-9236e63bee24",
   "metadata": {},
   "source": [
    "#### **Nonparametric Tests**"
   ]
  },
  {
   "cell_type": "markdown",
   "id": "8a74ea14-09a7-4179-a663-a0e0c78f77c2",
   "metadata": {},
   "source": [
    "- Definition:\n",
    "    + Nonparametric Tests: Tests, such as $U$, $T$, and $H$, that evaluate entire population distributions rather than specific population characteristics.\n",
    "    + Parameter: Refers to any descriptive measure of a population, such as the population mean (or the standard deviation/variance)."
   ]
  },
  {
   "cell_type": "markdown",
   "id": "2d1e485a-e7cb-4c41-8158-047b22a399fb",
   "metadata": {},
   "source": [
    "#### **Distribution-Free Tests**"
   ]
  },
  {
   "cell_type": "markdown",
   "id": "480f1e77-a900-4e58-bf08-7c4246617a24",
   "metadata": {},
   "source": [
    "- Nonparametric tests are also referred to as the distribution-free tests."
   ]
  },
  {
   "cell_type": "markdown",
   "id": "75d11f7b-09b7-4501-ad98-21c4a5bf19f2",
   "metadata": {},
   "source": [
    "- Definition:\n",
    "    + Tests, such as $U$, $T$, and $H$, that make no assumptions about the form of the population distribution."
   ]
  },
  {
   "cell_type": "markdown",
   "id": "7ec1d84f-5f46-4839-a307-7d296871046f",
   "metadata": {},
   "source": [
    "#### **Labels Can Be Misleading**"
   ]
  },
  {
   "cell_type": "markdown",
   "id": "3aa22b1f-4257-48ad-bdb2-96c8949647b2",
   "metadata": {},
   "source": [
    "- "
   ]
  },
  {
   "cell_type": "markdown",
   "id": "f5b88c1e-19b2-4a27-a2c8-eb48237a3108",
   "metadata": {
    "jp-MarkdownHeadingCollapsed": true,
    "tags": []
   },
   "source": [
    "### **20.3** MANN-WHITNEY $U$ TEST (TWO INDEPENDENT SAMPLES)"
   ]
  },
  {
   "cell_type": "markdown",
   "id": "79cc4057-6b37-48e2-bdf8-5914fe2baad3",
   "metadata": {},
   "source": [
    "#### **Why Not a $t$ Test**"
   ]
  },
  {
   "cell_type": "markdown",
   "id": "9f4be914-7545-434f-b184-a8aef7f5e256",
   "metadata": {},
   "source": [
    "- Even though the data are obtained as numerical, it is clear that their distributions are not normally distributed, rather positively skewed because of the presence of one or multiple outliers, thus violates the normality assumption of a conventional $t$ test."
   ]
  },
  {
   "cell_type": "markdown",
   "id": "4e5ee912-93ae-400b-920c-77f3070e49a7",
   "metadata": {},
   "source": [
    "#### **Statistical Hypotheses for $U$**"
   ]
  },
  {
   "cell_type": "markdown",
   "id": "499fa1a3-1d3c-4f94-9d5e-5fae6ca155e7",
   "metadata": {},
   "source": [
    "- Because the $U$ test's main concern is not only the characteristics, rather everything that is related to the population distributions, the statistical hypotheses should take their forms as of followings:\n",
    "<center>$H_0$: population distribution 1 $\\neq$ population distribution 2</center>\n",
    "<center>$H_1$: population distribution 1 $=$ population distribution 2</center>"
   ]
  },
  {
   "cell_type": "markdown",
   "id": "57b99f82-81b7-4e3b-ad3d-6cb3ab888bde",
   "metadata": {},
   "source": [
    "#### **Unspecified Differences**"
   ]
  },
  {
   "cell_type": "markdown",
   "id": "bc78aaa5-100e-476a-8996-7904627c985b",
   "metadata": {},
   "source": [
    "- Notice that the null hypothesis equates two entire population distributions. Any type of inequality between population distributions, whether caused by differences in central tendency, variability, or shape, could contribute to the rejection of $H_0$. Strictly speaking, the <i>rejection of $H_0$ signifies that the two population distributions differ because of some unspecified inequality, or combination of inequalities</i>, between the original population distributions."
   ]
  },
  {
   "cell_type": "markdown",
   "id": "3829da33-a0be-49b1-9a6f-a185a2db8541",
   "metadata": {},
   "source": [
    "#### **Specified Differences**"
   ]
  },
  {
   "cell_type": "markdown",
   "id": "6177563c-c4e2-4a52-a9b4-34026d348a5c",
   "metadata": {},
   "source": [
    "- More precise conclusions are possible if both population distributions are assumed to have equal variabilities and roughly similar shapes, that is, for instance, if both population distributions are symmetrical or if both are similarly skewed. Under these circumstances, the rejection of $H_0$ signifies that the two population distributions occupy different locations and, therefore, possess different central tendencies that can be interpreted as a difference between population medians."
   ]
  },
  {
   "cell_type": "markdown",
   "id": "40f495c3-0a98-4b70-81fa-98cbd5d951f5",
   "metadata": {},
   "source": [
    "#### **Calculations of $U$**"
   ]
  },
  {
   "cell_type": "markdown",
   "id": "8d284898-93ef-4724-81fa-dab5ec6bccab",
   "metadata": {
    "jp-MarkdownHeadingCollapsed": true,
    "tags": []
   },
   "source": [
    "#### **Progress Check 20.1** "
   ]
  },
  {
   "cell_type": "markdown",
   "id": "08f9f6e1-beb1-46fb-932f-5a660ec4305d",
   "metadata": {},
   "source": [
    "(a) 1, 2, 3, 4.5, 4.5, 6, 7, 9, 9, 9, 11."
   ]
  },
  {
   "cell_type": "markdown",
   "id": "c94ada93-0a1b-4246-808e-d51dcbfcb698",
   "metadata": {},
   "source": [
    "(b) 1, 2.5, 2.5, 4.5, 4.5, 6, 7, 8, 9, 10."
   ]
  },
  {
   "cell_type": "markdown",
   "id": "70ce1102-b281-4752-976c-9c8e567b760b",
   "metadata": {},
   "source": [
    "(c) 1, 3.5, 3.5, 3.5, 3.5, 6, 7, 8.5, 8.5, 10."
   ]
  },
  {
   "cell_type": "markdown",
   "id": "9a82a651-2f8d-404d-8d87-e5faf19407a2",
   "metadata": {},
   "source": [
    "#### **Preliminary Interpretation**"
   ]
  },
  {
   "cell_type": "markdown",
   "id": "7261e52f-54c7-439c-a255-c59c3411fe85",
   "metadata": {},
   "source": [
    "<center><b>MANN-WHITNEY $U$ TEST (TWO INDEPENDENT SAMPLES)</b></center> <br>\n",
    "<center>$\\Large U_1 = n_1n_2 + \\frac{n_1(n_1 + 1)}{2} - R_1$</center> <br>\n",
    "<center>$\\Large U_2 = n_1n_2 + \\frac{n_2(n_2 + 1)}{2} - R_2$</center> <br>\n",
    "<center>$\\Large \\it U = \\text{the smaller of}\\; U_1\\; or\\; U_2$</center>\n",
    "\n",
    "Where:\n",
    "- $n_1, n_2$: the sample size in group 1 and group 2, respectively.\n",
    "- $R_1, R_2$: the sums of ranks for group 1 and group 2, respectively.\n",
    "- $U$: the final value for $U$, taken from either $U_1$ or $U_2$, whichever is smaller."
   ]
  },
  {
   "cell_type": "markdown",
   "id": "6bf25fa7-b985-493b-a317-0877c4aef102",
   "metadata": {},
   "source": [
    "- Interpretation:\n",
    "    + When one group tends to outrank the other, the larger the difference between the median ranks for the two groups and the more suspect the null hypothesis. Howevery, any specific conclusions about the significance of their inequality should be made only when variability has been accounted for, then, we can have sufficient evidence to support either the rejection or the retention of the null hypothesis."
   ]
  },
  {
   "cell_type": "markdown",
   "id": "e45ddebc-f45c-43b9-81e3-ba9b725ce3c6",
   "metadata": {},
   "source": [
    "#### **Table for $U$ Distribution**"
   ]
  },
  {
   "cell_type": "markdown",
   "id": "6af67d54-ce80-4208-9066-4b6307269b17",
   "metadata": {},
   "source": [
    "- Identify the appropriate cell (which contains both the hypothesized critical value for 0.05 and 0.01 levels of significance) by intersecting the column that contains the sample size for group 1 with the row that contains the sample size for group 2."
   ]
  },
  {
   "cell_type": "markdown",
   "id": "e3650fbe-536c-44a3-b095-2f43d9a7ff37",
   "metadata": {},
   "source": [
    "#### **Decision Rule**"
   ]
  },
  {
   "cell_type": "markdown",
   "id": "3c40e55e-95bf-4de8-aa71-ada80747bfba",
   "metadata": {},
   "source": [
    "- In the case of $U$ test, the null hypothesis is rejected if the observed $U$ is less than or equal to the critical $U$. Otherwise, if the observed $U$ exceeds the critical $U$, the null hypothesis will be retained."
   ]
  },
  {
   "cell_type": "markdown",
   "id": "cc6f1c1e-ea78-41fe-9f3c-ae9493fddefc",
   "metadata": {},
   "source": [
    "#### **Explanation of Topsy-Turvy Rule**"
   ]
  },
  {
   "cell_type": "markdown",
   "id": "02ac076f-bcad-4859-bdc3-8f30acf04b82",
   "metadata": {},
   "source": [
    "- $U$ represents the number of times that individual ranks in the lower-ranking group exceed individual ranks in the higher-ranking group.\n",
    "- When a maximum difference separates two groups - because no rank in the lower-ranking exceeds any rank in the higher-ranking group - $U$ equals 0. On the other hand, when a minimum difference separates two groups - because individual ranks in the lower-ranking group exceed individual ranks in the higher-ranking group - $U$ equals a large number, given by the expression\n",
    "<center>$\\Large \\frac{n_1n_2}{2}$</center>"
   ]
  },
  {
   "cell_type": "markdown",
   "id": "272cb56b-5442-4b0d-8cf5-86d270c67073",
   "metadata": {
    "jp-MarkdownHeadingCollapsed": true,
    "tags": []
   },
   "source": [
    "#### **Progress Check 20.2**"
   ]
  },
  {
   "cell_type": "code",
   "execution_count": 17,
   "id": "00de69dd-b96b-4fc0-a712-f14821257156",
   "metadata": {},
   "outputs": [
    {
     "data": {
      "text/plain": [
       "(31.0, 5.0, 5.0)"
      ]
     },
     "execution_count": 17,
     "metadata": {},
     "output_type": "execute_result"
    }
   ],
   "source": [
    "g1_rank = np.sort([1, 2, 4.5, 11, 3, 4.5])\n",
    "g2_rank = np.sort([9, 6, 12, 10, 7, 8])\n",
    "n1 = g1_rank.size\n",
    "n2 = g2_rank.size\n",
    "u1 = (n1*n2) + (n1*(n1 + 1)/2) - g1_rank.sum()\n",
    "u2 = (n1*n2) + (n2*(n2 + 1)/2) - g2_rank.sum()\n",
    "u = u1 if u1 <= u2 else u2\n",
    "u1, u2, u"
   ]
  },
  {
   "cell_type": "markdown",
   "id": "5f6e9997-cf60-4eab-ad18-45d44a702b40",
   "metadata": {},
   "source": [
    "(a)\n",
    "- Research Problem: <br>\n",
    "Do therapy groups with directive leaders (1) produce more or less growth (in members) than therapy groups with nondirective leaders (2)? <br>\n",
    "\n",
    "- Statistical Hypotheses: <br>\n",
    "$H_0$: directive leader population distribution $=$ nondirective leader population distribution <br>\n",
    "$H_1$: directive leader population distribution $\\neq$ nondirective leader population distribution <br>\n",
    "\n",
    "- Decision Rule: <br>\n",
    "Reject the null hypothesis at the 0.05 level of significance if $U \\le 5$ given the sample size in each group is 6.\n",
    "\n",
    "- Calculations: <br>\n",
    "$U_1$ = 31 <br>\n",
    "$U_2$ = 5 <br>\n",
    "$U$ = $U_2$ (because it is smaller) = 5 <br>\n",
    "\n",
    "- Decision: <br>\n",
    "Reject the null hypothesis at the 0.05 level of significance because $U = 5$.\n",
    "\n",
    "- Interpretation: <br>\n",
    "Therapy groups with directive leaders produce less growth than those with nondirective leaders."
   ]
  },
  {
   "cell_type": "markdown",
   "id": "4c0daaf4-f595-440c-ada4-ec2f1b4abac0",
   "metadata": {},
   "source": [
    "(b) p < 0.05"
   ]
  },
  {
   "cell_type": "markdown",
   "id": "2dea6aef-42ad-49a1-9ee1-329699412a89",
   "metadata": {
    "jp-MarkdownHeadingCollapsed": true,
    "tags": []
   },
   "source": [
    "### **20.4** WILCOXON $T$ TEST (TWO RELATED SAMPLES)"
   ]
  },
  {
   "cell_type": "markdown",
   "id": "408dc4e7-b4c7-4c15-8359-8137c6b06963",
   "metadata": {},
   "source": [
    "#### **Why Not a $t$ Test**"
   ]
  },
  {
   "cell_type": "markdown",
   "id": "b17ea69a-d7ce-4540-b5c4-8650e5198ff2",
   "metadata": {},
   "source": [
    "- Another normality assumption violating case is that in which there does not seem to have any significant outliers in the distribution, however, there's also no obvious cluster of scores about the middle (of the range), thus it cannot be concluded that the given data originates from a normal distribution."
   ]
  },
  {
   "cell_type": "markdown",
   "id": "a3a2364b-c379-47ea-ad60-994131b125a0",
   "metadata": {},
   "source": [
    "#### **Statistical Hypotheses for $T$**"
   ]
  },
  {
   "cell_type": "markdown",
   "id": "c7a38658-ba67-47ba-9fa9-d5ccb3efa976",
   "metadata": {},
   "source": [
    "- Which are similar to those in the $U$ test or in any distribution-free hypothesis tests:\n",
    "<center>$H_0$: population distribution 1 $=$ population distribution 2</center>\n",
    "<center>$H_1$: population distribution 1 $\\neq$ population distribution 2</center>"
   ]
  },
  {
   "cell_type": "markdown",
   "id": "847122c4-1068-4264-be1f-659e465d0958",
   "metadata": {},
   "source": [
    "#### **Calculation of $T$**"
   ]
  },
  {
   "cell_type": "markdown",
   "id": "a89f6c28-3f87-4aac-bb6b-cd7a40b7d0e1",
   "metadata": {},
   "source": [
    "- Definition:\n",
    "    + Wilcoxin $T$ Test: A test for ranked data when there are two related groups."
   ]
  },
  {
   "cell_type": "markdown",
   "id": "aa4f4cac-b60c-4ca5-865c-adc9c30b1eff",
   "metadata": {},
   "source": [
    "<center><b>WILCOXON $T$ TEST (TWO RELATED SAMPLES)</b></center> <br>\n",
    "<center>$\\Large \\it T = \\text{the smaller of}\\; R_+\\; \\text{or}\\; R_-$</center>"
   ]
  },
  {
   "cell_type": "markdown",
   "id": "3b5df408-f0d8-4d24-bb2f-c922b1811848",
   "metadata": {},
   "source": [
    "#### **Table for the $T$ Distribution**"
   ]
  },
  {
   "cell_type": "markdown",
   "id": "4ce3d750-e174-4f23-aadf-07a94d1b1232",
   "metadata": {},
   "source": [
    "- Locate the appropriate row by selecting one whose value is equal to the total number of nonzero difference scores, obtained by subtracting the scores of group 2 from group 1 on one-to-one basis."
   ]
  },
  {
   "cell_type": "markdown",
   "id": "dde2fbeb-543a-4c59-8ef4-f1220f300287",
   "metadata": {},
   "source": [
    "#### **Decision Rule**"
   ]
  },
  {
   "cell_type": "markdown",
   "id": "e5305e94-6c4b-49f3-8b8a-3b8610fdd297",
   "metadata": {},
   "source": [
    "- As with the $U$ test, the retention of the null hypothesis is concluded if the obtained $T$ is $\\le$ the critical value, otherwise, the null hypothesis is retained."
   ]
  },
  {
   "cell_type": "markdown",
   "id": "4a8e03a2-2e37-446e-a251-7874328c89fc",
   "metadata": {},
   "source": [
    "#### **Reports in the Literature**"
   ]
  },
  {
   "attachments": {
    "c593ac2d-ba45-493f-84b5-2c06c28d6189.png": {
     "image/png": "[encoded data removed]"
    }
   },
   "cell_type": "markdown",
   "id": "46ad87a6-5b5d-444c-9623-ea8bf87978ca",
   "metadata": {},
   "source": [
    "![image.png](attachment:c593ac2d-ba45-493f-84b5-2c06c28d6189.png)"
   ]
  },
  {
   "cell_type": "markdown",
   "id": "c62d7889-3da1-4f2d-83be-93a0f3668e1c",
   "metadata": {
    "jp-MarkdownHeadingCollapsed": true,
    "tags": []
   },
   "source": [
    "#### **Progress Check 20.3**"
   ]
  },
  {
   "cell_type": "code",
   "execution_count": 40,
   "id": "c281126f-e714-4116-a1fd-471891f125ae",
   "metadata": {},
   "outputs": [
    {
     "data": {
      "text/plain": [
       "(34.0, 2, 2, 8)"
      ]
     },
     "execution_count": 40,
     "metadata": {},
     "output_type": "execute_result"
    }
   ],
   "source": [
    "before = [22, 15, 10, 21, 14, 3, 11, 8, 15]\n",
    "after = [14, 7, 0, 22, 10, 3, 10, 7, 12]\n",
    "diff = np.subtract(before, after)\n",
    "ordered_diff = np.sort(np.abs(diff))\n",
    "pos_ranks = [2, 2, 4, 5, 6.5, 6.5, 8]\n",
    "neg_ranks = [2]\n",
    "n = diff[diff != 0].size\n",
    "pos_sum = np.sum(pos_ranks)\n",
    "neg_sum = np.sum(neg_ranks)\n",
    "T = pos_sum if pos_sum <= neg_sum else neg_sum\n",
    "pos_sum, neg_sum, T, n"
   ]
  },
  {
   "cell_type": "markdown",
   "id": "0cafa17a-8b8f-477e-94c1-d267c0d05d9b",
   "metadata": {},
   "source": [
    "(a) Because the distribution of the difference scores are relatively level or slightly positively skewed, therefore, the customary $t$ test should not be applied since its assumption of normality is violated."
   ]
  },
  {
   "cell_type": "markdown",
   "id": "90cfa82b-2348-4656-be18-7edb79f0d94f",
   "metadata": {},
   "source": [
    "(b)\n",
    "- Research Problem: <br>\n",
    "Does a quit-smoking workshop help reduce the daily cigarette consumption for a group of attendees? <br>\n",
    "\n",
    "- Statistical Hypotheses: <br>\n",
    "$H_0$: before attending population distribution $\\le$ after attending population distribution <br>\n",
    "$H_1$: before attending population distribution $\\gt$ after attending population distribution <br>\n",
    "\n",
    "- Decision Rule: <br>\n",
    "Reject the null hypothesis at the 0.05 level of significance if $T \\le 5$ given the total number of nonzero difference scores is 8.\n",
    "\n",
    "- Calculations: <br>\n",
    "$R_+$ = 34 <br>\n",
    "$R_-$ = 2 <br>\n",
    "$T$ = $R_-$ (because it is smaller) = 2 <br>\n",
    "\n",
    "- Decision: <br>\n",
    "Reject the null hypothesis at the 0.05 level of significance because $T = 2$ which is less than 5.\n",
    "\n",
    "- Interpretation: <br>\n",
    "There is sufficient evidence to support the notion that the quit-smoking workshop causes a decline in cigarettes consumptions for smoker attendees."
   ]
  },
  {
   "cell_type": "markdown",
   "id": "e2d0e360-79a3-407d-93ca-270724f18ec6",
   "metadata": {},
   "source": [
    "(c) p < 0.05"
   ]
  },
  {
   "cell_type": "markdown",
   "id": "8fbcc27d-356a-4044-adf4-c5cec097fffb",
   "metadata": {},
   "source": [
    "(d) Given the same subjects have been assigned to a single quit-smoking workshop, it is evident that the workshop does cause a decline in cigarettes consumption for the attendees [T(n = 8) = 2, p < 0.05]"
   ]
  },
  {
   "cell_type": "markdown",
   "id": "f2d05f88-52fd-4c3d-b682-c0d68413d875",
   "metadata": {
    "jp-MarkdownHeadingCollapsed": true,
    "tags": []
   },
   "source": [
    "### **20.5** KRUSKAL-WALLIS $H$ TEST (THREE OF MORE INDEPENDENT SAMPLES)"
   ]
  },
  {
   "cell_type": "markdown",
   "id": "33023805-4e4f-47c4-9841-6461e0f828df",
   "metadata": {},
   "source": [
    "#### **Why Not an $F$ Test**"
   ]
  },
  {
   "cell_type": "markdown",
   "id": "4bf8c936-9c09-467e-92b6-d10a5e6cdd24",
   "metadata": {},
   "source": [
    "- Whenever the data are obtained from a test that consists of one or more independent variables, each of which has multiple levels, then it is appropriate to apply either $F$ or $H$ test, however, if the data are given in the form of numerical ranks, it is not possible to speculate any characteristics of the underlying population, thus requires the distribution and assumption-free $H$ test to test the hypothesis."
   ]
  },
  {
   "cell_type": "markdown",
   "id": "9364b24a-7d03-4111-b8cd-d47a0e94b526",
   "metadata": {},
   "source": [
    "#### **Statistical Hypotheses for $H$**"
   ]
  },
  {
   "cell_type": "markdown",
   "id": "12c01f55-c674-481c-8b57-2f38329817f2",
   "metadata": {},
   "source": [
    "<center>$H_0$: population A $=$ population B $=$ population C</center>\n",
    "<center>$H_1$: $H_0$ is false</center>"
   ]
  },
  {
   "cell_type": "markdown",
   "id": "aee82161-59dc-4328-9759-6660e914b4c4",
   "metadata": {},
   "source": [
    "#### **Calculating $H$**"
   ]
  },
  {
   "cell_type": "markdown",
   "id": "986c8cdb-bb89-401d-85e0-367dd04366cf",
   "metadata": {},
   "source": [
    "- Definition:\n",
    "    + Kruskal-Wallist $H$ Test: A test for ranked data when there are more than two independent groups."
   ]
  },
  {
   "cell_type": "markdown",
   "id": "ffdfd8b3-faae-407e-93e1-7b7b6c58114f",
   "metadata": {},
   "source": [
    "<center><b>KRUSKAL-WALLIS $H$ TEST (THREE OR MORE INDEPENDENT SAMPLES)</b></center> <br>\n",
    "<center>$\\Large H = \\frac{12}{\\text{n(n + 1)}}[\\sum{\\frac{R^2_i}{n_i}}] - \\text{3(n + 1)}$</center>\n",
    "\n",
    "Where:\n",
    "- $R_i$: the sum of ranks for each of the independent samples\n",
    "- $n_i$: the size of each sample\n",
    "- $n$: the total sample size"
   ]
  },
  {
   "cell_type": "markdown",
   "id": "b5c3b3dd-a548-428c-834b-74fd9dffd52f",
   "metadata": {},
   "source": [
    "#### **Table for the $\\chi^2$ Distribution**"
   ]
  },
  {
   "cell_type": "markdown",
   "id": "f727d8de-ac74-49ec-9e4c-da72418c6846",
   "metadata": {},
   "source": [
    "- When the sample sizes are very small, the critical value must be obtained from special tables, otherwise, when each sample consists of at least four samples, relatively accurate critical values can be obtained from the $\\chi^2$ distribution."
   ]
  },
  {
   "cell_type": "markdown",
   "id": "6ff9e0ce-f8f7-4eae-8d71-0c4fd73b5102",
   "metadata": {},
   "source": [
    "<center><b>DEGREES OF FREEDOM $H$ TEST</b></center> <br>\n",
    "<center>$\\Large \\it \\text{df = number of groups} - 1$</center>"
   ]
  },
  {
   "cell_type": "markdown",
   "id": "339f07d7-e3c2-4a1e-b92f-3463209279c7",
   "metadata": {},
   "source": [
    "#### **Decision Rule**"
   ]
  },
  {
   "cell_type": "markdown",
   "id": "13bdac31-4c92-4b19-88c4-b5c98cb32672",
   "metadata": {},
   "source": [
    "- In contrast with the decision rules for $U$ and $T$, the null hypothesis will be rejected if the observed $H$ is equal to or more positive than the critical $\\chi^2$. "
   ]
  },
  {
   "cell_type": "markdown",
   "id": "19c1b8ef-a074-4fe9-a401-d26b470897e7",
   "metadata": {},
   "source": [
    "#### **$H$ Test Is Nondirectional**"
   ]
  },
  {
   "cell_type": "markdown",
   "id": "255d51dc-ce1d-46bf-bb7a-f63f08cb33f5",
   "metadata": {
    "jp-MarkdownHeadingCollapsed": true,
    "tags": []
   },
   "source": [
    "#### **Progress Check 20.4**"
   ]
  },
  {
   "cell_type": "code",
   "execution_count": null,
   "id": "a92dfde1-2d07-4d5e-ba11-a71e3105caa0",
   "metadata": {},
   "outputs": [],
   "source": [
    "data = np.array([[15, 20, 19, 17, 23], [8, 16, 14, 10, 7], [12, 7, 13, 8, 9], [7, 11, 6, 4, 9], [6, 0, 4, 0, 2]])\n",
    "np.sort(data.reshape(-1))[2:], np.arange(1, data.size - 1)"
   ]
  },
  {
   "cell_type": "code",
   "execution_count": 105,
   "id": "3d49d732-4401-428d-96cc-b89666d6373a",
   "metadata": {},
   "outputs": [
    {
     "data": {
      "text/plain": [
       "18.725538461538477"
      ]
     },
     "execution_count": 105,
     "metadata": {},
     "output_type": "execute_result"
    }
   ],
   "source": [
    "group_ranks = [[20, 24, 23, 22, 25], [11.5, 21, 19, 15, 9], [17, 9, 18, 11.5, 13.5], [9, 16, 6.5, 4.5, 13.5], [6.5, 1.5, 4.5, 1.5, 3]]\n",
    "sum_gr = np.sum(group_ranks, axis=1)\n",
    "H = (12 / (25 * 26)) * np.sum( (sum_gr**2) / 5) - (3 * 26)\n",
    "H"
   ]
  },
  {
   "cell_type": "code",
   "execution_count": 82,
   "id": "8151ffb3-d27a-4004-a3fd-2473061005e0",
   "metadata": {},
   "outputs": [
    {
     "data": {
      "text/plain": [
       "[<matplotlib.lines.Line2D at 0x2a29f360c10>]"
      ]
     },
     "execution_count": 82,
     "metadata": {},
     "output_type": "execute_result"
    },
    {
     "data": {
      "image/png": "[encoded data removed]",
      "text/plain": [
       "<Figure size 432x288 with 1 Axes>"
      ]
     },
     "metadata": {
      "needs_background": "light"
     },
     "output_type": "display_data"
    }
   ],
   "source": [
    "fig = plt.figure()\n",
    "ax = plt.axes()\n",
    "\n",
    "values, bins, patches = ax.hist(data.reshape(-1), visible=False)\n",
    "values = np.concatenate([values, [0]])\n",
    "ax.plot(bins, values)"
   ]
  },
  {
   "cell_type": "markdown",
   "id": "7ce7f585-4215-480b-bb86-719ebc9db70d",
   "metadata": {},
   "source": [
    "(a) Because the observed scores are obviously not normally distributed."
   ]
  },
  {
   "cell_type": "markdown",
   "id": "48d78ed3-3c5b-4c80-8e95-8d8c6888168b",
   "metadata": {},
   "source": [
    "(b)\n",
    "- Research Problem: <br>\n",
    "Are the numbers of observed sexually explicit incidents possibly associated with their respective film ratings? <br>\n",
    "\n",
    "- Statistical Hypotheses: <br>\n",
    "$H_0$: population A = population B = population C = population D = population E <br>\n",
    "$H_1$: population A $\\neq$ population B $\\neq$ population C $\\neq$ population D $\\neq$ population E <br>\n",
    "\n",
    "- Decision Rule: <br>\n",
    "Reject the null hypothesis at the 0.05 level of significance if $H \\ge 9.49$ given the df = 4.\n",
    "\n",
    "- Calculations: <br>\n",
    "H = 18.72 <br>\n",
    "\n",
    "- Decision: <br>\n",
    "Reject the null hypothesis at the 0.05 level of significance because $H = 18.72$ which is greater than 9.49.\n",
    "\n",
    "- Interpretation: <br>\n",
    "There is sufficient evidence to support the notion that ratings are based on the number of sexually explicit incidents that occur during the films."
   ]
  },
  {
   "cell_type": "markdown",
   "id": "c93e683a-5347-4a46-8f9b-4ea1eb622331",
   "metadata": {},
   "source": [
    "(c) p < 0.001"
   ]
  },
  {
   "cell_type": "markdown",
   "id": "c65d62d7-74d4-43cc-904b-3be75ed8dcb5",
   "metadata": {
    "tags": []
   },
   "source": [
    "### **20.6** GENERAL COMMENT: TIES"
   ]
  },
  {
   "cell_type": "code",
   "execution_count": null,
   "id": "7cfefe84-ae39-4dd5-8fed-de0224c88be4",
   "metadata": {},
   "outputs": [],
   "source": []
  },
  {
   "cell_type": "code",
   "execution_count": null,
   "id": "7421c82c-4cbf-4cd5-bde5-9793fa6c8432",
   "metadata": {},
   "outputs": [],
   "source": []
  },
  {
   "cell_type": "code",
   "execution_count": null,
   "id": "0c64b522-9bf6-4f9d-9acf-6bb61d67b3fb",
   "metadata": {},
   "outputs": [],
   "source": []
  },
  {
   "cell_type": "code",
   "execution_count": null,
   "id": "58683bd3-41c4-47c1-8f95-add545e28702",
   "metadata": {},
   "outputs": [],
   "source": []
  },
  {
   "cell_type": "markdown",
   "id": "64af8a46-0005-44bc-9b75-0080a788feae",
   "metadata": {},
   "source": [
    "<center><b></b></center> <br>\n",
    "<center>$\\Large$</center>"
   ]
  },
  {
   "cell_type": "markdown",
   "id": "4bbb2445-7533-4a6f-a135-7c3f449f071f",
   "metadata": {},
   "source": [
    "### Imports and Functions"
   ]
  },
  {
   "cell_type": "code",
   "execution_count": 77,
   "id": "b2f08e09-396e-4ed7-84ca-bbd383d3cc95",
   "metadata": {},
   "outputs": [],
   "source": [
    "import numpy as np\n",
    "import matplotlib\n",
    "import matplotlib.pyplot as plt"
   ]
  }
 ],
 "metadata": {
  "kernelspec": {
   "display_name": "Python 3 (ipykernel)",
   "language": "python",
   "name": "python3"
  },
  "language_info": {
   "codemirror_mode": {
    "name": "ipython",
    "version": 3
   },
   "file_extension": ".py",
   "mimetype": "text/x-python",
   "name": "python",
   "nbconvert_exporter": "python",
   "pygments_lexer": "ipython3",
   "version": "3.10.4"
  }
 },
 "nbformat": 4,
 "nbformat_minor": 5
}
