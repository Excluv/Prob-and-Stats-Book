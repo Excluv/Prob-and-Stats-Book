{
 "cells": [
  {
   "cell_type": "code",
   "execution_count": 96,
   "id": "3550c125-e4db-49fe-aca5-b914a7606477",
   "metadata": {},
   "outputs": [],
   "source": [
    "import numpy as np\n",
    "import matplotlib as mpl\n",
    "import matplotlib.pyplot as plt"
   ]
  },
  {
   "cell_type": "markdown",
   "id": "44f5e355-2818-4603-a80d-9307fc933c54",
   "metadata": {
    "tags": []
   },
   "source": [
    "## **PART I: POPULATIONS AND SAMPLES**"
   ]
  },
  {
   "cell_type": "markdown",
   "id": "92b1956f-6eda-47b3-9cc9-0ff6686c856f",
   "metadata": {
    "jp-MarkdownHeadingCollapsed": true,
    "tags": []
   },
   "source": [
    "### **8.1. POPULATIONS** "
   ]
  },
  {
   "cell_type": "markdown",
   "id": "dfcbc109-4d20-4b96-af55-6b4a28e68185",
   "metadata": {},
   "source": [
    "#### **Real Populations**\n",
    "- Definition:\n",
    "    + Real Populations: any complete set of observations (or potential observations)."
   ]
  },
  {
   "cell_type": "markdown",
   "id": "fa65185d-d235-4ff8-beb9-f33cfb99577e",
   "metadata": {},
   "source": [
    "#### **Hypothetical Populations:**\n",
    "- Definition:\n",
    "    + Hypothetical Populations: one in which not all potential observations are available at the time of sampling"
   ]
  },
  {
   "cell_type": "markdown",
   "id": "4036baa3-5ab3-44ba-a020-6a4365cbf6d7",
   "metadata": {},
   "source": [
    "- According to the rules of inferential statistics, generalizations should only be made to real populations, in fact, have been sampled.\n",
    "- Generalizations to hypothetical populations should be viewed, therefore, as provisional conclusions based on wisdom of the researcher rather than on any logical or statistical necessity.\n",
    "- In effect, it's an open question - often answered only by additional experimentation - whether a given experimental finding merits the generality assigned to it by the researcher."
   ]
  },
  {
   "cell_type": "markdown",
   "id": "a4ae76a4-cc21-453f-bd89-8dbdf95fc0e7",
   "metadata": {
    "jp-MarkdownHeadingCollapsed": true,
    "tags": []
   },
   "source": [
    "### **8.2. SAMPLES** "
   ]
  },
  {
   "cell_type": "markdown",
   "id": "e6456215-96b1-49eb-b1f1-98a5f16a9dbf",
   "metadata": {},
   "source": [
    "- Definition:\n",
    "    + Sample: any subset of observations from a population."
   ]
  },
  {
   "cell_type": "markdown",
   "id": "7cff54ea-817e-4d15-a05f-b2db63f65f0a",
   "metadata": {},
   "source": [
    "#### **Optimal Sample Size:**\n",
    "- There's no rule of thumb for determining the best or optimal sample size, rather, it is dependent of two essential questions:\n",
    "    + \"What is the estimated variability among observations\"\n",
    "    + \"What is the acceptable amount of error in our conclusion?\"\n",
    "- Once these questions have been answered, there will be procedures, specified in later chapters, to determine the appropriate sample size."
   ]
  },
  {
   "cell_type": "markdown",
   "id": "2a6ef7e2-0eec-4409-83e9-e08f2300ad56",
   "metadata": {
    "jp-MarkdownHeadingCollapsed": true,
    "tags": []
   },
   "source": [
    "#### **Progress Check 8.1:** For each of the following pairs, indicate with a Yes or No whether the relationship between the first and second expressions could describe that between a sample and its population, respectively"
   ]
  },
  {
   "cell_type": "markdown",
   "id": "7a969973-e748-4a34-ad76-00a0b87d6308",
   "metadata": {},
   "source": [
    "(a) students in the last row; students in class. <br>\n",
    "Yes. <br>\n",
    "(b) citizens of Wyoming; citizens of New York. <br>\n",
    "No. <br>\n",
    "(c) 20 lab rats in an experiment; all lab rats, similar to those used, that could undergo the same experiment. <br>\n",
    "Yes. <br>\n",
    "(d) all U.S. presidents; all registered Republicans. <br>\n",
    "No. <br>\n",
    "(e) two tosses of a coin; all possible tosses of a coin. <br>\n",
    "Yes."
   ]
  },
  {
   "cell_type": "markdown",
   "id": "015d64d0-5ef8-4384-8fa2-c0865560a124",
   "metadata": {
    "jp-MarkdownHeadingCollapsed": true,
    "tags": []
   },
   "source": [
    "#### **Progress Check 8.2:** Identify all of the expressions from Progress Check 8.1 that involve a hypothetical population."
   ]
  },
  {
   "cell_type": "markdown",
   "id": "9c6fc0bf-9796-4a76-ba38-9a28d6cbf2b1",
   "metadata": {},
   "source": [
    "c), e)"
   ]
  },
  {
   "cell_type": "markdown",
   "id": "4c3c2c95-f24c-45d7-99c9-9761294cf4f1",
   "metadata": {
    "jp-MarkdownHeadingCollapsed": true,
    "tags": []
   },
   "source": [
    "### **8.3. RANDOM SAMPLING** "
   ]
  },
  {
   "cell_type": "markdown",
   "id": "fb4ed076-bc64-491a-93fc-146cca4a7882",
   "metadata": {},
   "source": [
    "- Definition:\n",
    "    + Random Sampling: a selection process that guarantess all potential observations in the population have an equal chance of being selected."
   ]
  },
  {
   "cell_type": "markdown",
   "id": "065a53c7-3bc7-44e7-bcfa-52d0668185c1",
   "metadata": {},
   "source": [
    "#### **Casual or Haphazard, Not Random:**\n",
    "- A casual or haphazard sample does not qualify as a random sample, which requires, all samples in the set be selected randomly, without any biases from the investigator."
   ]
  },
  {
   "cell_type": "markdown",
   "id": "526b9b5f-16a5-47ec-85e1-f9333965ccf8",
   "metadata": {
    "jp-MarkdownHeadingCollapsed": true,
    "tags": []
   },
   "source": [
    "#### **Progress Check 8.3:** Indicate whether each of the following statements is True or False. A random selection of 10 playing cards from a deck of 52 cards implies that"
   ]
  },
  {
   "cell_type": "markdown",
   "id": "b1156330-f0e1-41e3-a0bd-fafac4bf83d9",
   "metadata": {},
   "source": [
    "(a) the random sample of 10 cards accurately represents the important features of the whole deck. <br>\n",
    "False. <br>\n",
    "(b) each card in the deck has an equal chance of being selected. <br>\n",
    "True. <br>\n",
    "(c) it is impossible to get 10 cards from the same suit (for example, 10 hearts). <br>\n",
    "False. <br>\n",
    "(d) any outcome, however unlikely, is possible. <br>\n",
    "True. "
   ]
  },
  {
   "cell_type": "markdown",
   "id": "7d0063d4-7be3-4fc2-8d2a-3da50d058510",
   "metadata": {
    "jp-MarkdownHeadingCollapsed": true,
    "tags": []
   },
   "source": [
    "### **8.4. TABLES OF RANDOM NUMBERS** "
   ]
  },
  {
   "cell_type": "markdown",
   "id": "00e7ef7e-bb5a-406c-abed-ae199a79d988",
   "metadata": {},
   "source": [
    "#### **How Many Digits?**\n",
    "- The only requirement is that you have at least as many different numbers as you have potential observations in the population. In other words, the amount has to at least fit the size of the population."
   ]
  },
  {
   "cell_type": "markdown",
   "id": "0ed5810f-1b70-4b5e-8170-109105e025a3",
   "metadata": {},
   "source": [
    "#### **Using Tables:**\n",
    "- Note: enter the random number table at some arbitrary determined place (should be determined haphazardly)."
   ]
  },
  {
   "cell_type": "markdown",
   "id": "c771dd6b-3430-4a7f-a503-cb2bfa10b8f5",
   "metadata": {},
   "source": [
    "#### **Efficient Use of Tables:**\n",
    "- Depends on the context, however, if the size of the population is large, you can skip the labeling process and use the relative location/position of each sample as the indicator, then consult the table to select the samples and use the numbers to identify their relative positions."
   ]
  },
  {
   "cell_type": "markdown",
   "id": "e63647b1-ac37-4cf3-bc06-203a19dd39e0",
   "metadata": {},
   "source": [
    "#### **Progress Check 8.4:** Describe how you would use the table of random numbers to take"
   ]
  },
  {
   "cell_type": "markdown",
   "id": "95cb88a1-1509-4536-993f-f360cd263b62",
   "metadata": {
    "tags": []
   },
   "source": [
    "Ignore the repeat appearances and the first column. <br>\n",
    "(a) a random sample of five statistics students in a classroom where each of nine rows consists of nine seats. <br>\n",
    "Consult each number in the table one by one, from left to right, top down. Take the first digit in a number to identify the row, the digit after that to identify the position of the student in the row. Repeat the process until all five students have been selected. <br>\n",
    "(b) a random sample of size 40 from a large directory consisting of 3041 pages, with 480 lines per page. <br>\n",
    "Select every other numbers in the table, starting from the first one, and take the first four digits to identify the pages. The other numbers that lie in between are used to identify the lines in each page by taking the first three digits."
   ]
  },
  {
   "cell_type": "markdown",
   "id": "ada56fe8-c4de-4006-890f-c8c357948a51",
   "metadata": {},
   "source": [
    "#### **A Complication: No Population Directory**\n",
    "- In case the population directory is not <i>conveniently</i> available at the time of conducting surveys, any attempts to obtain samples' directory should also be conduct in a random manner, to ensure the randomness of the whole process."
   ]
  },
  {
   "cell_type": "markdown",
   "id": "3b907e95-14c3-49dd-83da-af5bb06cc87a",
   "metadata": {},
   "source": [
    "#### **Hypothetical Populations:**\n",
    "- Samples taken from hypothetical populations are not considered random (since each sample in the population does not have an equal chance of being selected), rather, to ensure the randomness, one would need to construct an additional experiment, so that random assignment could play a role in reducing the effect of special chances in the investigation."
   ]
  },
  {
   "cell_type": "markdown",
   "id": "d240dbb8-39f9-4ad9-9f73-562785aa882b",
   "metadata": {
    "jp-MarkdownHeadingCollapsed": true,
    "tags": []
   },
   "source": [
    "### **8.5. RANDOM ASSIGNMENT OF OBJECTS** "
   ]
  },
  {
   "cell_type": "markdown",
   "id": "c7a97891-7d33-43e2-88be-eceb3265cf96",
   "metadata": {},
   "source": [
    "- Definition:\n",
    "    + Random Assignment: a procedure designed to ensure that each subject has an equal chance of being assigned to any group in an experiment."
   ]
  },
  {
   "cell_type": "markdown",
   "id": "703c9111-2c56-444d-8401-4cc9076186b6",
   "metadata": {},
   "source": [
    "#### **How to Assign Subjects:**\n",
    "- In short, to determine which group a subject will be assigned to, take advantage of a random generator."
   ]
  },
  {
   "cell_type": "markdown",
   "id": "c90005ee-d213-422d-adc2-a6cc7fb5f120",
   "metadata": {},
   "source": [
    "#### **Creating Equal Groups:**\n",
    "- To ensure that the two groups have equal number of subjects, after the group for a subject has been determined, the next one should be assigned automatically to the other group."
   ]
  },
  {
   "cell_type": "markdown",
   "id": "8e1fbe52-4b42-40fa-a827-2fa159593633",
   "metadata": {},
   "source": [
    "#### **More Extensive Sets of Random Numebrs:**"
   ]
  },
  {
   "cell_type": "markdown",
   "id": "85febe74-2934-471b-b85a-392cb35b4da4",
   "metadata": {
    "tags": []
   },
   "source": [
    "#### **Progress Check 8.5:** Assume that 12 subjects arrive, one at a time, to participate in an experiment. Use random numbers to assign these subjects in equal numbers to group A and group B. Specifically, random numbers should be used to identify the first subject as either A or B, the second subject as either A or B, and so forth, until all subjects have been identified. There should be six subjects identified with A and six with B."
   ]
  },
  {
   "cell_type": "markdown",
   "id": "4bba7ee5-0496-4538-9853-52700e7b3716",
   "metadata": {},
   "source": [
    "(a) Formulate an acceptable rule for single-digit random numbers. Incorporate into this rule a procedure that will ensure equal numbers of subjects in the two groups. Check your answer in Appendix B before proceeding. <br>\n",
    "Consult the random numbers table at an abitrary place, from there on, read from left to right, top down. The first and every other subject will be assigned to a group using the random numbers taken from the table, even numbers stand for group A, odd numbers stand for group B. The next subjects next to the ones that have been assigned will be put into a different group. Repeat the process until the two groups have been equally filled with a total of 12 subjects.<br>\n",
    "(b) Reading from left to right in the top row of the random number page (Table H, Appendix C), use the random digits of each random number in conjunction with your assignment rule to determine whether the first subject is A or B, and so forth. List the assignment for each subject. <br>\n",
    "|Subject|Random Number|Assignment Rule|\n",
    "| --- | --- | --- |\n",
    "|1|Odd|Group B|\n",
    "|2|-|Automatically A|\n",
    "|3|Odd|Group B|\n",
    "|4|-|Automatically A|\n",
    "|5|Even|Group A|\n",
    "|6|-|Automatically B|\n",
    "|7|Even|Group A|\n",
    "|8|-|Automatically B|\n",
    "|9|Odd|Group B|\n",
    "|10|-|Automatically A|\n",
    "|11|Even|Group A|\n",
    "|12|-|Automatically B|"
   ]
  },
  {
   "cell_type": "markdown",
   "id": "bcf6e476-a390-4063-a8d0-b3d129bc4df6",
   "metadata": {
    "jp-MarkdownHeadingCollapsed": true,
    "tags": []
   },
   "source": [
    "### **8.6. SURVEYS OR EXPERIMENTS** "
   ]
  },
  {
   "cell_type": "markdown",
   "id": "1ddd28cf-2bcc-493d-85e4-534b966d1dae",
   "metadata": {},
   "source": [
    "#### **Reminder**:\n",
    "- Random Sampling occurs in well-designed surveys, and Random Assignment occurs in well-designed experiments."
   ]
  },
  {
   "cell_type": "markdown",
   "id": "eaad3204-9632-4d27-ae89-6e65ebe3f914",
   "metadata": {
    "tags": []
   },
   "source": [
    "## **PART II: PROBABILITY**"
   ]
  },
  {
   "cell_type": "markdown",
   "id": "3ac986e2-5d6f-4f06-aaa2-2ca548505926",
   "metadata": {
    "jp-MarkdownHeadingCollapsed": true,
    "tags": []
   },
   "source": [
    "### **8.7. DEFINITION** "
   ]
  },
  {
   "cell_type": "markdown",
   "id": "f78a7339-41f3-4994-bf72-a40ffe579847",
   "metadata": {},
   "source": [
    "- Definition: \n",
    "    + Probability: refers to the proportion or fraction of times that a particular event is likely to occur."
   ]
  },
  {
   "cell_type": "markdown",
   "id": "7ae224cf-92ea-42ed-a6e2-b9ce11582be6",
   "metadata": {},
   "source": [
    "#### **Probability Distribution of Heights:**\n",
    "- Probabilities of events can be calculated using a theoretical formula: <br><br>\n",
    "<center>$\\Large P(A) = \\frac{Number\\, of\\, favorable\\, outcomes}{Total\\, number\\, of\\, possible\\, outcomes}$</center>\n",
    "<br>\n",
    "or derived from a distribution. <br>\n",
    "- Any probability in a distribution can take a value between 0 (impossible) and 1 (certain), however, the sum of all probabilites within a distribution always equals 1."
   ]
  },
  {
   "cell_type": "markdown",
   "id": "e3ac6600-7c3f-4872-a394-ab37bd63219f",
   "metadata": {},
   "source": [
    "#### **Probability of Complex Events:**\n",
    "- The probabilites of more complex events can be calculated, using the addition and multiplication rules, introduced in the following sections."
   ]
  },
  {
   "cell_type": "markdown",
   "id": "f2e2e251-e5a0-4cf5-acbc-05d558fce24d",
   "metadata": {
    "jp-MarkdownHeadingCollapsed": true,
    "tags": []
   },
   "source": [
    "### **8.8. ADDITION RULE** "
   ]
  },
  {
   "cell_type": "markdown",
   "id": "4af65f12-c642-4bf0-8f38-5a5cf7e2d23d",
   "metadata": {},
   "source": [
    "- Definition:\n",
    "    + Addition Rule: given multiple events, the addition rule for probabilities is used to compute the probability that at least one of the events will occur.\n",
    "- The general probabilities addtion formula: <br><br>\n",
    "<center>$\\Large P(A\\, or\\, B) = P(A) + P(B) - P(A \\cap B)$</center>"
   ]
  },
  {
   "cell_type": "markdown",
   "id": "770ec868-6f0d-4656-8c1b-b1f7bb0bf31f",
   "metadata": {},
   "source": [
    "#### **Mutually Exclusive Events**\n",
    "- Definition:\n",
    "    + Mutually Exclusive Events: the events that cannot occur together.\n",
    "- Addition Rule for Mutually Exclusive Events: <br><br>\n",
    "<center>$\\Large P(A\\, or\\, B) = P(A) + P(B)$</center>\n",
    "<br>\n",
    "- Complement Probability: since the total probability of all events always equals 1, to find the probability of event B, given a known probability of event A <br><br>\n",
    "<center>$\\Large P(B) = 1 - P(A)$</center>"
   ]
  },
  {
   "cell_type": "markdown",
   "id": "794f1883-3ac8-4c7c-8670-b79575d3cd53",
   "metadata": {
    "jp-MarkdownHeadingCollapsed": true,
    "tags": []
   },
   "source": [
    "#### **When Events Aren't Mutually Exclusive**\n",
    "- If there exists an intersection between the probabilities of multiple events, it must be excluded for the addtion rule to work properly."
   ]
  },
  {
   "cell_type": "code",
   "execution_count": 95,
   "id": "ccbc9d01-4e21-438d-8a41-112f633fde7c",
   "metadata": {
    "jp-MarkdownHeadingCollapsed": true,
    "tags": []
   },
   "outputs": [
    {
     "data": {
      "image/png": "[encoded data removed]",
      "text/plain": [
       "<Figure size 432x288 with 1 Axes>"
      ]
     },
     "metadata": {
      "needs_background": "light"
     },
     "output_type": "display_data"
    }
   ],
   "source": [
    "t = np.linspace(0, 2*np.pi, 1000)\n",
    "\n",
    "fig = plt.figure()\n",
    "ax = plt.axes()\n",
    "\n",
    "# Plot two circles and place texts inside each\n",
    "ax.plot(np.cos(t), np.sin(t), linewidth=1)\n",
    "ax.text(-0.3, 0, s='A', fontdict={\"size\": \"20\"})\n",
    "ax.plot(np.cos(t) + 1.5, np.sin(t), linewidth=1)\n",
    "ax.text(1.8, 0, s='B', fontdict={\"size\": \"20\"})\n",
    "\n",
    "# Specify the intervals along x-axis and their\n",
    "# corresponding y-axis values to be shaded\n",
    "x = np.round(np.cos(t), decimals=2)\n",
    "interval_1 = np.nonzero((-1 <= interval) & (interval <= -0.75)) # indices of -1 <= cos(t) <= -0.75\n",
    "interval_2 = np.nonzero((0.75 <= interval) & (interval <= 1))   # indices of 0.75 <= cos(t) <= 1\n",
    "y1 = np.sin(t[interval_1])\n",
    "y2 = np.sin(t[interval_2])\n",
    "\n",
    "color = \"lightgray\"\n",
    "ax.fill_between(x[interval_1] + 1.5, y1, color=color)\n",
    "ax.fill_between(x[interval_2], y2, color=color)\n",
    "\n",
    "# Place a text in the intersection\n",
    "ax.text(0.675, -0.3, s=\"Intersection\",\n",
    "        fontdict={\"size\": \"10\",\n",
    "                  \"rotation\": -90})\n",
    "\n",
    "# Hide x and y axes\n",
    "ax.xaxis.set_visible(False)\n",
    "ax.yaxis.set_visible(False)\n",
    "\n",
    "ax.set_aspect(\"equal\")"
   ]
  },
  {
   "cell_type": "markdown",
   "id": "fbc53ca4-5e29-4fa9-9d2f-7f7641ba270c",
   "metadata": {},
   "source": [
    "#### **Progress Check 8.6:** Assuming that people are equally likely to be born during any one of the months, what is the probability of Jack being born during"
   ]
  },
  {
   "cell_type": "markdown",
   "id": "7802ef24-29ba-48bf-94ef-8e3896013a98",
   "metadata": {},
   "source": [
    "(a) June? <br>\n",
    "8 percent. <br>\n",
    "(b) any month other than June? <br>\n",
    "92 percent. <br>\n",
    "(c) either May or June? <br>\n",
    "16 percent."
   ]
  },
  {
   "cell_type": "markdown",
   "id": "aa60618c-73be-4e49-8ac5-9d39df14f0b5",
   "metadata": {
    "jp-MarkdownHeadingCollapsed": true,
    "tags": []
   },
   "source": [
    "### **8.9. MULTIPLICATION RULE** "
   ]
  },
  {
   "cell_type": "markdown",
   "id": "80a10d92-8c71-4582-97ce-b379889f7fe9",
   "metadata": {},
   "source": [
    "- Definition:\n",
    "    + Multiplication Rule: used to calculate the probability of the simultaneous occurence of two or more events."
   ]
  },
  {
   "cell_type": "markdown",
   "id": "6507c96b-79a5-4285-814a-a6a34827aff2",
   "metadata": {},
   "source": [
    "#### **Independent Events:**\n",
    "- The occurence of one event has no effect on the others.\n",
    "- Multiplication Rule for Independent Event: <br><br>\n",
    "<center>$\\Large P(A\\, and\\, B) = P(A).P(B)$</center>"
   ]
  },
  {
   "cell_type": "markdown",
   "id": "cdaac09b-382f-4805-8e59-8914065e3e4e",
   "metadata": {
    "tags": []
   },
   "source": [
    "#### **Progress Check 8.7:** Assuming that people are equally likely to be born during any of the months, and also assuming (possibly over the objections of astrology fans) that the birthdays of married couples are independent, what’s the probability of"
   ]
  },
  {
   "cell_type": "markdown",
   "id": "b62a1f79-11f9-46bc-a370-6628cef02a9e",
   "metadata": {},
   "source": [
    "(a) the husband being born during January and the wife being born during February? <br>\n",
    "$\\frac{1}{12} \\times \\frac{1}{12} = \\frac{1}{144}$ <br>\n",
    "(b) both husband and wife being born during December? <br>\n",
    "$\\frac{1}{12} \\times \\frac{1}{12} = \\frac{1}{144}$ <br>\n",
    "(c) both husband and wife being born during the spring (April or May)? (Hint: First, find the probability of just one person being born during April or May.) <br>\n",
    "$\\frac{2}{12} \\times \\frac{2}{12} = \\frac{1}{36}$ <br>"
   ]
  },
  {
   "cell_type": "markdown",
   "id": "14e74b8b-3ad2-475a-902c-1c1f00e80709",
   "metadata": {},
   "source": [
    "#### **Dependent Events:**\n",
    "- When events are dependent, that means there's a chain of occurences, each prior occurence of an event has some effect on the one that is succeeding it."
   ]
  },
  {
   "cell_type": "markdown",
   "id": "45efe8b8-e8ba-46ae-a0fb-259b4192f466",
   "metadata": {},
   "source": [
    "#### **Conditional Probabilities:**\n",
    "- The probability of the event that only occurs given another event has already occurred (in other words, one event is dependent of the other).\n",
    "- Conditional (Bayes) Probability Formula: <br><br>\n",
    "<center>$\\Large P(B|A) = \\frac{P(A|B).P(B)}{P(A)} = \\frac{P(A\\, \\cap \\,B)}{P(A)}$</center>"
   ]
  },
  {
   "cell_type": "markdown",
   "id": "90cd3b6d-3a5b-4f2e-9702-02002b2b4a0e",
   "metadata": {},
   "source": [
    "#### **Alternative Approach to Conditional Probabilities:**\n",
    "- As mentioned above, the dependent events suggest a chain of occurrences, in order to identify the conditional probability, an alternative approach is to draw a tree diagram, where each branch represents the occurence of an event, its probability and the event that it roots from."
   ]
  },
  {
   "cell_type": "markdown",
   "id": "e334d78f-cc72-434c-81aa-0989aa0db24c",
   "metadata": {
    "jp-MarkdownHeadingCollapsed": true,
    "tags": []
   },
   "source": [
    "#### **Progress Check 8.8:** Among 100 couples who had undergone marital counseling, 60 couples described their relationships as improved, and among this latter group, 45 couples had children. The remaining couples described their relationships as unimproved, and among this group, 5 couples had children. (Hint: Using a frequency analysis, begin with the 100 couples, first branch into the number of couples with improved and unimproved relationships, then under each of these numbers, branch into the number of couples with children and without children. Enter a number at each point of the diagram before proceeding.)"
   ]
  },
  {
   "cell_type": "markdown",
   "id": "11d4f92e-089b-4f18-8859-5c30193dc82d",
   "metadata": {},
   "source": [
    "(a) What is the probability of randomly selecting a couple who described their relationship as improved? <br>\n",
    "$\\frac{60}{100}$ = 60 percent. <br>\n",
    "(b) What is the probability of randomly selecting a couple with children? <br>\n",
    "$\\frac{50}{100}$ = 50 percent. <br>\n",
    "(c) What is the conditional probability of randomly selecting a couple with children, given that their relationship was described as improved? <br>\n",
    "$\\frac{45}{60}$ = 75 percent. <br>\n",
    "(d) What is the conditional probability of randomly selecting a couple without children, given that their relationship was described as not improved? <br>\n",
    "$\\frac{35}{40}$ = 87.5 percent. <br>\n",
    "(e) What is the conditional probability of an improved relationship, given that a couple has children? <br>\n",
    "$\\frac{45}{50}$ = 90 percent."
   ]
  },
  {
   "cell_type": "markdown",
   "id": "9a73a350-2e79-47e7-9f42-cc574aa5dff8",
   "metadata": {
    "jp-MarkdownHeadingCollapsed": true,
    "tags": []
   },
   "source": [
    "### **8.10. PROBABILITY AND STATISTICS** "
   ]
  },
  {
   "cell_type": "markdown",
   "id": "e9a92062-a772-4c0e-893c-641eb0f574b7",
   "metadata": {},
   "source": [
    "- Probability assumes a key role in Inferential Statistics.\n",
    "- Used in conjunction with other tools, such as the normal theoretical curve, probabilities are assigned to one observed mean difference. If the probability is small, the result is viewed as a rare outcome, and we can conclude that something real - that is, something that cannot be attributed to chance - has occurred. On the other hand, if the probability is not very small, then the result is viewed as a common outcome, and we conclude that something transitory - that is, something that can reasonably attributed to chance- has occurred."
   ]
  },
  {
   "cell_type": "markdown",
   "id": "96dbbeb5-0049-40aa-9aa0-5f308cbcc92d",
   "metadata": {},
   "source": [
    "#### **Common Outcomes:**\n",
    "- Common outcomes signify, most generally, a lack of evidence that something special has occurred. Therefore the observed difference (e.g. the mean difference) is not taken seriously because, in the language of statistics, it lacks statistical significance."
   ]
  },
  {
   "cell_type": "markdown",
   "id": "a63ca2bc-0bf2-4cab-9562-86d5fd0686d9",
   "metadata": {},
   "source": [
    "#### **Rare Outcomes:**\n",
    "- To the contrary, rare outcomes signify that something special has occurred. Therefore the observed difference should be taken seriously because it carries statistical significance. "
   ]
  },
  {
   "cell_type": "markdown",
   "id": "224c61cd-3e84-43dc-8778-31465effaedc",
   "metadata": {},
   "source": [
    "#### **Common or Rare:**\n",
    "- As an aid to determining whether observed result should be viewed as common or rare, statisticians interpret different proportions of area under theoretical curves as probabilities of random outcomes.\n",
    "- The consideration is explained as such, once variability is taken into account, if the probability of an event is still not small, then its occurrence is <i>common</i> or expected, otherwise, it is a rare outcome and has some significance, because the probability of occurrence is small, so that chances might not act as a factor in its occurrence at all."
   ]
  },
  {
   "cell_type": "markdown",
   "id": "8a9568d5-313f-4407-84d0-5579e37fd67a",
   "metadata": {},
   "source": [
    "#### **Progress Check 8.9:** Referring to the standard normal table (Table A, Appendix C), find the probability that a randomly selected z score will be"
   ]
  },
  {
   "cell_type": "markdown",
   "id": "754eb5ce-e6f6-410e-9806-ff736837cbdb",
   "metadata": {},
   "source": [
    "(a) above 1.96. <br>\n",
    "0.0250. <br>\n",
    "(b) either above 1.96 or below –1.96. <br>\n",
    "0.05. <br>\n",
    "(c) between –1.96 and 1.96. <br>\n",
    "0.95. <br>\n",
    "(d) either above 2.58 or below –2.58. <br>\n",
    "0.0098."
   ]
  },
  {
   "cell_type": "markdown",
   "id": "ba471b68-4688-423d-a436-06a53999bc38",
   "metadata": {},
   "source": [
    "## **REVIEW QUESTIONS**"
   ]
  },
  {
   "cell_type": "markdown",
   "id": "18f2b73c-3a38-481a-9916-a2c14b99cc1a",
   "metadata": {},
   "source": [
    "#### **8.10.** Television stations sometimes solicit feedback volunteered by viewers about a televised event. Following a televised debate between Barack Obama and Mitt Romney in the 2012 presidential election campaign, a TV station conducted a telephone poll to determine the “winner.” Callers were given two phone numbers, one for Obama and the other for Romney, to register their opinions automatically."
   ]
  },
  {
   "cell_type": "markdown",
   "id": "f50625f0-9e02-4068-a6ee-ce81b39c07b9",
   "metadata": {},
   "source": [
    "(a) Comment on whether or not this was a random sample. <br>\n",
    "This was not a random sample. The callers are just a subset of viewers of this particular TV station and cannot be the representative for all U.S. voters. <br>\n",
    "(b) How might this poll have been improved? <br>\n"
   ]
  },
  {
   "cell_type": "markdown",
   "id": "e59359b5-5455-4c04-a79b-d67b9126cdee",
   "metadata": {
    "jp-MarkdownHeadingCollapsed": true,
    "tags": []
   },
   "source": [
    "#### **8.11.** You want to take a random sample of 30 from a population described by telephone directory with a single telephone area code. Indicate whether or not each of the following selection techniques would be a random sample and, if not, why. Using the telephone directory,"
   ]
  },
  {
   "cell_type": "markdown",
   "id": "0d904a8d-6454-4c5f-8f70-96a609948b0b",
   "metadata": {},
   "source": [
    "(a) make 30 blind pencil stabs. <br>\n",
    "Yes. <br>\n",
    "(b) refer to tables of random numbers to determine the page and then the position of the selected person on that page. Repeat 30 times. <br>\n",
    "Yes. <br>\n",
    "(c) refer to tables of random numbers to find six-digit numbers that identify the page number and line on that page for each of 30 people.  <br>\n",
    "Yes. <br>\n",
    "(d) select 30 people haphazardly.  <br>\n",
    "No. Because not every sample has an equal chance of being selected, therefore, the result might not reflect the common outcome."
   ]
  },
  {
   "cell_type": "markdown",
   "id": "cde4e087-a5dc-4e61-8985-c61ba1952037",
   "metadata": {},
   "source": [
    "#### **8.12.** Indicate whether the following terms are associated with surveys (S) or experiments (E)."
   ]
  },
  {
   "cell_type": "markdown",
   "id": "8999f2ef-103c-484d-be77-2d37b7a1c1fc",
   "metadata": {},
   "source": [
    "(a) random sample <br>.\n",
    "S. <br>\n",
    "(b) two groups <br>\n",
    "E. <br>\n",
    "(c) real population <br>\n",
    "S. <br>\n",
    "(d) real difference <br>\n",
    "E. <br>\n",
    "(e) population directory <br>\n",
    "\n",
    "(f) digit dialing <br>\n",
    "(g) similar groups <br>\n",
    "(h) random assignment <br>\n",
    "(i) independent variable <br>"
   ]
  },
  {
   "cell_type": "markdown",
   "id": "8360b97b-ba2a-443d-b4a7-fe381bceb3df",
   "metadata": {},
   "source": [
    "#### ****"
   ]
  },
  {
   "cell_type": "markdown",
   "id": "349f2a55-cb5a-4908-9c3f-60b3c649d047",
   "metadata": {},
   "source": [
    "#### ****"
   ]
  },
  {
   "cell_type": "markdown",
   "id": "8e0d1110-cbdb-40b1-a392-8020833fcb7b",
   "metadata": {},
   "source": [
    "#### ****"
   ]
  },
  {
   "cell_type": "markdown",
   "id": "b965b617-2463-4963-bdae-6f7d6474a44b",
   "metadata": {},
   "source": [
    "#### ****"
   ]
  },
  {
   "cell_type": "markdown",
   "id": "61abad7f-2987-4855-bacf-ca72aec27f95",
   "metadata": {},
   "source": [
    "#### ****"
   ]
  },
  {
   "cell_type": "markdown",
   "id": "d4abbde6-e4a7-4547-8bb6-2cfd8b85898d",
   "metadata": {},
   "source": [
    "#### ****"
   ]
  },
  {
   "cell_type": "markdown",
   "id": "254caeeb-1eb9-46ea-aa75-2cd594f58fdd",
   "metadata": {},
   "source": [
    "#### ****"
   ]
  },
  {
   "cell_type": "markdown",
   "id": "7378c46b-5209-4c03-aa06-c07d7a733e1c",
   "metadata": {},
   "source": [
    "#### ****"
   ]
  }
 ],
 "metadata": {
  "kernelspec": {
   "display_name": "Python 3 (ipykernel)",
   "language": "python",
   "name": "python3"
  },
  "language_info": {
   "codemirror_mode": {
    "name": "ipython",
    "version": 3
   },
   "file_extension": ".py",
   "mimetype": "text/x-python",
   "name": "python",
   "nbconvert_exporter": "python",
   "pygments_lexer": "ipython3",
   "version": "3.10.4"
  }
 },
 "nbformat": 4,
 "nbformat_minor": 5
}
