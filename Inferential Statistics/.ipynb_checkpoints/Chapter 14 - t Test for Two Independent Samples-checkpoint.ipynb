{
 "cells": [
  {
   "cell_type": "code",
   "execution_count": 1,
   "id": "1b256e00-cc0c-41fe-ba5a-32d1c9e6e4db",
   "metadata": {},
   "outputs": [],
   "source": [
    "import numpy as np\n",
    "import os\n",
    "import sys\n",
    "\n",
    "sys.path.append(os.path.join(sys.path[0], os.path.pardir))\n",
    "\n",
    "import utils.HypothesisTest as HT\n",
    "import utils.CorrelationCoefficient as CC"
   ]
  },
  {
   "cell_type": "markdown",
   "id": "d57fcd26-dc3e-4e0a-b3a1-fa873e1b142f",
   "metadata": {
    "jp-MarkdownHeadingCollapsed": true,
    "tags": []
   },
   "source": [
    "### **14.1** EPO EXPERIMENT"
   ]
  },
  {
   "cell_type": "markdown",
   "id": "8c7b4ffb-fdec-429c-bb46-de1e1a1c085b",
   "metadata": {},
   "source": [
    "#### **Two Independent Samples**"
   ]
  },
  {
   "cell_type": "markdown",
   "id": "a1a027f3-f64f-4031-8012-d25eae1a6a4a",
   "metadata": {},
   "source": [
    "- Definition:\n",
    "    + Two Independent Samples: Observations in each sample are based on different (and unmatched) subjects."
   ]
  },
  {
   "cell_type": "markdown",
   "id": "5d144941-1dc5-46d5-b8b2-408dff74a583",
   "metadata": {},
   "source": [
    "#### **Two Populations**"
   ]
  },
  {
   "cell_type": "markdown",
   "id": "90b2fa9f-2fbd-4073-9e83-14c9f48c064a",
   "metadata": {},
   "source": [
    "- In such an experiment, where the sample size is limited, the populations can only be considered as hypothetical, thus requires caution for any generalizations that resulted from the experiment.\n",
    "- In order to assert the obtained generality, it will require additional experimentation."
   ]
  },
  {
   "cell_type": "markdown",
   "id": "bfd9e034-368c-49f7-80a1-ea9f7198c65e",
   "metadata": {},
   "source": [
    "#### **Difference between Population Means**"
   ]
  },
  {
   "cell_type": "markdown",
   "id": "a544bfce-2076-4e0e-b6eb-1fb23f3f6d01",
   "metadata": {},
   "source": [
    "- Definition:\n",
    "    + Effect: Any difference between the population means."
   ]
  },
  {
   "cell_type": "markdown",
   "id": "bb39719f-7bae-4bb3-9160-4348c2c95d06",
   "metadata": {},
   "source": [
    "- The value of the differences between observed means, if obtained as being:\n",
    "    + Negative: indicates that the treatment given to one group has a negative effect\n",
    "    + Zero: indicates that the treatment has no effect\n",
    "    + Positive: indicates that the treatment has a positive effect."
   ]
  },
  {
   "cell_type": "markdown",
   "id": "ee8fa64f-929c-47b2-beff-9eb72a90b32b",
   "metadata": {
    "jp-MarkdownHeadingCollapsed": true,
    "tags": []
   },
   "source": [
    "### **14.2** STATISTICAL HYPOTHESES"
   ]
  },
  {
   "cell_type": "markdown",
   "id": "835022f1-5189-4800-bc35-9d5659967990",
   "metadata": {},
   "source": [
    "#### **Null Hypothesis**"
   ]
  },
  {
   "cell_type": "markdown",
   "id": "0d08a228-b1eb-4336-8d5e-6141efbe2f9e",
   "metadata": {},
   "source": [
    "- Depend on the goal of an experiment, the null hypothesis may take one of the forms:\n",
    "    + Negative effect: $H_0: \\mu_1 - \\mu_2 \\ge 0$\n",
    "    + No effect: $H_0: \\mu_1 - \\mu_2 = 0$\n",
    "    + Positive effect: $H_0: \\mu_1 - \\mu_2 \\le 0$ <br>"
   ]
  },
  {
   "cell_type": "markdown",
   "id": "70c74a62-cc50-443b-9434-7aaba9e442e9",
   "metadata": {},
   "source": [
    "Where:\n",
    "+ $\\mu_1$: the mean score of the treatment group\n",
    "+ $\\mu_2$: the mean score of the control group"
   ]
  },
  {
   "cell_type": "markdown",
   "id": "c3d48756-1899-4e1d-adbc-a5291c327188",
   "metadata": {},
   "source": [
    "#### **Alternative (or Research) Hypothesis**"
   ]
  },
  {
   "cell_type": "markdown",
   "id": "0b162d79-fa72-459f-b903-c88b17a2edea",
   "metadata": {},
   "source": [
    "- In contrast to the null hypothesis, the alternative hypothesis will have a form, that is the complement of the null hypothesis, as followings:\n",
    "    + Negative effect: $H_1: \\mu_1 - \\mu_2 \\lt 0$\n",
    "    + No effect: $H_1: \\mu_1 - \\mu_2 \\neq 0$\n",
    "    + Positive effect: $H_1: \\mu_1 - \\mu_2 \\gt 0$"
   ]
  },
  {
   "cell_type": "markdown",
   "id": "271b29ae-58ea-4041-9df2-270e8c786383",
   "metadata": {
    "jp-MarkdownHeadingCollapsed": true,
    "tags": []
   },
   "source": [
    "#### **Progress Check 14.1** "
   ]
  },
  {
   "cell_type": "markdown",
   "id": "1a707456-543d-4dc0-a028-25f5f2c8fe2b",
   "metadata": {},
   "source": [
    "(a) <br>\n",
    "Research Problem: <br>\n",
    "$\\;\\;\\;\\;$Do the mean reading scores differ between the group that exposed to a special bilingual program and the other group that expoosed to a traditional reading program. <br>\n",
    "Statistical Hypotheses: <br>\n",
    "$\\;\\;\\;\\;$$H_0: \\mu_1 - \\mu_2 = 0$\n",
    "$\\;\\;\\;\\;$$H_1: \\mu_1 - \\mu_2 \\neq 0$"
   ]
  },
  {
   "cell_type": "markdown",
   "id": "486686ff-a2ad-44de-b133-f9e1a3057c30",
   "metadata": {},
   "source": [
    "(b) <br>\n",
    "$\\;\\;\\;\\;$$H_0: \\mu_1 - \\mu_2 \\le 0$\n",
    "$\\;\\;\\;\\;$$H_1: \\mu_1 - \\mu_2 \\gt 0$"
   ]
  },
  {
   "cell_type": "markdown",
   "id": "c037af73-e090-4dcd-8785-afbed2c246d7",
   "metadata": {},
   "source": [
    "(c) <br>\n",
    "$\\;\\;\\;\\;$$H_0: \\mu_1 - \\mu_2 \\ge 0$\n",
    "$\\;\\;\\;\\;$$H_1: \\mu_1 - \\mu_2 \\lt 0$"
   ]
  },
  {
   "cell_type": "markdown",
   "id": "9e0820d4-8047-4615-89cc-3d8061ab15ce",
   "metadata": {},
   "source": [
    "(d) <br>\n",
    "$\\;\\;\\;\\;$$H_0: \\mu_1 - \\mu_2 = 0$\n",
    "$\\;\\;\\;\\;$$H_1: \\mu_1 - \\mu_2 \\neq 0$"
   ]
  },
  {
   "cell_type": "markdown",
   "id": "881ce026-b8eb-4cf5-9a83-22999a42b11c",
   "metadata": {
    "jp-MarkdownHeadingCollapsed": true,
    "tags": []
   },
   "source": [
    "### **14.3** SAMPLING DISTRIBUTION OF $\\overline{X}_1 - \\overline{X}_2$"
   ]
  },
  {
   "cell_type": "markdown",
   "id": "915ab955-8266-49fe-b69e-b11456f1e970",
   "metadata": {},
   "source": [
    "- Definition:\n",
    "    + Sampling Distribution of $\\overline{X}_1 - \\overline{X}_2$: A distribution of the differences between sample means of all possible random samples from two underlying populations."
   ]
  },
  {
   "cell_type": "markdown",
   "id": "1fba9744-3db5-45fe-bb08-a5d72480a7bc",
   "metadata": {},
   "source": [
    "#### **Mean of the Sampling Distribution, $\\mu_{\\overline{X}_1 - \\overline{X}_2}$**"
   ]
  },
  {
   "cell_type": "markdown",
   "id": "7998d896-4823-48eb-a6db-289b557d05c4",
   "metadata": {},
   "source": [
    "- The mean of the sampling distribution of $\\overline{X}_1 - \\overline{X}_2$ is similar to that of sampling distribution of sample means, as introduced in chapter 9, that is: <br> <br>\n",
    "<center>$\\Large \\mu_{\\overline{X}_1 - \\overline{X}_2} = \\mu_1 - \\mu_2$"
   ]
  },
  {
   "cell_type": "markdown",
   "id": "30f06147-0abe-432c-83a0-9eda5785c645",
   "metadata": {
    "tags": []
   },
   "source": [
    "#### **Standard Error of the Sampling Distribution, $\\sigma_{\\overline{X}_1 - \\overline{X}_2}$**"
   ]
  },
  {
   "cell_type": "markdown",
   "id": "7ee4dead-1a86-4b29-929f-93c7d1a1c3be",
   "metadata": {},
   "source": [
    "- Definition:\n",
    "    + Standard Error of the Difference Between Means $\\sigma_{\\overline{X}_1 - \\overline{X}_2}$: A rough measure of the avarage amount by which any sample means difference deviates from the difference between population means."
   ]
  },
  {
   "cell_type": "markdown",
   "id": "b4cfbc8c-0fe3-42c5-80e9-c609edf174e1",
   "metadata": {},
   "source": [
    "- The standard deviation of the sampling distribution of $\\overline{X}_1 - \\overline{X}_2$ equals: <br><br>\n",
    "<center>$\\Large \\sigma_{\\overline{X}_1 - \\overline{X}_2} = \\sqrt{\\frac{{\\sigma_1}^2}{n_1} + \\frac{{\\sigma_2}^2}{n_2}}$"
   ]
  },
  {
   "cell_type": "markdown",
   "id": "310b969d-5f85-4a43-a56c-e8fc09189322",
   "metadata": {
    "jp-MarkdownHeadingCollapsed": true,
    "tags": []
   },
   "source": [
    "### **14.4** t TEST"
   ]
  },
  {
   "cell_type": "markdown",
   "id": "99894b26-450d-424b-97f6-4855b9e701a5",
   "metadata": {},
   "source": [
    "- Since the use of z test requires that the standard deviations of both populations are known, which is rare in practice, so that they must be estimated, thus leads to the application of t test."
   ]
  },
  {
   "cell_type": "markdown",
   "id": "743aa191-5121-4338-97c3-59f89b0409db",
   "metadata": {},
   "source": [
    "#### **t Ratio**"
   ]
  },
  {
   "cell_type": "markdown",
   "id": "5392074f-5dc0-4290-8465-2e36516bee6e",
   "metadata": {},
   "source": [
    "- The null hypothesis can be tested using a t ratio. Expressed in words, <br> <br>\n",
    "<center>$\\Large t = \\frac{\\text{difference between sample means}\\, -\\, \\text{hypothesized difference between population means}}{\\text{estimated standard error}}$ <br> <br>"
   ]
  },
  {
   "cell_type": "markdown",
   "id": "f4e481bc-4a14-448d-8f34-14f55f70168c",
   "metadata": {},
   "source": [
    "- Expressed in symbols,\n",
    "<center><b>t RATIO FOR TWO POPULATION MEANS (TWO INDEPENDENT SAMPLES)</b></center>\n",
    "<center>$\\Large t = \\frac{(\\overline{X}_1 - \\overline{X}_2)\\, -\\, (\\mu_1 - \\mu_2)_{\\text{hyp}}}{s_{\\overline{X}_1 - \\overline{X}_2}}$</center>"
   ]
  },
  {
   "cell_type": "markdown",
   "id": "c66074d8-ae38-43d2-9816-bb0a84b4790e",
   "metadata": {},
   "source": [
    "#### **Finding Critical t Values**"
   ]
  },
  {
   "cell_type": "markdown",
   "id": "21013eb2-b680-4e6f-920f-3f6ea64bb5b6",
   "metadata": {},
   "source": [
    "- Because there are two independent samples that originate from two different distribution involved, the degrees of freedom for this t test is df = $n_1$ + $n_2$ - 2, and is used to consult the same table as in previous chapter."
   ]
  },
  {
   "cell_type": "markdown",
   "id": "b1d11d26-064b-4e4f-a7e0-995c9db21790",
   "metadata": {
    "jp-MarkdownHeadingCollapsed": true,
    "tags": []
   },
   "source": [
    "#### **Progress Check 14.2** "
   ]
  },
  {
   "cell_type": "markdown",
   "id": "aa4135b3-e5ff-4f41-8bbc-b8a1a58a8049",
   "metadata": {},
   "source": [
    "(a) df = 12 + 11 - 2 = 21. <br>\n",
    "t = 2.080."
   ]
  },
  {
   "cell_type": "markdown",
   "id": "da94594f-83ec-4b69-a412-03109104a566",
   "metadata": {},
   "source": [
    "(b) df = 15 + 13 - 2 = 26. <br>\n",
    "t = 1.706."
   ]
  },
  {
   "cell_type": "markdown",
   "id": "6674b781-751d-4b40-ba9a-2a5d392766da",
   "metadata": {},
   "source": [
    "(c) df = 25 + 25 - 2 = 48. <br>\n",
    "t = -2.423."
   ]
  },
  {
   "cell_type": "markdown",
   "id": "de26c6a4-36d1-452a-bdd0-12ccb08c6ebe",
   "metadata": {},
   "source": [
    "(d) df = 8 + 10 - 2 = 16. <br>\n",
    "t = 2.921."
   ]
  },
  {
   "cell_type": "markdown",
   "id": "8336ce11-fb9b-4291-91ff-44d86484e289",
   "metadata": {},
   "source": [
    "#### **Summary for EPO Experiment**"
   ]
  },
  {
   "cell_type": "markdown",
   "id": "568257d6-ceba-43da-affb-7d75c6f78ae0",
   "metadata": {
    "jp-MarkdownHeadingCollapsed": true,
    "tags": []
   },
   "source": [
    "### **14.5** DETAILS: CALCULATIONS FOR THE t TEST"
   ]
  },
  {
   "cell_type": "markdown",
   "id": "d8127d13-33c5-49f4-a23e-b253b069d936",
   "metadata": {
    "tags": []
   },
   "source": [
    "#### **Pooled Variance Estimate, ${s_p}^2$**"
   ]
  },
  {
   "cell_type": "markdown",
   "id": "f63eb245-0a3d-4fb9-968f-c480c7d13f1f",
   "metadata": {
    "tags": []
   },
   "source": [
    "- Definition:\n",
    "    + The most accurate estimate of the population variance (assumed to be the same for both populations) based on a combination of two sums of squares and their degrees of freedom."
   ]
  },
  {
   "cell_type": "markdown",
   "id": "2cb1c815-60c5-4824-8d8e-2032d8b7b764",
   "metadata": {},
   "source": [
    "<center><b>POOLED VARIANCE ESTIMATE ${s_p}^2$</b></center> <br>\n",
    "<center>$\\Large {s_p}^2 = \\frac{SS_1 + SS_2}{df} = \\frac{SS_1 + SS_2}{n_1 + n_2 - 2}$</center>"
   ]
  },
  {
   "cell_type": "markdown",
   "id": "0080432b-71b3-4dad-8aa8-d119328abfc7",
   "metadata": {},
   "source": [
    "#### **Estimated Standard Error, $s_{\\overline{X}_1 - \\overline{X}_2}$**"
   ]
  },
  {
   "cell_type": "markdown",
   "id": "54056574-c175-4164-9741-4fda77a0c94a",
   "metadata": {},
   "source": [
    "- Definition:\n",
    "    + The standard deviation of the sampling distribution for the difference between means whenever unknown variance common for both populations must be estimated."
   ]
  },
  {
   "cell_type": "markdown",
   "id": "e510a1a6-1164-4672-ba83-0dd1c6fa7966",
   "metadata": {},
   "source": [
    "<center><b>ESTIMATED STANDARD ERROR, $s_{\\overline{X}_1 - \\overline{X}_2}$</b></center> <br>\n",
    "<center>$\\Large s_{\\overline{X}_1 - \\overline{X}_2} = \\sqrt{\\frac{{s_p}^2}{n_1} + \\frac{{s_p}^2}{n_2}}$</center>"
   ]
  },
  {
   "cell_type": "markdown",
   "id": "d88bd5ff-9d23-4dfb-b8e2-4cbb1ccb3d95",
   "metadata": {
    "jp-MarkdownHeadingCollapsed": true,
    "tags": []
   },
   "source": [
    "#### **Progress Check 14.3**"
   ]
  },
  {
   "cell_type": "code",
   "execution_count": 2,
   "id": "599c3e2d-a5bd-47d1-84fc-0c339c7b19bc",
   "metadata": {},
   "outputs": [],
   "source": [
    "diff_group = [5, 20, 7, 23, 30, 24, 9, 8, 20, 12]\n",
    "easy_group = [13, 6, 6, 5, 3, 6, 10, 20, 9, 12]"
   ]
  },
  {
   "cell_type": "code",
   "execution_count": 3,
   "id": "ab8b2154-fff7-48f5-9614-de86fd4ce56d",
   "metadata": {},
   "outputs": [
    {
     "data": {
      "text/plain": [
       "2.152"
      ]
     },
     "execution_count": 3,
     "metadata": {},
     "output_type": "execute_result"
    }
   ],
   "source": [
    "estimated_stderror = HT.estimated_stderror(data=[diff_group, easy_group], sample_size=[10, 10], test_type=\"2 independent samples\")\n",
    "diffgroup_mean = np.mean(diff_group)\n",
    "easygroup_mean = np.mean(easy_group)\n",
    "tscore = HT.calc_tscore(diffgroup_mean - easygroup_mean, 0, estimated_stderror)\n",
    "tscore"
   ]
  },
  {
   "cell_type": "markdown",
   "id": "285c8afd-3505-48bb-9cd2-21e3a874b491",
   "metadata": {
    "jp-MarkdownHeadingCollapsed": true,
    "tags": []
   },
   "source": [
    "### **14.6** p-VALUES"
   ]
  },
  {
   "cell_type": "markdown",
   "id": "1bd4fa7c-92b4-4282-87c1-4beb72eeb393",
   "metadata": {},
   "source": [
    "- Definition:\n",
    "    + p-Value: The degree of rarity of the result, given that the null hypothesis is true, smaller p-values tend to discredit the null hypothesis and to support the research hypothesis."
   ]
  },
  {
   "cell_type": "markdown",
   "id": "9e55a0fd-e00c-4838-805e-5f6cb1c7e4ab",
   "metadata": {},
   "source": [
    "#### **Finding Approximate p-Values**"
   ]
  },
  {
   "cell_type": "markdown",
   "id": "55f75ba7-1942-4f33-afed-37979ba70a4b",
   "metadata": {
    "jp-MarkdownHeadingCollapsed": true,
    "tags": []
   },
   "source": [
    "#### **Progress Check 14.4**"
   ]
  },
  {
   "cell_type": "markdown",
   "id": "35e63e17-d0e8-4296-8688-bb923dd56247",
   "metadata": {},
   "source": [
    "(a) p < 0.001"
   ]
  },
  {
   "cell_type": "markdown",
   "id": "32a57aa4-6b52-4ea6-a085-21fba233622b",
   "metadata": {},
   "source": [
    "(b) p < 0.05"
   ]
  },
  {
   "cell_type": "markdown",
   "id": "0621252e-2d12-4e59-8e54-7a3a893c75e9",
   "metadata": {},
   "source": [
    "(c) p < 0.01"
   ]
  },
  {
   "cell_type": "markdown",
   "id": "19609d74-d29b-4bef-b8da-ed27bbdcdd58",
   "metadata": {},
   "source": [
    "(d) p > 0.05"
   ]
  },
  {
   "cell_type": "markdown",
   "id": "b138fff7-3caf-4c08-8346-5456ea3ae37e",
   "metadata": {},
   "source": [
    "(e) p > 0.05"
   ]
  },
  {
   "cell_type": "markdown",
   "id": "a6e48eec-1a8a-4861-b46b-2118e809b80d",
   "metadata": {},
   "source": [
    "#### **Reading p-Values Reported by Others**"
   ]
  },
  {
   "cell_type": "markdown",
   "id": "022d5d4c-0ce5-4533-9ff4-7015001b40b5",
   "metadata": {
    "jp-MarkdownHeadingCollapsed": true,
    "tags": []
   },
   "source": [
    "#### **Evaluation of the p-Value Approach**"
   ]
  },
  {
   "cell_type": "markdown",
   "id": "72a282df-4bdc-463a-ae3e-7296b1619866",
   "metadata": {},
   "source": [
    "- Advantage:\n",
    "    + Provides some support for the research hypothesis even when the observed t value is slightly less deviant than the critical t value for some level of significance.\n",
    "- Disadvantage:\n",
    "    + The decision to reject or to retain the null hypothesis is ambiguous.\n",
    "    + There is no acknowledgement of either type I or type II error, therefore, the statistical hypotheses narrow down to only 2 possible outcomes, those are a false null hypothesis or a true one."
   ]
  },
  {
   "cell_type": "markdown",
   "id": "f5e91aec-e3e1-459c-9f9f-ce9caf3f6407",
   "metadata": {},
   "source": [
    "#### **Level of Significance of p-Value?**"
   ]
  },
  {
   "cell_type": "markdown",
   "id": "ed179349-77c0-4708-8e4b-b0cf41cc2e1a",
   "metadata": {
    "jp-MarkdownHeadingCollapsed": true,
    "tags": []
   },
   "source": [
    "#### **Progress Check 14.5**"
   ]
  },
  {
   "cell_type": "markdown",
   "id": "fb394843-c2ac-4e13-b530-3336c6a07076",
   "metadata": {},
   "source": [
    "$(a_2)\\, (b_1)\\, (c_2)\\, (d_1)\\, (e_2)$"
   ]
  },
  {
   "cell_type": "markdown",
   "id": "f7235119-e1cf-4f91-9921-ac7a2e73a0c1",
   "metadata": {
    "jp-MarkdownHeadingCollapsed": true,
    "tags": []
   },
   "source": [
    "#### **Progress Check 14.6**"
   ]
  },
  {
   "cell_type": "markdown",
   "id": "5dbceebd-afae-45bd-a66f-56ddca556728",
   "metadata": {},
   "source": [
    "$(a_2)\\, (b_1)\\, (c_2)\\, (e_2)$"
   ]
  },
  {
   "cell_type": "markdown",
   "id": "d1705019-0014-4c05-9eb3-27bb9e55959c",
   "metadata": {
    "jp-MarkdownHeadingCollapsed": true,
    "tags": []
   },
   "source": [
    "### **14.7** STATISTICALLY SIGNIFICANT RESULTS"
   ]
  },
  {
   "cell_type": "markdown",
   "id": "9c011e7b-3a03-4232-9be3-2a4425bb97c5",
   "metadata": {},
   "source": [
    "- Essentially, <i>rejecting the null hypothesis</i> and <i>statistically significant</i> indicate the same result, that is, the observed difference cannot be attributable to chance because the probability is too low.\n",
    "- However:\n",
    "    + <i>Rejecting the null hypothesis</i>: refers to the population.\n",
    "    + <i>Statistically significant</i>: refers to the sample."
   ]
  },
  {
   "cell_type": "markdown",
   "id": "9d460baa-9594-44fb-a25c-d9b3a05c1e13",
   "metadata": {},
   "source": [
    "- Definition:\n",
    "    + Statistical Significance: Implies only that the null hypothesis is probably false, not whether it's false because of a large or small difference between population means.\n",
    "- So that statistical significance does not imply the size nor the importance of the effect."
   ]
  },
  {
   "cell_type": "markdown",
   "id": "78643b22-448b-44b5-927c-530d68bcb47e",
   "metadata": {},
   "source": [
    "#### **Beware of Excessively Large Sample Sizes**"
   ]
  },
  {
   "cell_type": "markdown",
   "id": "6fc3bd29-0a6f-4c5c-b42f-aba0b988e563",
   "metadata": {},
   "source": [
    "- A large sample size will increase the precision of the observed result, thus also increases the probability of detecting even a small, yet unimportant effect. Therefore, before conducting any hypothesis test, the investigator should always consult different tools to determine the sample sizes and the probability that is associated with each of them, and decide a threshold for the least degree of effect to be considered important. "
   ]
  },
  {
   "cell_type": "markdown",
   "id": "e26ee907-8779-4c46-94d2-a6c179b8dc3a",
   "metadata": {},
   "source": [
    "#### **Avoid an Erroneous Conditional Probability**"
   ]
  },
  {
   "cell_type": "markdown",
   "id": "e7547c41-02d6-4669-a589-f13c2199da90",
   "metadata": {},
   "source": [
    "- To reject the null hypothesis at, for example, the 0.05 level of significance is to signify that:\n",
    "    + First, the null hypothesis is assumed to be true, that is, the observable means from a test are centered about the hypothesized population mean.\n",
    "    + Then, after we find the actual value for the observed mean, we consult the hypothesized distribution and conclude that the probability for such a mean to occur is $\\le 0.05$, or it is only 5% likely to occur.\n",
    "    + Since the probability is too low, we suspect that the observed mean may not originate from the hypothesized distribution but from an unknown true population distribution.\n",
    "    + Finally, we come to the conclusion that there's a real effect that cannot be attributable to chance, or variability.\n",
    "- The whole procedure does not imply anyhow, about the probability of $H_0$ being either true or false."
   ]
  },
  {
   "cell_type": "markdown",
   "id": "188ca4f2-bcc6-4d42-be26-65a0422a0ca7",
   "metadata": {
    "jp-MarkdownHeadingCollapsed": true,
    "tags": []
   },
   "source": [
    "### **14.8** ESTIMATING EFFECT SIZE: POINT ESTIMATES AND CONFIDENCE INTERVALS"
   ]
  },
  {
   "cell_type": "markdown",
   "id": "3c02368c-7f4c-4375-9bfc-6bb4bdafe3c7",
   "metadata": {},
   "source": [
    "#### **Point Estimate ($\\overline{X}_1 - \\overline{X}_2$)**"
   ]
  },
  {
   "cell_type": "markdown",
   "id": "a6478c67-d1d4-4386-8c51-c8829b9c8d49",
   "metadata": {
    "jp-MarkdownHeadingCollapsed": true,
    "tags": []
   },
   "source": [
    "#### **Confidence Interval**"
   ]
  },
  {
   "cell_type": "markdown",
   "id": "6f9ef0d6-7bad-412f-858a-df588b4248e4",
   "metadata": {},
   "source": [
    "- Definition:\n",
    "    + Confidence Intervals for $\\mu_1 - \\mu_2$: The ranges of values that, in the long run, include the true unknown effect (difference between population means) a certain percent (depends on the particular levels of significance) of the time."
   ]
  },
  {
   "cell_type": "markdown",
   "id": "d08cc4e2-deeb-48f1-bb47-d74d019a7e8c",
   "metadata": {},
   "source": [
    "<center><b>CONFIDENCE INTERVAL (CI) FOR $\\mu_1 - \\mu_2$ (TWO INDEPENDENT SAMPLES)</b></center>\n",
    "<center>$\\Large \\overline{X}_1 - \\overline{X}_2 \\pm (t_{\\text{conf}})(s_{\\overline{X}_1 - \\overline{X}_2})$</center>"
   ]
  },
  {
   "cell_type": "markdown",
   "id": "64b466ad-6c53-4c0d-886e-80685a460df8",
   "metadata": {},
   "source": [
    "#### **Interpreting Confidence Intervals for $\\mu_1 - \\mu_2$**"
   ]
  },
  {
   "cell_type": "markdown",
   "id": "45211777-b281-49f5-b845-b29b0bf41979",
   "metadata": {},
   "source": [
    "- Key point: \n",
    "    + The signs of the limits (upper and lower) are particularly important, since they indicate the direction of the difference between the two population means, which eventually affects the test decision.\n",
    "    + A single interpretation is possible only if the two limits of the confidence interval for $\\mu_1 - \\mu_2$ share the same signs, either both positive or negative.\n",
    "    + Besides these points, any confidence interval can be interpreted similarly to that introduced in chapter 12."
   ]
  },
  {
   "cell_type": "markdown",
   "id": "5d0e6dee-7e89-4687-adbe-9e98b0ed11cc",
   "metadata": {
    "jp-MarkdownHeadingCollapsed": true,
    "tags": []
   },
   "source": [
    "#### **Progress Check 14.7**"
   ]
  },
  {
   "cell_type": "markdown",
   "id": "7d98c114-6ddb-431b-87f1-c3e2a25d0608",
   "metadata": {},
   "source": [
    "(a) CI 2"
   ]
  },
  {
   "cell_type": "markdown",
   "id": "18c3014b-b7b2-4e6f-af2b-2c9a0e866c4c",
   "metadata": {},
   "source": [
    "(b) CI 2"
   ]
  },
  {
   "cell_type": "markdown",
   "id": "21acfb9b-dc5d-41d3-8ffd-606df42411de",
   "metadata": {},
   "source": [
    "(c) CI 3"
   ]
  },
  {
   "cell_type": "markdown",
   "id": "db04f223-915f-45fa-a6a7-724547f8076c",
   "metadata": {},
   "source": [
    "(d) CI 1"
   ]
  },
  {
   "cell_type": "markdown",
   "id": "8f5efedf-3f32-4e36-b481-6529df8fbc0e",
   "metadata": {
    "jp-MarkdownHeadingCollapsed": true,
    "tags": []
   },
   "source": [
    "### **14.9** ESTIMATING EFFECT SIZE: COHEN'S d"
   ]
  },
  {
   "cell_type": "markdown",
   "id": "ac5137a0-c847-46c0-9e5b-631eaf4737ab",
   "metadata": {},
   "source": [
    "- Definition:\n",
    "    + Standardized Effect Estimate, Cohen's d: Describes effect size by expressing the observed mean difference in standard deviation units."
   ]
  },
  {
   "cell_type": "markdown",
   "id": "73001d56-44df-46a6-b0b1-c990a040829a",
   "metadata": {},
   "source": [
    "<center><b>STANDARDIZED EFFECT SIZE, COHEN'S d (TWO INDEPENDENT SAMPLES)</b></center>\n",
    "<center>$\\Large d = \\frac{\\text{mean difference}}{\\text{standard deviation}} = \\frac{\\overline{X}_1 - \\overline{X}_2}{\\sqrt{{s_p}^2}}$</center>"
   ]
  },
  {
   "cell_type": "markdown",
   "id": "e0579b82-87f0-4b07-b46a-2d61d5a3cc8b",
   "metadata": {},
   "source": [
    "- Advantages:\n",
    "    + Provides a stable frame of reference that is not influenced by the sample sizes.\n",
    "    + Disregard the units of measurement so that different d's can be compared against one another."
   ]
  },
  {
   "cell_type": "markdown",
   "id": "d39034ea-85f1-442b-9726-0fd5e8709367",
   "metadata": {},
   "source": [
    "#### **Cohen's Guidelines for d**"
   ]
  },
  {
   "cell_type": "markdown",
   "id": "ab76f6a6-16c3-4091-a288-96f8b867e4bb",
   "metadata": {},
   "source": [
    "- Guidelines: the effect size is considered\n",
    "    + Small: if it's less than or in the vicinity of 0.20 - or one-fifth of a standard deviation.\n",
    "    + Medium: if it's in the vicinity 0.50 - or one-half of a standard deviation.\n",
    "    + Large: if it's more than or in the vicinity of 0.80 - or four-fifths of a standard deviation."
   ]
  },
  {
   "attachments": {
    "cf3d8186-c1b3-4e4f-81b8-8f8726d0803a.png": {
     "image/png": "[encoded data removed]"
    }
   },
   "cell_type": "markdown",
   "id": "69739d9c-5a68-475e-a298-9387e1da3197",
   "metadata": {},
   "source": [
    "- Illustrations of Cohen's d based on two normal distributions: <br>\n",
    "![image.png](attachment:cf3d8186-c1b3-4e4f-81b8-8f8726d0803a.png)"
   ]
  },
  {
   "cell_type": "markdown",
   "id": "f673160b-198c-4e73-b1b4-4559c4297cfa",
   "metadata": {},
   "source": [
    "- Remark:\n",
    "    + To really evaluate the effect size as either small, medium or large, an investigator should always take the context into consideration rather than counting on simply the given proportion."
   ]
  },
  {
   "cell_type": "markdown",
   "id": "9a7936ae-c434-4307-b27f-f49e2bbd1b7f",
   "metadata": {
    "jp-MarkdownHeadingCollapsed": true,
    "tags": []
   },
   "source": [
    "### **14.10** META-ANALYSIS"
   ]
  },
  {
   "cell_type": "markdown",
   "id": "013d2f1e-b7bb-4379-8384-1abb21ff0828",
   "metadata": {},
   "source": [
    "- Definition:\n",
    "    + Meta-analysis: a set of data-collecting and statistical procedures designed to summarize the various effects reported by groups of similar studies."
   ]
  },
  {
   "cell_type": "markdown",
   "id": "06e97095-cf1e-4732-8501-6c599fd4cc60",
   "metadata": {},
   "source": [
    "### **14.11** IMPORTANCE OF REPLICATION"
   ]
  },
  {
   "cell_type": "markdown",
   "id": "71aa0c3d-7a51-498a-b5b5-21fc9c3f09dd",
   "metadata": {
    "jp-MarkdownHeadingCollapsed": true,
    "tags": []
   },
   "source": [
    "### **14.12** REPORTS IN THE LITERATURE"
   ]
  },
  {
   "cell_type": "markdown",
   "id": "8e5f6904-2809-41c0-8d1b-438b5a140189",
   "metadata": {},
   "source": [
    "#### **Progress Check 14.8** "
   ]
  },
  {
   "cell_type": "code",
   "execution_count": 4,
   "id": "a7710ea4-6f6d-4c0d-a8e7-b150b6258ebd",
   "metadata": {},
   "outputs": [
    {
     "data": {
      "text/plain": [
       "0.96"
      ]
     },
     "execution_count": 4,
     "metadata": {},
     "output_type": "execute_result"
    }
   ],
   "source": [
    "# (a):\n",
    "HT.calc_cohensd(15.8, 9.0, 7.06**2)"
   ]
  },
  {
   "cell_type": "markdown",
   "id": "16f3d14a-c9fc-42b3-aa57-73d7f883324f",
   "metadata": {},
   "source": [
    "(b) The average required time for solving the same puzzle of the group receiving \"difficult\" instructions (M = 15.8, SD = 8.64) significantly exceeds that of the group receiving \"easy\" instructions (M = 9.0, SD = 5.01), according to a t test [t(18) = 2.15, p < 0.05 and d = 0.96]"
   ]
  },
  {
   "cell_type": "markdown",
   "id": "de7659bd-8460-4114-997f-ce8b55947166",
   "metadata": {
    "jp-MarkdownHeadingCollapsed": true,
    "tags": []
   },
   "source": [
    "### **14.13** ASSUMPTIONS"
   ]
  },
  {
   "cell_type": "markdown",
   "id": "c1707979-ed0a-4aae-8874-30d0237700e4",
   "metadata": {},
   "source": [
    "- Whether testing a hypothesis or constructing a confidence interval, t assumes that both underlying populations are normally distributed with equal variances.\n",
    "- In the event that there are conspicuous departures from normality or equality of variances in the data for the two groups, consider the following possibilities:\n",
    "    + Increase sample sizes to minimize the effect of any non-normality\n",
    "    + Equate sample sizes to minimize the effect of unequal population variances\n",
    "    + Use a slightly less sensitive, more complex version of t designed for unequal variances\n",
    "    + Use a less sensitive but more assumption-free test, such as the Mann-Whitney U test."
   ]
  },
  {
   "cell_type": "markdown",
   "id": "88e1df7b-43d1-4ac3-9971-5584ec5dcd32",
   "metadata": {},
   "source": [
    "### **14.14** COMPUTER OUTPUT"
   ]
  },
  {
   "cell_type": "markdown",
   "id": "8d622b35-0dda-4e2c-81bb-01cbb6dada4b",
   "metadata": {},
   "source": [
    "#### **Progress Check 14.9**"
   ]
  },
  {
   "cell_type": "markdown",
   "id": "0b73b7a4-4142-431a-8f7e-82cebf3ae126",
   "metadata": {},
   "source": [
    "(a) The result of equal variances t should be reported. Why?"
   ]
  },
  {
   "cell_type": "markdown",
   "id": "1930ca79-ae2a-4ec8-b45c-798618912533",
   "metadata": {},
   "source": [
    "(b)"
   ]
  },
  {
   "cell_type": "markdown",
   "id": "2733423c-a987-44bc-9681-a2f9188f7499",
   "metadata": {},
   "source": [
    "### **Review Questions**"
   ]
  },
  {
   "cell_type": "markdown",
   "id": "4d0caf12-af49-49db-af2d-83475ede2df1",
   "metadata": {
    "jp-MarkdownHeadingCollapsed": true,
    "tags": []
   },
   "source": [
    "#### **14.10** "
   ]
  },
  {
   "cell_type": "markdown",
   "id": "6a50948f-d485-4254-b8a2-4de5681ea5c4",
   "metadata": {},
   "source": [
    "(a) The difference between the groups in experiment B is likely to be viewed as real due to the lower variability. And because,"
   ]
  },
  {
   "cell_type": "code",
   "execution_count": null,
   "id": "e3a9d5a5-458c-4fe2-beab-3e838ef33b49",
   "metadata": {},
   "outputs": [],
   "source": [
    "control_gr1 = [10, 10, 10, 10, 10, 9, 11]\n",
    "treatment_gr1 = [11, 12, 12, 12, 12, 12, 13]\n",
    "estimated_stderror1 = HT.estimated_stderror([control_gr1, treatment_gr1], [7, 7], \"2 samples\")\n",
    "t_ratio1 = (2 - 0) / estimated_stderror1\n",
    "t_ratio1"
   ]
  },
  {
   "cell_type": "code",
   "execution_count": 19,
   "id": "2ba20e51-0925-42d5-a1c7-bfd16abbbffe",
   "metadata": {},
   "outputs": [
    {
     "data": {
      "text/plain": [
       "1.9607843137254901"
      ]
     },
     "execution_count": 19,
     "metadata": {},
     "output_type": "execute_result"
    }
   ],
   "source": [
    "control_gr2 = [7, 9, 9, 10, 11, 11, 13]\n",
    "treatment_gr2 = [9, 11, 11, 12, 13, 13, 15]\n",
    "estimated_stderror2 = HT.estimated_stderror([control_gr2, treatment_gr2], [7, 7], \"2 samples\")\n",
    "t_ratio2 = (2 - 0) / estimated_stderror2\n",
    "t_ratio2"
   ]
  },
  {
   "cell_type": "markdown",
   "id": "1d9f4fa8-aab4-478c-ba55-18294155837a",
   "metadata": {},
   "source": [
    "(b) <br>\n",
    "Statistical Hypotheses: <br>\n",
    "$\\;\\;\\;\\;$$H_0: \\mu_1 - \\mu_2 = 0$ <br>\n",
    "$\\;\\;\\;\\;$$H_1: \\mu_1 - \\mu_2 \\neq 0$ <br>\n",
    "Decision Rule: <br>\n",
    "$\\;\\;\\;\\;$Reject $H_0$ at the 0.05 level of significance if $t \\ge 2.179$ or $t \\le -2.179$ given df = 14 - 2 = 12 <br>.\n",
    "Calculation <br>\n",
    "$\\;\\;\\;\\;$$s_{\\overline{X}_1 - \\overline{X}_2} = 0.31$ <br> <br>\n",
    "$\\;\\;\\;\\;$$t = \\frac{2 - 0}{0.31} = 6.45$ <br>\n",
    "Decision <br>\n",
    "$\\;\\;\\;\\;$Reject $H_0$ because $t = 6.45$, which is greater than 2.179. <br>\n",
    "Conclusion <br>\n",
    "$\\;\\;\\;\\;$Population means differ for experiment B."
   ]
  },
  {
   "cell_type": "markdown",
   "id": "9fae8dfa-8066-49d9-8293-c6e033accd0a",
   "metadata": {},
   "source": [
    "(c) t = 1.96, therefore, $H_0$ is rejected because it is 2.179."
   ]
  },
  {
   "cell_type": "markdown",
   "id": "cf0ce288-c183-4684-94b1-1184e0370a5a",
   "metadata": {},
   "source": [
    "(d) Experiment B: p < 0.001. <br>\n",
    "Experiment C: p > 0.05. <br>"
   ]
  },
  {
   "cell_type": "markdown",
   "id": "63436c9a-f732-4fbe-84e6-efcdc5c5e7f6",
   "metadata": {},
   "source": [
    "(e) Based on the result, the mean difference in experiment B can be viewed as being statistically significant, therefore, real. On the other hand, the observed difference in experiment C can only be considered as merely transitory."
   ]
  },
  {
   "cell_type": "markdown",
   "id": "0ab39c4a-a047-49d8-af89-c2237641e43b",
   "metadata": {},
   "source": [
    "(f)"
   ]
  },
  {
   "cell_type": "code",
   "execution_count": 21,
   "id": "ad4e12b9-a46c-4f6e-8cfa-bedca654f362",
   "metadata": {},
   "outputs": [
    {
     "data": {
      "text/plain": [
       "6.0"
      ]
     },
     "execution_count": 21,
     "metadata": {},
     "output_type": "execute_result"
    }
   ],
   "source": [
    "HT.calc_cohensd(12, 10, HT.pooled_variance(*[control_gr1, treatment_gr1], 12)**2)"
   ]
  },
  {
   "cell_type": "markdown",
   "id": "f3297f08-e3af-4a1d-82a1-f6f9a8aa3a4b",
   "metadata": {
    "jp-MarkdownHeadingCollapsed": true,
    "tags": []
   },
   "source": [
    "#### **14.11**"
   ]
  },
  {
   "cell_type": "code",
   "execution_count": 29,
   "id": "04aec291-a91e-48ad-a4e4-cca914585c44",
   "metadata": {},
   "outputs": [],
   "source": [
    "def calc_tscore(data):\n",
    "    length = list()\n",
    "    means = list()\n",
    "    for each_set in data:\n",
    "        length.append(len(each_set))\n",
    "        means.append(np.mean(each_set))\n",
    "        \n",
    "    estimated_stderror = HT.estimated_stderror(data, length, \"2 samples\")\n",
    "    \n",
    "    return (means[0] - means[1]) / estimated_stderror "
   ]
  },
  {
   "cell_type": "code",
   "execution_count": 30,
   "id": "c9214008-d486-48c1-8017-523b6038d89d",
   "metadata": {},
   "outputs": [
    {
     "data": {
      "text/plain": [
       "0.6628787878787881"
      ]
     },
     "execution_count": 30,
     "metadata": {},
     "output_type": "execute_result"
    }
   ],
   "source": [
    "treatment_gr = [2, 5, 20, 15, 4, 10]\n",
    "control_gr = [3, 8, 7, 10, 14, 0]\n",
    "calc_tscore([treatment_gr, control_gr])"
   ]
  },
  {
   "cell_type": "markdown",
   "id": "0d32d2d3-d1de-4af6-8124-44205ab9e265",
   "metadata": {},
   "source": [
    "t = 0.66. <br>\n",
    "Retain the null hypothesis (that there exists none of the so call \"committee atmosphere\" on compliance) because t is less than 2.228."
   ]
  },
  {
   "cell_type": "markdown",
   "id": "3ba42217-6a9d-4b2c-b009-ab43d8e580d9",
   "metadata": {
    "jp-MarkdownHeadingCollapsed": true,
    "tags": []
   },
   "source": [
    "#### **14.12**"
   ]
  },
  {
   "cell_type": "markdown",
   "id": "f3e5a0ec-7bc6-4aa5-9e23-5666d395a0b3",
   "metadata": {},
   "source": [
    "(a) t = 1.11 is less than the critical value 1.671. Therefore, the null hypothesis is retained."
   ]
  },
  {
   "cell_type": "markdown",
   "id": "a1176b72-5792-4c43-b72a-06dac82aff32",
   "metadata": {},
   "source": [
    "(b) Not appropriate."
   ]
  },
  {
   "cell_type": "markdown",
   "id": "2575532e-b9d5-452e-9332-08e93b38299a",
   "metadata": {
    "jp-MarkdownHeadingCollapsed": true,
    "tags": []
   },
   "source": [
    "#### **14.13**"
   ]
  },
  {
   "cell_type": "code",
   "execution_count": 10,
   "id": "e642fb2c-ffb2-4c81-8e31-f68cea7023ff",
   "metadata": {},
   "outputs": [],
   "source": [
    "import utils.HypothesisTest as HT\n",
    "import utils.ConfidenceInterval as CI"
   ]
  },
  {
   "cell_type": "markdown",
   "id": "1345764f-1c99-4288-b6d0-893c6ff1d80b",
   "metadata": {},
   "source": [
    "(a) t = 3.067. <br>\n",
    "Reject the null hypothesis because t = 3.067, which is greater than the critical value of 2.042 at the 0.05 level of significance. <br>\n",
    "There's evidence that, on average, the grading policy of letter grades does have positive effect on the achievement score over the pass/fail grading policy."
   ]
  },
  {
   "cell_type": "code",
   "execution_count": null,
   "id": "bc1d2721-dbd0-4c94-b0ea-3a6c935a09fd",
   "metadata": {},
   "outputs": [],
   "source": [
    "t = HT.calc_tscore(86.2 - 81.6, 0, 1.5)\n",
    "t"
   ]
  },
  {
   "cell_type": "markdown",
   "id": "90c4d3b2-37fc-4fcd-a07c-dd94a4d65c8f",
   "metadata": {},
   "source": [
    "(b) The decision to reject the null hypothesis will still be made, however, the interpretation will be stated with the same meaning, but under a different form of: \"There's evidence that, on average, the grading policy of simple pass/fail has a negative effect on the achievement score over the one of letter grades\"."
   ]
  },
  {
   "cell_type": "markdown",
   "id": "661d0e3f-a37f-498b-abbc-4beb2dc9f8a7",
   "metadata": {},
   "source": [
    "(c) Because of self-selection, groups might differ with respect to any one or several uncontrolled variables, such as motivation, aptitude, and so on, in addition to the difference in grading policy. Hence, any observed difference between the mean achievement scores cannot be solely attributed to the difference in grading policy."
   ]
  },
  {
   "cell_type": "markdown",
   "id": "f0927808-1813-450f-9452-4097d9d520ef",
   "metadata": {},
   "source": [
    "(d) p < 0.01"
   ]
  },
  {
   "cell_type": "markdown",
   "id": "bb794aa9-0efc-4a65-9cfd-f5e812204d4c",
   "metadata": {},
   "source": [
    "(e)"
   ]
  },
  {
   "cell_type": "code",
   "execution_count": 7,
   "id": "34de6d62-712e-4c1b-88b3-6f38393f84d2",
   "metadata": {},
   "outputs": [
    {
     "data": {
      "text/plain": [
       "0.92"
      ]
     },
     "execution_count": 7,
     "metadata": {},
     "output_type": "execute_result"
    }
   ],
   "source": [
    "d = HT.calc_cohensd(86.2, 81.6, 5**2)\n",
    "d"
   ]
  },
  {
   "cell_type": "markdown",
   "id": "71bee9dd-5a7b-4b79-a215-5d458b181016",
   "metadata": {},
   "source": [
    "(f) The achievement scores for the group receiving letters grading policy (M = 86.2, SD = 5.39) and that receiving pass/fail grading policy (M = 81.6, SD = 4.58) differed significantly [t(38) = 2.042, p < 0.01 and d = 0.92]"
   ]
  },
  {
   "cell_type": "markdown",
   "id": "7606dd16-da98-455a-aa22-8e43f8a95538",
   "metadata": {
    "jp-MarkdownHeadingCollapsed": true,
    "tags": []
   },
   "source": [
    "#### **14.14**"
   ]
  },
  {
   "cell_type": "markdown",
   "id": "144eab25-5085-4ed2-987f-638829955707",
   "metadata": {},
   "source": [
    "(a) t = 3.25. <br>\n",
    "Reject the null hypothesis because t exceeds the critical value of 1.980. <br>\n",
    "There's evidence that drinking alcohol does affect the performance of drivers."
   ]
  },
  {
   "cell_type": "code",
   "execution_count": 8,
   "id": "61f99198-aa0f-4ad6-860b-7d850ec71c05",
   "metadata": {},
   "outputs": [
    {
     "data": {
      "text/plain": [
       "3.25"
      ]
     },
     "execution_count": 8,
     "metadata": {},
     "output_type": "execute_result"
    }
   ],
   "source": [
    "t = HT.calc_tscore(26.4 - 18.6, 0, 2.4)\n",
    "t"
   ]
  },
  {
   "cell_type": "markdown",
   "id": "667ba15e-47be-4b87-9654-4e8dbd4efb4a",
   "metadata": {},
   "source": [
    "(b) p < 0.01"
   ]
  },
  {
   "cell_type": "markdown",
   "id": "7684d728-c502-4866-a5b4-2577ad7fda74",
   "metadata": {},
   "source": [
    "(c) CI = [3.05, 12.55]. <br>\n",
    "Interpretation: we can claim with 95% confidence that the mean difference of performance scores between drivers in treatment and control groups is included in the inverval."
   ]
  },
  {
   "cell_type": "code",
   "execution_count": 11,
   "id": "734d7b28-9c7a-44a1-a3ac-590e06da6279",
   "metadata": {},
   "outputs": [
    {
     "data": {
      "text/plain": [
       "array([ 3.05, 12.55])"
      ]
     },
     "execution_count": 11,
     "metadata": {},
     "output_type": "execute_result"
    }
   ],
   "source": [
    "CI.confidence_interval(26.4 - 18.6, 1.980, 2.4)"
   ]
  },
  {
   "cell_type": "markdown",
   "id": "da310be8-67d2-4e77-acf4-f75cc2ffae98",
   "metadata": {},
   "source": [
    "(d) d = 0.59"
   ]
  },
  {
   "cell_type": "code",
   "execution_count": 13,
   "id": "94dcc0fd-a9b3-43fc-bd7f-f2cb3bcde794",
   "metadata": {},
   "outputs": [
    {
     "data": {
      "text/plain": [
       "0.59"
      ]
     },
     "execution_count": 13,
     "metadata": {},
     "output_type": "execute_result"
    }
   ],
   "source": [
    "d = HT.calc_cohensd(26.4, 18.6, 13.15**2)\n",
    "d"
   ]
  },
  {
   "cell_type": "markdown",
   "id": "c5de0964-20c6-4593-85d6-3ad8ccdf5896",
   "metadata": {},
   "source": [
    "(e) The average performance scores between the drivers who drink alcohol (M = 26.4, SD = 13.99) and who do not (M = 18.6, SD = 12.15) before taking a driving simulator differed significantly, according to a t test [t(120) = 1.980, p < 0.01 and d = 0.59]."
   ]
  },
  {
   "cell_type": "markdown",
   "id": "610b7836-b011-4e73-8548-c3eb7cb99f4a",
   "metadata": {},
   "source": [
    "#### **14.15**"
   ]
  },
  {
   "cell_type": "markdown",
   "id": "66a3f296-2e68-472f-b55c-db4a42c0e805",
   "metadata": {},
   "source": [
    "#### **14.16**"
   ]
  },
  {
   "cell_type": "markdown",
   "id": "0f385177-4cce-4c36-bedf-724674ba888d",
   "metadata": {},
   "source": [
    "#### **14.17**"
   ]
  },
  {
   "cell_type": "markdown",
   "id": "be8b4c8a-0355-4a45-9017-0acea9f02082",
   "metadata": {},
   "source": [
    "#### **14.18**"
   ]
  },
  {
   "cell_type": "code",
   "execution_count": null,
   "id": "0877e45e-d206-4daf-953e-8c38e468cbf6",
   "metadata": {},
   "outputs": [],
   "source": []
  }
 ],
 "metadata": {
  "kernelspec": {
   "display_name": "Python 3 (ipykernel)",
   "language": "python",
   "name": "python3"
  },
  "language_info": {
   "codemirror_mode": {
    "name": "ipython",
    "version": 3
   },
   "file_extension": ".py",
   "mimetype": "text/x-python",
   "name": "python",
   "nbconvert_exporter": "python",
   "pygments_lexer": "ipython3",
   "version": "3.10.4"
  }
 },
 "nbformat": 4,
 "nbformat_minor": 5
}
