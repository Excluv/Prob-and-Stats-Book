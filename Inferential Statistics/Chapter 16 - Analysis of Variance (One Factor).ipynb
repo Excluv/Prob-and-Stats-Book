{
 "cells": [
  {
   "cell_type": "markdown",
   "id": "2f499c2d-3b68-4f15-b36f-ed97d0626615",
   "metadata": {
    "jp-MarkdownHeadingCollapsed": true,
    "tags": []
   },
   "source": [
    "### **16.1** TESTING A HYPOTHESIS ABOUT SLEEP DEPRIVATION AND AGGRESSION"
   ]
  },
  {
   "cell_type": "markdown",
   "id": "63411275-b7ec-4a9d-aa04-a45e57506878",
   "metadata": {},
   "source": [
    "#### **Statistical Hypotheses**"
   ]
  },
  {
   "cell_type": "markdown",
   "id": "03bd431f-bfc5-4233-8694-321b254858e4",
   "metadata": {},
   "source": [
    "- The null hypothesis: $H_0: \\mu_1 = \\mu_2 = \\mu_3$.\n",
    "\n",
    "Where: 1, 2, 3 are the numerical symbols of the three populations of subjects that are being experimented.\n",
    "- The alternative or research hypothesis: $H_1: H_0\\; \\text{is false}$."
   ]
  },
  {
   "cell_type": "markdown",
   "id": "7b368084-63f5-440e-a825-fe8750013b19",
   "metadata": {},
   "source": [
    "#### **New Test for More than Two Population Means**"
   ]
  },
  {
   "cell_type": "markdown",
   "id": "3716a0a7-1e9b-4e2f-92ba-d176570ea917",
   "metadata": {},
   "source": [
    "- Definition:\n",
    "    + Analysis of Variance (ANOVA): An overall test of the null hypothesis for more than two population means."
   ]
  },
  {
   "cell_type": "markdown",
   "id": "4080b9b9-4f40-41c6-adfb-2893028c2fc4",
   "metadata": {},
   "source": [
    "#### **One-Factor ANOVA**"
   ]
  },
  {
   "cell_type": "markdown",
   "id": "ea8e309a-d106-4002-b7b9-c70974fc3774",
   "metadata": {},
   "source": [
    "- Definition: \n",
    "    + The simplest type of ANOVA that tests for differences among population means catergorized by only one independent variable."
   ]
  },
  {
   "cell_type": "markdown",
   "id": "a71269f6-d63c-41c0-a2c3-c01fa3514576",
   "metadata": {},
   "source": [
    "#### **Two Possible Outcomes**"
   ]
  },
  {
   "cell_type": "markdown",
   "id": "c87015f8-5448-40d6-93f3-d8a834e18d03",
   "metadata": {},
   "source": [
    "#### **Mean Differences Still Important**"
   ]
  },
  {
   "cell_type": "markdown",
   "id": "ccc9ec91-94f9-409b-8bbf-2293146e6e6e",
   "metadata": {
    "jp-MarkdownHeadingCollapsed": true,
    "tags": []
   },
   "source": [
    "### **16.2** TWO SOURCES OF VARIABILITY"
   ]
  },
  {
   "cell_type": "markdown",
   "id": "2c726975-e318-4e0f-9f03-7f36f8ca1a8a",
   "metadata": {},
   "source": [
    "#### **Differences between Group Means**"
   ]
  },
  {
   "cell_type": "markdown",
   "id": "8502cc17-0c5a-4086-9eb9-28cc3028b4a6",
   "metadata": {},
   "source": [
    "- Definition:\n",
    "    + Treatment Effect: The existence of at least one difference between the population means."
   ]
  },
  {
   "cell_type": "markdown",
   "id": "de88d7ed-3a18-4694-a586-eeebb88b69f9",
   "metadata": {},
   "source": [
    "#### **Variability within Groups**"
   ]
  },
  {
   "cell_type": "markdown",
   "id": "8e8df141-8424-44db-a2f1-667ae660beee",
   "metadata": {},
   "source": [
    "- Definition:\n",
    "    + Variability between Groups: Variability among scores of subjects who, being in different groups, receive different experimental treatments.\n",
    "    + Variability within Groups: Variability among scores of subjects who, being in the same group, receive the same experimental treatment."
   ]
  },
  {
   "cell_type": "markdown",
   "id": "48fefa1a-67a3-491c-89c3-8af4b1165d01",
   "metadata": {},
   "source": [
    "- Key point:\n",
    "    + The variability within groups depends entirely on the scores of subjects treated similarly, therefore, never reflects the presence of a treatment effect.\n",
    "    + Regardless of whether the null hypothesis is true or false, the variability with groups reflects only <b>random errors</b> - that is, the combined effects on the scores of individual subjects of all uncontrolled variables.\n",
    "    + In ANOVA, the within-group estimate is often referred to as simply the <i>error term</i>, and it is analogous to the pooled variance estimate ${s_p}^2$ found in t test for two independent samples."
   ]
  },
  {
   "cell_type": "markdown",
   "id": "8821f54d-dc50-4d6d-9cd6-ea4404d0d12d",
   "metadata": {
    "jp-MarkdownHeadingCollapsed": true,
    "tags": []
   },
   "source": [
    "#### **Progress Check 16.1**"
   ]
  },
  {
   "cell_type": "markdown",
   "id": "fcae7bac-3387-47a3-b664-af0e0cc221d7",
   "metadata": {},
   "source": [
    "(a) No variability within group or between groups."
   ]
  },
  {
   "cell_type": "markdown",
   "id": "11e9de22-1da8-412f-87e5-af74a7836d6d",
   "metadata": {},
   "source": [
    "(b) No variability within groups. There's variability between groups."
   ]
  },
  {
   "cell_type": "markdown",
   "id": "0bdbcf54-a4b7-47d5-a31c-8e523602d091",
   "metadata": {},
   "source": [
    "(c) There's variability within group. No variability between groups."
   ]
  },
  {
   "cell_type": "markdown",
   "id": "941e62a3-693b-4a0b-930c-17bd58d9befa",
   "metadata": {},
   "source": [
    "(d) There's variabilities both within group and between groups."
   ]
  },
  {
   "cell_type": "markdown",
   "id": "3d013825-eb7a-48dc-8800-96dc270de7fc",
   "metadata": {
    "jp-MarkdownHeadingCollapsed": true,
    "tags": []
   },
   "source": [
    "### **16.3** F TEST"
   ]
  },
  {
   "cell_type": "markdown",
   "id": "adc08c60-d956-4c92-a962-a04bc63e225e",
   "metadata": {},
   "source": [
    "<center><b>F RATIO</b></center> <br>\n",
    "<center>$\\Large F = \\frac{\\text{variability between groups}}{\\text{variability within group}}$</center>"
   ]
  },
  {
   "cell_type": "markdown",
   "id": "cdea38de-4677-41f8-98ff-dfe3009d2ff8",
   "metadata": {},
   "source": [
    "- An F test of the null hypothesis is based on the notion that if the null hypothesis is true, both the numerator and the denominator would tend to be the about the same, but if the null hypothesis is false, then the numerator would tend to be larger than the denominator."
   ]
  },
  {
   "cell_type": "markdown",
   "id": "3b525282-a9bd-4c0c-b7f5-ca3bc539d051",
   "metadata": {},
   "source": [
    "#### **If Null Hypothesis Is True**"
   ]
  },
  {
   "cell_type": "markdown",
   "id": "c3fd3487-4e3f-423a-844a-f43f7f55c44c",
   "metadata": {},
   "source": [
    "<center>$\\Large F = \\frac{\\text{random error}}{\\text{random error}}$</center>"
   ]
  },
  {
   "cell_type": "markdown",
   "id": "2c3fda8d-794f-4493-9c63-2c14b0965a0e",
   "metadata": {},
   "source": [
    "#### **If Null Hypothesis Is False**"
   ]
  },
  {
   "cell_type": "markdown",
   "id": "68e12616-7d00-4a8c-929e-47921ac83622",
   "metadata": {},
   "source": [
    "<center>$\\Large F = \\frac{\\text{random error + treatment effect}}{\\text{random error}}$</center>"
   ]
  },
  {
   "cell_type": "markdown",
   "id": "27a745f1-1b4f-4979-836b-fe14e7ccd8ee",
   "metadata": {},
   "source": [
    "#### **Progress Check 16.2**"
   ]
  },
  {
   "cell_type": "markdown",
   "id": "98861ab8-6cd2-4f3c-b555-6af5721a506a",
   "metadata": {},
   "source": [
    "(a) random error. <br>\n",
    "(b) treatment effect. <br>\n",
    "(c) 1. <br>"
   ]
  },
  {
   "cell_type": "markdown",
   "id": "248cdc14-6524-4ab1-afd2-d95525981ebe",
   "metadata": {},
   "source": [
    "#### **When Status of Null Hypothesis Is Unknown**"
   ]
  },
  {
   "cell_type": "markdown",
   "id": "bf86bc97-383e-42e8-9351-4905485234b1",
   "metadata": {
    "jp-MarkdownHeadingCollapsed": true,
    "tags": []
   },
   "source": [
    "#### **Test Results for Outcomes A and B**"
   ]
  },
  {
   "cell_type": "markdown",
   "id": "e3e9cf26-b79b-4fdf-a705-c72504e9d278",
   "metadata": {
    "jp-MarkdownHeadingCollapsed": true,
    "tags": []
   },
   "source": [
    "### **16.4** DETAILS: VARIANCE ESTIMATES"
   ]
  },
  {
   "cell_type": "markdown",
   "id": "4bc00704-e77d-46b4-90a4-d6a737e1da9e",
   "metadata": {
    "tags": []
   },
   "source": [
    "#### **Mean Square**"
   ]
  },
  {
   "cell_type": "markdown",
   "id": "c2db04b0-7ebd-4644-9882-8ff3a32d497e",
   "metadata": {},
   "source": [
    "- Definition:\n",
    "    + A variance estimate in ANOVA, obtained by dividing a sum of squares by its degress of freedom."
   ]
  },
  {
   "cell_type": "markdown",
   "id": "4eb80eee-cc35-4d6e-8589-b7aa488bf620",
   "metadata": {},
   "source": [
    "<center><b>MEAN SQUARE: GENERAL EXPRESSION</b></center> <br>\n",
    "<center>$\\Large \\text{MS} = \\frac{\\text{SS}}{\\text{df}}$"
   ]
  },
  {
   "cell_type": "markdown",
   "id": "a5b6f2bb-678a-4f31-835b-f88f214f171b",
   "metadata": {
    "jp-MarkdownHeadingCollapsed": true,
    "tags": []
   },
   "source": [
    "#### **Sum of Squares (SS): Definitional Formulas**"
   ]
  },
  {
   "cell_type": "markdown",
   "id": "07ab1e79-72cc-4e1a-b60b-894d05a28661",
   "metadata": {},
   "source": [
    "- $\\Large SS_{total} = \\sum{(X - \\overline{X}_{grand})^2}$: the total squared deviations of all scores about the grand mean. <br><br>\n",
    "- $\\Large SS_{between} = n\\sum{(\\overline{X}_{group} - \\overline{X}_{grand})^2}$: the total squared deviations of group means about the grand mean. <br><br>\n",
    "- $\\Large SS_{within} = \\sum{(X - \\overline{X}_{group})^2}$: the pooled squared deviations of all scores about the group means, often called the <i>sum of squares for random error</i> and symbolized as $\\Large SS_{error}$."
   ]
  },
  {
   "cell_type": "markdown",
   "id": "0610a4d0-eac5-41ec-bc47-50feacd85c8b",
   "metadata": {},
   "source": [
    "#### **Sum of Squares (SS): Computation Formulas**"
   ]
  },
  {
   "cell_type": "markdown",
   "id": "1651d76e-10b4-4264-ba47-06b361cf2e62",
   "metadata": {},
   "source": [
    "#### **Checking Computational Accuracy**"
   ]
  },
  {
   "cell_type": "markdown",
   "id": "6b1233b3-bf47-4dff-9a1e-4f0022d070f9",
   "metadata": {},
   "source": [
    "<center><b>SUM OF SQUARES (ONE FACTOR)</b></center> <br>\n",
    "<center>$\\Large SS_{total} = SS_{between} + SS_{within}$</center>"
   ]
  },
  {
   "cell_type": "markdown",
   "id": "7105cb5f-5b4e-4da4-9907-d743e16fe3f1",
   "metadata": {
    "tags": []
   },
   "source": [
    "#### **Degrees of Freedom**"
   ]
  },
  {
   "cell_type": "markdown",
   "id": "7c0cc24a-d7c5-421f-a3f5-de721e71e982",
   "metadata": {},
   "source": [
    "- The degrees of freedom vary for different SS terms, those are:\n",
    "    + $\\text{df}_{total} = N - 1$, that is, the number of all scores - 1.\n",
    "    + $\\text{df}_{between} = k - 1$, that is, the number of groups - 1.\n",
    "    + $\\text{df}_{within} = N - k$, that is, the number of all scores - number of groups."
   ]
  },
  {
   "cell_type": "markdown",
   "id": "0935f62c-fc77-4df8-8a69-4e8c761ba481",
   "metadata": {},
   "source": [
    "#### **Checking for Accuracy**"
   ]
  },
  {
   "cell_type": "markdown",
   "id": "b8bc8726-f1f7-458b-9e9f-903c544d068a",
   "metadata": {},
   "source": [
    "<center><b>DEGREES OF FREEDOM (ONE FACTOR)</b></center> <br>\n",
    "<center>$\\Large \\text{df}_{total} = \\text{df}_{between} + \\text{df}_{within}$"
   ]
  },
  {
   "cell_type": "markdown",
   "id": "947eca71-8af4-43ca-b815-16311ab58f07",
   "metadata": {
    "jp-MarkdownHeadingCollapsed": true,
    "tags": []
   },
   "source": [
    "### **16.5** DETAILS: MEAN SQUARES (MS) AND THE $F$ RATIO"
   ]
  },
  {
   "cell_type": "markdown",
   "id": "5e43f7bf-8f7f-4e15-82ef-2fc0c528ad44",
   "metadata": {},
   "source": [
    "<center><b>MEAN SQUARES BETWEEN GROUPS</b></center> <br>\n",
    "<center>$\\Large \\text{MS}_{between} = \\frac{\\text{SS}_{between}}{\\text{df}_{between}}$"
   ]
  },
  {
   "cell_type": "markdown",
   "id": "9944be84-fd30-4565-802b-0280be2ee3ba",
   "metadata": {},
   "source": [
    "<center><b>MEAN SQUARES WITHIN GROUPS</b></center> <br>\n",
    "<center>$\\Large \\text{MS}_{within} = \\frac{\\text{SS}_{within}}{\\text{df}_{within}}$"
   ]
  },
  {
   "cell_type": "markdown",
   "id": "6d3b0048-cf53-4895-9410-8aef70baba39",
   "metadata": {},
   "source": [
    "<center><b>F RATIO (ONE FACTOR)</b></center> <br>\n",
    "<center>$\\Large F = \\frac{\\text{MS}_{between}}{\\text{MS}_{within}}$"
   ]
  },
  {
   "cell_type": "markdown",
   "id": "5866b3e8-0d38-43cd-be24-66a0e8485b63",
   "metadata": {
    "jp-MarkdownHeadingCollapsed": true,
    "tags": []
   },
   "source": [
    "### **16.6** TABLE FOR $F$ DISTRIBUTION"
   ]
  },
  {
   "cell_type": "markdown",
   "id": "39a53051-48f5-4196-9226-fa77aa9150b2",
   "metadata": {},
   "source": [
    "#### **Progress Check 16.3**"
   ]
  },
  {
   "cell_type": "markdown",
   "id": "5576bdb1-fa49-4c5b-9efd-27ea339c3de1",
   "metadata": {},
   "source": [
    "(a) 4.41"
   ]
  },
  {
   "cell_type": "markdown",
   "id": "e3bb05c9-0ae0-4fd3-9ba0-c6c5623ddbac",
   "metadata": {},
   "source": [
    "(b) 4.16"
   ]
  },
  {
   "cell_type": "markdown",
   "id": "54703d1a-f3df-4843-a4ef-baf716ab2aa7",
   "metadata": {},
   "source": [
    "(c) 3.26"
   ]
  },
  {
   "cell_type": "markdown",
   "id": "1fa11910-ab52-4fac-9243-88e89e3c3e10",
   "metadata": {},
   "source": [
    "(d) 2.46"
   ]
  },
  {
   "cell_type": "markdown",
   "id": "8bd642e3-c05d-49c7-98aa-e4a9e376a611",
   "metadata": {},
   "source": [
    "#### **Finding Approximate p-Value**"
   ]
  },
  {
   "cell_type": "markdown",
   "id": "6c073fad-6964-4dc0-bcaf-c295fe016fea",
   "metadata": {},
   "source": [
    "#### **Progress Check 16.4**"
   ]
  },
  {
   "cell_type": "markdown",
   "id": "17c6801f-50db-434a-a42d-bf63cfc110fa",
   "metadata": {},
   "source": [
    "(a) p < 0.05"
   ]
  },
  {
   "cell_type": "markdown",
   "id": "9d1a08ef-6e9e-4f63-93bb-1672f3e9e74c",
   "metadata": {},
   "source": [
    "(b) p < 0.01"
   ]
  },
  {
   "cell_type": "markdown",
   "id": "da3faa8e-89e2-4f9b-8ff2-9802e3ffe9fe",
   "metadata": {},
   "source": [
    "(c) p > 0.05"
   ]
  },
  {
   "cell_type": "markdown",
   "id": "864ba283-8533-4718-bc8d-4b321fce15c2",
   "metadata": {},
   "source": [
    "(d) p < 0.05"
   ]
  },
  {
   "cell_type": "markdown",
   "id": "6b13dc1f-c1c0-4938-b7ed-d28d65baa354",
   "metadata": {
    "jp-MarkdownHeadingCollapsed": true,
    "tags": []
   },
   "source": [
    "### **16.7** ANOVA SUMMARY TABLES"
   ]
  },
  {
   "cell_type": "markdown",
   "id": "ce434b5f-a15d-45a1-a6a2-b5192dd385ee",
   "metadata": {},
   "source": [
    "#### **Other Labels**"
   ]
  },
  {
   "cell_type": "markdown",
   "id": "994a013c-32f2-4bfb-8012-203da6c51d08",
   "metadata": {
    "jp-MarkdownHeadingCollapsed": true,
    "tags": []
   },
   "source": [
    "#### **Progress Check 16.5** "
   ]
  },
  {
   "cell_type": "markdown",
   "id": "e1a2e527-307a-4973-b9f5-7a76170805f2",
   "metadata": {},
   "source": [
    "(a) F = 10.84 => Reject the null hypothesis, that is, there's sufficient evidence to support the notion that assertive training improves the eye contacts initiation rate for shy college students."
   ]
  },
  {
   "cell_type": "code",
   "execution_count": 1,
   "id": "c5f74d28-ffe7-4ee9-9c32-c141214b6491",
   "metadata": {},
   "outputs": [],
   "source": [
    "import numpy as np\n",
    "import os\n",
    "import sys\n",
    "\n",
    "sys.path.append(os.path.join(sys.path[0], os.path.pardir))\n",
    "\n",
    "import utils.HypothesisTest as HT"
   ]
  },
  {
   "cell_type": "code",
   "execution_count": 2,
   "id": "ba1895a6-4136-43f5-84d4-1937a43dd4e6",
   "metadata": {},
   "outputs": [
    {
     "data": {
      "text/plain": [
       "10.836158192090394"
      ]
     },
     "execution_count": 2,
     "metadata": {},
     "output_type": "execute_result"
    }
   ],
   "source": [
    "ms_between = np.sum( (13**2 + 25**2 + 40**2 + 60**2)/8 - 138**2/32 ) / 3\n",
    "ms_within = np.sum( 882 - (13**2 + 25**2 + 40**2 + 60**2)/8 ) / 28\n",
    "f = ms_between / ms_within\n",
    "f"
   ]
  },
  {
   "cell_type": "markdown",
   "id": "65b16b18-2c1b-4dcf-b491-100e9c84e3eb",
   "metadata": {},
   "source": [
    "(b) <br>\n",
    "|SOURCE|SS|df|MS|F|\n",
    "|---|---|---|---|---|\n",
    "|Between|154.13|3|51.38|10.84|\n",
    "|Within|132.75|28|4.74|\n",
    "|Total|286.88|31|"
   ]
  },
  {
   "cell_type": "markdown",
   "id": "ebc52587-30a8-4260-a6e1-fe910db88683",
   "metadata": {
    "jp-MarkdownHeadingCollapsed": true,
    "tags": []
   },
   "source": [
    "### **16.8** F TEST IS NONDIRECTIONAL"
   ]
  },
  {
   "cell_type": "markdown",
   "id": "8e8e64a7-e4b2-45a5-ab03-872d3a22d8de",
   "metadata": {},
   "source": [
    "- Since in the calculation of F ratio, all deviations are squared, so that the resulting score will always be positive, making the F test nondirectional."
   ]
  },
  {
   "cell_type": "markdown",
   "id": "9d440002-8702-4f76-847e-09eae4a321c8",
   "metadata": {},
   "source": [
    "#### **$F$ and $t^2$**"
   ]
  },
  {
   "cell_type": "markdown",
   "id": "5b9824db-4a0d-4775-92ab-2789c54cd82f",
   "metadata": {
    "jp-MarkdownHeadingCollapsed": true,
    "tags": []
   },
   "source": [
    "### **16.9** ESTIMATING EFFECT SIZE"
   ]
  },
  {
   "cell_type": "markdown",
   "id": "174a4000-3260-4a32-918a-58b95cb67b27",
   "metadata": {},
   "source": [
    "- Like the t test, a statistically significant F test indicates merely that the null hypothesis is probably false; otherwise, it fails to provide an accurate estimate of effect size."
   ]
  },
  {
   "cell_type": "markdown",
   "id": "2be44de4-025e-4602-87a5-89e7c19d9bbe",
   "metadata": {},
   "source": [
    "- Definition:\n",
    "    + Squared Curvilinear Correlation ($\\eta^2$): The proportion of variance in the dependent variable that can be explained by or attributed to the independent variable."
   ]
  },
  {
   "cell_type": "markdown",
   "id": "3e3def42-f584-4153-b9c4-919ac0c06985",
   "metadata": {},
   "source": [
    "<center><b>PROPORTION OF EXPLAINED VARIANCE, $\\eta^2$ (ONE-FACTOR ANOVA)</b></center> <br>\n",
    "<center>$\\Large \\eta^2 = \\frac{SS_{between}}{SS_{total}}$</center>"
   ]
  },
  {
   "attachments": {
    "381788df-c103-46d7-bc2c-f961a53fbc18.png": {
     "image/png": "[encoded data removed]"
    }
   },
   "cell_type": "markdown",
   "id": "5ccfb39e-bd78-4a91-bd82-cfc26c83a5b6",
   "metadata": {},
   "source": [
    "- Generally speaking, the $\\eta^2$ represents the proportion of differences among all scores attributable to differences among treatment groups.\n",
    "- Guidelines for the interpretation of $\\eta^2$: <br>\n",
    "![image.png](attachment:381788df-c103-46d7-bc2c-f961a53fbc18.png)"
   ]
  },
  {
   "cell_type": "markdown",
   "id": "8b37d6d7-052d-4a72-9d9e-b9dc40272c32",
   "metadata": {},
   "source": [
    "#### **A Recommendation**"
   ]
  },
  {
   "cell_type": "markdown",
   "id": "a708bbe8-3bbe-49de-9528-94073065c7bb",
   "metadata": {},
   "source": [
    "- Consider calculating $\\eta^2$ (or its less straightforward but more accurate competitor, omega-squared, symbolized as $\\omega^2$) whenever $F$ is statistically significant."
   ]
  },
  {
   "cell_type": "markdown",
   "id": "65a035de-b9de-4c45-aaf5-21e0e564f7b9",
   "metadata": {},
   "source": [
    "#### **Progress Check 16.6**"
   ]
  },
  {
   "cell_type": "code",
   "execution_count": 3,
   "id": "e4845509-a285-4c32-bb13-210877b94fec",
   "metadata": {},
   "outputs": [
    {
     "data": {
      "text/plain": [
       "0.54"
      ]
     },
     "execution_count": 3,
     "metadata": {},
     "output_type": "execute_result"
    }
   ],
   "source": [
    "eta_squared = HT.calc_etasquared(154.13, 286.88)\n",
    "eta_squared"
   ]
  },
  {
   "cell_type": "markdown",
   "id": "6f3ef9b0-4a77-469f-95f5-baa349b7ea0d",
   "metadata": {},
   "source": [
    "Interpretation: 54% of the differences of all scores can be explained by or attributed to the treatment effect, which is a large effect size according to the guidelines."
   ]
  },
  {
   "cell_type": "markdown",
   "id": "9e20ba60-2adc-4cfd-97a8-b8d43eb5ceec",
   "metadata": {
    "jp-MarkdownHeadingCollapsed": true,
    "tags": []
   },
   "source": [
    "### **16.10** MULTIPLE COMPARISONS"
   ]
  },
  {
   "cell_type": "markdown",
   "id": "bd6b9c99-d573-44ac-b2f2-2331372834eb",
   "metadata": {},
   "source": [
    "- Definition:\n",
    "    + The possible comparisons whenever more than two population means are involved."
   ]
  },
  {
   "cell_type": "markdown",
   "id": "699af7bc-3cc5-4989-939b-4d61ec5c2a27",
   "metadata": {},
   "source": [
    "- Rejection of the overall null hypothesis indicates only that the population means are not equal. To pinpoint the one or more differences between pairs of population means that contribute to the rejection of the overall null hypothesis, we must use a test of multiple comparisons. A test of multiple comparisons is designed to evaluate not just one, but a series of differences between population means."
   ]
  },
  {
   "cell_type": "markdown",
   "id": "6b25c8a8-2c0d-4d1d-8f5e-f1f70a460154",
   "metadata": {},
   "source": [
    "#### **t Test Not Appropriate**"
   ]
  },
  {
   "cell_type": "markdown",
   "id": "3e318898-92f5-4beb-9796-11a9395863a7",
   "metadata": {},
   "source": [
    "- t test is ordinarily designed to evaluate a single comparison for a pair of observed means, not multiple comparisons for all possible pairs of observed means. Among these complications, a multiple t test increases the probability of a type I error beyond the value specified by level of significance (according to the addition rule of probabilities)."
   ]
  },
  {
   "cell_type": "markdown",
   "id": "1fcd3386-14d9-4953-906c-5318f2073e02",
   "metadata": {},
   "source": [
    "#### **Coin-Tossing Example** "
   ]
  },
  {
   "cell_type": "markdown",
   "id": "286cddc1-a161-481b-b18d-8253550141e6",
   "metadata": {},
   "source": [
    "#### **Turkey's HSD (Honestly Significant Difference) Test**"
   ]
  },
  {
   "cell_type": "markdown",
   "id": "b5e67b03-e581-42f3-b60f-a897be9cdc61",
   "metadata": {},
   "source": [
    "- Definition:\n",
    "    + A multiple comparison test for which the cumulative probability of type I error never exceeds the specified level of significance."
   ]
  },
  {
   "cell_type": "markdown",
   "id": "d3f8dd0a-4b9b-4c5d-a3f4-311fed8ee22a",
   "metadata": {},
   "source": [
    "#### **Finding the Critical Value**"
   ]
  },
  {
   "cell_type": "markdown",
   "id": "aa0e2324-e789-41a4-b0e5-d7a11bf94e73",
   "metadata": {},
   "source": [
    "<center><b>TURKEY'S HSD TEST</b></center> <br>\n",
    "<center>$\\Large \\text{HSD} = q\\sqrt{\\frac{\\text{MS}_{within}}{n}}$</center>\n",
    "Where: <br>\n",
    "+ HSD: the positive critical value for any difference between two means. <br>\n",
    "+ q: a value, technically referred to as the Studentized Range Statistic. <br>\n",
    "+ $\\text{MS}_{within}$: the customary mean square for within-group variability for the overal ANOVA. <br>\n",
    "+ n: the sample size of each group."
   ]
  },
  {
   "cell_type": "markdown",
   "id": "c5f72286-8d89-44e8-8477-44b0d8a665d1",
   "metadata": {},
   "source": [
    "#### **Interpretation for Sleep Deprivation**"
   ]
  },
  {
   "cell_type": "markdown",
   "id": "443106df-f0b8-4007-8002-695a7dbe7e80",
   "metadata": {},
   "source": [
    "- The critical value obtained from Turkey's HSD is used as a benchmark to measure the statistical significance of the differences between all possible pairs of observed group means. If a difference exceeds the specified critical level, then it is considered sufficiently significant to reject the null hypothesis that an arbitrary pair of group means indicates a real effect."
   ]
  },
  {
   "cell_type": "markdown",
   "id": "c07e2acf-4bad-44c7-9f30-9d5ce9c481d2",
   "metadata": {},
   "source": [
    "#### **Estimating Effect Size**"
   ]
  },
  {
   "cell_type": "markdown",
   "id": "644104f8-c2b5-4ab9-935d-e8a7263e53ba",
   "metadata": {},
   "source": [
    "<center><b>STANDARDIZED EFFECT SIZE, COHEN'S d (ADAPTED FOR ANOVA)</b></center> <br>\n",
    "<center>$\\Large d = \\frac{\\overline{X}_1 - \\overline{X}_2}{\\sqrt{{s_p}^2}} = \\frac{\\overline{X}_1 - \\overline{X}_2}{\\sqrt{\\text{MS}_{within}}}$</center>\n",
    "Where: <br>\n",
    "+ d: an estimated of the standardized effect size. <br>\n",
    "+ $\\overline{X}_1, \\overline{X}_2$: the pair of significantly different means. <br>\n",
    "+ $\\text{MS}_{within}$: the square root of the within-group mean square, which represents the sample standard deviation."
   ]
  },
  {
   "cell_type": "markdown",
   "id": "a5868bdf-eb25-4cce-9452-8591145348a3",
   "metadata": {},
   "source": [
    "- Remark:\n",
    "    + The Cohen's d is recommended to be applied whenever any of the pairs in the multiple comparisons indicates a statistically significant result."
   ]
  },
  {
   "cell_type": "markdown",
   "id": "d689c48d-4a94-49d6-8e76-ab1bd1328dde",
   "metadata": {
    "jp-MarkdownHeadingCollapsed": true,
    "tags": []
   },
   "source": [
    "#### **Progress Check 16.7**"
   ]
  },
  {
   "cell_type": "code",
   "execution_count": 6,
   "id": "978e1549-6526-40a0-befa-3f1f6199ecb9",
   "metadata": {},
   "outputs": [
    {
     "data": {
      "text/plain": [
       "3.0"
      ]
     },
     "execution_count": 6,
     "metadata": {},
     "output_type": "execute_result"
    }
   ],
   "source": [
    "HSD = HT.calc_turkeyshsd(3.90, 4.74, 8)\n",
    "HSD"
   ]
  },
  {
   "cell_type": "markdown",
   "id": "a2a2d26c-a851-494c-a815-c7e7ed0d2d8d",
   "metadata": {},
   "source": [
    "Differences between pairs of means <br>\n",
    "|X|0|1|2|3|\n",
    "|---|---|---|---|---|\n",
    "|0|-|1.5|3.37|5.87|\n",
    "|1||-|1.87|4.37|\n",
    "|2|||-|2.5|\n",
    "|3||||-|"
   ]
  },
  {
   "cell_type": "markdown",
   "id": "3118f1f7-08e2-4bd5-a31e-480add9791cf",
   "metadata": {},
   "source": [
    "(a)"
   ]
  },
  {
   "cell_type": "code",
   "execution_count": 4,
   "id": "ec3ce692-0666-4a43-afc3-9ba8185b29e1",
   "metadata": {},
   "outputs": [
    {
     "data": {
      "text/plain": [
       "(1.55, 2.7, 2.01)"
      ]
     },
     "execution_count": 4,
     "metadata": {},
     "output_type": "execute_result"
    }
   ],
   "source": [
    "ms_within = 4.74\n",
    "d_20 = HT.calc_cohensd(3.37, 0, ms_within)\n",
    "d_30 = HT.calc_cohensd(5.87, 0, ms_within)\n",
    "d_31 = HT.calc_cohensd(4.37, 0, ms_within)\n",
    "d_20, d_30, d_31"
   ]
  },
  {
   "cell_type": "markdown",
   "id": "3bd5fd2a-c8d1-46fb-969e-13756ed84090",
   "metadata": {},
   "source": [
    "(b) The students who attend either two or three workshop sessions initiate, on average, more eye contacts than those who attend no workshop session. Furthermore, the test indicates that the students who attend three workshop sessions initiate, on average, more eye contacts than those who attend only one workshop session. All there significant differences had large effect sizes, with d values ranging from 1.55 to 2.7."
   ]
  },
  {
   "cell_type": "markdown",
   "id": "04b89fb1-c270-4a49-a45b-6b907e1e5826",
   "metadata": {},
   "source": [
    "#### **Other Multiple Comparisons**"
   ]
  },
  {
   "cell_type": "markdown",
   "id": "01ecd399-7744-458d-a78e-b486a2968038",
   "metadata": {},
   "source": [
    "#### **Selecting a Multiple Comparison Test**"
   ]
  },
  {
   "cell_type": "markdown",
   "id": "060847aa-b872-4d59-8be1-b12fceebe0b9",
   "metadata": {
    "jp-MarkdownHeadingCollapsed": true,
    "tags": []
   },
   "source": [
    "### **16.11** OVERVIEW: FLOW CHART FOR ANOVA"
   ]
  },
  {
   "attachments": {
    "9891e00b-1fc2-4cd5-a606-dddaa71d596b.png": {
     "image/png": "[encoded data removed]"
    }
   },
   "cell_type": "markdown",
   "id": "e160c1aa-a95f-4594-9bd7-f8cebbe8e9e2",
   "metadata": {},
   "source": [
    "![image.png](attachment:9891e00b-1fc2-4cd5-a606-dddaa71d596b.png)"
   ]
  },
  {
   "cell_type": "markdown",
   "id": "9a6dd35f-7003-4ee3-9309-0108fb67fa38",
   "metadata": {},
   "source": [
    "### **16.12** REPORTS IN THE LITERATURE"
   ]
  },
  {
   "cell_type": "markdown",
   "id": "8d226a51-2813-4b2f-9729-b26ae3b47b02",
   "metadata": {},
   "source": [
    "### **16.13** ASSUMPTIONS"
   ]
  },
  {
   "cell_type": "markdown",
   "id": "1b2a7d35-bad3-419c-8c39-ed581fdacb0f",
   "metadata": {
    "jp-MarkdownHeadingCollapsed": true,
    "tags": []
   },
   "source": [
    "### **16.14** COMPUTER OUTPUT"
   ]
  },
  {
   "cell_type": "markdown",
   "id": "9c2a9826-630e-4938-87f0-d1f3ca05d50e",
   "metadata": {},
   "source": [
    "- The $F$ test is based on two assumptions that:\n",
    "    + All underlying populations are normally distributed and\n",
    "    + They have equal variances.\n",
    "- In the cases such that there are conspicuous departures from normality or equal variances, consider:\n",
    "    + Increasing the sample sizes (to minimize the effect of non-normality)\n",
    "    + Equalizing the sample sizes (to minimize the effect of nonequal variances)\n",
    "    + Using a more complex version of $F$ (designed for unequal population variances)\n",
    "    + Using a less sensitive but more assumption-free test, such as the Kruskal-Wallis H test."
   ]
  },
  {
   "cell_type": "markdown",
   "id": "3c8b61ab-1cb8-481b-a6f2-60b8c0fe79a6",
   "metadata": {},
   "source": [
    "#### **Progress Check 16.8**"
   ]
  },
  {
   "cell_type": "markdown",
   "id": "e125a10d-14b9-4be5-bc6f-cc96f34b01ba",
   "metadata": {},
   "source": [
    "(a) $\\eta^2 = \\frac{54}{76} = 0.71$"
   ]
  },
  {
   "cell_type": "markdown",
   "id": "b8600aa8-c190-4812-9cf3-af9e1ef2635b",
   "metadata": {},
   "source": [
    "(b) $\\sqrt{\\text{MS}_{within}} = \\sqrt{3.67} = 1.92$ (which is also listed as the pooled standard deviation)."
   ]
  },
  {
   "cell_type": "markdown",
   "id": "b7ff9a62-e17a-4ae2-b26e-183553be51f9",
   "metadata": {},
   "source": [
    "(c) Only the 95% confidence interval for the difference between 0 and 48 hours has the same sign for both limits, which supports the conclusion that it is the only statistically significant difference."
   ]
  },
  {
   "cell_type": "markdown",
   "id": "785edd39-d4fd-4121-9d9d-e7604d858bc0",
   "metadata": {},
   "source": [
    "### **Review Questions**"
   ]
  },
  {
   "cell_type": "code",
   "execution_count": 14,
   "id": "e551e285-a011-4f19-850b-29446705bc7c",
   "metadata": {},
   "outputs": [],
   "source": [
    "import numpy as np\n",
    "import pandas as pd\n",
    "import os\n",
    "import sys\n",
    "\n",
    "sys.path.append(os.path.join(sys.path[0], os.path.pardir))\n",
    "\n",
    "import utils.HypothesisTest as HT\n",
    "import utils.StatsReport as SR"
   ]
  },
  {
   "cell_type": "markdown",
   "id": "86a12b8a-812a-453b-8b40-2d292b4b8524",
   "metadata": {
    "jp-MarkdownHeadingCollapsed": true,
    "tags": []
   },
   "source": [
    "#### **16.9**"
   ]
  },
  {
   "cell_type": "code",
   "execution_count": 2,
   "id": "8ac96be2-691a-4cfa-b32d-2d2f6b301f90",
   "metadata": {},
   "outputs": [
    {
     "data": {
      "text/plain": [
       "0.167"
      ]
     },
     "execution_count": 2,
     "metadata": {},
     "output_type": "execute_result"
    }
   ],
   "source": [
    "data = [[3, 5, 7], [4, 8, 6], [2, 4, 6]]\n",
    "ss = HT.calc_ss(data, group_size=\"equal\")\n",
    "ms = HT.calc_ms(ss, 9, 3)\n",
    "fscore = HT.calc_fscore(ms[0], ms[1])\n",
    "fscore"
   ]
  },
  {
   "cell_type": "markdown",
   "id": "bd60bb25-4e41-433a-abd6-7a7e5e51ea67",
   "metadata": {
    "jp-MarkdownHeadingCollapsed": true,
    "tags": []
   },
   "source": [
    "#### **16.10**"
   ]
  },
  {
   "cell_type": "code",
   "execution_count": 4,
   "id": "a526773b-1c84-4b4e-bc23-5cc795312484",
   "metadata": {},
   "outputs": [],
   "source": [
    "data = [[1, 3, 6, 2, 1], [4, 7, 5], [7, 12, 10, 9]]"
   ]
  },
  {
   "cell_type": "markdown",
   "id": "01d0789e-7714-4d32-a9e8-196b684ac319",
   "metadata": {},
   "source": [
    "(a)"
   ]
  },
  {
   "cell_type": "code",
   "execution_count": 7,
   "id": "29add429-75b3-4a5f-9475-8b558a5c4e30",
   "metadata": {},
   "outputs": [
    {
     "data": {
      "text/plain": [
       "array([106.05,  34.87])"
      ]
     },
     "execution_count": 7,
     "metadata": {},
     "output_type": "execute_result"
    }
   ],
   "source": [
    "ss"
   ]
  },
  {
   "cell_type": "code",
   "execution_count": 6,
   "id": "fb0a4037-5c78-4613-bbfd-0acac50a9e0d",
   "metadata": {},
   "outputs": [
    {
     "data": {
      "text/plain": [
       "array([53.025     ,  3.87444444])"
      ]
     },
     "execution_count": 6,
     "metadata": {},
     "output_type": "execute_result"
    }
   ],
   "source": [
    "ms"
   ]
  },
  {
   "cell_type": "code",
   "execution_count": 5,
   "id": "51f490f7-10e9-4f9e-8ecf-dbab92ce8ee5",
   "metadata": {},
   "outputs": [
    {
     "data": {
      "text/plain": [
       "13.686"
      ]
     },
     "execution_count": 5,
     "metadata": {},
     "output_type": "execute_result"
    }
   ],
   "source": [
    "ss = HT.calc_ss(data, group_size=\"unequal\")\n",
    "ms = HT.calc_ms(ss, 12, 3)\n",
    "fscore = HT.calc_fscore(ms[0], ms[1])\n",
    "fscore"
   ]
  },
  {
   "cell_type": "markdown",
   "id": "72954bc7-3feb-49a8-915e-1976bcdd8544",
   "metadata": {},
   "source": [
    "(b)"
   ]
  },
  {
   "cell_type": "code",
   "execution_count": 5,
   "id": "bbdb90c9-7e7b-4a39-8204-dca4a162dc85",
   "metadata": {},
   "outputs": [
    {
     "data": {
      "text/plain": [
       "0.7525546409310248"
      ]
     },
     "execution_count": 5,
     "metadata": {},
     "output_type": "execute_result"
    }
   ],
   "source": [
    "eta_squared = ss[0] / ss.sum()\n",
    "eta_squared"
   ]
  },
  {
   "cell_type": "markdown",
   "id": "f2d21370-96f5-49b3-a3c7-a87f7421fb7a",
   "metadata": {},
   "source": [
    "(c)"
   ]
  },
  {
   "cell_type": "code",
   "execution_count": 6,
   "id": "72c9e1e8-6164-410c-b602-1517dc63b59a",
   "metadata": {},
   "outputs": [
    {
     "data": {
      "text/plain": [
       "3.89"
      ]
     },
     "execution_count": 6,
     "metadata": {},
     "output_type": "execute_result"
    }
   ],
   "source": [
    "hsd = HT.calc_turkeyshsd(3.95, ms[1], 4)\n",
    "hsd"
   ]
  },
  {
   "cell_type": "markdown",
   "id": "57d7f990-648d-4dc8-950e-cda40515e7b8",
   "metadata": {
    "tags": []
   },
   "source": [
    "(d) "
   ]
  },
  {
   "cell_type": "code",
   "execution_count": 7,
   "id": "3e71cfec-61ca-48b3-92a0-5e71918b29b2",
   "metadata": {},
   "outputs": [
    {
     "data": {
      "text/plain": [
       "(3.51, 2.12)"
      ]
     },
     "execution_count": 7,
     "metadata": {},
     "output_type": "execute_result"
    }
   ],
   "source": [
    "d_20 = HT.calc_cohensd(6.9, 0, ms[1])\n",
    "d_21 = HT.calc_cohensd(4.17, 0, ms[1])\n",
    "d_20, d_21"
   ]
  },
  {
   "cell_type": "code",
   "execution_count": 8,
   "id": "39b2b490-697e-49db-b5cb-47b62b7ba440",
   "metadata": {},
   "outputs": [
    {
     "data": {
      "text/plain": [
       "3.8744444444444444"
      ]
     },
     "execution_count": 8,
     "metadata": {},
     "output_type": "execute_result"
    }
   ],
   "source": [
    "ms[1]"
   ]
  },
  {
   "cell_type": "markdown",
   "id": "03681351-f6da-4d0b-8723-6c512c7aed3d",
   "metadata": {},
   "source": [
    "(e) Aggression scores for subjects deprived of sleep for 0 hour ($\\overline{X}_0$ = 2.6, $s_0$ = 2.07), those deprived for 24 hours ($\\overline{X}_1$ = 5.33, $s_1$ = 1.53) and those deprived for 48 hours ($\\overline{X}_2$ = 9.5, $s_2$ = 2.08) differ significantly [F(2, 9) = 13.686; MSE = 3.87; p < 0.05; $\\eta^2$ = 0.75]. According to Turkey's HSD test, the differences between mean agression scores for the pairs of 0-48 and 24-48 hours are significant with the estimate effect size ranging from 2.12 to 3.51 (HSD = 3.87; p < 0.05; d = 2.12, 3.51)."
   ]
  },
  {
   "cell_type": "markdown",
   "id": "843b93c4-7a08-4c51-9f65-8ca33ffc5a23",
   "metadata": {
    "jp-MarkdownHeadingCollapsed": true,
    "tags": []
   },
   "source": [
    "#### **16.11**"
   ]
  },
  {
   "cell_type": "markdown",
   "id": "6e0dadae-77e2-4595-b569-54e59c723647",
   "metadata": {},
   "source": [
    "(a)"
   ]
  },
  {
   "cell_type": "code",
   "execution_count": 10,
   "id": "49d203b3-85b2-41b3-bad9-b477934f4a6f",
   "metadata": {},
   "outputs": [],
   "source": [
    "data = [[1, 1, 3, 6, 4], [4, 3, 1, 7, 5], [6, 1, 2, 10, 7], [15, 6, 9, 17, 9], [20, 25, 10, 10, 9]]\n",
    "ss = HT.calc_ss(data, group_size=\"equal\")\n",
    "df_between = np.size(data, axis=0) - 1\n",
    "df_within = np.size(data) - df_between - 1 \n",
    "ms = HT.calc_ms(ss, np.size(data), np.size(data, axis=0))\n",
    "fscore = HT.calc_fscore(ms[0], ms[1])"
   ]
  },
  {
   "cell_type": "code",
   "execution_count": null,
   "id": "7821ad91-bdd5-4305-8f06-dd470d0271b6",
   "metadata": {},
   "outputs": [],
   "source": [
    "kwargs=dict(\n",
    "    report_type=\"one factor ANOVA\",\n",
    "    experiment_name=\"\",\n",
    "    ss_between=ss[0],\n",
    "    ss_within=ss[1],\n",
    "    df_between=df_between,\n",
    "    df_within=df_within,\n",
    "    ms_between=ms[0],\n",
    "    ms_within=ms[1],\n",
    "    f_score=fscore\n",
    ")\n",
    "report = SR.Report(**kwargs)\n",
    "report"
   ]
  },
  {
   "cell_type": "markdown",
   "id": "2c80306d-3265-43fd-a8b1-4fa11dda9156",
   "metadata": {},
   "source": [
    "(b)"
   ]
  },
  {
   "cell_type": "code",
   "execution_count": null,
   "id": "5046e3cb-f616-4266-8be3-b1b3f2272f07",
   "metadata": {},
   "outputs": [],
   "source": [
    "etasquared = HT.calc_etasquared(ss[0], np.sum(ss))\n",
    "etasquared"
   ]
  },
  {
   "cell_type": "markdown",
   "id": "a7fca2e7-9557-467d-b8c3-093bec755bb0",
   "metadata": {},
   "source": [
    "(c)"
   ]
  },
  {
   "cell_type": "code",
   "execution_count": null,
   "id": "7052e0ef-0ee9-4c6a-963b-7c38af36c9c8",
   "metadata": {},
   "outputs": [],
   "source": [
    "q = 4.23\n",
    "hsd = HT.calc_turkeyshsd(q, ms[1], np.size(data, axis=1))\n",
    "hsd"
   ]
  },
  {
   "cell_type": "code",
   "execution_count": null,
   "id": "c424f8f0-a75c-4eb9-8185-5babc2e6466f",
   "metadata": {},
   "outputs": [],
   "source": [
    "mean_diff = pd.Series(dict(diff_60=11.8,\n",
    "                           diff_61=10.8,\n",
    "                           diff_62=9.6))             \n",
    "cohens_d = mean_diff / np.sqrt(ms[1])\n",
    "cohens_d"
   ]
  },
  {
   "cell_type": "markdown",
   "id": "148b2ac8-ad9b-4e0f-826f-af24a6d1e9ae",
   "metadata": {},
   "source": [
    "#### **16.12**"
   ]
  },
  {
   "cell_type": "markdown",
   "id": "f77970bc-52cf-4765-babe-73bf1ee91d65",
   "metadata": {},
   "source": [
    "(a) 4 groups."
   ]
  },
  {
   "cell_type": "markdown",
   "id": "c51446c6-0915-43ca-8c95-bc5ac564e53f",
   "metadata": {},
   "source": [
    "(b) 21 subjects in each group."
   ]
  },
  {
   "cell_type": "markdown",
   "id": "adc0e252-3c52-4785-ba38-21d5320c0ebe",
   "metadata": {},
   "source": [
    "(c) A and B."
   ]
  },
  {
   "cell_type": "markdown",
   "id": "eaedd246-e8e2-413f-81d7-2a4e07b2b3cd",
   "metadata": {},
   "source": [
    "(d) D, since its sample size is the smallest, which would in turn require the effect size to be larger for it to be in the scope of detection."
   ]
  },
  {
   "cell_type": "markdown",
   "id": "6c948921-3b96-4e63-8648-1f077fd44ee8",
   "metadata": {},
   "source": [
    "(e) C, because of its relatively large sample size, if there existed an effect, it should have been detected."
   ]
  },
  {
   "cell_type": "markdown",
   "id": "d5fee151-5159-4aab-a419-d37ce2e828b3",
   "metadata": {},
   "source": [
    "(f) A. p < 0.05; B. p < 0.01; C. p > 0.05; D. p > 0.05."
   ]
  },
  {
   "cell_type": "markdown",
   "id": "688d0e4e-533e-42c2-95e1-34e0daedb7cc",
   "metadata": {},
   "source": [
    "#### **16.13**"
   ]
  },
  {
   "cell_type": "code",
   "execution_count": 35,
   "id": "91be96d8-6a91-4c1a-b126-c6116f88e93d",
   "metadata": {},
   "outputs": [],
   "source": [
    "data = [[3, 4, 0, -3, 5, 10, 3, 0], [-1, 8, 4, 2, 2, -3], [7, 1, 10, 0, 18, 12, 4, 6, 5]]\n",
    "ss = HT.calc_ss(data, group_size=\"unequal\")\n",
    "ms = HT.calc_ms(ss, 23, 3)\n",
    "df_between = 2\n",
    "df_within = 20\n",
    "fscore = HT.calc_fscore(ms[0], ms[1])"
   ]
  },
  {
   "cell_type": "code",
   "execution_count": 36,
   "id": "0510963c-5f51-4e59-ad87-0735df738a14",
   "metadata": {},
   "outputs": [
    {
     "data": {
      "text/html": [
       "\n",
       "                    <h3>ANOVA TABLE: </h3>\n",
       "                    <table>\n",
       "                        <tr>\n",
       "                            <b>\n",
       "                            <th>SOURCE</th>\n",
       "                            <th>SS</th>\n",
       "                            <th>df</th>\n",
       "                            <th>MS</th>\n",
       "                            <th>F</th>\n",
       "                            </b>\n",
       "                        </tr>\n",
       "                        <tr>\n",
       "                            <td>Between</td>\n",
       "                            <td>116.41</td>\n",
       "                            <td>2</td>\n",
       "                            <td>58.205</td>\n",
       "                            <td>2.673</td>\n",
       "                        </tr>\n",
       "                        <tr>\n",
       "                            <td>Within</td>\n",
       "                            <td>435.5</td>\n",
       "                            <td>20</td>\n",
       "                            <td>21.775</td>\n",
       "                        </tr>\n",
       "                        <tr>\n",
       "                            <td>Total</td>\n",
       "                            <td>551.91</td>\n",
       "                            <td>22</td>\n",
       "                        </tr>\n",
       "                    </table>\n",
       "                    "
      ],
      "text/plain": [
       "<utils.StatsReport.Report at 0x21ce5d0ce50>"
      ]
     },
     "execution_count": 36,
     "metadata": {},
     "output_type": "execute_result"
    }
   ],
   "source": [
    "kwargs=dict(\n",
    "    report_type=\"one factor ANOVA\",\n",
    "    experiment_name=\"\",\n",
    "    ss_between=ss[0],\n",
    "    ss_within=ss[1],\n",
    "    df_between=df_between,\n",
    "    df_within=df_within,\n",
    "    ms_between=ms[0],\n",
    "    ms_within=ms[1],\n",
    "    f_score=fscore\n",
    ")\n",
    "report = SR.Report(**kwargs)\n",
    "report"
   ]
  },
  {
   "cell_type": "markdown",
   "id": "314fd943-9340-4b1b-84fb-5615bac3fb35",
   "metadata": {},
   "source": [
    "#### **16.14**"
   ]
  },
  {
   "cell_type": "markdown",
   "id": "8a929cff-122f-482b-a5f0-2e1147066cbe",
   "metadata": {},
   "source": [
    "Yes. The t test for two independent samples also considers the same two sources of variability as in one factor ANOVA, one of these is the variability within group, represented by the pooled variance estimate, and the other one is represented by the difference between group means. The difference in between groups variability measurement comes from the fact that in one factor ANOVA, samples receive the same independent variable but on different levels, while in this t test, each sample receives a different independent variable."
   ]
  },
  {
   "cell_type": "code",
   "execution_count": null,
   "id": "add52e69-1760-4cef-be12-86357437fbcd",
   "metadata": {},
   "outputs": [],
   "source": []
  }
 ],
 "metadata": {
  "kernelspec": {
   "display_name": "Python 3 (ipykernel)",
   "language": "python",
   "name": "python3"
  },
  "language_info": {
   "codemirror_mode": {
    "name": "ipython",
    "version": 3
   },
   "file_extension": ".py",
   "mimetype": "text/x-python",
   "name": "python",
   "nbconvert_exporter": "python",
   "pygments_lexer": "ipython3",
   "version": "3.10.4"
  },
  "toc-autonumbering": false,
  "toc-showcode": true,
  "toc-showmarkdowntxt": false
 },
 "nbformat": 4,
 "nbformat_minor": 5
}
