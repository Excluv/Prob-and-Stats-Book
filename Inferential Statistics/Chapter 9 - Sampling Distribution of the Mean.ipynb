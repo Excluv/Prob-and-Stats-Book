{
 "cells": [
  {
   "cell_type": "code",
   "execution_count": 1,
   "id": "a423260e-1757-40dc-96f2-ef7584144fc0",
   "metadata": {},
   "outputs": [],
   "source": [
    "import numpy as np\n",
    "\n",
    "import os\n",
    "import sys\n",
    "\n",
    "sys.path.append(os.path.join(sys.path[0], \"..\"))\n",
    "\n",
    "from utils import NormalDistribution"
   ]
  },
  {
   "cell_type": "markdown",
   "id": "dadef35c-3528-48c1-8cff-91311810464f",
   "metadata": {
    "jp-MarkdownHeadingCollapsed": true,
    "tags": []
   },
   "source": [
    "### **9.1.** WHAT IS A SAMPLING DISTRIBUTION?"
   ]
  },
  {
   "cell_type": "markdown",
   "id": "b81b439e-d285-4260-a5df-66d7dc0c6960",
   "metadata": {},
   "source": [
    "- Definition:\n",
    "    + Sampling Distribution of the Mean: a probability distribution of means for all possible random samples of a given size from a population."
   ]
  },
  {
   "cell_type": "markdown",
   "id": "c7375938-45c6-40d3-9163-81cd1b231263",
   "metadata": {},
   "source": [
    "#### **All Possible Random Samples:**\n",
    "- There actually does not exist any practical means to conduct surveys on all possible random samples to obtain their means.\n",
    "- The phrase \"All Possible Random Samples\" refers not to the actual number of samples required to survey completely, rather, it is the total number of permutations of random samples that can be taken from a population."
   ]
  },
  {
   "cell_type": "markdown",
   "id": "01f09e73-76ff-43f0-a24e-3716ae097c67",
   "metadata": {
    "jp-MarkdownHeadingCollapsed": true,
    "tags": []
   },
   "source": [
    "### **9.2.** CREATING A SAMPLING DISTRIBUTION FROM SCRATCH"
   ]
  },
  {
   "cell_type": "markdown",
   "id": "b3ebbc61-1871-47e5-815e-501d5d4e0567",
   "metadata": {},
   "source": [
    "#### **Probability of a Particular Sample Mean:**\n",
    "- Once the means of all possible random samples are present, one can calculate the probability of a particular mean in the sampling distribution."
   ]
  },
  {
   "cell_type": "markdown",
   "id": "8170eeaa-6587-47fc-9ffd-e9cdcb45612f",
   "metadata": {},
   "source": [
    "#### **Review:**"
   ]
  },
  {
   "cell_type": "markdown",
   "id": "4fd22af1-9888-4efd-9cd5-fcf42fae57e4",
   "metadata": {
    "tags": []
   },
   "source": [
    "#### **Progress Check 9.1.** Imagine a very simple population consisting of only five observations: 2, 4, 6, 8, 10."
   ]
  },
  {
   "cell_type": "markdown",
   "id": "df2e1101-aca3-4a47-be00-f331d12f2f8e",
   "metadata": {},
   "source": [
    "(a) List all possible samples of size two. <br>\n",
    "(b) Construct a relative frequency table showing the sampling distribution of the mean. <br>"
   ]
  },
  {
   "cell_type": "code",
   "execution_count": null,
   "id": "741ac725-b970-4574-a3fd-39443bace3ee",
   "metadata": {},
   "outputs": [],
   "source": [
    "# Solution:\n",
    "data = [2, 4, 6, 8, 10]\n",
    "    # a):\n",
    "for i in range(5):\n",
    "    print(Density.all_samples(data, 2, i))"
   ]
  },
  {
   "cell_type": "code",
   "execution_count": null,
   "id": "ec4fd4c0-0fcb-4356-ac8f-de8b5dab7ae2",
   "metadata": {},
   "outputs": [],
   "source": [
    "# b):\n",
    "freq_dist = Density.sampling_distribution(data, 2)\n",
    "freq_dist"
   ]
  },
  {
   "cell_type": "markdown",
   "id": "7bf9e282-9a8d-47ba-979b-632fcb9255e4",
   "metadata": {
    "jp-MarkdownHeadingCollapsed": true,
    "tags": []
   },
   "source": [
    "### **9.3.** SOME IMPORTANT SYMBOLS"
   ]
  },
  {
   "cell_type": "markdown",
   "id": "462935e9-2827-4329-a8dd-bb9deb59851f",
   "metadata": {},
   "source": [
    "|TYPE OF DISTRIBUTION|MEAN|STANDARD DEVIATION|\n",
    "|---|---|---|\n",
    "|Sample|$\\overline{X}$|$std$|\n",
    "|Population|$\\mu$|$\\sigma$|\n",
    "|Sampling Distribution of the Mean|$\\mu_{\\overline{X}}$|$\\sigma_{\\overline{X}}$ (or Standard Error of the Mean)|"
   ]
  },
  {
   "cell_type": "markdown",
   "id": "99accdd2-a2a0-429e-aedd-fe768e3c174f",
   "metadata": {},
   "source": [
    "#### **Significance of Greek Letters:**"
   ]
  },
  {
   "cell_type": "markdown",
   "id": "b25419d7-66fa-4c99-af48-eab902f69853",
   "metadata": {
    "jp-MarkdownHeadingCollapsed": true,
    "tags": []
   },
   "source": [
    "#### **Progress Check 9.2.** Without peeking, list the special symbols for the mean of the population (a) , mean of the sampling distribution of the mean (b) , mean of the sample (c) , standard error of the mean (d) , standard deviation of the sample (e) , and standard deviation of the population (f)."
   ]
  },
  {
   "cell_type": "markdown",
   "id": "dbaa7beb-bbc3-4b56-8481-b7415be39b4e",
   "metadata": {},
   "source": [
    "(a) $\\mu$ <br>\n",
    "(b) $\\mu_{\\overline{X}}$ <br>\n",
    "(c) $\\overline{X}$ <br>\n",
    "(d) $\\sigma_{\\overline{X}}$ <br>\n",
    "(e) $\\sigma$ <br>"
   ]
  },
  {
   "cell_type": "markdown",
   "id": "8d2e9521-c697-4801-92bd-29c9d399d76f",
   "metadata": {
    "jp-MarkdownHeadingCollapsed": true,
    "tags": []
   },
   "source": [
    "### **9.4.** MEAN OF ALL SAMPLE MEANS $(\\mu_{\\overline{X}})$"
   ]
  },
  {
   "cell_type": "markdown",
   "id": "1292dd0a-7de5-4b9f-b796-c8cf2206b8d0",
   "metadata": {},
   "source": [
    "- Theorem: the Mean of the Sampling Distribution always equals the Mean of the population. <br><br>\n",
    "<center><b>MEAN OF THE SAMPLING DISTRIBUTION</b></center>\n",
    "<center>$\\Large \\mu_{\\overline{X}} = \\mu$<center>"
   ]
  },
  {
   "cell_type": "markdown",
   "id": "71735f64-a350-4966-a2f7-8fe107711673",
   "metadata": {},
   "source": [
    "#### **Interchangable Means:**\n",
    "- Oftentimes, instead of calculating the population mean $\\mu$ directly, it's more convenient to find the sampling distribution mean $\\mu_{\\overline{X}}$, since their values are equal.\n",
    "- Therefore, these terms are interchangable in inferential statistics. Whether an expression involves $\\mu_{\\overline{X}}$ or $\\mu$, it reflects, at most, a difference in emphasis on either the sampling distribution or the population, respectively, rather than any difference in numerical value."
   ]
  },
  {
   "cell_type": "markdown",
   "id": "8f6f9313-26e4-4ffa-a4e4-c41cf946a8a1",
   "metadata": {},
   "source": [
    "#### **Explanation:**"
   ]
  },
  {
   "cell_type": "markdown",
   "id": "117065e3-3359-4a7a-b143-4533c46c46a7",
   "metadata": {
    "jp-MarkdownHeadingCollapsed": true,
    "tags": []
   },
   "source": [
    "#### **Progress Check 9.3.** Indicate whether the following statements are True or False. The mean of all sample means, $\\mu_{\\overline{X}}$, . . ."
   ]
  },
  {
   "cell_type": "markdown",
   "id": "c690a0d0-002f-407d-85b9-4fb68f7bf7c2",
   "metadata": {},
   "source": [
    "(a) always equals the value of a particular sample mean. <br>\n",
    "False. <br>\n",
    "(b) equals 100 if, in fact, the population mean equals 100. <br>\n",
    "True. <br>\n",
    "(c) usually equals the value of a particular sample mean. <br>\n",
    "False. We never know whether $\\mu_{\\overline{X}}$ tends to be equal to a particular sample mean. <br>\n",
    "(d) is interchangeable with the population mean. <br>\n",
    "True. <br>"
   ]
  },
  {
   "cell_type": "markdown",
   "id": "6a52b661-e0c2-49a0-86b1-443e29418d6b",
   "metadata": {
    "tags": []
   },
   "source": [
    "### **9.5.** STANDARD ERROR OF THE MEAN $(\\sigma_{\\overline{X}})$"
   ]
  },
  {
   "cell_type": "markdown",
   "id": "25a50953-950f-4c36-a808-850a0a38b56b",
   "metadata": {},
   "source": [
    "- Definition:\n",
    "    + Standard Error of the Mean $(\\sigma_{\\overline{X}})$: a rough measure of the average amount by which sample means deviate from the mean of the sampling distribution or from the population mean.\n",
    "- Formula: <br><br>\n",
    "<center><b>STANDARD ERROR OF THE MEAN</b></center>\n",
    "<center>$\\Large \\sigma_{\\overline{X}} = \\frac{\\sigma}{\\sqrt{n}}$</center>"
   ]
  },
  {
   "cell_type": "markdown",
   "id": "ec0de788-7474-4eac-b361-e54f49320d01",
   "metadata": {},
   "source": [
    "#### **Special Type of Standard Deviation:**\n",
    "- Insofar as the shape of the sampling distribution approximates a normal curve, the majority of sample means (about 68%) deviates less than one standard error, while a minority (about 5%) deviates more than two standard errors."
   ]
  },
  {
   "cell_type": "markdown",
   "id": "84160349-5f95-450b-b8fc-3a9226bb3e4a",
   "metadata": {},
   "source": [
    "#### **Effect of Sample Size:**\n",
    "- The closer the sample size gets to the population size, the smaller the value of the standard error, when the sample size is exactly equal to the population size, there's essentially no standard errors. With a larger sample size translates into a less variability, therefore, allows more precise generalizations from samples to populations."
   ]
  },
  {
   "cell_type": "markdown",
   "id": "40ba30ea-dabc-4f21-8dfa-169ca6ef73a2",
   "metadata": {},
   "source": [
    "#### **Explanation:**\n",
    "- The standard error reflects the variability among sample means."
   ]
  },
  {
   "cell_type": "markdown",
   "id": "868ec427-f32b-4b03-b046-612569ab2c73",
   "metadata": {
    "tags": []
   },
   "source": [
    "#### **Progress Check 9.4.** Indicate whether the following statements are True or False. The standard error of the mean, $\\sigma_{\\overline{X}}$, ..."
   ]
  },
  {
   "cell_type": "markdown",
   "id": "0bd18e53-bc99-4aee-9779-c6b6d0be48e0",
   "metadata": {},
   "source": [
    "(a) roughly measures the average amount by which sample means deviate from the population mean. <br>\n",
    "True. <br>\n",
    "(b) measures variability in a particular sample. <br>\n",
    "False. It measures the variability among all possible samples' means.<br>\n",
    "(c) increases in value with larger sample sizes. <br>\n",
    "False. It approaches zero as the sample size gets larger. <br>\n",
    "(d) equals 5, given that σ = 40 and n = 64. <br>\n",
    "True."
   ]
  },
  {
   "cell_type": "markdown",
   "id": "bc224718-144a-425d-bbfc-95a76dc01126",
   "metadata": {
    "jp-MarkdownHeadingCollapsed": true,
    "tags": []
   },
   "source": [
    "### **9.6.** SHAPE OF THE SAMPLING DISTRIBUTION"
   ]
  },
  {
   "cell_type": "markdown",
   "id": "acf23b20-84c5-46a9-bed2-1da9c94f6492",
   "metadata": {},
   "source": [
    "- Definition:\n",
    "    + Central Limit Theorem: regardless of the population shape, the shape of the sampling distribution of the mean approximates a normal curve if the sample size is sufficiently large.\n",
    "- Generally, if:\n",
    "    + The shape of the distribution is normal: any sample size will be sufficiently large.\n",
    "    + The distribution is unnormally shaped: a sample size between 25 - 100 is sufficiently large."
   ]
  },
  {
   "cell_type": "markdown",
   "id": "ff16527e-5393-4dea-9a59-43c87d2c4b98",
   "metadata": {},
   "source": [
    "#### **Examples:**"
   ]
  },
  {
   "cell_type": "markdown",
   "id": "0a8c774e-501d-423b-ba12-71a8fd717f0c",
   "metadata": {},
   "source": [
    "#### **Why the Central Limit Theorem Works?**"
   ]
  },
  {
   "cell_type": "markdown",
   "id": "aea883ce-e2d7-42a6-acab-3e317d9d316a",
   "metadata": {},
   "source": [
    "#### **Many Sample Means with Intermediate Values:**\n",
    "- In a distribution, regardless of its shape, the majority of scores will lie within one standard deviation range on either side of the mean, therefore, the majority of permutations of samples will also have their means being intermediate ones."
   ]
  },
  {
   "cell_type": "markdown",
   "id": "1dbcb66c-cb11-4524-b2f4-bd0f1c86af0e",
   "metadata": {},
   "source": [
    "#### **Few Sample Means with Extreme Values:**\n",
    "- On the other hand, a minority of scores are extreme, therefore may only produce less sample permutations, that is, produces only few sample means with extreme values.\n",
    "- Additionally, the standard error is inversely proportional to the sample size, so that when it is sufficiently large, the distribution of sample means will contain merely a small proportion of extreme values."
   ]
  },
  {
   "cell_type": "markdown",
   "id": "a74ff285-e75b-4884-be5e-9b548b2a4698",
   "metadata": {},
   "source": [
    "#### **Progress Check 9.5.** Indicate whether the following statements are True or False. The central limit theorem"
   ]
  },
  {
   "cell_type": "markdown",
   "id": "ef9cb13e-006c-45df-8d0b-5a744e050678",
   "metadata": {},
   "source": [
    "(a) states that, with sufficiently large sample sizes, the shape of the population is normal. <br>\n",
    "False. With a sufficiently large sample size, the shape of the sample means distribution approximates a normal curve. <br>\n",
    "(b) states that, regardless of sample size, the shape of the sampling distribution of the mean is normal. <br>\n",
    "False. The sample size needs to be sufficiently large. <br>\n",
    "(c) ensures that the shape of the sampling distribution of the mean equals the shape of the population. <br>\n",
    "False. It does not affect the population distribution. <br>\n",
    "(d) applies to the shape of the sampling distribution—not to the shape of the population and not to the shape of the sample. <br>\n",
    "True."
   ]
  },
  {
   "cell_type": "markdown",
   "id": "9b71fd69-69c1-430a-be31-deedd9a9457e",
   "metadata": {
    "jp-MarkdownHeadingCollapsed": true,
    "tags": []
   },
   "source": [
    "### **9.7.** OTHER SAMPLING DISTRIBUTIONS"
   ]
  },
  {
   "cell_type": "markdown",
   "id": "891dcd9f-cc4e-404c-9a08-78c4e5e7721d",
   "metadata": {},
   "source": [
    "#### **For the Mean:**\n",
    "- There are multiple possible distributions for the mean, depending on how large is the sample size. Nonetheless, they all share the same principles, which are the sampling distribution mean is always equal to the population's one, and the standard error fluctuates based on the sample size. The variable characteristics of each and every distribution are the standard error and its shape."
   ]
  },
  {
   "cell_type": "markdown",
   "id": "f51e6475-224d-43a8-a6c1-3fff4b1a62f5",
   "metadata": {},
   "source": [
    "#### **For Other Measures:**\n",
    "- There are many more distributions for other measures rather than merely the mean, such as, for: medians, proportions, standard deviations, variances, correlations, as well as differences between pairs of means, pairs of proportions, etc."
   ]
  },
  {
   "cell_type": "markdown",
   "id": "13361023-2158-453a-a4aa-3f82019fe60a",
   "metadata": {},
   "source": [
    "### **REVIEW QUESTIONS**"
   ]
  },
  {
   "cell_type": "markdown",
   "id": "d565f3eb-ad55-463e-a0a0-d3dfca6a5520",
   "metadata": {
    "jp-MarkdownHeadingCollapsed": true,
    "tags": []
   },
   "source": [
    "#### **9.6.** A random sample tends not to be an exact replica of its parent population. This fact has a number of implications. Indicate which are true and which are false."
   ]
  },
  {
   "cell_type": "markdown",
   "id": "c4dc8ee9-5ce6-469e-b637-24f6a7ff645c",
   "metadata": {},
   "source": [
    "(a) All possible random samples can include a few samples that are exact replicas of the population, but most samples aren’t exact replicas. <br>\n",
    "True, given an appropriate sample size. <br>\n",
    "(b) A more representative sample can be obtained by handpicking (rather than randomly selecting) observations. <br>\n",
    "False. <br>\n",
    "(c) Insofar as it misrepresents the parent population, a random sample can cause an erroneous generalization. <br>\n",
    "True. Misrepresentative samples may very well produce deviative means that differ by some amount from the actual population means, therefore, are not reliable for generalization.  <br>\n",
    "(d) In practice, the mean of a single random sample is evaluated relative to the variability of means for all possible random samples. <br>\n",
    "True. The measurement is designed to indicate the probability of occurence for that sample."
   ]
  },
  {
   "cell_type": "markdown",
   "id": "89a74a8b-b363-4908-8942-c181964459bc",
   "metadata": {
    "jp-MarkdownHeadingCollapsed": true,
    "tags": []
   },
   "source": [
    "#### **9.7.** Define the sampling distribution of the mean."
   ]
  },
  {
   "cell_type": "markdown",
   "id": "0695a6cb-1da4-415a-a891-0bf04b369fa5",
   "metadata": {},
   "source": [
    "The sampling distribution of the mean is a distribution, in which the means of all possible samples from a population and their frequencies of occurrences are fully listed."
   ]
  },
  {
   "cell_type": "markdown",
   "id": "be2ab538-ca52-40d1-bd83-c8969a1f3763",
   "metadata": {
    "jp-MarkdownHeadingCollapsed": true,
    "tags": []
   },
   "source": [
    "#### **9.8.** Specify three important properties of the sampling distribution of the mean. "
   ]
  },
  {
   "cell_type": "markdown",
   "id": "69b840fe-fa54-4485-a248-58490652d3c4",
   "metadata": {},
   "source": [
    "- First, the mean of the sampling distribution equals the population mean.\n",
    "- Second, the standard error has an inversely proportional relationship with the sample size.\n",
    "- Third, if the population distribution approximates a normal curve, any sample size will make the sampling distribution also a normal curve, otherwise, it will need to be within the range from 25-100 to produce a normal curve from the sampling distribution."
   ]
  },
  {
   "cell_type": "markdown",
   "id": "e60625de-0c84-43a3-8cc9-24f30e523464",
   "metadata": {
    "jp-MarkdownHeadingCollapsed": true,
    "tags": []
   },
   "source": [
    "#### **9.9.** Indicate whether the following statements are true or false. If we took a random sample of 35 subjects from some population, the associated sampling distribution of the mean would have the following properties: "
   ]
  },
  {
   "cell_type": "markdown",
   "id": "192b8ccc-2174-44b0-b246-8f57ee43e949",
   "metadata": {},
   "source": [
    "(a) Shape would approximate a normal curve. <br>\n",
    "True. Because a sample size of 35 could produce a very large number of permutations of all possible samples, therefore, diluted the effects of extreme values and dragged the distribution to a resemblance of the normal curve. <br>\n",
    "(b) Mean would equal the one sample mean. <br>\n",
    "False. It would be equal to the mean of the sampling distribution. <br>\n",
    "(c) Shape would approximate the shape of the population. <br>\n",
    "False. <br>\n",
    "(d) Compared to the population variability, the variability would be reduced by a factor equal to the square root of 35. <br>\n",
    "True, according to the formula of standard error. <br>\n",
    "(e) Mean would equal the population mean. <br>\n",
    "True.\n",
    "(f) Variability would equal the population variability. <br>\n",
    "False. It will always differ the population variability by some amount."
   ]
  },
  {
   "cell_type": "markdown",
   "id": "39615c8a-8da5-4736-ab17-969670696b2c",
   "metadata": {
    "jp-MarkdownHeadingCollapsed": true,
    "tags": []
   },
   "source": [
    "#### **9.10.** Indicate whether the following statements are true or false. The sampling distribution of the mean"
   ]
  },
  {
   "cell_type": "markdown",
   "id": "b34ed6ea-6a63-4eef-955e-c1c83378f620",
   "metadata": {},
   "source": [
    "(a) is always constructed from scratch, even when the population is large. <br>\n",
    "True. It is simply a more efficient method than conducting surveys on every sample possible. <br>\n",
    "(b) serves as a bridge to aid generalizations from a sample to a population. <br>\n",
    "True, by design. <br>\n",
    "(c) is the same as the sample mean. <br>\n",
    "False. It is a collection of sample means. <br>\n",
    "(d) always reflects the shape of the underlying population. <br>\n",
    "False, an appropriate sample size must be applied to procure the desired shape, whether it is the population shape or the normal curve. <br>\n",
    "(e) has a mean that always coincides with the population mean. <br>\n",
    "True, by mathematical property. <br>\n",
    "(f) is a device used to determine the effect of variability (that is, what can happen, just by chance, when samples are random). <br>\n",
    "True. <br>\n",
    "(g) remains unchanged even with shifts to a new population or sample size. <br>\n",
    "False, the data given in the distribution is directly calculated from the composition of subjects from a population and the sample size. <br>\n",
    "(h) supplies a spectrum of possibilities against which to evaluate the one observed sample mean. <br>\n",
    "True, by design. <br>\n",
    "(i) tends to cluster more closely about the population mean with increases in sample size. <br>\n",
    "True, due to mathematical property."
   ]
  },
  {
   "cell_type": "markdown",
   "id": "00a8d75e-86e7-4ca7-921a-76a3e59417f8",
   "metadata": {
    "jp-MarkdownHeadingCollapsed": true,
    "tags": []
   },
   "source": [
    "#### **9.11.** Someone claims that, since the mean of the sampling distribution equals the population mean, any single sample mean must also equal the population mean. Any comment?"
   ]
  },
  {
   "cell_type": "markdown",
   "id": "39bcd6fe-0cd2-43a8-a6da-67d97715d703",
   "metadata": {},
   "source": [
    "$\\Large \\frac{\\sum{[2, 5, 8, 9]}}{4} = 6 = \\frac{\\sum{[4, 5, 6, 9]}}{4}$"
   ]
  },
  {
   "cell_type": "markdown",
   "id": "55aa99bf-bf07-4a7a-9cf7-8336c82e13cb",
   "metadata": {
    "jp-MarkdownHeadingCollapsed": true,
    "tags": []
   },
   "source": [
    "#### **9.12.** Given that population standard deviation equals 24, how large must the sample size, n, be in order for the standard error to equal"
   ]
  },
  {
   "cell_type": "markdown",
   "id": "19594bdf-c803-4035-a324-36d60a14ed1c",
   "metadata": {},
   "source": [
    "(a) 8 ? <br>\n",
    "9. <br> \n",
    "(b) 6 ? <br>\n",
    "16. <br> \n",
    "(c) 3 ? <br>\n",
    "64. <br> \n",
    "(d) 2 ? <br>\n",
    "144."
   ]
  },
  {
   "cell_type": "markdown",
   "id": "0db8f23a-f2d7-4d52-b0d1-92ced6ebf9d8",
   "metadata": {
    "jp-MarkdownHeadingCollapsed": true,
    "tags": []
   },
   "source": [
    "#### **9.13.**  Given a sample size of 36, how large does the population standard deviation have to be in order for the standard error to be "
   ]
  },
  {
   "cell_type": "markdown",
   "id": "be4ca0ef-f2ac-4aa2-9d82-98352a76d48f",
   "metadata": {},
   "source": [
    "(a) 1 ? <br>\n",
    "6. <br>\n",
    "(b) 2 ? <br>\n",
    "12. <br>\n",
    "(c) 5 ? <br>\n",
    "30. <br>\n",
    "(d) 100 ? <br>\n",
    "600."
   ]
  },
  {
   "cell_type": "markdown",
   "id": "5a7c1d7b-13b2-4160-a21d-0463ff646842",
   "metadata": {},
   "source": [
    "#### **9.14.** "
   ]
  },
  {
   "cell_type": "markdown",
   "id": "cd3e89ac-ab36-4c00-80fa-98245ae249b2",
   "metadata": {},
   "source": [
    "(a) A random sample of size 144 is taken from the local population of grade-school children. Each child estimates the number of hours per week spent watching TV. At this point, what can be said about the sampling distribution? <br>\n",
    "The shape of the sampling distribution resembles a normal curve."
   ]
  },
  {
   "cell_type": "markdown",
   "id": "3b26874f-f8ab-4f46-a7dd-74f40a7b391e",
   "metadata": {},
   "source": [
    "(b) Assume that a standard deviation, σ, of 8 hours describes the TV estimates for the local population of schoolchildren. At this point, what can be said about the sampling distribution? <br>\n",
    "The standard error or the average amount by which a sample mean deviates on either side of the distribution's mean is $\\frac{2}{3}$"
   ]
  },
  {
   "cell_type": "markdown",
   "id": "4473e8bf-ad54-4330-b12f-9523aebe96af",
   "metadata": {},
   "source": [
    "(c) Assume that a mean, μ, of 21 hours describes the TV estimates for the local population of schoolchildren. Now what can be said about the sampling distribution? <br>\n",
    "The mean of the distribution is also 21 hours."
   ]
  },
  {
   "cell_type": "markdown",
   "id": "48595846-b4f6-47bd-98d8-ef57ef01b7ea",
   "metadata": {},
   "source": [
    "(d) Roughly speaking, the sample means in the sampling distribution should deviate, on average, about ___ hours from the mean of the sampling distribution and from the mean of the population. <br>\n",
    "0.67 hours."
   ]
  },
  {
   "cell_type": "markdown",
   "id": "03b67d2f-256d-4dc5-bed0-ac64e5a04ccb",
   "metadata": {},
   "source": [
    "(e) About 95 percent of the sample means in this sampling distribution should be between ___ hours and ___ hours. <br>\n",
    "Between 19.13 and 22.87 hours."
   ]
  },
  {
   "cell_type": "code",
   "execution_count": null,
   "id": "8ebe8f52-5d74-4787-9be0-e841a11b360b",
   "metadata": {},
   "outputs": [],
   "source": []
  }
 ],
 "metadata": {
  "kernelspec": {
   "display_name": "Python 3 (ipykernel)",
   "language": "python",
   "name": "python3"
  },
  "language_info": {
   "codemirror_mode": {
    "name": "ipython",
    "version": 3
   },
   "file_extension": ".py",
   "mimetype": "text/x-python",
   "name": "python",
   "nbconvert_exporter": "python",
   "pygments_lexer": "ipython3",
   "version": "3.10.4"
  }
 },
 "nbformat": 4,
 "nbformat_minor": 5
}
