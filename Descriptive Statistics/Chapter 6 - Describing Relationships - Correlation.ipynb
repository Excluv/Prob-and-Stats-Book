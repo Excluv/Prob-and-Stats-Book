{
 "cells": [
  {
   "cell_type": "code",
   "execution_count": 1,
   "id": "a78a468d-5bf7-410a-94c5-29a74800791d",
   "metadata": {},
   "outputs": [],
   "source": [
    "%matplotlib inline\n",
    "import numpy as np\n",
    "import pandas as pd\n",
    "\n",
    "import os\n",
    "import sys\n",
    "\n",
    "# Append the parent directory to sys.path so that utils can be found\n",
    "sys.path.append(os.path.join(sys.path[0], os.path.pardir))\n",
    "\n",
    "from utils import StringHandler as SH\n",
    "from utils import NormalDistribution as ND\n",
    "from utils import CorrelationCoefficient as CC"
   ]
  },
  {
   "cell_type": "markdown",
   "id": "7ad75805-1289-4f9a-b98e-3dbac4d06de6",
   "metadata": {
    "tags": []
   },
   "source": [
    "### **6.1/ AN INTUITIVE APPROACH**"
   ]
  },
  {
   "cell_type": "markdown",
   "id": "0cd2e5c8-be5d-4324-bf78-ef146d8a1bb0",
   "metadata": {},
   "source": [
    "#### **Positive Relationship:**\n",
    "- Definition:\n",
    "    + Positive Relationship: occurs insofar as pairs of scores tend to occupy similar relative positions (high with high, low with low) in their respective distributions."
   ]
  },
  {
   "cell_type": "markdown",
   "id": "908eae3b-937c-4bd1-8b19-d1f12f383755",
   "metadata": {},
   "source": [
    "#### **Negative Relationship:**\n",
    "- Definition:\n",
    "    + Negative Relationship: occurs insofar as pairs of scores tend to occupy dissimilar relative positions (high with low and vice versa) in their respective distributions."
   ]
  },
  {
   "cell_type": "markdown",
   "id": "3e577aa9-d672-46df-8513-31e93afba148",
   "metadata": {},
   "source": [
    "#### **Little or No Relationship:**\n",
    "- Unlike Positive and Negative Relationships, in which there's a pronounced pattern of scores distributions, that is, either high scores are associated with high scores or high scores are associated with low scores, Little or No Relationship occurs insofar as pairs of scores do not have any particular pattern, so that high scores might be associated with high scores as well as low scores."
   ]
  },
  {
   "cell_type": "markdown",
   "id": "76c6526d-4b3a-4438-8bc4-06c4a15b86e8",
   "metadata": {},
   "source": [
    "#### **Review:**"
   ]
  },
  {
   "cell_type": "markdown",
   "id": "bce568e8-f793-41d4-b017-9f2b8886fc91",
   "metadata": {
    "jp-MarkdownHeadingCollapsed": true,
    "tags": []
   },
   "source": [
    "#### **Progress Check 6.1: Indicate whether the following statements suggest a positive or negative relationship**"
   ]
  },
  {
   "cell_type": "markdown",
   "id": "070a5b2e-0630-4952-8ea7-567ed605d905",
   "metadata": {},
   "source": [
    "(a) More densely populated areas have higher crime rates. <br>\n",
    "Positive relationship. <br>\n",
    "(b) Schoolchildren who often watch TV perform more poorly on academic achievement tests. <br>\n",
    "Negative relationship. <br>\n",
    "(c) Heavier automobiles yield poorer gas mileage. <br>\n",
    "Negative relationship. <br>\n",
    "(d) Better-educated people have higher incomes. <br>\n",
    "Positive relationship. <br>\n",
    "(e) More anxious people voluntarily spend more time performing a simple repetitive task. <br>\n",
    "Positive relationship. <br>"
   ]
  },
  {
   "cell_type": "code",
   "execution_count": null,
   "id": "186d99d9-fc5b-40fa-bff8-c25a68bf169b",
   "metadata": {},
   "outputs": [],
   "source": []
  },
  {
   "cell_type": "markdown",
   "id": "f15af048-dd54-4cea-b382-535e9491552a",
   "metadata": {
    "jp-MarkdownHeadingCollapsed": true,
    "tags": []
   },
   "source": [
    "### **6.2/ SCATTERPLOTS**"
   ]
  },
  {
   "cell_type": "markdown",
   "id": "3feb89c5-c28f-431c-b4c0-ef01bf1e4fca",
   "metadata": {},
   "source": [
    "- Definition:\n",
    "    + Scatterplot: a graph containing a cluster of dots the represents all pairs of scores."
   ]
  },
  {
   "cell_type": "markdown",
   "id": "eece8cb6-bb14-4159-af7c-d2bcaba3457f",
   "metadata": {},
   "source": [
    "#### **Construction:**"
   ]
  },
  {
   "cell_type": "markdown",
   "id": "203ef7b0-4aa9-4e2b-9d25-45acb3ce01c3",
   "metadata": {},
   "source": [
    "#### **Positive, Negative, or Little or No Relationship:**\n",
    "- Patterns of relationships:\n",
    "    + Positive: when the dot cluster has a slope from the lower left to the upper right.\n",
    "    + Negative: when the dot cluster has a slope from the upper left to the lower right.\n",
    "    + Little or No Relationship: when the dot cluster lacks of any slope."
   ]
  },
  {
   "cell_type": "markdown",
   "id": "f62503b5-8012-4197-850d-cd695bf26aa8",
   "metadata": {},
   "source": [
    "#### **Strong or Weak Relationship?**\n",
    "- The more closely the dot cluster resembles a straight line, the stronger (the more regular) the relationship will be."
   ]
  },
  {
   "cell_type": "markdown",
   "id": "a2a2762b-9457-44c9-a34b-bf7a08203cf0",
   "metadata": {},
   "source": [
    "#### **Perfect Relationship:**\n",
    "- When the dot cluster equals (exactly) a straight line, then the relationship is perfect, which is rather unlike in practice."
   ]
  },
  {
   "cell_type": "markdown",
   "id": "957188bf-42f2-4e66-9552-2bd33c4763ba",
   "metadata": {},
   "source": [
    "#### **Curvilinear Relationship:**\n",
    "- Definition:\n",
    "    + Linear Relationship: when the dot cluster approximates a straight line, the relationship is considered linear.\n",
    "    + Curvilinear Relationship: when the dot cluster approximates a curve, the relationship is considered curvilinear.\n",
    "- Unlike linear relationships, curvilinear ones include both negative and positive properties at the same time, however, the judment of relationship's strength is still read as how much the dot cluster resembles the shape."
   ]
  },
  {
   "attachments": {
    "7a92d6b3-6125-42dd-9a12-a817960d339b.png": {
     "image/png": "[encoded data removed]"
    }
   },
   "cell_type": "markdown",
   "id": "9bfaaf67-4d7e-44ad-80dd-7637067aa96b",
   "metadata": {
    "jp-MarkdownHeadingCollapsed": true,
    "tags": []
   },
   "source": [
    "#### **Progress Check 6.2: Critical reading and math scores on the SAT test for students A, B, C, D, E, F, G, and H are shown in the following scatterplot**\n",
    "![image.png](attachment:7a92d6b3-6125-42dd-9a12-a817960d339b.png)"
   ]
  },
  {
   "cell_type": "markdown",
   "id": "e28245e4-372b-48bb-9599-e6736d8b4c77",
   "metadata": {},
   "source": [
    "(a) Which student(s) scored about the same on both tests? <br>\n",
    "I, D, F. <br>\n",
    "(b) Which student(s) scored higher on the critical reading test than on the math test? <br>\n",
    "F, B, H, E. <br>\n",
    "(c) Which student(s) will be eligible for an honors program that requires minimum scores of 700 in critical reading and 500 in math? <br>\n",
    "H, E. <br>\n",
    "(d) Is there a negative relationship between the critical reading and math scores? <br>\n",
    "No. The relationship approximates a positive one."
   ]
  },
  {
   "cell_type": "code",
   "execution_count": null,
   "id": "e6945174-1af2-44a6-b8ad-061945bf3049",
   "metadata": {},
   "outputs": [],
   "source": []
  },
  {
   "cell_type": "code",
   "execution_count": null,
   "id": "3931e65b-c0d0-4756-9016-00fc23e1590e",
   "metadata": {},
   "outputs": [],
   "source": []
  },
  {
   "cell_type": "code",
   "execution_count": null,
   "id": "ebb764b0-c80d-4ca9-9403-5977376e81de",
   "metadata": {},
   "outputs": [],
   "source": []
  },
  {
   "cell_type": "code",
   "execution_count": null,
   "id": "74e9dea2-6903-4b3a-ab58-7b764c8f57f8",
   "metadata": {},
   "outputs": [],
   "source": []
  },
  {
   "cell_type": "markdown",
   "id": "f5f18413-9d51-4904-90fa-e99f6b9090d0",
   "metadata": {
    "tags": []
   },
   "source": [
    "### **6.3/ A CORRELATION COEFFICIENT FORMULA FOR QUANTITATIVE DATA: <i>r</i>**"
   ]
  },
  {
   "cell_type": "markdown",
   "id": "eb081118-6cd5-4326-a664-1cc28d1a36d6",
   "metadata": {},
   "source": [
    "- Definition:\n",
    "    + Correlation Coefficient: a number between -1 and 1 that describes the relationship between pairs of variables."
   ]
  },
  {
   "cell_type": "markdown",
   "id": "b6a7ffe3-b63d-467b-bc6b-819acad0c96d",
   "metadata": {},
   "source": [
    "#### **Key Properties of <i>r</i>:**\n",
    "- Pearson Correlation Coefficient (<i>r</i>): a number between -1.00 and 1.00 that describes the linear relationship between pairs of quantitative variables.\n",
    "- The key properties of <i>r</i>:\n",
    "    + The sign of r indicates the type of linear relationship, either positive or negative.\n",
    "    + The numerical value of r, regardless of its sign, indicates the strength of the linear relationship."
   ]
  },
  {
   "cell_type": "markdown",
   "id": "d2664199-0515-4f88-8501-645d9ae10754",
   "metadata": {
    "tags": []
   },
   "source": [
    "#### **Sign of <i>r</i>:**"
   ]
  },
  {
   "cell_type": "markdown",
   "id": "5e37dc11-eda4-43e3-a570-965b93d79286",
   "metadata": {},
   "source": [
    "#### **Numerical Value of <i>r</i>:**\n",
    "- The more the absolute value of r approaches 1, the stronger the relationship is. On the other hand, the more the absolute value of r approaches 0, the weaker the relationship is.\n",
    "- From a slightly different perspective, the value of r is a measure of how well the straight line (in the context of linear relationship) describes the dot cluster in a scatterplot."
   ]
  },
  {
   "cell_type": "markdown",
   "id": "822c87be-a988-4cf6-bf38-f39a8aaadac9",
   "metadata": {},
   "source": [
    "#### **Interpretation of <i>r</i>:**\n",
    "- As a tool for generalization, the <i>r</i> cannot be interpreted at face value.\n",
    "- Further than only taking the value of <i>r</i> for granted, the number of data that is used in order to calculate <i>r</i> should also be taken into account.\n",
    "- An <i>r</i> of :\n",
    "    + 0 <= abs(r) < 0.1: indicates little or no correlation.\n",
    "    + 0.1 <= abs(r) < 0.3: indicates a weak correlation.\n",
    "    + 0.3 <= abs(r) < 0.5: indicates a moderate correlation.\n",
    "    + 0.5 <= abs(r) < 1: indicates a strong correlation.\n",
    "- When the <i>r</i> is used to measure \"test reliability\", the number reading of 0.80 is expected."
   ]
  },
  {
   "cell_type": "markdown",
   "id": "68086358-1de6-48d7-aad4-b8ba2a796e55",
   "metadata": {},
   "source": [
    "#### **<i>r</i> Is Independent of Units of Measurement:**\n",
    "- Regardless of the units of measurement, <i>r</i> is dependent of only the pattern among pairs of scores, as:\n",
    "    + A positive value of <i>r</i> reflects the tendency for pairs of scores to occupy similar relative locations on their respective distributions.\n",
    "    + Otherwise, a negative value of <i>r</i> reflects the tendency for pairs of scores to occupy dissimilar/opposite locations on their repestive distributions."
   ]
  },
  {
   "cell_type": "markdown",
   "id": "115ad27d-199c-4e05-bc8b-493fa6b3ce06",
   "metadata": {},
   "source": [
    "#### **Range Restrictions:**\n",
    "- Except for special circumstances, the value of the correlation coefficient declines whenever the range of possible X and Y scores is restricted. Range restriction is analogous to magnifying a subset of the original dot cluster and, in the process, losing much of the orderly and predictable pattern in the original dot cluster."
   ]
  },
  {
   "cell_type": "markdown",
   "id": "061cd1ca-876b-4c97-a76e-756a71dc2a90",
   "metadata": {},
   "source": [
    "#### **Caution:**\n",
    "- The <i>r</i> cannot be interpreted as a proportion or percentage of some perfect relationship."
   ]
  },
  {
   "cell_type": "markdown",
   "id": "596093f4-03b1-4c34-93ea-f637cb804bb2",
   "metadata": {},
   "source": [
    "#### **Verbal Descriptions:**\n",
    "- If possible, translate the value of <i>r</i> into a verbal phrase that stresses the pattern of the relationship between variables instead of focusing on the face value."
   ]
  },
  {
   "cell_type": "markdown",
   "id": "4cba1284-c0ca-4a2f-a4ba-48c6a3338138",
   "metadata": {
    "tags": []
   },
   "source": [
    "#### **Progress Check 6.3:** Supply a verbal description for each of the following correlations. (If necessary, visualize a rough scatterplot for r, using the scatterplots in Figure 6.3 as a frame of reference.)"
   ]
  },
  {
   "cell_type": "markdown",
   "id": "4c1d6f68-b5e3-40c4-be60-7bcf53ff1f4d",
   "metadata": {},
   "source": [
    "(a) an r of –.84 between total mileage and automobile resale value. <br>\n",
    "The resale value of cars depreciate significantly as their mileages accumulate. <br>\n",
    "(b) an r of –.35 between the number of days absent from school and performance on a math achievement test. <br>\n",
    "The performance on a math test tends to be lower as the number of days absent from school is higher. <br>\n",
    "(c) an r of .03 between anxiety level and college GPA. <br>\n",
    "There is a little of correlation between anxiety level and college GPA. <br>\n",
    "(d) an r of .56 between age of schoolchildren and reading comprehension. <br>\n",
    "Schoolchildren of higher ages tend to have higher reading comprehension."
   ]
  },
  {
   "cell_type": "markdown",
   "id": "8c3c0e9d-581b-44a9-8d01-165219801432",
   "metadata": {},
   "source": [
    "#### **Correlation Not Necessarily Cause-Effect:**\n",
    "- A correlation coeffcient, regardless of size, never provides information about whether an observed relationship reflects a simple cause-effect relationship or some more complex state of affairs."
   ]
  },
  {
   "cell_type": "markdown",
   "id": "25e31d7b-47db-4697-b4d3-bb333cd8d1e9",
   "metadata": {},
   "source": [
    "#### **Role of Experimentation:**\n",
    "- When in doubt of dependent variables might involve in the reading of the value of correlation coefficient, always seek for experimentations and control of independent variables, under such controlled environment, the correlation is read off more reliable."
   ]
  },
  {
   "cell_type": "markdown",
   "id": "edbee7fc-b84c-4701-b5e2-0c8b014568c3",
   "metadata": {
    "jp-MarkdownHeadingCollapsed": true,
    "tags": []
   },
   "source": [
    "#### **Progress Check 6.4:** Speculate on whether the following correlations reflect simple cause-effect relationships or more complex states of affairs. (Hint: A cause-effect relationship implies that,if all else remains the same, any change in the causal variable should always produce a predictable change in the other variable.)"
   ]
  },
  {
   "cell_type": "markdown",
   "id": "41c916d5-72e5-4922-9716-d9a35369d9d6",
   "metadata": {},
   "source": [
    "(a) caloric intake and body weight. <br>\n",
    "Simple cause-effect. <br>\n",
    "(b) height and weight. <br>\n",
    "More complex state of affairs. <br>\n",
    "(c) SAT math score and score on a calculus test. <br>\n",
    "Complex. <br>\n",
    "(d) poverty and crime. <br>\n",
    "More complext state of affairs."
   ]
  },
  {
   "cell_type": "markdown",
   "id": "d4051848-c836-43ca-8f53-3f862bb40a4e",
   "metadata": {
    "jp-MarkdownHeadingCollapsed": true,
    "tags": []
   },
   "source": [
    "### **6.4/ DETAILS: COMPUTATION FORMULA FOR <i>r</i>**"
   ]
  },
  {
   "cell_type": "markdown",
   "id": "3b5bc80c-8ef3-4b8c-b0f5-84f69befbfa0",
   "metadata": {},
   "source": [
    "<center><b>CORRELATION COEFFICIENT (COMPUTATION FORMULA)</b></center>\n",
    "<center>$\\Large \\it r = \\frac{SP_{xy}}{\\sqrt{{SS_x}{SS_y}}}$<center>\n",
    "<br><br>\n",
    "<center><b>SUM OF PRODUCTS (DEFINITION AND COMPUTATION FORMULAS)</b></center>\n",
    "<center>$\\Large SP_{xy} = \\sum{(X - \\overline{X})(Y - \\overline{Y})} = \\sum{XY} - \\frac{(\\sum{X})(\\sum{Y})}{n}$</center>"
   ]
  },
  {
   "attachments": {
    "3b263ac1-0da9-4104-baed-6551abe966b7.png": {
     "image/png": "[encoded data removed]"
    }
   },
   "cell_type": "markdown",
   "id": "b057236d-2567-43d5-a0b5-65a6addd9e63",
   "metadata": {
    "jp-MarkdownHeadingCollapsed": true,
    "tags": []
   },
   "source": [
    "#### **Progress Check 6.5:** Couples who attend a clinic for first pregnancies are asked to estimate (independently of each other) the ideal number of children. Given that X and Y represent the estimates of females and males, respectively, the results are as follows:\n",
    "![image.png](attachment:3b263ac1-0da9-4104-baed-6551abe966b7.png) <br>\n",
    "Calculate a value for r, using the computation formula."
   ]
  },
  {
   "cell_type": "code",
   "execution_count": null,
   "id": "3f37711c-9c35-4f28-b569-5ee59e4c90cd",
   "metadata": {
    "tags": []
   },
   "outputs": [],
   "source": [
    "data_str = [\"A 1 2\",\n",
    "            \"B 3 4\",\n",
    "            \"C 2 3\",\n",
    "            \"D 3 2\",\n",
    "            \"E 1 0\",\n",
    "            \"F 2 3\"]\n",
    "classes, columns = SH.to_data(data_str, ncol=2, name_maxlength=1)\n",
    "corr_coef = CC.calc_correlation(columns[:, 0], columns[:, 1])\n",
    "corr_coef"
   ]
  },
  {
   "cell_type": "markdown",
   "id": "422731b0-de5e-42ee-8df4-a91894e60e98",
   "metadata": {
    "jp-MarkdownHeadingCollapsed": true,
    "tags": []
   },
   "source": [
    "### **6.5/ OUTLIERS AGAIN**"
   ]
  },
  {
   "cell_type": "markdown",
   "id": "e83bb406-233d-4448-b03f-4f75232a1ece",
   "metadata": {},
   "source": [
    "#### **Greeting Card Study Revisited:**\n",
    "- Sometimes the outliers in a scatterplot, when considering data points singularly, are not extreme values comparatively to their distributions, rather, it is their combination that makes them outliers.\n",
    "- Outliers can cause the correlation coefficient to deviate greatly from the value that one would obtained without them, therefore, may distort the interpretation of the relationship of most data in the dot cluster."
   ]
  },
  {
   "cell_type": "markdown",
   "id": "9334a19b-163f-4f20-84a0-d750ddc7457a",
   "metadata": {},
   "source": [
    "#### **Dealing with Outliers:**\n",
    "- The most defensible strategy is to report the correlation coefficient of both with and without any outliers."
   ]
  },
  {
   "cell_type": "markdown",
   "id": "9c98a183-36ce-43b9-96a9-ae94eb19e2cc",
   "metadata": {},
   "source": [
    "### **6.6/ OTHER TYPES OF CORRELATION COEFFICIENTS**"
   ]
  },
  {
   "cell_type": "markdown",
   "id": "d1677c3d-891e-4e55-8ae1-b53d42c971c0",
   "metadata": {},
   "source": [
    "#### **Spearman Rank-Order:**"
   ]
  },
  {
   "cell_type": "markdown",
   "id": "e9dc8abe-c1a5-44f2-803f-604457cba29b",
   "metadata": {
    "jp-MarkdownHeadingCollapsed": true,
    "tags": []
   },
   "source": [
    "#### **Point-biserial Correlation Coefficient <i>$r_{pbi}$</i>:**"
   ]
  },
  {
   "cell_type": "markdown",
   "id": "de55b9fb-46ee-4646-b1db-c60ae9230758",
   "metadata": {
    "tags": []
   },
   "source": [
    "##### **Definition:**\n",
    "+ <i>$r_{pbi}$</i>: a statistical measurement used to estimate the degree of relationship between a naturally occuring dichotomous (in which the axis is divided into two branches) nominal scale and an interval (or ratio) scale."
   ]
  },
  {
   "cell_type": "markdown",
   "id": "1204c2ea-cef4-496f-ae3f-9d0de219362e",
   "metadata": {},
   "source": [
    "##### **Usage:**\n",
    "+ To determine whether there exists a discrimination between two groups in some investigation (e.g., a group is better in some task than the other).\n",
    "+ In practice, it is common to calculate the correlation coefficient of groups with their sizes being greater than two dozens."
   ]
  },
  {
   "cell_type": "markdown",
   "id": "53c3121d-d5d4-4bcc-a461-ded5008e63b4",
   "metadata": {},
   "source": [
    "##### **Formula:**\n",
    "Let each group be coded as 1 and 0, respectively (these codes only serve as nominal values, or identifications to distinguish one group from another) <br>\n",
    "<center><b>POINT-BISERIAL CORRELATION COEFFICIENT FOR POPULATION</b></center>\n",
    "<center>$\\Large \\it r_{pbi} = \\frac{\\mu_p - \\mu_q}{\\sigma}\\sqrt{pq}$</center>\n",
    "<br>\n",
    "   Where: <br>\n",
    "       + $\\mu_p$: mean of scores of the group coded as 1 <br>\n",
    "       + $\\mu_q$: mean of scores of the group coded as 0 <br>\n",
    "       + $\\sigma$: population standard deviation <br>\n",
    "       + p: proportion of the group coded 1 in the population <br>\n",
    "       + q = 1 - p: proportion of the group coded as 0 in the population."
   ]
  },
  {
   "cell_type": "markdown",
   "id": "9930d20d-fe48-4bbd-a081-73808f487f6b",
   "metadata": {},
   "source": [
    "##### **Interpretation:**\n",
    "+ Like the Pearson <i>r</i>, the value $r_{pbi}$ ranges from -1.00 to 1.00, indicating the direction and the strength of relationship.\n",
    "+ However, rather than stating the fact that there's a relationship between a group and the scores, $r_{pbi}$ implies the direction of the relationship between one group the scores relatively to the other group. \n",
    "+ For example: a distribution of math test scores of two groups of students, male (coded as 1) and female (coded as 0), is recored, an $r_{pbi}$ reading value of 0.5 will indicate that the male group performs better on the test than the female group, as given by the data in the distribution."
   ]
  },
  {
   "cell_type": "markdown",
   "id": "75cfaa5b-6c76-43c7-a905-b983feaf6dc3",
   "metadata": {
    "tags": []
   },
   "source": [
    "##### **Example:**"
   ]
  },
  {
   "cell_type": "code",
   "execution_count": null,
   "id": "5cd1ec13-3584-4608-b44c-ff5a6a7f5cd5",
   "metadata": {},
   "outputs": [],
   "source": [
    "scores = np.random.uniform(2.00, 4.00, size=100)\n",
    "males = np.unique(np.random.randint(0, 99, size=50))\n",
    "\n",
    "arr = np.arange(0, 100)\n",
    "females = list()\n",
    "for idx in arr:\n",
    "    if idx not in males:\n",
    "        females = np.concatenate([females, [arr[idx]]])\n",
    "    else:\n",
    "        continue\n",
    "\n",
    "females = females.astype(np.int16)\n",
    "        \n",
    "males = scores[males]\n",
    "females = scores[females]\n",
    "\n",
    "r_pbi = CC.pbi_coefficient(males, females, scores)\n",
    "r_pbi"
   ]
  },
  {
   "cell_type": "markdown",
   "id": "e8b891e3-8246-4ab3-aeb6-a1aaf3cae2c9",
   "metadata": {},
   "source": [
    "#### **Biserial Correlation Coefficient <i>$r_{bi}$</i>:**"
   ]
  },
  {
   "cell_type": "markdown",
   "id": "a587c2fb-d051-4d20-8c43-5a4434c7bd56",
   "metadata": {},
   "source": [
    "#### **Phi:**"
   ]
  },
  {
   "cell_type": "markdown",
   "id": "6470c7b1-a3e3-426d-9f71-3da82992efef",
   "metadata": {},
   "source": [
    "#### **Tetrachoric:**"
   ]
  },
  {
   "cell_type": "markdown",
   "id": "833e6707-dba5-4a62-928e-e3841961609d",
   "metadata": {},
   "source": [
    "#### **Gamma:**"
   ]
  },
  {
   "attachments": {
    "5870fed5-0cc7-44a1-89a5-b2227a01a180.png": {
     "image/png": "[encoded data removed]"
    }
   },
   "cell_type": "markdown",
   "id": "a54e63e4-e7a6-4c6f-8e34-bf8ca14d6579",
   "metadata": {
    "tags": []
   },
   "source": [
    "#### **Summary:**\n",
    "- Truth table of correlation coefficient types and their use cases: <br>\n",
    "![image.png](attachment:5870fed5-0cc7-44a1-89a5-b2227a01a180.png)"
   ]
  },
  {
   "cell_type": "markdown",
   "id": "7c53936a-5c8d-4614-a800-623067c00876",
   "metadata": {},
   "source": [
    "### **6.7/ COMPUTER OUTPUT**"
   ]
  },
  {
   "cell_type": "markdown",
   "id": "3043aa5d-2f5a-425c-a882-2c60f3d3556d",
   "metadata": {},
   "source": [
    "#### **Reading a Larger Correlation Matrix:**"
   ]
  },
  {
   "cell_type": "markdown",
   "id": "02ad0820-7614-4bb1-a7e4-e2f59675448f",
   "metadata": {},
   "source": [
    "#### **Interpreting a Larger Correlation Matrix:**"
   ]
  },
  {
   "cell_type": "markdown",
   "id": "ca7fd85a-b7ba-4cc6-aebc-93b38086ecde",
   "metadata": {
    "jp-MarkdownHeadingCollapsed": true,
    "tags": []
   },
   "source": [
    "#### **Progress Check 6.6:** Refer to Table 6.5 when answering the following questions."
   ]
  },
  {
   "cell_type": "markdown",
   "id": "f5c14516-140e-483b-a727-f5ba6bad45d6",
   "metadata": {},
   "source": [
    "(a) Would the same positive correlation of .2981 have been obtained between GENDER and HIGH SCHOOL GPA if the assignment of codes had been reversed, with females being coded as 1 and males coded as 2? Explain your answer. <br>\n",
    "No. The correlation coefficient would be then -0.2981, since the reverse of codes assignment would change the positions of supplied input for the point-biserial formula, therefore reverses the sign of the final output. <br>\n",
    "(b) Given the new coding of females as 1 and males as 2, would the results still permit you to \n",
    "conclude that females tend to have higher high school GPAs than do males? <br>\n",
    "Yes. Given the reading value of r be -0.2981, it would indicate that male students tend to have lower GPAs than female students, this is merely another way of saying females students tend to have higher GPAs than male students. <br>\n",
    "(c) Would the original positive correlation of .2981 have been obtained if, instead of the original coding of males as 1 and females as 2, males were coded as 10 and females as 20? Explain your answer. <br>\n",
    "Yes. The codes only reflect the nomial values of different groups and their face values are not taken into actual calculation. <br>\n",
    "(d) Assume that the correlation matrix includes a fifth variable. What would be the totalnumber of relevant correlations in the expanded matrix? <br>\n",
    "10. The fifth variable would add 4 new correlations to the original six."
   ]
  },
  {
   "cell_type": "markdown",
   "id": "5e302376-6b2c-4f32-aa92-9403fc6dfdea",
   "metadata": {
    "jp-MarkdownHeadingCollapsed": true,
    "tags": []
   },
   "source": [
    "### **REVIEW QUESTIONS**"
   ]
  },
  {
   "cell_type": "markdown",
   "id": "e25078f8-03eb-496d-8ad7-7dbf5cf0c834",
   "metadata": {
    "jp-MarkdownHeadingCollapsed": true,
    "tags": []
   },
   "source": [
    "#### **6.7.**"
   ]
  },
  {
   "attachments": {
    "df287f5c-6d73-4bd9-a644-31a49142f448.png": {
     "image/png": "[encoded data removed]"
    }
   },
   "cell_type": "markdown",
   "id": "b0d2b7c1-923f-4972-9325-3e5bca25035e",
   "metadata": {},
   "source": [
    "(a) Estimate whether the following pairs of scores for X and Y reflect a positive relationship, a negative relationship, or no relationship. Hint: Note any tendency for pairs of X and Y scores to occupy similar or dissimilar relative locations. <br>\n",
    "![image.png](attachment:df287f5c-6d73-4bd9-a644-31a49142f448.png) <br>\n",
    "Negative. <br>\n",
    "(b) Construct a scatterplot for X and Y. Verify that the scatterplot does not describe a pronounced curvilinear trend. <br>\n",
    "(c) Calculate r using the computation formula (6.1)."
   ]
  },
  {
   "cell_type": "code",
   "execution_count": 2,
   "id": "66ddb550-e31a-459e-b735-425ac53a450c",
   "metadata": {},
   "outputs": [],
   "source": [
    "# Solution:\n",
    "data_str = [\"64 66\", \"40 79\", \"30 98\",\n",
    "            \"71 65\", \"55 76\", \"31 83\",\n",
    "            \"61 68\", \"42 80\", \"57 72\"]\n",
    "ignored, data = SH.to_data(data_str, 2, 0)"
   ]
  },
  {
   "cell_type": "code",
   "execution_count": null,
   "id": "b1a611a9-14f4-4a5f-a757-43770a49c06f",
   "metadata": {},
   "outputs": [],
   "source": [
    "# b):\n",
    "plot = CC.draw_scatterplot(data[:, 0], data[:, 1])"
   ]
  },
  {
   "cell_type": "code",
   "execution_count": null,
   "id": "741d6862-c932-4390-831f-4bcd94dff45b",
   "metadata": {},
   "outputs": [],
   "source": [
    "# c):\n",
    "r = CC.pearson_coefficient(data[:, 0], data[:, 1])\n",
    "r"
   ]
  },
  {
   "attachments": {
    "1a88e4e8-67d6-458f-a322-b4d5280ab130.png": {
     "image/png": "[encoded data removed]"
    }
   },
   "cell_type": "markdown",
   "id": "d84bd4ea-d409-4100-8c4f-8c5c7d76fef6",
   "metadata": {
    "jp-MarkdownHeadingCollapsed": true,
    "tags": []
   },
   "source": [
    "#### **6.8.** Calculate the value of r using the computational formula (6.1) for the following data.\n",
    "![image.png](attachment:1a88e4e8-67d6-458f-a322-b4d5280ab130.png)"
   ]
  },
  {
   "cell_type": "code",
   "execution_count": 6,
   "id": "8db82cbb-de40-4f95-827b-9c1c0eeab192",
   "metadata": {},
   "outputs": [
    {
     "data": {
      "text/plain": [
       "-0.61"
      ]
     },
     "execution_count": 6,
     "metadata": {},
     "output_type": "execute_result"
    }
   ],
   "source": [
    "# Solution:\n",
    "data_str = [\"2 8\",\"4 6\",\"5 2\",\n",
    "            \"3 3\",\"1 4\",\"7 1\",\"2 4\"]\n",
    "ignored, data = SH.to_data(data_str, 2, 0)\n",
    "r = CC.pearson_coefficient(data[:, 0], data[:, 1])\n",
    "r"
   ]
  },
  {
   "cell_type": "markdown",
   "id": "f14ae39c-0691-44ee-928c-9039a7533d0d",
   "metadata": {
    "jp-MarkdownHeadingCollapsed": true,
    "tags": []
   },
   "source": [
    "#### **6.9.** Indicate whether the following generalizations suggest a positive or negative relationship. Also speculate about whether or not these generalizations reflect simple cause-effect relationships."
   ]
  },
  {
   "cell_type": "markdown",
   "id": "e0fd659f-99b0-47ee-a546-5fecd7adf883",
   "metadata": {},
   "source": [
    "(a) Preschool children who delay gratification (postponing eating one marshmallow to win two) subsequently receive higher teacher evaluations of adolescent competencies. <br>\n",
    "Positive. Complex state of affairs. <br>\n",
    "(b) College students who take longer to finish a test perform more poorly on that test. <br>\n",
    "Negative. Complex state of affairs. <br>\n",
    "(c) Heavy smokers have shorter life expectancies. <br>\n",
    "Negative. Cause-effect. <br>\n",
    "(d) Infants who experience longer durations of breastfeeding score higher on IQ tests in later childhood. <br>\n",
    "Positive. Cause-effect."
   ]
  },
  {
   "cell_type": "markdown",
   "id": "60417850-24c8-4f83-9a2d-ffb5c0037a48",
   "metadata": {
    "jp-MarkdownHeadingCollapsed": true,
    "tags": []
   },
   "source": [
    "#### **6.10.** On the basis of an extensive survey, the California Department of Education reported an r of –.32 for the relationship between the amount of time spent watching TV and the achievement test scores of schoolchildren. Each of the following statements represents a possible interpretation of this finding. Indicate whether each is True or False."
   ]
  },
  {
   "cell_type": "markdown",
   "id": "186f5e9c-9732-4722-bf15-b3595b7b6726",
   "metadata": {},
   "source": [
    "(a) Every child who watches a lot of TV will perform poorly on the achievement tests. <br>\n",
    "False. This statement would be true only if a perfect negative relationship (-1.00) described the relationship between TV viewing time and test scores.<br>\n",
    "(b) Extensive TV viewing causes a decline in test scores. <br>\n",
    "False. Correlation does not necessarily signify cause-effect. <br>\n",
    "(c) Children who watch little TV will tend to perform well on the tests. <br>\n",
    "True. <br>\n",
    "(d) Children who perform well on the tests will tend to watch little TV. <br>\n",
    "True. <br>\n",
    "(e) If Gretchen’s TV-viewing time is reduced by one-half, we can expect a substantial improvement in her test scores. <br>\n",
    "False. Because of b)<br>\n",
    "(f) TV viewing could not possibly cause a decline in test scores. <br>\n",
    "False. Even though correlation does not necessarily signify cause-effect, it indeed opens possibility of cause-effect."
   ]
  },
  {
   "cell_type": "markdown",
   "id": "04dbe91c-c455-4fd0-9eae-da110c16b073",
   "metadata": {
    "jp-MarkdownHeadingCollapsed": true,
    "tags": []
   },
   "source": [
    "#### **6.11.** Assume that an r of .80 describes the relationship between daily food intake, measured in ounces, and body weight, measured in pounds, for a group of adults. Would a shift in the units of measurement from ounces to grams and from pounds to kilograms change the value of r ? Justify your answer."
   ]
  },
  {
   "cell_type": "markdown",
   "id": "0992146c-a625-4b1f-8226-2cccc02dc31c",
   "metadata": {},
   "source": [
    "The r measures the relative standings of all pairs of scores within a distribution. A change in the unit of measurement does not change the relative standing of each score to their mean, therefore does not affect the overall value of r."
   ]
  },
  {
   "cell_type": "markdown",
   "id": "fe9597ec-d81f-4ae8-ac97-6708320871df",
   "metadata": {
    "jp-MarkdownHeadingCollapsed": true,
    "tags": []
   },
   "source": [
    "#### **6.12.** An extensive correlation study indicates that a longer life is experienced by people who follow the seven “golden rules” of behavior, including moderate drinking, no smoking, regular meals, some exercise, and eight hours of sleep each night. Can we conclude, therefore, that this type of behavior causes a longer life?"
   ]
  },
  {
   "cell_type": "markdown",
   "id": "68881682-1c25-4051-ba46-01cca52a9c12",
   "metadata": {},
   "source": [
    "It wouldn't be appropriate to conclude this cause-effect type of relationship, given only the information supplied by the study, rather, we could only conclude that life expectancies tend to be longer for the people that have a benefical and healthy lifestyle."
   ]
  }
 ],
 "metadata": {
  "kernelspec": {
   "display_name": "Python 3 (ipykernel)",
   "language": "python",
   "name": "python3"
  },
  "language_info": {
   "codemirror_mode": {
    "name": "ipython",
    "version": 3
   },
   "file_extension": ".py",
   "mimetype": "text/x-python",
   "name": "python",
   "nbconvert_exporter": "python",
   "pygments_lexer": "ipython3",
   "version": "3.10.4"
  }
 },
 "nbformat": 4,
 "nbformat_minor": 5
}
