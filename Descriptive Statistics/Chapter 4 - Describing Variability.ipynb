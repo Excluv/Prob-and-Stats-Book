{
 "cells": [
  {
   "cell_type": "code",
   "execution_count": 56,
   "id": "b9a80cb9-fd03-4311-bdfb-2d1a48fda430",
   "metadata": {},
   "outputs": [],
   "source": [
    "%matplotlib inline\n",
    "import numpy as np\n",
    "import pandas as pd\n",
    "import matplotlib as mpl\n",
    "import matplotlib.pyplot as plt"
   ]
  },
  {
   "cell_type": "markdown",
   "id": "5539fce0-f7b8-4305-a68b-e319d82c820b",
   "metadata": {
    "jp-MarkdownHeadingCollapsed": true,
    "tags": []
   },
   "source": [
    "### **4.1/ INTUITIVE APPROACH**"
   ]
  },
  {
   "cell_type": "markdown",
   "id": "d97de250-6118-452c-9ccc-0398978661eb",
   "metadata": {},
   "source": [
    "#### **Importance of Variability:**\n",
    "- Variability reprents the dispersion of given data within a set and is an important indicator of the trustworthiness of the results obtained from observations of the data.\n",
    "- When the mean of the dataset is considered as just one among many possible outcomes for repeat experiments:\n",
    "    + If the similar mean differences would reappear in repeat experiments, and the dataset possesses less variability, then the mean would be viewed as the real difference.\n",
    "    + One the other hand, if the dissimilar mean differences would reappear in repreat experiments, and the dataset possesses high variability, the mean would be viewed as merely transitory and not taken seriously."
   ]
  },
  {
   "cell_type": "markdown",
   "id": "75eb1436-93eb-4682-8aab-f46e648a4d6d",
   "metadata": {},
   "source": [
    "**Progress Check 4.1 For a given mean difference—say, 10 points—between two groups, what degree of variability within each of these groups (small, medium, or large) makes the mean difference.** <br>\n",
    "(a) ...most conspicuous with more statistical stability? <br>\n",
    "Small. <br>\n",
    "(b) ...least conspicuous with less statistical stability? <br>\n",
    "Large. <br>"
   ]
  },
  {
   "cell_type": "markdown",
   "id": "be09e1dc-d6e9-498b-9624-22692c366434",
   "metadata": {
    "jp-MarkdownHeadingCollapsed": true,
    "tags": []
   },
   "source": [
    "### **4.2/ RANGE**"
   ]
  },
  {
   "cell_type": "markdown",
   "id": "4312cc37-46f8-4a4e-8ecc-b8e0e31750cb",
   "metadata": {},
   "source": [
    "- Definition:\n",
    "    + Range: the difference between the largest and the smallest scores."
   ]
  },
  {
   "cell_type": "markdown",
   "id": "169e3117-4b97-44f3-93b9-62ed98208e2a",
   "metadata": {},
   "source": [
    "#### **Shortcomings of Range:**\n",
    "- First: the Range does not use any other values beside from the largest and the smallest ones, therefore might fail to reflect any meanings of the remaining scores.\n",
    "- Second: the Range tends to increase with the increases in the size of the dataset, instead of being a relatively stable measure of variability."
   ]
  },
  {
   "cell_type": "markdown",
   "id": "6fe56589-37d3-4982-aaae-54d995a97642",
   "metadata": {
    "jp-MarkdownHeadingCollapsed": true,
    "tags": []
   },
   "source": [
    "### **4.3/ VARIANCE**"
   ]
  },
  {
   "cell_type": "markdown",
   "id": "d8a00cf4-0be4-4d00-b1e2-a08295e4df64",
   "metadata": {},
   "source": [
    "- Definition:\n",
    "    + Variance: the mean of all squared deviations scores."
   ]
  },
  {
   "cell_type": "markdown",
   "id": "58228f3c-11c2-42d8-acd3-97df3436f6ef",
   "metadata": {},
   "source": [
    "#### **Reconstructing the Variance:**"
   ]
  },
  {
   "cell_type": "markdown",
   "id": "83caa27e-78a7-4794-90d1-256e95480c4c",
   "metadata": {
    "tags": []
   },
   "source": [
    "#### **Mean of the Deviations Not a Useful Measure:**"
   ]
  },
  {
   "cell_type": "markdown",
   "id": "1a05b979-2199-40f3-866e-47d643dcedd0",
   "metadata": {
    "jp-MarkdownHeadingCollapsed": true,
    "tags": []
   },
   "source": [
    "#### **Mean of the Squared Deviations:**\n",
    "- Formula for the Variance of the Squared Deviations:\n",
    "<center>$\\LARGE S^2 = \\frac{\\sum{(X_i - \\overline{X})^2}}{N}$ </center>"
   ]
  },
  {
   "cell_type": "markdown",
   "id": "9310050b-67f5-4c1f-94a4-a71cc6da6364",
   "metadata": {},
   "source": [
    "#### **Weakness of Variance:**\n",
    "- The unit of measurement is modified into a squared."
   ]
  },
  {
   "cell_type": "markdown",
   "id": "ef2c3638-006a-4dca-a2ed-f96d8acefb16",
   "metadata": {
    "jp-MarkdownHeadingCollapsed": true,
    "tags": []
   },
   "source": [
    "### **4.4/ STANDARD DEVIATION**"
   ]
  },
  {
   "cell_type": "markdown",
   "id": "655d4f1b-c085-4bc5-b27c-1dac8f82511b",
   "metadata": {},
   "source": [
    "#### **Standard Deviation: An Interpretation**\n",
    "- Definition:\n",
    "    + Standard Deviation: a rough measure of the average (or standard) amount by which scores deviate on either side of their mean."
   ]
  },
  {
   "cell_type": "markdown",
   "id": "a96c3df5-2385-49bf-bd4e-9f53da851306",
   "metadata": {},
   "source": [
    "#### **Actually Exceeds Mean Deviation:**\n",
    "- Strictly speaking, the Standard Deviation usually exceeds the mean deviation, or more accurately, the Mean Absolute Deviation (obtained by taking the absolute values of the deviations of scores from the mean). Nonetheless, it is reasonable to describe the Standard Deviation as the average amount by which scores deviate on either side of their mean (as long as an approximation is involved)."
   ]
  },
  {
   "cell_type": "markdown",
   "id": "75b10080-a865-4022-9681-004448209047",
   "metadata": {
    "tags": []
   },
   "source": [
    "#### **Majority of Scores within One Standard Deviation:**\n",
    "- For most frequency distributions, a majority (often as many as 68 percent) of all scores are within one standard deviation on either side of the mean."
   ]
  },
  {
   "cell_type": "markdown",
   "id": "2b1f6f1b-5ad0-466a-9b7c-1573b6a79b70",
   "metadata": {},
   "source": [
    "#### **A Small Minority of Scores Deviate More Than Two Standard Deviations:**\n",
    "- For most frequency distributions, a small minority (often as small as 5 percent) of all scores deviate more than two standard deviations on either side of the mean."
   ]
  },
  {
   "cell_type": "markdown",
   "id": "9c579c1e-06aa-40a6-ae3e-3ff843149ede",
   "metadata": {},
   "source": [
    "#### **Generalizations Are for All Distributions:**\n",
    "- The two generalizations about the majority and minority of scores are independent of the shape of the distribution."
   ]
  },
  {
   "cell_type": "markdown",
   "id": "c0c3037a-ad1e-4ad1-8ac9-1ac3d01f9fda",
   "metadata": {},
   "source": [
    "**Progress Check 4.2: Employees of Corporation A earn annual salaries described by a mean of $\\$90,000$ and a standard deviation of $\\$10,000$.** <br>\n",
    "(a) The majority of all salaries fall between what two values? <br>\n",
    "From $\\$80,000$ to $\\$100,000$. <br>\n",
    "(b) A small minority of all salaries are less than what value? <br>\n",
    "$\\$70,000$. <br>\n",
    "(c) A small minority of all salaries are more than what value? <br>\n",
    "$\\$110,000$. <br>\n",
    "(d) Answer parts (a), (b), and (c) for Corporation B’s employees, who earn annual salaries described by a mean of $\\$90,000$ and a standard deviation of $\\$2,000$. <br>\n",
    "From $\\$88,000$ to $\\$92,000$. <br>\n",
    "$\\$86,000$. <br>\n",
    "$\\$94,000$"
   ]
  },
  {
   "cell_type": "markdown",
   "id": "e83f9a5f-db9b-4f4f-b340-7c678c43f741",
   "metadata": {},
   "source": [
    "#### **Standard Deviation: A Measure of Distance**\n",
    "- The Mean is a measure of position and the Standard Deviation is a measure of distance (on either side of the Mean in a distribution)."
   ]
  },
  {
   "cell_type": "markdown",
   "id": "6998fb66-306f-4b3e-8542-272d29d4deb4",
   "metadata": {},
   "source": [
    "#### **Value of Standard Deviation Cannot Be Negative:**"
   ]
  },
  {
   "cell_type": "markdown",
   "id": "35f56b2e-99f5-4242-af3a-0f639e336999",
   "metadata": {},
   "source": [
    "**Progress Check 4.3: Assume that the distribution of IQ scores for all college students has a mean of 120, with a standard deviation of 15. These two bits of information imply which of the following?** <br>\n",
    "(a) All students have an IQ of either 105 or 135 because everybody in the distribution is either one standard deviation above or below the mean. True or false? <br>\n",
    "False. <br>\n",
    "(b) All students score between 105 and 135 because everybody is within one standard deviation on either side of the mean. True or false? <br>\n",
    "False. <br>\n",
    "(c) On the average, students deviate approximately 15 points on either side of the mean. True or false? <br>\n",
    "True. <br>\n",
    "(d) Some students deviate more than one standard deviation above or below the mean. True or false? <br>\n",
    "True. <br>\n",
    "(e) All students deviate more than one standard deviation above or below the mean. True or false? <br>\n",
    "False. <br>\n",
    "(f) Scott’s IQ score of 150 deviates two standard deviations above the mean. True or false? <br>\n",
    "True."
   ]
  },
  {
   "cell_type": "markdown",
   "id": "5cc2d906-8d9d-419c-b51d-26436e336d79",
   "metadata": {
    "jp-MarkdownHeadingCollapsed": true,
    "tags": []
   },
   "source": [
    "### **4.5/ DETAILS:STANDARD DEVIATION**"
   ]
  },
  {
   "cell_type": "markdown",
   "id": "50232411-5b18-44b0-8294-8cbfe1a46e54",
   "metadata": {},
   "source": [
    "#### **Sum of Squares (SS):**\n",
    "- Definition:\n",
    "    + Sum of Squares: the sum of all squared deviation scores."
   ]
  },
  {
   "cell_type": "markdown",
   "id": "d68962cf-745c-477e-abec-4a3e5ce113e6",
   "metadata": {
    "jp-MarkdownHeadingCollapsed": true,
    "tags": []
   },
   "source": [
    "#### **Sum of Squares for Population:**\n",
    "<center> <b>SUM OF SQUARES (SS) FOR POPULATION (DEFINITION FORMULA)<b> </center>\n",
    "<center> $\\Large SS = \\sum{(X - \\mu)^2}$ </center>\n",
    "<br>\n",
    "<center> <b>SUM OF SQUARES (SS) FOR POPULATION (COMPUTATION FORMULA)<b> </center>\n",
    "<center> $\\Large SS = \\sum{X^2} - \\frac{(\\sum{X})^2}{N}$ </center>"
   ]
  },
  {
   "cell_type": "markdown",
   "id": "7ba8845a-80aa-4374-b4f6-fa994435c5c6",
   "metadata": {
    "tags": []
   },
   "source": [
    "#### **Sum of Squares Formula for Sample:**\n",
    "<center> <b>SUM OF SQUARES (SS) FOR SAMPLE (DEFINITION FORMULA)<b> </center>\n",
    "<center> $\\Large SS = \\sum{(X - \\overline{X})^2}$ </center>\n",
    "<br>\n",
    "<center> <b>SUM OF SQUARES (SS) FOR SAMPLE (COMPUTATION FORMULA)<b> </center>\n",
    "<center> $\\Large SS = \\sum{X^2} - \\frac{(\\sum{X})^2}{n}$ </center>"
   ]
  },
  {
   "cell_type": "markdown",
   "id": "e4e8a4e1-0d41-472c-bb94-9cede91f7ab2",
   "metadata": {},
   "source": [
    "- Where:\n",
    "    + X: the value of all scores \n",
    "    + $\\mu$: the value of the mean \n",
    "    + N/n: the total number of values within a distribution."
   ]
  },
  {
   "cell_type": "markdown",
   "id": "e01542a6-4bf0-4ff2-8ccc-b82a3b7707b6",
   "metadata": {
    "tags": []
   },
   "source": [
    "#### **Standard Deviation for Population $\\sigma$:**\n",
    "- Variance is defined as the mean of all squared deviation scores, therefore: <br> <br>\n",
    "<center><i>variance = $\\frac{sum\\, of\\, all\\, squared\\, deviation\\, scores}{number\\, of\\, scores}$<i></center>\n",
    "<br>\n",
    "or in symbols:\n",
    "<br>\n",
    "<center><b>VARIANCE FOR POPULATION<b></center>\n",
    "<center>$\\Large \\sigma^2 = \\frac{SS}{N}$</center>"
   ]
  },
  {
   "cell_type": "markdown",
   "id": "a37fc0ba-df0e-4416-b7e4-6d2824fe0799",
   "metadata": {},
   "source": [
    "- Definition:\n",
    "    + Population Standard Deviation ($\\sigma$): a rough measure of the average amount by which scores in the population deviate on either side of their mean.\n",
    "<center><b> STANDARD DEVIATION FOR POPULATION </b></center>\n",
    "<center>$\\Large \\sigma = \\sqrt{\\sigma^2} = \\sqrt{\\frac{SS}{N}}$</center>"
   ]
  },
  {
   "cell_type": "markdown",
   "id": "606d2f9d-715a-4354-9a7d-639a609af3a0",
   "metadata": {},
   "source": [
    "- Definition:\n",
    "    + Sample Standard Deviation: a rough measure of the average amount by which scores in the sample deviate on either side of their mean.\n",
    "<center><b>VARIANCE FOR SAMPLE<b></center>\n",
    "<center>$\\Large s^2 = \\frac{SS}{N}$</center>\n",
    "<br>\n",
    "<center><b> STANDARD DEVIATION FOR SAMPLE </b></center>\n",
    "<center>$\\Large s = \\sqrt{s^2} = \\sqrt{\\frac{SS}{n-1}}$</center>"
   ]
  },
  {
   "cell_type": "markdown",
   "id": "3fc1b71f-cd48-4d95-9b60-ee55c7cc8342",
   "metadata": {
    "tags": []
   },
   "source": [
    "#### **Computational Check:**"
   ]
  },
  {
   "cell_type": "code",
   "execution_count": 69,
   "id": "fb0d80f7-a1c2-4ab6-a1ca-11e8f0c4ff6e",
   "metadata": {},
   "outputs": [],
   "source": [
    "def calc_std(data, type: str):\n",
    "    if (type != \"sample\") and (type != \"population\"):\n",
    "        return \"Invalid STD calculation type!\"\n",
    "    \n",
    "    data = np.array(data)\n",
    "    deviations = data - data.mean()\n",
    "    SS = np.sum(deviations**2)\n",
    "    size = data.size\n",
    "    \n",
    "    if type == \"sample\":\n",
    "        size -= 1\n",
    "        \n",
    "    std = np.sqrt(SS / size)\n",
    "    return std"
   ]
  },
  {
   "cell_type": "markdown",
   "id": "ecb57845-2740-44bc-bb66-9398c4c5d498",
   "metadata": {},
   "source": [
    "**Progress Check 4.4: Using the definition formula for the sum of squares, calculate the sample standard deviation for the following four scores: 1, 3, 4, 4.**"
   ]
  },
  {
   "cell_type": "code",
   "execution_count": null,
   "id": "367e8baf-948b-437f-8563-e6e3bcdd3569",
   "metadata": {
    "tags": []
   },
   "outputs": [],
   "source": [
    "# Solution:\n",
    "data = [1, 3, 4, 4]\n",
    "std = calc_std(data, type=\"sample\")\n",
    "std"
   ]
  },
  {
   "cell_type": "markdown",
   "id": "dd76e5a7-e60e-4d82-b1a8-472e1e74000d",
   "metadata": {},
   "source": [
    "**Progress Check 4.5: Using the computation formula for the sum of squares, calculate the population standard deviation for the scores in (a) and the sample standard deviation for the scores in (b).** <br>\n",
    "(a) 1, 3, 7, 2, 0, 4, 7, 3. <br>\n",
    "(b) 10, 8, 5, 0, 1, 1, 7, 9, 2."
   ]
  },
  {
   "cell_type": "code",
   "execution_count": null,
   "id": "be0c1f0c-250f-49b9-97b7-841713ba4a2a",
   "metadata": {},
   "outputs": [],
   "source": [
    "# Solution:\n",
    "    # a):\n",
    "data = [1, 3, 7, 2, 0, 4, 7, 3]\n",
    "std = calc_std(data, \"population\")\n",
    "std"
   ]
  },
  {
   "cell_type": "code",
   "execution_count": null,
   "id": "30e1e6a6-6817-4317-a4a3-a6e21f5441bf",
   "metadata": {},
   "outputs": [],
   "source": [
    "    # b):\n",
    "data = [10, 8, 5, 0, 1, 1, 7, 9, 2]\n",
    "std = calc_std(data, \"sample\")\n",
    "std"
   ]
  },
  {
   "cell_type": "markdown",
   "id": "2876dc00-8f8f-48e6-8db7-a16bd2020656",
   "metadata": {},
   "source": [
    "**Progress Check 4.6: Days absent from school for a sample of 10 first-grade children are: 8, 5, 7, 1, 4, 0, 5, 7, 2, 9.** <br>\n",
    "a) Before calculating the standard deviation, decide whether the definitional or computational formula would be more efficient. Why? <br>\n",
    "b) Use the more efficient formula to calculate the sample standard deviation."
   ]
  },
  {
   "cell_type": "code",
   "execution_count": null,
   "id": "c541a471-6370-414e-837a-5825b6714df1",
   "metadata": {},
   "outputs": [],
   "source": [
    "# Solution:\n",
    "data = [8, 5, 7, 1, 4, 0, 5, 7, 2, 9]\n",
    "std = calc_std(data, \"sample\")\n",
    "std"
   ]
  },
  {
   "cell_type": "markdown",
   "id": "af19fd95-a8d2-4edc-b85e-7e27b28150de",
   "metadata": {},
   "source": [
    "#### **Why n - 1?**"
   ]
  },
  {
   "cell_type": "markdown",
   "id": "cf383092-d2d9-489b-a690-0018c2eb4937",
   "metadata": {},
   "source": [
    "#### **If $\\mu$ Is Known:**"
   ]
  },
  {
   "cell_type": "markdown",
   "id": "f9437c94-2f2c-4fe6-97c0-636a1dda7317",
   "metadata": {
    "tags": []
   },
   "source": [
    "### **4.6/ DEGREES OF FREEDOM (df)**"
   ]
  },
  {
   "cell_type": "markdown",
   "id": "5615649d-c13a-4e62-8aa1-bb7316b1a028",
   "metadata": {},
   "source": [
    "- Definition:\n",
    "    + Degrees of Freedom: the number of values free to vary, given one ore more mathematical restrictions. \n",
    "<br> <br>\n",
    "<center><b>VARIANCE FOR SAMPLE</b></center>\n",
    "<center>$\\Large s^2 = \\frac{SS}{N} = \\frac{SS}{df}$</center>\n",
    "<br>\n",
    "<center><b> STANDARD DEVIATION FOR SAMPLE </b></center>\n",
    "<center>$\\Large s = \\sqrt{\\frac{SS}{n-1}} = \\sqrt{\\frac{SS}{df}}$</center>"
   ]
  },
  {
   "cell_type": "markdown",
   "id": "7315fede-2944-4b39-8ab9-19a4421cd02e",
   "metadata": {},
   "source": [
    "#### **Other Mathematical Restrictions:**\n",
    "- Sometimes more than one degree of freedom is taken away due to the existence of more than one mathematical restriction in the calculation."
   ]
  },
  {
   "cell_type": "markdown",
   "id": "39ded884-d9b9-4699-9b84-559900fab9c4",
   "metadata": {},
   "source": [
    "**Progress Check 4.7: As a first step toward modifying his study habits, Phil keeps daily records of his study time.** <br>\n",
    "a) During the first two weeks, Phil’s mean study time equals 20 hours per week. If he studied 22 hours during the first week, how many hours did he study during the second week? <br>\n",
    "18 hours. <br>\n",
    "(b) During the first four weeks, Phil’s mean study time equals 21 hours. If he studied 22, 18, and 21 hours during the first, second, and third weeks, respectively, how many hours did he study during the fourth week? <br>\n",
    "23 hours. <br>\n",
    "(c) If the information in (a) and (b) is to be used to estimate some unknown population characteristic, the notion of degrees of freedom can be introduced. How many degrees of freedom are associated with (a) and (b)? <br>\n",
    "For (a), the degree of freedom is one. <br>\n",
    "For (b), the degree of freedom is three. <br>\n",
    "(d) Describe the mathematical restriction that causes a loss of degrees of freedom in (a) and (b). <br>\n",
    "When observations are expressed as deviations from their mean, the sum of all deviations must equal zero."
   ]
  },
  {
   "cell_type": "markdown",
   "id": "d69b10e0-2ef6-41be-b1aa-b99e37ef1a6e",
   "metadata": {
    "jp-MarkdownHeadingCollapsed": true,
    "tags": []
   },
   "source": [
    "### **4.7/ INTERQUARTILE RANGE (IQR)**"
   ]
  },
  {
   "cell_type": "markdown",
   "id": "e6b84b57-af97-4421-bc9d-28e21c38f167",
   "metadata": {},
   "source": [
    "- Definition:\n",
    "    + Interquartile Range: the range for the middle 50 percent of the scores, obtained by subtracting the 75 percentile rank score by the 25 percentile rank score.\n",
    "- Since most distributions are spread more widely in their extremities than in the middle, the IQR tends to be less than half of the value of the range."
   ]
  },
  {
   "cell_type": "markdown",
   "id": "177a59a6-1401-402f-bf6f-5fc389bbe66b",
   "metadata": {},
   "source": [
    "#### **Not Sensitive to Extreme Scores:**\n",
    "- IQR is an effective tool to detect outliers and remove the distortions they cause to the variability measurement within a distribution."
   ]
  },
  {
   "cell_type": "markdown",
   "id": "59b9cbd7-bf72-4e5e-9850-2617a9b8e0e2",
   "metadata": {},
   "source": [
    "**Progress Check 4.8: Determine the values of the range and the IQR for the following sets of data.** <br>\n",
    "(a) Retirement ages: 60, 63, 45, 63, 65, 70, 55, 63, 60, 65, 63 <br>\n",
    "(b) Residence changes: 1, 3, 4, 1, 0, 2, 5, 8, 0, 2, 3, 4, 7, 11, 0, 2, 3, 4 <br>"
   ]
  },
  {
   "cell_type": "code",
   "execution_count": null,
   "id": "0d294d70-b7c8-4fac-96e1-d8ef8b80caf4",
   "metadata": {},
   "outputs": [],
   "source": [
    "# Solution:\n",
    "    # a):\n",
    "data = np.sort(np.array([60, 63, 45, 63, 65, 70, 55, 63, 60, 65, 63]))\n",
    "quartiles = np.quantile(data, [0.25, 0.75])\n",
    "IQR = quartiles[-1] - quartiles[0]\n",
    "IQR"
   ]
  },
  {
   "cell_type": "code",
   "execution_count": null,
   "id": "51ad9c1e-c36f-486a-8312-7ed21a7cdaff",
   "metadata": {},
   "outputs": [],
   "source": [
    "    # b):\n",
    "data = np.sort(np.array([1, 3, 4, 1, 0, 2, 5, 8, 0, 2, 3, 4, 7, 11, 0, 2, 3, 4]))\n",
    "quartiles = np.quantile(data, [0.25, 0.75])\n",
    "IQR = quartiles[-1] - quartiles[0]\n",
    "IQR"
   ]
  },
  {
   "cell_type": "markdown",
   "id": "b87e505f-2273-4bfd-b1ad-dcd758489ded",
   "metadata": {
    "jp-MarkdownHeadingCollapsed": true,
    "tags": []
   },
   "source": [
    "### **4.8/ MEASURE OF VARIABILITY FOR QUALITATIVE AND RANKED DATA**"
   ]
  },
  {
   "cell_type": "markdown",
   "id": "9d8d679a-8024-4435-a564-009498f7375b",
   "metadata": {},
   "source": [
    "#### **Qualitative Data:**"
   ]
  },
  {
   "cell_type": "markdown",
   "id": "706ec37a-9be4-4157-9ca5-b90d0105304d",
   "metadata": {},
   "source": [
    "#### **Ranked Data:**"
   ]
  },
  {
   "cell_type": "markdown",
   "id": "bca7505a-b3ef-4a25-adb2-13e2a1710b7a",
   "metadata": {
    "jp-MarkdownHeadingCollapsed": true,
    "tags": []
   },
   "source": [
    "### **REVIEW QUESTIONS**"
   ]
  },
  {
   "cell_type": "markdown",
   "id": "a461967c-d904-41c3-90aa-a29d20c0013c",
   "metadata": {
    "tags": []
   },
   "source": [
    "#### **4.9. For each of the following pairs of distributions, first decide whether their standard deviations are about the same or different. If their standard deviations are different, indicate which distribution should have the larger standard deviation. Hint: The distribution with the more dissimilar set of scores or individuals should produce the larger standard deviation regardless of whether, on average, scores or individuals in one distribution differ from those in the other distribution.**\n",
    "(a) SAT scores for all graduating high school seniors (a1) or all college freshmen (a2). <br>\n",
    "(a1) should have larger standard deviation a.k.a. variability. <br>\n",
    "(b) Ages of patients in a community hospital (b1) or a children’s hospital (b2). <br>\n",
    "(b1) should have larger standard deviation. <br>\n",
    "(c) Motor skill reaction times of professional baseball players (c1) or college students (c2). <br>\n",
    "(c2). <br>\n",
    "(d) GPAs of students at some university as revealed by a random sample (d1) or a census of the entire student body (d2). <br>\n",
    "(d2). <br>\n",
    "(e) Anxiety scores (on a scale from 0 to 50) of a random sample of college students taken from the senior class (e1) or those who plan to attend an anxiety-reduction clinic (e2). <br>\n",
    "(e1). <br>\n",
    "(f) Annual incomes of recent college graduates (f1) or of 20-year alumni (f2). <br>\n",
    "(f2)"
   ]
  },
  {
   "cell_type": "markdown",
   "id": "3d99301a-564d-4be1-a6a4-ce912a7b2e70",
   "metadata": {
    "tags": []
   },
   "source": [
    "#### **4.10. When not interrupted artificially, the duration of human pregnancies can be described, we’ll assume, by a mean of 9 months (270 days) and a standard deviation of one-half month (15 days).**\n",
    "(a) Between what two times, in days, will a majority of babies arrive? <br>\n",
    "Between 8 months 15 days and 9 months 15 days. <br>\n",
    "(b) A small minority of all babies will arrive sooner than ______. <br>\n",
    "8 months 15 days. <br>\n",
    "(c) A small minority of all babies will arrive later than ______. <br>\n",
    "9 months 15 days. <br>\n",
    "(d) In a paternity suit, the suspected father claims that, since he was overseas during the entire 10 months prior to the baby’s birth, he could not possibly be the father. Any comment? <br>"
   ]
  },
  {
   "cell_type": "markdown",
   "id": "44ce3809-53e1-4ff2-8480-a29c82f366ef",
   "metadata": {
    "jp-MarkdownHeadingCollapsed": true,
    "tags": []
   },
   "source": [
    "#### **4.11. Add 10 to each of the scores in Question 4.4 (1, 3, 4, 4) to produce a new distribution (11, 13, 14, 14). Would you expect the value of the sample standard deviation to be the same for both the original and new distributions? Explain your answer, and then calculate s for the new distribution.**\n",
    "No, despite the changes in the values of scores, their deviations from the mean should remain similar to the previous one."
   ]
  },
  {
   "cell_type": "code",
   "execution_count": null,
   "id": "ae21e795-3ed4-47aa-8ca6-92b059412018",
   "metadata": {},
   "outputs": [],
   "source": [
    "# Solution:\n",
    "data = [11, 13, 14, 14]\n",
    "std = calc_std(data, \"population\")\n",
    "std"
   ]
  },
  {
   "cell_type": "markdown",
   "id": "83bb3e7b-30a5-448b-9f7e-0c2ca4203465",
   "metadata": {
    "jp-MarkdownHeadingCollapsed": true,
    "tags": []
   },
   "source": [
    "#### **4.12. Add 10 to only the smallest score in Question 4.4 (1, 3, 4, 4) to produce another new distribution (11, 3, 4, 4). Would you expect the value of s to be the same for both the original and new distributions? Explain your answer, and then calculate s for the new distribution.**\n",
    "Yes, the change was made to only one value in the dataset, which also changes the deviation score of that particular data point, and affects the total SS."
   ]
  },
  {
   "cell_type": "code",
   "execution_count": null,
   "id": "b362f45a-fac1-4ef9-87c9-310211265c03",
   "metadata": {},
   "outputs": [],
   "source": [
    "# Solution:\n",
    "data = [11, 3, 4, 4]\n",
    "std = calc_std(data, \"sample\")\n",
    "std"
   ]
  },
  {
   "cell_type": "markdown",
   "id": "2823fbfc-2705-438b-9fbc-7b060cbb586e",
   "metadata": {
    "tags": []
   },
   "source": [
    "#### **4.13.**\n",
    "(a) While in office, a former governor of California proposed that all state employees receive the same pay raise of $\\$70$ per month. What effect, if any, would this raise have had on the mean and the standard deviation for the distribution of monthly wages in existence before the proposed raise? Hint: Imagine the effect of adding $\\$70$ to the monthly wages of each state employee on the mean and on the standard deviation (or on a more easily visualized measure of variability, such as the range). <br>\n",
    "The proposed raise would make the mean of monthly wages be higher than the current mean, since it increases all of the values available. However, the raise would not make any changes to the standard deviation, since the deviations of salaries from their mean were not affected. <br>\n",
    "(b) Other California officials suggested that all state employees receive a pay raise of 5 percent. What effect, if any, would this raise have had on the mean and the standard deviation for the distribution of monthly wages in existence before the proposed raise? Hint: Imagine the effect of multiplying the monthly wages of each state employee by 5 percent on the mean and on the standard deviation or on the range. <br>\n",
    "The raise would increase the mean by 5% and change the standard deviation by some certain amount, since 5% of increase was made to individual workers' salaries, which in turn, modifies the deviations of their salaries from the mean."
   ]
  },
  {
   "cell_type": "markdown",
   "id": "cacb007b-5668-47d5-872f-3f7a29980ce4",
   "metadata": {
    "jp-MarkdownHeadingCollapsed": true,
    "tags": []
   },
   "source": [
    "#### **4.14.**\n",
    "(a) Using the computation formula for the sample sum of squares, verify that the sample standard deviation, s, equals 23.33 lbs for the distribution of 53 weights in Table 1.1. <br>\n",
    "(b) Verify that a majority of all weights fall within one standard deviation of the mean (169.51) and that a small minority of all weights deviate more than two standard deviations from the mean. <br>"
   ]
  },
  {
   "cell_type": "code",
   "execution_count": 74,
   "id": "1355a0e6-46b0-4056-b720-d13b3a8bda9a",
   "metadata": {},
   "outputs": [
    {
     "data": {
      "text/plain": [
       "23.325969879670296"
      ]
     },
     "execution_count": 74,
     "metadata": {},
     "output_type": "execute_result"
    }
   ],
   "source": [
    "# Solution:\n",
    "    # a):\n",
    "data = [\"160 168 133 170 150 165 158 165\",\n",
    "        \"193 169 245 160 152 190 179 157\",\n",
    "        \"226 160 170 180 150 156 190 156\",\n",
    "        \"157 163 152 158 225 135 165 135\",\n",
    "        \"180 172 160 170 145 185 152\",\n",
    "        \"205 151 220 166 152 159 156\",\n",
    "        \"165 157 190 206 172 175 154\"]\n",
    "\n",
    "data = np.array(\" \".join(data).split(), dtype=np.int16)\n",
    "std = calc_std(data, \"sample\")\n",
    "std"
   ]
  },
  {
   "cell_type": "code",
   "execution_count": 83,
   "id": "830dd546-b422-4a19-b7c8-e000b8f42d1b",
   "metadata": {},
   "outputs": [
    {
     "data": {
      "text/plain": [
       "(0.20754716981132076, 0.7924528301886793)"
      ]
     },
     "execution_count": 83,
     "metadata": {},
     "output_type": "execute_result"
    }
   ],
   "source": [
    "    # b):\n",
    "minor = data[(data <= (data.mean() - std)) | (data >= (data.mean() + std))].size / data.size\n",
    "major = 1 - minor\n",
    "minor, major"
   ]
  },
  {
   "cell_type": "markdown",
   "id": "b9939821-f7e2-48cd-815e-7877c3c29db7",
   "metadata": {},
   "source": [
    "#### **4.15. In what sense is the variance**\n",
    "(a) a type of mean? <br>\n",
    "A measure of the average deviation between the scores and their mean. <br>\n",
    "(b) not a readily understood measure of variability? <br>\n",
    "The unit of measurement. <br>\n",
    "(c) a stepping stone to the standard deviation? <br>\n",
    "Variance = Squared Standard Deviation."
   ]
  },
  {
   "cell_type": "markdown",
   "id": "30af3742-ab91-4298-8214-91c527b4e991",
   "metadata": {},
   "source": [
    "#### **4.16. Specify an important difference between the standard deviation and the mean.**\n",
    "The mean accounts for the average amount of the actual values of scores while the standard deviation's main focus is the deviation of scores from their mean."
   ]
  },
  {
   "cell_type": "markdown",
   "id": "e2682766-7187-4ec9-87e0-5b851baa8d88",
   "metadata": {
    "tags": []
   },
   "source": [
    "#### **4.17. Why can’t the value of the standard deviation ever be negative?**\n",
    "Because the calculation of the standard deviation involves two components, the sum of square and the size of the population/degree of freedom, which cannot be of negative values."
   ]
  },
  {
   "cell_type": "markdown",
   "id": "a851c68e-81c8-491c-9d8e-e221b78cb2d7",
   "metadata": {},
   "source": [
    "#### **4.18. Indicate whether each of the following statements about degrees of freedom is true or false.**\n",
    "(a) Degrees of freedom refer to the number of values free to vary in the population. <br>\n",
    "False. <br>\n",
    "(b) One degree of freedom is lost because, when expressed as a deviation from the sample mean, the final deviation in the sample fails to supply information about population variability. <br>\n",
    "True. <br>\n",
    "(c) Degrees of freedom makes sense only if we wish to estimate some unknown characteristic of a population. <br>\n",
    "True.\n",
    "(d) Degrees of freedom reflect the poor quality of one or more observations. <br>\n",
    "False."
   ]
  },
  {
   "cell_type": "markdown",
   "id": "0bf63925-f6b9-4b72-880d-04cc3c89a433",
   "metadata": {},
   "source": [
    "#### **4.19. Referring to Review Question 2.18 on page 46, would you describe the distribution of majors for all male graduates as having maximum, intermediate, or minimum variability?**\n",
    "Intermediate."
   ]
  },
  {
   "cell_type": "code",
   "execution_count": null,
   "id": "2f198831-b432-4411-b588-1981466043ec",
   "metadata": {},
   "outputs": [],
   "source": []
  }
 ],
 "metadata": {
  "kernelspec": {
   "display_name": "Python 3 (ipykernel)",
   "language": "python",
   "name": "python3"
  },
  "language_info": {
   "codemirror_mode": {
    "name": "ipython",
    "version": 3
   },
   "file_extension": ".py",
   "mimetype": "text/x-python",
   "name": "python",
   "nbconvert_exporter": "python",
   "pygments_lexer": "ipython3",
   "version": "3.10.4"
  }
 },
 "nbformat": 4,
 "nbformat_minor": 5
}
