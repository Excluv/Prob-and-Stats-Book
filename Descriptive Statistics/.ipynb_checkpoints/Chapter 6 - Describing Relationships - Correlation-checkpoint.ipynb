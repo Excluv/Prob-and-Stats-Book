{
 "cells": [
  {
   "cell_type": "code",
   "execution_count": 1,
   "id": "a78a468d-5bf7-410a-94c5-29a74800791d",
   "metadata": {},
   "outputs": [],
   "source": [
    "%matplotlib inline\n",
    "import numpy as np\n",
    "import pandas as pd\n",
    "import matplotlib as mpl\n",
    "import matplotlib.pyplot as plt\n",
    "import NormalDistribution"
   ]
  },
  {
   "cell_type": "markdown",
   "id": "7ad75805-1289-4f9a-b98e-3dbac4d06de6",
   "metadata": {},
   "source": [
    "### **6.1/ AN INTUITIVE APPROACH**"
   ]
  },
  {
   "cell_type": "markdown",
   "id": "0cd2e5c8-be5d-4324-bf78-ef146d8a1bb0",
   "metadata": {},
   "source": [
    "#### **Positive Relationship:**\n",
    "- Definition:\n",
    "    + Positive Relationship: occurs insofar as pairs of scores tend to occupy similar relative positions (high with high, low with low) in their respective distributions."
   ]
  },
  {
   "cell_type": "markdown",
   "id": "908eae3b-937c-4bd1-8b19-d1f12f383755",
   "metadata": {},
   "source": [
    "#### **Negative Relationship:**\n",
    "- Definition:\n",
    "    + Negative Relationship: occurs insofar as pairs of scores tend to occupy dissimilar relative positions (high with low and vice versa) in their respective distributions."
   ]
  },
  {
   "cell_type": "markdown",
   "id": "3e577aa9-d672-46df-8513-31e93afba148",
   "metadata": {},
   "source": [
    "#### **Little or No Relationship:**\n",
    "- Unlike Positive and Negative Relationships, in which there's a pronounced pattern of scores distributions, that is, either high scores are associated with high scores or high scores are associated with low scores, Little or No Relationship occurs insofar as pairs of scores do not have any particular pattern, so that high scores might be associated with high scores as well as low scores."
   ]
  },
  {
   "cell_type": "markdown",
   "id": "76c6526d-4b3a-4438-8bc4-06c4a15b86e8",
   "metadata": {},
   "source": [
    "#### **Review:**"
   ]
  },
  {
   "cell_type": "markdown",
   "id": "bce568e8-f793-41d4-b017-9f2b8886fc91",
   "metadata": {
    "jp-MarkdownHeadingCollapsed": true,
    "tags": []
   },
   "source": [
    "#### **Progress Check 6.1: Indicate whether the following statements suggest a positive or negative relationship**"
   ]
  },
  {
   "cell_type": "markdown",
   "id": "070a5b2e-0630-4952-8ea7-567ed605d905",
   "metadata": {},
   "source": [
    "(a) More densely populated areas have higher crime rates. <br>\n",
    "Positive relationship. <br>\n",
    "(b) Schoolchildren who often watch TV perform more poorly on academic achievement tests. <br>\n",
    "Negative relationship. <br>\n",
    "(c) Heavier automobiles yield poorer gas mileage. <br>\n",
    "Negative relationship. <br>\n",
    "(d) Better-educated people have higher incomes. <br>\n",
    "Positive relationship. <br>\n",
    "(e) More anxious people voluntarily spend more time performing a simple repetitive task. <br>\n",
    "Positive relationship. <br>"
   ]
  },
  {
   "cell_type": "code",
   "execution_count": null,
   "id": "186d99d9-fc5b-40fa-bff8-c25a68bf169b",
   "metadata": {},
   "outputs": [],
   "source": []
  },
  {
   "cell_type": "markdown",
   "id": "f15af048-dd54-4cea-b382-535e9491552a",
   "metadata": {},
   "source": [
    "### **6.2/ SCATTERPLOTS**"
   ]
  },
  {
   "cell_type": "markdown",
   "id": "f5f18413-9d51-4904-90fa-e99f6b9090d0",
   "metadata": {},
   "source": [
    "### **6.3/ A CORRELATION COEFFICIENT FORMULA FOR QUANTITATIVE DATA: <i>r</i>**"
   ]
  },
  {
   "cell_type": "markdown",
   "id": "d4051848-c836-43ca-8f53-3f862bb40a4e",
   "metadata": {},
   "source": [
    "### **6.4/ DETAILS: COMPUTATION FORMULA FOR <i>r</i>**"
   ]
  },
  {
   "cell_type": "markdown",
   "id": "422731b0-de5e-42ee-8df4-a91894e60e98",
   "metadata": {},
   "source": [
    "### **6.5/ OUTLIERS AGAIN**"
   ]
  },
  {
   "cell_type": "markdown",
   "id": "9c98a183-36ce-43b9-96a9-ae94eb19e2cc",
   "metadata": {},
   "source": [
    "### **6.6/ OTHER TYPES OF CORRELATION COEFFICIENTS**"
   ]
  },
  {
   "cell_type": "markdown",
   "id": "7c53936a-5c8d-4614-a800-623067c00876",
   "metadata": {},
   "source": [
    "### **6.7/ COMPUTER OUTPUT**"
   ]
  },
  {
   "cell_type": "markdown",
   "id": "5e302376-6b2c-4f32-aa92-9403fc6dfdea",
   "metadata": {},
   "source": [
    "### **REVIEW QUESTIONS**"
   ]
  }
 ],
 "metadata": {
  "kernelspec": {
   "display_name": "Python 3 (ipykernel)",
   "language": "python",
   "name": "python3"
  },
  "language_info": {
   "codemirror_mode": {
    "name": "ipython",
    "version": 3
   },
   "file_extension": ".py",
   "mimetype": "text/x-python",
   "name": "python",
   "nbconvert_exporter": "python",
   "pygments_lexer": "ipython3",
   "version": "3.10.4"
  }
 },
 "nbformat": 4,
 "nbformat_minor": 5
}
