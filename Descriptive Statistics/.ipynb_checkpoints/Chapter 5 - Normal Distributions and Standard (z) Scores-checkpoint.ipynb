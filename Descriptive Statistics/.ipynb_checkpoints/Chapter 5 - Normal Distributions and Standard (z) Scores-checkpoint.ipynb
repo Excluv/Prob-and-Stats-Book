{
 "cells": [
  {
   "cell_type": "code",
   "execution_count": 1,
   "id": "899f2883-4e30-4a4c-bcc5-b21b5f15b23f",
   "metadata": {},
   "outputs": [],
   "source": [
    "%matplotlib inline\n",
    "import numpy as np\n",
    "import pandas as pd\n",
    "import matplotlib as mpl\n",
    "import matplotlib.pyplot as plt\n",
    "import NormalDistribution"
   ]
  },
  {
   "cell_type": "markdown",
   "id": "c90e66c2-1e69-42a6-9fea-66ac84dde03b",
   "metadata": {
    "jp-MarkdownHeadingCollapsed": true,
    "tags": []
   },
   "source": [
    "### **5.1/ THE NORMAL CURVE**"
   ]
  },
  {
   "cell_type": "markdown",
   "id": "daa04984-c5ca-4def-86fd-acb3a0d2de2e",
   "metadata": {},
   "source": [
    "#### **Interpreting the Shaded Area:**"
   ]
  },
  {
   "cell_type": "markdown",
   "id": "9cf2b0bd-e3a0-42fe-b80c-72f30a0480ab",
   "metadata": {},
   "source": [
    "#### **Finding a Proportion for the Shaded Area:**"
   ]
  },
  {
   "cell_type": "markdown",
   "id": "22b24288-45e9-4b69-96df-e1aa404ad8ef",
   "metadata": {},
   "source": [
    "#### **Properties of the Normal Curve:**\n",
    "- Properties:\n",
    "    + The normal curve is a theoretical curve defined for a continuous variable and noted for its symmetrical bell-shaped form.\n",
    "    + Because the normal curve is symmetrical, its lower half is the mirror image of its upper half.\n",
    "    + The normal curve peaks midway along the horizontal spread and tapers off gradually in either direction from the peak (w/o actually touching the horizontal axis, since, in theory, the tails of a normal curve extend infinitely far).\n",
    "    + The values of the mean, the median and the mode located at a point midway the horizontal spread, and are the same for the normal curve."
   ]
  },
  {
   "cell_type": "markdown",
   "id": "e6318fb8-6b25-4bb4-9b6d-5beb0d8fb04b",
   "metadata": {},
   "source": [
    "#### **Importance of Mean and Standard Deviation:**"
   ]
  },
  {
   "cell_type": "markdown",
   "id": "7e447ee1-a616-40ec-8856-a77631497644",
   "metadata": {},
   "source": [
    "#### **Different Normal Curves:**\n",
    "- Although might come in slightly different shapes and forms, the normal curve is always interpreted in only one way (due to the mathematical origin) once any distance from the mean is expressed in standard deviation units."
   ]
  },
  {
   "cell_type": "markdown",
   "id": "52d530ec-5044-48bc-86ca-96c34ae41cb3",
   "metadata": {
    "jp-MarkdownHeadingCollapsed": true,
    "tags": []
   },
   "source": [
    "### **5.2/ z SCORES**"
   ]
  },
  {
   "cell_type": "markdown",
   "id": "1c89d23d-0d51-40bb-9e2c-5680abe9c7a1",
   "metadata": {},
   "source": [
    "- Definition: \n",
    "    + z Score: a unit-free, standardized score, that regardless of the original units of measurement, indicates how many standard deviations a score is above or below the mean of its distribution.\n",
    "<br> <br>\n",
    "- Formula for calculating z Score: \n",
    "<center><b>z SCORE</b></center>\n",
    "<center>$\\Large z = \\frac{X - \\mu}{\\sigma}$</center>\n",
    "<br>\n",
    "- A z Score consists of two parts:\n",
    "    + A positive or negative sign that indicates whether it's above or below the mean; and\n",
    "    + A number indicating the size of its deviation from the mean in standard deviation units."
   ]
  },
  {
   "cell_type": "markdown",
   "id": "d759213a-ae84-45c6-8807-842dd133b835",
   "metadata": {},
   "source": [
    "#### **Converting to z Score:**"
   ]
  },
  {
   "cell_type": "markdown",
   "id": "2a3cc0a1-03d2-438d-9e18-aa49107569fc",
   "metadata": {},
   "source": [
    "**Progress Check 5.1: Express each of the following scores as a z score** <br>\n",
    "(a) Margaret’s IQ of 135, given a mean of 100 and a standard deviation of 15. <br>\n",
    "z = 2.33. <br>\n",
    "(b) a score of 470 on the SAT math test, given a mean of 500 and a standard deviation of 100. <br>\n",
    "z = -0.3. <br>\n",
    "(c) a daily production of 2100 loaves of bread by a bakery, given a mean of 2180 and a standard deviation of 50. <br>\n",
    "z = -1.6. <br>\n",
    "(d) Sam’s height of 69 inches, given a mean of 69 and a standard deviation of 3. <br>\n",
    "z = 0. <br>\n",
    "(e) a thermometer-reading error of –3 degrees, given a mean of 0 degrees and a standard deviation of 2 degrees. <br>\n",
    "z = -1.5."
   ]
  },
  {
   "cell_type": "markdown",
   "id": "e8ba4564-6aea-4865-a1d3-179ddf4b1608",
   "metadata": {
    "jp-MarkdownHeadingCollapsed": true,
    "tags": []
   },
   "source": [
    "### **5.3/ STANDARD NORMAL CURVE**"
   ]
  },
  {
   "cell_type": "markdown",
   "id": "16a95b57-8067-4c34-8f74-bffaf5945177",
   "metadata": {},
   "source": [
    "- Definition:\n",
    "    + Standard Normal Curve: the tabled normal curve for z Scores, with a mean of 0 and a standard deviation of 1."
   ]
  },
  {
   "cell_type": "markdown",
   "id": "01e75145-3e5d-485f-b2bb-896fff6f50a7",
   "metadata": {},
   "source": [
    "#### **Standard Normal Table:**"
   ]
  },
  {
   "cell_type": "markdown",
   "id": "7cb1e216-e3f9-40f2-ac51-2c25f55d2ea9",
   "metadata": {},
   "source": [
    "#### **Using the Top Legend of the Table:**"
   ]
  },
  {
   "cell_type": "markdown",
   "id": "457a5902-f2ae-4fdd-ae89-007e68bb1fce",
   "metadata": {},
   "source": [
    "#### **Using the Bottom Legend of the Table:**"
   ]
  },
  {
   "cell_type": "markdown",
   "id": "140d6b5d-1e36-4ab8-bb12-e643e00fb587",
   "metadata": {},
   "source": [
    "**Progress Check 5.2: Using Table A in Appendix C, find the proportion of the total area identified with the following statements** <br>\n",
    "(a) above a z score of 1.80. <br>\n",
    "0.0359. <br>\n",
    "(b) between the mean and a z score of –0.43. <br>\n",
    "0.1664. <br>\n",
    "(c) below a z score of –3.00. <br>\n",
    "0.0013. <br>\n",
    "(d) between the mean and a z score of 1.65. <br>\n",
    "0.4505. <br>\n",
    "(e) between z scores of 0 and –1.96. <br>\n",
    "0.4750."
   ]
  },
  {
   "cell_type": "markdown",
   "id": "49ccedf3-6caa-4bbb-b8e5-1e7988c40d5a",
   "metadata": {
    "jp-MarkdownHeadingCollapsed": true,
    "tags": []
   },
   "source": [
    "### **5.4/ SOLVING NORMAL CURVE PROBLEMS**"
   ]
  },
  {
   "cell_type": "markdown",
   "id": "11f91a96-455d-43c2-9a9d-9259c86a1340",
   "metadata": {},
   "source": [
    "#### **Solve Problems Logically:**"
   ]
  },
  {
   "cell_type": "markdown",
   "id": "596a99de-80bc-4f3f-908d-5e3b07dca065",
   "metadata": {},
   "source": [
    "#### **Key Facts to Remember:**"
   ]
  },
  {
   "cell_type": "markdown",
   "id": "2aaede69-d8ee-4a94-8a47-b223887c69a8",
   "metadata": {
    "jp-MarkdownHeadingCollapsed": true,
    "tags": []
   },
   "source": [
    "### **5.5/ FINDING PROPORTIONS**"
   ]
  },
  {
   "cell_type": "markdown",
   "id": "235bc74c-581b-4b95-9c96-05fbd7c4e19d",
   "metadata": {},
   "source": [
    "#### **Example: Finding Proportions for One Score**"
   ]
  },
  {
   "cell_type": "markdown",
   "id": "582264d2-9def-4838-afad-9d0ab21cb9b5",
   "metadata": {},
   "source": [
    "#### **A Clarification:**"
   ]
  },
  {
   "cell_type": "markdown",
   "id": "c1f0f29c-3ee7-4ea0-bed3-a173c9e12d21",
   "metadata": {},
   "source": [
    "#### **Read Carefully:**"
   ]
  },
  {
   "cell_type": "markdown",
   "id": "340f7c67-adfe-4e32-a134-81bb10eb580a",
   "metadata": {},
   "source": [
    "#### **Reminder about Interpreting Areas:**"
   ]
  },
  {
   "cell_type": "markdown",
   "id": "3671fca4-2706-45bc-a44f-c0222e04feba",
   "metadata": {
    "jp-MarkdownHeadingCollapsed": true,
    "tags": []
   },
   "source": [
    "#### **Progress Check 5.3: Assume that GRE scores approximate a normal curve with a mean of 500 and a standard deviation of 100.**\n",
    "(a) Sketch a normal curve and shade in the target area described by each of the following statements: <br>\n",
    "    (i) less than 400 <br>\n",
    "    (ii) more than 650 <br>\n",
    "    (iii) less than 700 <br>\n",
    "(b) Plan solutions (in terms of columns B, C, B′, or C′ of the standard normal table, as well as the fact that the proportion for either the entire upper half or lower half always equals .5000) for the target areas in part (a). <br>\n",
    "(i) C' <br>\n",
    "(ii) C <br>\n",
    "(iii) 0.5 + B <br>\n",
    "(c) Convert to z scores and find the proportions that correspond to the target areas in part (a). <br>\n",
    "(i) target area: 0.1587. <br>\n",
    "(ii) target area: 0.9332. <br>\n",
    "(iii) target area: 0.9772. <br>"
   ]
  },
  {
   "cell_type": "code",
   "execution_count": null,
   "id": "f3be8a9d-bc37-4122-823b-5ad9eba5986e",
   "metadata": {},
   "outputs": [],
   "source": [
    "# Solution:\n",
    "mu, sigma = 500, 100\n",
    "data = np.random.normal(mu, sigma, 1000)"
   ]
  },
  {
   "cell_type": "code",
   "execution_count": null,
   "id": "d333b8cc-846a-4b7f-baa9-ba9c60715c89",
   "metadata": {
    "tags": []
   },
   "outputs": [],
   "source": [
    "# a):\n",
    "    # (i):\n",
    "fig = plt.figure()\n",
    "ax = plt.axes()\n",
    "proportion, bins, ignored = ax.hist(data, bins=1000, facecolor=\"none\", \n",
    "                                    edgecolor=\"none\", density=True)\n",
    "lines = ax.plot(bins, calc_normaldist(bins, mu, sigma), color=\"orange\")\n",
    "\n",
    "ax.fill_between(bins[bins <= 400], calc_normaldist(bins[bins <= 400], mu, sigma), color=\"gray\");"
   ]
  },
  {
   "cell_type": "code",
   "execution_count": null,
   "id": "67c19362-0d01-4f1f-9d3d-5d8a310258a8",
   "metadata": {
    "tags": []
   },
   "outputs": [],
   "source": [
    "    # (ii):\n",
    "fig = plt.figure()\n",
    "ax = plt.axes()\n",
    "proportion, bins, ignored = ax.hist(data, bins=1000, facecolor=\"none\", \n",
    "                                    edgecolor=\"none\", density=True)\n",
    "lines = ax.plot(bins, calc_normaldist(bins, mu, sigma), color=\"orange\")\n",
    "\n",
    "ax.fill_between(bins[bins >= 650], calc_normaldist(bins[bins >= 650], mu, sigma), color=\"gray\");"
   ]
  },
  {
   "cell_type": "code",
   "execution_count": null,
   "id": "9785dfa7-f01d-4a58-8d98-24e7cda65ce6",
   "metadata": {},
   "outputs": [],
   "source": [
    "    # (iii):\n",
    "fig = plt.figure()\n",
    "ax = plt.axes()\n",
    "proportion, bins, ignored = ax.hist(data, bins=1000, facecolor=\"none\", \n",
    "                                    edgecolor=\"none\", density=True)\n",
    "lines = ax.plot(bins, calc_normaldist(bins, mu, sigma), color=\"orange\")\n",
    "\n",
    "ax.fill_between(bins[bins <= 700], calc_normaldist(bins[bins <= 700], mu, sigma), color=\"gray\");"
   ]
  },
  {
   "cell_type": "code",
   "execution_count": null,
   "id": "7b4bdbc9-cf64-456a-97eb-b6645652c91b",
   "metadata": {},
   "outputs": [],
   "source": [
    "# b):\n",
    "    # (i), (ii), (iii):\n",
    "idx = 1\n",
    "for value in [400, 650, 700]:\n",
    "    zscore = calc_zscore(value, mu, sigma)\n",
    "    print(f\"({idx}) =\", zscore)\n",
    "    idx += 1"
   ]
  },
  {
   "cell_type": "markdown",
   "id": "a1432456-e00c-4401-8a2c-5b8b0ec66182",
   "metadata": {},
   "source": [
    "#### **Example: Finding Proportions between Two Scores**"
   ]
  },
  {
   "cell_type": "markdown",
   "id": "cc03730b-af46-43d3-b77b-4f307c4942c3",
   "metadata": {},
   "source": [
    "#### **Warning: Enter Table Only with Single Z Score**"
   ]
  },
  {
   "cell_type": "markdown",
   "id": "2606627f-5cab-4fd1-985f-5b35ab471bf8",
   "metadata": {
    "jp-MarkdownHeadingCollapsed": true,
    "tags": []
   },
   "source": [
    "#### **Progress Check 5.4: The previous problem can be solved in another way, using entries from column B′ rather than column C′. Visualize this alternative solution as a graph of the normal curve, and verify that, even though column B′ is used, the answer still equals .1112.**\n",
    "Target Area = B(245) - B(255) = 0.4525 - 0.3413 = 0.1112."
   ]
  },
  {
   "cell_type": "code",
   "execution_count": null,
   "id": "4eaafd51-0510-4a2a-bf86-0efc9ed15129",
   "metadata": {},
   "outputs": [],
   "source": [
    "# Solution:\n",
    "mu, sigma = 270, 15\n",
    "data = np.random.normal(mu, sigma, 365)"
   ]
  },
  {
   "cell_type": "code",
   "execution_count": null,
   "id": "ed3abffb-08ff-49ef-8038-6e9ec3065b46",
   "metadata": {},
   "outputs": [],
   "source": [
    "# Visualization:\n",
    "fig = plt.figure()\n",
    "ax = plt.axes()\n",
    "proportions, bins, ignored = ax.hist(data, bins=365, \n",
    "                                     facecolor=\"none\", density=True)\n",
    "\n",
    "xticks = np.sort(np.concatenate([ax.get_xticks(), [245, 255, mu]]))\n",
    "ax.xaxis.set_major_locator(plt.FixedLocator(xticks))\n",
    "ax.set_xticklabels(labels=xticks, rotation=-90)\n",
    "\n",
    "ax.plot(bins, calc_normaldist(bins, mu, sigma), color=\"orange\");\n",
    "ax.vlines(mu, 0, calc_normaldist(mu, mu, sigma),\n",
    "          linewidth=0.4, color=\"black\")\n",
    "\n",
    "shaded_x = bins[(bins >= 245) & (bins <= 255)]\n",
    "ax.fill_between(shaded_x, calc_normaldist(shaded_x, mu, sigma), color=\"red\")\n",
    "shaded_x = bins[(bins >= 245) & (bins <= mu)]\n",
    "ax.fill_between(shaded_x, calc_normaldist(shaded_x, mu, sigma), color=\"tab:blue\")\n",
    "shaded_x = bins[(bins >= 255) & (bins <= mu)]\n",
    "ax.fill_between(shaded_x, calc_normaldist(shaded_x, mu, sigma), color=\"yellow\");"
   ]
  },
  {
   "cell_type": "code",
   "execution_count": null,
   "id": "0e66de7a-783f-4834-975f-3056455d1a34",
   "metadata": {},
   "outputs": [],
   "source": [
    "# z Score calculation:\n",
    "idx = 1\n",
    "for value in [245, 255]:\n",
    "    zscore = calc_zscore(value, mu, sigma)\n",
    "    print(f\"{idx} =\", zscore)\n",
    "    idx += 1"
   ]
  },
  {
   "cell_type": "markdown",
   "id": "3a59bdd1-ca25-4eb3-92ee-c152cf7b27a4",
   "metadata": {},
   "source": [
    "#### **Example: Finding Proportions beyond Two Scores**"
   ]
  },
  {
   "cell_type": "markdown",
   "id": "49d8504f-d37c-4e8d-8d23-9807a290aea5",
   "metadata": {
    "jp-MarkdownHeadingCollapsed": true,
    "tags": []
   },
   "source": [
    "#### **Semantic Alert:**"
   ]
  },
  {
   "cell_type": "markdown",
   "id": "2d086df2-f5c3-4642-89dc-0efc85bc4e26",
   "metadata": {
    "jp-MarkdownHeadingCollapsed": true,
    "tags": []
   },
   "source": [
    "#### **Progress Check 5.5: Assume that SAT math scores approximate a normal curve with a mean of 500 and a standard deviation of 100.**\n",
    "(a) Sketch a normal curve and shade in the target area(s) described by each of the following statements: <br>\n",
    "(i) more than 570 <br>\n",
    "C. <br>\n",
    "Target area: 0.2420. <br>\n",
    "(ii) less than 515 <br>\n",
    "0.5 + B. <br>\n",
    "Target area: 0.5596. <br>\n",
    "(iii) between 520 and 540 <br>\n",
    "B(540) - B(520). <br>\n",
    "Target area: 0.0761. <br>\n",
    "(iv) between 470 and 520 <br>\n",
    "B' + B. <br>\n",
    "Target area: 0.1972. <br>\n",
    "(v) more than 50 points above the mean <br>\n",
    "C(Mean + 50) = C(550). <br>\n",
    "Target area: 0.3085. <br>\n",
    "(vi) more than 100 points either above or below the mean <br>\n",
    "C'(Mean - 100) + C(Mean + 100) = C'(400) + C(600). <br>\n",
    "Target area: 0.3174. <br>\n",
    "(vii) within 50 points either above or below the mean <br>\n",
    "B'(Mean - 50) + B(Mean + 50) = B'(450) + B(550). <br>\n",
    "Target area: 0.383. <br>\n",
    "(b) Plan solutions (in terms of columns B, C, B′, and C′) for the target areas in part (a). <br>\n",
    "(c) Convert to z scores and find the target areas in part (a). <br>"
   ]
  },
  {
   "cell_type": "code",
   "execution_count": 18,
   "id": "dd19a268-4320-4022-856e-5be59261db50",
   "metadata": {},
   "outputs": [],
   "source": [
    "# Solution:\n",
    "mu, sigma = 500, 100\n",
    "data = np.random.normal(mu, sigma, 10000000)\n",
    "data = data[(data >= 0) & (data <= 1000)]"
   ]
  },
  {
   "cell_type": "code",
   "execution_count": null,
   "id": "e32a0ca1-31dd-41bd-b44b-79767d8d7785",
   "metadata": {},
   "outputs": [],
   "source": [
    "# a):\n",
    "    # (i):\n",
    "fig, ax = NormalDistribution.draw_shaded_normaldist(data, mu, sigma, [570, 0])"
   ]
  },
  {
   "cell_type": "code",
   "execution_count": null,
   "id": "4c044af8-c2d1-4c32-b486-4a06b7e53f48",
   "metadata": {},
   "outputs": [],
   "source": [
    "    # (ii):\n",
    "fig, ax = NormalDistribution.draw_shaded_normaldist(data, mu, sigma, [0, 515])"
   ]
  },
  {
   "cell_type": "code",
   "execution_count": null,
   "id": "66f6efcc-09b5-449a-a120-b7cad8f7f2eb",
   "metadata": {},
   "outputs": [],
   "source": [
    "    # (iii):\n",
    "fig, ax = NormalDistribution.draw_shaded_normaldist(data, mu, sigma, [520, 540])"
   ]
  },
  {
   "cell_type": "code",
   "execution_count": null,
   "id": "bbbaf731-c737-4d6f-aefb-a85be536c335",
   "metadata": {},
   "outputs": [],
   "source": [
    "    # (iv):\n",
    "fig, ax = NormalDistribution.draw_shaded_normaldist(data, mu, sigma, [470, 520])"
   ]
  },
  {
   "cell_type": "code",
   "execution_count": null,
   "id": "081f3634-0a9a-48bd-8b2a-71bb7cd2db57",
   "metadata": {},
   "outputs": [],
   "source": [
    "    # (v):\n",
    "fig, ax = NormalDistribution.draw_shaded_normaldist(data, mu, sigma, [mu + 50, 0])"
   ]
  },
  {
   "cell_type": "code",
   "execution_count": null,
   "id": "e4fed17e-ab22-4ac6-a2a3-978cced8b116",
   "metadata": {},
   "outputs": [],
   "source": [
    "    # (vi):\n",
    "fig, ax = NormalDistribution.draw_shaded_normaldist(data, mu, sigma, [mu - 100, mu + 100], \"outer\")"
   ]
  },
  {
   "cell_type": "code",
   "execution_count": null,
   "id": "8b7a0931-d9e6-4a55-9324-11662687f6a5",
   "metadata": {},
   "outputs": [],
   "source": [
    "    # (vii):\n",
    "fig, ax = NormalDistribution.draw_shaded_normaldist(data, mu, sigma, [mu - 50, mu + 50])"
   ]
  },
  {
   "cell_type": "code",
   "execution_count": null,
   "id": "b38dd633-c22c-42ba-a340-2bfb9ed8f01e",
   "metadata": {},
   "outputs": [],
   "source": [
    "# c):\n",
    "idx = 1\n",
    "for value in [570, 515, [520, 540], [470, 520], mu + 50, \n",
    "              [mu - 100, mu + 100], [mu - 50, mu + 50]]:\n",
    "    if type(value) != int:\n",
    "        value = np.array(value)\n",
    "        zscores = calc_zscore(value, mu, sigma)\n",
    "        print(f\"{idx} =\", zscores[0], \",\", zscores[1])\n",
    "    else:\n",
    "        zscore = calc_zscore(value, mu, sigma)\n",
    "        print(f\"{idx} =\", zscore)\n",
    "    idx += 1"
   ]
  },
  {
   "cell_type": "markdown",
   "id": "333202b0-4985-4aa0-83f7-e483402d5320",
   "metadata": {
    "jp-MarkdownHeadingCollapsed": true,
    "tags": []
   },
   "source": [
    "### **5.6/ FINDING SCORES**"
   ]
  },
  {
   "cell_type": "markdown",
   "id": "d1e452bd-7487-4b62-9035-f5dbe5856bc6",
   "metadata": {},
   "source": [
    "<center><b>CONVERTING z SCORE TO ORIGINAL SCORE</b></center>\n",
    "<center>$\\Large X = \\mu + (z)(\\sigma)$</center>"
   ]
  },
  {
   "cell_type": "markdown",
   "id": "a9e3bfca-faaa-466d-bd54-97d88bd95877",
   "metadata": {},
   "source": [
    "#### **Example: Finding One Score**"
   ]
  },
  {
   "cell_type": "markdown",
   "id": "ebd40ffc-c408-4842-b359-c8cf525d837c",
   "metadata": {},
   "source": [
    "#### **Comment: Place Target Score on Correct Side of the Mean**"
   ]
  },
  {
   "cell_type": "markdown",
   "id": "06f4a713-a40f-47ed-84ea-51310fc63283",
   "metadata": {},
   "source": [
    "#### **Example: Finding Two Scores**"
   ]
  },
  {
   "cell_type": "markdown",
   "id": "42e3435f-cce7-4e1d-b740-e16d0a618401",
   "metadata": {},
   "source": [
    "#### **Comment: Common and Rare Events**\n",
    "- Common events tend to be identified with the 95 percent of the area under the normal curve.\n",
    "- Rare events tend to be identified with the 2.5 percent in each tail.\n",
    "- In inferential statistics, to consider the observed mean difference as real or transitory (affected by chances), one will need to construct a normal distribution of all possible mean differences, to which, the observed mean difference will be compared and concluded that, which percentile it belongs to."
   ]
  },
  {
   "cell_type": "markdown",
   "id": "fce6b9ee-b4d9-464d-8a78-459c34577df6",
   "metadata": {
    "jp-MarkdownHeadingCollapsed": true,
    "tags": []
   },
   "source": [
    "#### **Progress Check 5.6: Assume that the burning times of electric light bulbs approximate a normal curve with a mean of 1200 hours and a standard deviation of 120 hours. If a large number of new lights are installed at the same time (possibly along a newly opened freeway), at what time will** <br>\n",
    "(a) 1 percent fail? (Hint: This splits the total area into .0100 to the left and .9900 to the right.) <br>\n",
    "920.4 hours. <br>\n",
    "(b) 50 percent fail? <br>\n",
    "1200 hours. <br>\n",
    "(c) 95 percent fail? <br>\n",
    "1396.8 hours. <br>\n",
    "(d) If a new inspection procedure eliminates the weakest 8 percent of all lights before they are marketed, the manufacturer can safely offer customers a money-back guarantee on all lights that fail before <i>_____ hours of burning time</i>. <br>\n",
    "1030.8 hours."
   ]
  },
  {
   "cell_type": "code",
   "execution_count": null,
   "id": "9947083c-16d3-4cc4-81b1-5b6fbfc3d2aa",
   "metadata": {},
   "outputs": [],
   "source": [
    "# Solution:\n",
    "mu, sigma = 1200, 120"
   ]
  },
  {
   "cell_type": "code",
   "execution_count": null,
   "id": "165be332-4413-4316-83dc-e3cdf9088ca1",
   "metadata": {},
   "outputs": [],
   "source": [
    "# a):\n",
    "zscore = NormalDistribution.find_zscore(0.01)\n",
    "lifetime = NormalDistribution.calc_targetscore(zscore, mu, sigma)\n",
    "lifetime"
   ]
  },
  {
   "cell_type": "code",
   "execution_count": null,
   "id": "c6674004-1859-4ba0-b409-708959cc499f",
   "metadata": {},
   "outputs": [],
   "source": [
    "# b):\n",
    "zscore = NormalDistribution.find_zscore(0.5)\n",
    "lifetime = NormalDistribution.calc_targetscore(zscore, mu, sigma)\n",
    "lifetime"
   ]
  },
  {
   "cell_type": "code",
   "execution_count": null,
   "id": "ee888f33-3cef-46d4-bd43-8964d562ffce",
   "metadata": {},
   "outputs": [],
   "source": [
    "# c):\n",
    "zscore = NormalDistribution.find_zscore(0.95)\n",
    "lifetime = NormalDistribution.calc_targetscore(zscore, mu, sigma)\n",
    "lifetime"
   ]
  },
  {
   "cell_type": "code",
   "execution_count": null,
   "id": "80845f33-be8e-4835-9635-a288bf270625",
   "metadata": {
    "tags": []
   },
   "outputs": [],
   "source": [
    "# d):\n",
    "zscore = NormalDistribution.find_zscore(0.08)\n",
    "lifetime = NormalDistribution.calc_targetscore(zscore, mu, sigma)\n",
    "lifetime"
   ]
  },
  {
   "attachments": {
    "405f7abe-3ae8-47b1-a525-555ac08d0703.png": {
     "image/png": "[encoded data removed]"
    }
   },
   "cell_type": "markdown",
   "id": "e7e83abf-4584-40d2-9836-3deee6b69e55",
   "metadata": {},
   "source": [
    "#### **Guidlines for Normal Curve Problems:**\n",
    "![image.png](attachment:405f7abe-3ae8-47b1-a525-555ac08d0703.png)"
   ]
  },
  {
   "cell_type": "markdown",
   "id": "83df0b5e-9fdf-488e-a1dc-7835a9dd1cab",
   "metadata": {},
   "source": [
    "### **5.7/ MORE ABOUT z SCORES**"
   ]
  },
  {
   "cell_type": "markdown",
   "id": "6aa451f3-cd42-455f-b688-7816bdc2e61a",
   "metadata": {},
   "source": [
    "#### **z Scores for Non-normal Distributions:** \n",
    "- Regardless of the shape of the distribution, the shift to z Scores always produces a distribution of standard score with a mean of 0 and a standard deviation of 1.\n",
    "* Proof:\n",
    "    - Standard formulas:\n",
    "        + z Score: <br>\n",
    "        $\\Large z_i = \\frac{X_i - \\mu}{\\sigma}$\n",
    "        + Standard deviation: <br>\n",
    "        $\\Large \\sigma = \\sqrt{\\frac{(\\sum{X_i - \\mu})^2}{N}}$ <br> <br>\n",
    "    - Calculation: <br>\n",
    "        $\\Large \\sigma_z^2 = \\frac{(\\sum{z_i - \\mu_z})^2}{N} = \\frac{\\sum{z_i^2}}{N}$ <br> <br>\n",
    "        While $\\Large \\sum{z_i^2} = (\\frac{X_i - \\mu}{\\sigma})^2 = N$ and $\\Large \\mu_z = 0$ <br> <br>\n",
    "        $=> \\Large \\sigma_z^2 = \\frac{N}{N} = 1$"
   ]
  },
  {
   "cell_type": "markdown",
   "id": "4e781e7c-b35f-4cdd-855d-5f3c11369e4e",
   "metadata": {},
   "source": [
    "#### **Interpreting Test Scores:**\n",
    "- Using z Scores, one can deduce, using the z Scores table, the relative standing of the actual score in the entire population, under the condition, such that the distribtion approximates a normal distribution."
   ]
  },
  {
   "cell_type": "markdown",
   "id": "aa96bf96-e4fe-447a-8ba3-2db000ec48bd",
   "metadata": {},
   "source": [
    "#### **Importance of Reference Group:**"
   ]
  },
  {
   "attachments": {
    "d420fd47-aa93-4a73-b740-684071eb809e.png": {
     "image/png": "[encoded data removed]"
    }
   },
   "cell_type": "markdown",
   "id": "4e11cdcb-50ea-4b0d-b600-f6fe3a3f3385",
   "metadata": {
    "jp-MarkdownHeadingCollapsed": true,
    "tags": []
   },
   "source": [
    "#### **Progress Check 5.7: Convert each of the following test scores to z scores**\n",
    "![image.png](attachment:d420fd47-aa93-4a73-b740-684071eb809e.png)"
   ]
  },
  {
   "cell_type": "code",
   "execution_count": null,
   "id": "675d6427-d472-4ad3-9a3f-daaaae6f44c8",
   "metadata": {},
   "outputs": [],
   "source": [
    "# Solution:\n",
    "questions = [\"a)\", \"b)\", \"c)\", \"d)\"]\n",
    "mu_and_sigma = [[50, 9], [40, 10], [30, 20], [20, 20]]\n",
    "idx = 0\n",
    "for score in [53, 38, 45, 28]:\n",
    "    mu = mu_and_sigma[idx][0]\n",
    "    sigma = mu_and_sigma[idx][1]\n",
    "    zscore = NormalDistribution.calc_zscore(score, mu, sigma)\n",
    "    print(f\"{questions[idx]} = \", zscore)\n",
    "    idx += 1"
   ]
  },
  {
   "cell_type": "markdown",
   "id": "76a978ec-2dbb-4e78-bb39-d223673c2fba",
   "metadata": {
    "jp-MarkdownHeadingCollapsed": true,
    "tags": []
   },
   "source": [
    "#### **Progress Check 5.8:**\n",
    "(a) Referring to Question 5.7, which one test score would you prefer? <br>\n",
    "c). <br>\n",
    "(b) Referring to Question 5.7, if Carson had earned a score of 64 on some test, which of the four distributions (a, b, c, or d) would have permitted the most favorable interpretation of this score? <br>\n",
    "b)."
   ]
  },
  {
   "cell_type": "code",
   "execution_count": 5,
   "id": "8e58a457-9546-45fd-bfb0-e7d30c1c431a",
   "metadata": {},
   "outputs": [
    {
     "name": "stdout",
     "output_type": "stream",
     "text": [
      "a) =  1.56\n",
      "b) =  2.4\n",
      "c) =  1.7\n",
      "d) =  2.2\n"
     ]
    }
   ],
   "source": [
    "# Solution:\n",
    "idx = 0\n",
    "for dist_data in mu_and_sigma:\n",
    "    mu = dist_data[0]\n",
    "    sigma = dist_data[1]\n",
    "    zscore = NormalDistribution.calc_zscore(64, mu, sigma)\n",
    "    print(f\"{questions[idx]} = \", zscore)\n",
    "    idx += 1"
   ]
  },
  {
   "cell_type": "markdown",
   "id": "dab8d2bc-e7cb-47be-8bad-99c8860c00c4",
   "metadata": {},
   "source": [
    "#### **Standard Score:**\n",
    "- Whenever any unit-free score are expressed relative to a known mean and a known standard deviation, they are referred to as standard scores."
   ]
  },
  {
   "cell_type": "markdown",
   "id": "c82d7f8e-9e8f-47c2-9f4d-32d951e2878d",
   "metadata": {},
   "source": [
    "#### **Transformed Standard Scores:**\n",
    "- For convenience, particularly when reporting to a wide audience, z Scores can be changed to Transformed Standard Scores, other types of unit-free standard scores that lack of negative signs and decimal points.\n",
    "- Remark: these transformed scores must not change the shape of the distribution nor the relative standings of scores.\n",
    "- Formula:\n",
    "<center><b>TRANSFORMED STANDARD SCORE</b></center>\n",
    "<center>$z^{'} = Desired\\,Mean + (z)(Desired\\,Standard\\,Deviation)$</center>"
   ]
  },
  {
   "cell_type": "markdown",
   "id": "a72653ce-0e45-4924-bdab-01253f7c49bc",
   "metadata": {},
   "source": [
    "#### **Substitute Pairs of Convenient Numbers:**\n",
    "- Traditionally, substitutions have been limited mainly to the pairs of convenient numbers, such as multiples of 5, 10, etc."
   ]
  },
  {
   "attachments": {
    "65363b8d-6507-4e19-84d9-132f2cb6232a.png": {
     "image/png": "[encoded data removed]"
    }
   },
   "cell_type": "markdown",
   "id": "8b8860a2-cad1-4f47-a0a9-a2d1e8cde036",
   "metadata": {
    "jp-MarkdownHeadingCollapsed": true,
    "tags": []
   },
   "source": [
    "#### **Progress Check 5.9: Assume that each of the raw scores listed originates from a distribution with the specified mean and standard deviation. After converting each raw score into a z score, transform each z score into a series of new standard scores with means and standard deviations of 50 and 10, 100 and 15, and 500 and 100, respectively. (In practice, you would transform a particular z into only one new standard score.**\n",
    "![image.png](attachment:65363b8d-6507-4e19-84d9-132f2cb6232a.png)"
   ]
  },
  {
   "cell_type": "code",
   "execution_count": 13,
   "id": "cc82368b-5cc9-41e3-8975-58850de0fcfe",
   "metadata": {},
   "outputs": [
    {
     "name": "stdout",
     "output_type": "stream",
     "text": [
      "a):\n",
      "            Orginal z Score = 0.8\n",
      "            New Standard Scores = [58.0, 112.0, 580.0]\n",
      "b):\n",
      "            Orginal z Score = -1.67\n",
      "            New Standard Scores = [33.3, 74.95, 333.0]\n"
     ]
    }
   ],
   "source": [
    "# Solution:\n",
    "questions = [\"a)\", \"b)\"]\n",
    "mu_and_sigma = [[20, 5], [42, 3]]\n",
    "new_musigma = [[50, 10], [100, 15], [500, 100]]\n",
    "idx = 0\n",
    "for score in [24, 37]:\n",
    "    mu = mu_and_sigma[idx][0]\n",
    "    sigma = mu_and_sigma[idx][1]\n",
    "    zscore = NormalDistribution.calc_zscore(score, mu, sigma)\n",
    "    \n",
    "    transformed_zscores = list()\n",
    "    for new_data in new_musigma:\n",
    "        new_mu = new_data[0]\n",
    "        new_sigma = new_data[1]\n",
    "        new_zscore = NormalDistribution.transform_zscore(zscore, new_mu, new_sigma)\n",
    "        transformed_zscores.append(new_zscore)\n",
    "    \n",
    "    print(f\"{questions[idx]}:\\r\\n\\\n",
    "            Orginal z Score = {zscore}\\r\\n\\\n",
    "            New Standard Scores = {transformed_zscores[:]}\")\n",
    "    idx += 1"
   ]
  },
  {
   "cell_type": "markdown",
   "id": "7f0c54d1-bd44-4f41-832e-318df723ed9f",
   "metadata": {
    "tags": []
   },
   "source": [
    "### **REVIEW QUESTIONS**"
   ]
  },
  {
   "cell_type": "markdown",
   "id": "6f4c9177-6b24-45bd-8e8b-b06f4b0ac66a",
   "metadata": {
    "tags": []
   },
   "source": [
    "#### **5.10. Fill in the blank spaces**\n",
    "(a) + (b): mean and standard deviation. <br>\n",
    "(c): z. <br>\n",
    "(d): standard deviations. <br>\n",
    "(e) + (f): above and below. <br>\n",
    "(g): only one. <br>\n",
    "(h) + (i): mean and standard deviation. <br>\n",
    "(j): 1. <br>\n",
    "(k): 0.5. <br>\n",
    "(l): mean. <br>\n",
    "(m): beyond. <br>\n",
    "(n): negative. <br>\n",
    "(o) + (p): mean and standard deviation. <br>\n",
    "(q): z. <br>\n",
    "(r) + (s): negative and decimal. <br>\n",
    "(t): z/standard. <br>"
   ]
  },
  {
   "cell_type": "markdown",
   "id": "417d767b-5a6a-4998-9ad9-cfe2bb19e8b7",
   "metadata": {
    "jp-MarkdownHeadingCollapsed": true,
    "tags": []
   },
   "source": [
    "#### **5.11. Scores on the Wechsler Adult Intelligence Scale (WAIS) approximate a normal curve with a mean of 100 and a standard deviation of 15. What proportion of IQ scores are**\n",
    "(a) above Kristen’s 125? <br>\n",
    "0.0474. <br>\n",
    "(b) below 82? <br>\n",
    "0.1150. <br>\n",
    "(c) within 9 points of the mean? <br>\n",
    "0.4515. <br>\n",
    "(d) more than 40 points from the mean? <br>\n",
    "0.0037."
   ]
  },
  {
   "cell_type": "code",
   "execution_count": 14,
   "id": "31705a0c-8ee9-4ad0-87da-1fa04e44350d",
   "metadata": {},
   "outputs": [],
   "source": [
    "# Solution:\n",
    "mu, sigma = 100, 15\n",
    "table = NormalDistribution.zscores_table()"
   ]
  },
  {
   "cell_type": "code",
   "execution_count": 17,
   "id": "75d247e6-156a-4d21-a85e-dfe59750e9db",
   "metadata": {},
   "outputs": [
    {
     "data": {
      "text/plain": [
       "0.04746"
      ]
     },
     "execution_count": 17,
     "metadata": {},
     "output_type": "execute_result"
    }
   ],
   "source": [
    "# a):\n",
    "zscore = NormalDistribution.calc_zscore(125, mu, sigma)\n",
    "proportion = np.round(1 - table[zscore], decimals=6)\n",
    "proportion"
   ]
  },
  {
   "cell_type": "code",
   "execution_count": 18,
   "id": "6d517c04-c4eb-4fd9-ad3f-f28b89c0854a",
   "metadata": {},
   "outputs": [
    {
     "data": {
      "text/plain": [
       "0.11507"
      ]
     },
     "execution_count": 18,
     "metadata": {},
     "output_type": "execute_result"
    }
   ],
   "source": [
    "# b):\n",
    "zscore = NormalDistribution.calc_zscore(82, mu, sigma)\n",
    "proportion = table[zscore]\n",
    "proportion"
   ]
  },
  {
   "cell_type": "code",
   "execution_count": 19,
   "id": "0353214a-df54-427c-b752-1f6c0923d506",
   "metadata": {},
   "outputs": [
    {
     "data": {
      "text/plain": [
       "0.451494"
      ]
     },
     "execution_count": 19,
     "metadata": {},
     "output_type": "execute_result"
    }
   ],
   "source": [
    "# c):\n",
    "zscore_lower = NormalDistribution.calc_zscore(mu - 9, mu, sigma)\n",
    "zscore_upper = NormalDistribution.calc_zscore(mu + 9, mu, sigma)\n",
    "proportion = table[zscore_upper] - table[zscore_lower]\n",
    "proportion"
   ]
  },
  {
   "cell_type": "code",
   "execution_count": 21,
   "id": "ef6099e2-ee1a-4961-b5d7-720e8e8a7254",
   "metadata": {},
   "outputs": [
    {
     "data": {
      "text/plain": [
       "0.003793"
      ]
     },
     "execution_count": 21,
     "metadata": {},
     "output_type": "execute_result"
    }
   ],
   "source": [
    "# d):\n",
    "zscore = NormalDistribution.calc_zscore(mu + 40, mu, sigma)\n",
    "proportion = np.round(1 - table[zscore], decimals=6)\n",
    "proportion"
   ]
  },
  {
   "cell_type": "markdown",
   "id": "0c340098-ff69-4247-b152-a9b6c5f02455",
   "metadata": {
    "jp-MarkdownHeadingCollapsed": true,
    "tags": []
   },
   "source": [
    "#### **5.12. Suppose that the burning times of electric light bulbs approximate a normal curve with a mean of 1200 hours and a standard deviation of 120 hours. What proportion of lights burn for**\n",
    "(a) less than 960 hours? <br>\n",
    "0.0227. <br>\n",
    "(b) more than 1500 hours? <br>\n",
    "0.0062. <br>\n",
    "(c) within 50 hours of the mean? <br>\n",
    "0.3255. <br>\n",
    "(d) between 1300 and 1400 hours? <br>\n",
    "0.1558."
   ]
  },
  {
   "cell_type": "code",
   "execution_count": 22,
   "id": "1695bfe8-0c91-4d9a-9b82-270c0c397173",
   "metadata": {},
   "outputs": [],
   "source": [
    "# Solution:\n",
    "mu, sigma = 1200, 120\n",
    "table = NormalDistribution.zscores_table()"
   ]
  },
  {
   "cell_type": "code",
   "execution_count": 23,
   "id": "4a0a4afc-442a-4dc3-9af5-d3bdcdb9f497",
   "metadata": {},
   "outputs": [
    {
     "data": {
      "text/plain": [
       "0.02275"
      ]
     },
     "execution_count": 23,
     "metadata": {},
     "output_type": "execute_result"
    }
   ],
   "source": [
    "# a):\n",
    "zscore = NormalDistribution.calc_zscore(960, mu, sigma)\n",
    "proportion = table[zscore]\n",
    "proportion"
   ]
  },
  {
   "cell_type": "code",
   "execution_count": 24,
   "id": "9c2a487b-887b-4714-ba33-714f0f47816c",
   "metadata": {},
   "outputs": [
    {
     "data": {
      "text/plain": [
       "0.00621"
      ]
     },
     "execution_count": 24,
     "metadata": {},
     "output_type": "execute_result"
    }
   ],
   "source": [
    "# b):\n",
    "zscore = NormalDistribution.calc_zscore(1500, mu, sigma)\n",
    "proportion = np.round(1 - table[zscore], decimals=6)\n",
    "proportion"
   ]
  },
  {
   "cell_type": "code",
   "execution_count": 25,
   "id": "6002e137-947c-4dbf-b4fa-535f660922d5",
   "metadata": {},
   "outputs": [
    {
     "data": {
      "text/plain": [
       "0.325514"
      ]
     },
     "execution_count": 25,
     "metadata": {},
     "output_type": "execute_result"
    }
   ],
   "source": [
    "# c):\n",
    "zscore_lower = NormalDistribution.calc_zscore(mu - 50, mu, sigma)\n",
    "zscore_upper = NormalDistribution.calc_zscore(mu + 50, mu, sigma)\n",
    "proportion = table[zscore_upper] - table[zscore_lower]\n",
    "proportion"
   ]
  },
  {
   "cell_type": "code",
   "execution_count": 26,
   "id": "b8f83a50-af8b-43cf-ad9e-8dc12988c5be",
   "metadata": {},
   "outputs": [
    {
     "data": {
      "text/plain": [
       "0.1558090000000001"
      ]
     },
     "execution_count": 26,
     "metadata": {},
     "output_type": "execute_result"
    }
   ],
   "source": [
    "zscore_lower = NormalDistribution.calc_zscore(1300, mu, sigma)\n",
    "zscore_upper = NormalDistribution.calc_zscore(1400, mu, sigma)\n",
    "proportion = table[zscore_upper] - table[zscore_lower]\n",
    "proportion"
   ]
  },
  {
   "cell_type": "markdown",
   "id": "8c5f1342-65d5-4053-83f8-fb9cf3d3e386",
   "metadata": {
    "jp-MarkdownHeadingCollapsed": true,
    "tags": []
   },
   "source": [
    "#### **5.13. IQ scores on the WAIS test approximate a normal curve with a mean of 100 and a standard deviation of 15. What IQ score is identified with**\n",
    "(a) the upper 2 percent, that is, 2 percent to the right (and 98 percent to the left)? <br>\n",
    "130.75. <br>\n",
    "(b) the lower 10 percent? <br>\n",
    "80.8. <br>\n",
    "(c) the upper 60 percent? <br>\n",
    "96.25. <br>\n",
    "(d) the middle 95 percent? [Remember, the middle 95 percent straddles the line perpendicular to the mean (orthe 50th percentile), with half of 95 percent, or 47.5 percent, above this line and the remaining 47.5 percent below this line.] <br>\n",
    "70.6 - 129.4. <br>\n",
    "(e) the middle 99 percent? <br>\n",
    "65.05 - 134.95."
   ]
  },
  {
   "cell_type": "code",
   "execution_count": 30,
   "id": "4b80952e-a8cd-406b-9d07-b530ef42b5b4",
   "metadata": {},
   "outputs": [],
   "source": [
    "# Solution:\n",
    "mu, sigma = 100, 15"
   ]
  },
  {
   "cell_type": "code",
   "execution_count": 31,
   "id": "a6a0d76c-4249-4511-9f69-34471b9435a6",
   "metadata": {},
   "outputs": [
    {
     "data": {
      "text/plain": [
       "Float64Index([130.75], dtype='float64')"
      ]
     },
     "execution_count": 31,
     "metadata": {},
     "output_type": "execute_result"
    }
   ],
   "source": [
    "# a):\n",
    "zscore = NormalDistribution.find_zscore(0.98)\n",
    "target = NormalDistribution.calc_targetscore(zscore, mu, sigma)\n",
    "target"
   ]
  },
  {
   "cell_type": "code",
   "execution_count": 32,
   "id": "b302f566-392d-4067-b39a-6b9acd6b9c32",
   "metadata": {},
   "outputs": [
    {
     "data": {
      "text/plain": [
       "Float64Index([80.8], dtype='float64')"
      ]
     },
     "execution_count": 32,
     "metadata": {},
     "output_type": "execute_result"
    }
   ],
   "source": [
    "# b):\n",
    "zscore = NormalDistribution.find_zscore(0.10)\n",
    "target = NormalDistribution.calc_targetscore(zscore, mu, sigma)\n",
    "target"
   ]
  },
  {
   "cell_type": "code",
   "execution_count": 33,
   "id": "4d2eaaf0-02b4-4d91-906d-509c0cda0408",
   "metadata": {},
   "outputs": [
    {
     "data": {
      "text/plain": [
       "Float64Index([96.25], dtype='float64')"
      ]
     },
     "execution_count": 33,
     "metadata": {},
     "output_type": "execute_result"
    }
   ],
   "source": [
    "# c):\n",
    "zscore = NormalDistribution.find_zscore(0.4)\n",
    "target = NormalDistribution.calc_targetscore(zscore, mu, sigma)\n",
    "target"
   ]
  },
  {
   "cell_type": "code",
   "execution_count": 34,
   "id": "f5762eea-ec2e-443d-8984-8fb063131ea9",
   "metadata": {},
   "outputs": [
    {
     "data": {
      "text/plain": [
       "(Float64Index([70.6], dtype='float64'), Float64Index([129.4], dtype='float64'))"
      ]
     },
     "execution_count": 34,
     "metadata": {},
     "output_type": "execute_result"
    }
   ],
   "source": [
    "# d):\n",
    "zscore_lower = NormalDistribution.find_zscore(0.025)\n",
    "zscore_upper = NormalDistribution.find_zscore(0.975)\n",
    "target_lower = NormalDistribution.calc_targetscore(zscore_lower, mu, sigma)\n",
    "target_upper = NormalDistribution.calc_targetscore(zscore_upper, mu, sigma)\n",
    "target_lower, target_upper"
   ]
  },
  {
   "cell_type": "code",
   "execution_count": 35,
   "id": "f7143e19-bf24-43f5-bba4-d156feff579f",
   "metadata": {},
   "outputs": [
    {
     "data": {
      "text/plain": [
       "(Float64Index([65.05], dtype='float64'),\n",
       " Float64Index([134.95], dtype='float64'))"
      ]
     },
     "execution_count": 35,
     "metadata": {},
     "output_type": "execute_result"
    }
   ],
   "source": [
    "# e):\n",
    "zscore_lower = NormalDistribution.find_zscore(0.01)\n",
    "zscore_upper = NormalDistribution.find_zscore(0.99)\n",
    "target_lower = NormalDistribution.calc_targetscore(zscore_lower, mu, sigma)\n",
    "target_upper = NormalDistribution.calc_targetscore(zscore_upper, mu, sigma)\n",
    "target_lower, target_upper"
   ]
  },
  {
   "cell_type": "markdown",
   "id": "5eed812e-1a9b-4c77-b88e-2021ab47540a",
   "metadata": {
    "jp-MarkdownHeadingCollapsed": true,
    "tags": []
   },
   "source": [
    "#### **5.14. For the normal distribution of burning times of electric light bulbs, with a mean equal to 1200 hours and a standard deviation equal to 120 hours, what burning time is identified with the**\n",
    "(a) upper 50 percent? <br>\n",
    "1200 hours. <br>\n",
    "(b) lower 75 percent? <br>\n",
    "1280 hours. <br>\n",
    "(c) lower 1 percent? <br>\n",
    "920.4 hours. <br>\n",
    "(d) middle 90 percent? <br>\n",
    "1003.2 - 1396.8 hours."
   ]
  },
  {
   "cell_type": "code",
   "execution_count": 36,
   "id": "828f6cec-f62e-46d8-b13d-9de1783a7410",
   "metadata": {},
   "outputs": [],
   "source": [
    "# Solution:\n",
    "mu, sigma = 1200, 120"
   ]
  },
  {
   "cell_type": "code",
   "execution_count": null,
   "id": "b2ae0512-75a6-4278-8a77-b36648cc1106",
   "metadata": {},
   "outputs": [
    {
     "data": {
      "text/plain": [
       "Float64Index([1200.0], dtype='float64')"
      ]
     },
     "execution_count": 37,
     "metadata": {},
     "output_type": "execute_result"
    }
   ],
   "source": [
    "# a):\n",
    "zscore = NormalDistribution.find_zscore(0.5)\n",
    "target = NormalDistribution.calc_targetscore(zscore, mu, sigma)\n",
    "target"
   ]
  },
  {
   "cell_type": "code",
   "execution_count": 38,
   "id": "0446ae64-fa70-4026-bb40-3a9010ef3dc6",
   "metadata": {},
   "outputs": [
    {
     "data": {
      "text/plain": [
       "Float64Index([1280.4], dtype='float64')"
      ]
     },
     "execution_count": 38,
     "metadata": {},
     "output_type": "execute_result"
    }
   ],
   "source": [
    "# b):\n",
    "zscore = NormalDistribution.find_zscore(0.75)\n",
    "target = NormalDistribution.calc_targetscore(zscore, mu, sigma)\n",
    "target"
   ]
  },
  {
   "cell_type": "code",
   "execution_count": 39,
   "id": "6fccafad-b43f-46e6-a79a-5a97960be872",
   "metadata": {},
   "outputs": [
    {
     "data": {
      "text/plain": [
       "Float64Index([920.4], dtype='float64')"
      ]
     },
     "execution_count": 39,
     "metadata": {},
     "output_type": "execute_result"
    }
   ],
   "source": [
    "# c):\n",
    "zscore = NormalDistribution.find_zscore(0.01)\n",
    "target = NormalDistribution.calc_targetscore(zscore, mu, sigma)\n",
    "target"
   ]
  },
  {
   "cell_type": "code",
   "execution_count": 40,
   "id": "2ebc03d9-cd73-4c09-81de-21608d2c217a",
   "metadata": {},
   "outputs": [
    {
     "data": {
      "text/plain": [
       "(Float64Index([1003.2], dtype='float64'),\n",
       " Float64Index([1396.8], dtype='float64'))"
      ]
     },
     "execution_count": 40,
     "metadata": {},
     "output_type": "execute_result"
    }
   ],
   "source": [
    "# d):\n",
    "zscore_lower = NormalDistribution.find_zscore(0.05)\n",
    "zscore_upper = NormalDistribution.find_zscore(0.95)\n",
    "target_lower = NormalDistribution.calc_targetscore(zscore_lower, mu, sigma)\n",
    "target_upper = NormalDistribution.calc_targetscore(zscore_upper, mu, sigma)\n",
    "target_lower, target_upper"
   ]
  },
  {
   "cell_type": "markdown",
   "id": "d8746933-c0f6-4473-aba2-a0ec0f6050ae",
   "metadata": {},
   "source": [
    "#### **5.15. An investigator polls common cold sufferers, asking them to estimate the number of hours of physical discomfort caused by their most recent colds. Assume that their estimates approximate a normal curve with a mean of 83 hours and a standard deviation of 20 hours.**\n",
    "(a) What is the estimated number of hours for the shortest-suffering 5 percent? <br>\n",
    "50.2. <br>\n",
    "(b) What proportion of sufferers estimate that their colds lasted longer than 48 hours? <br>\n",
    "0.9599. <br>\n",
    "(c) What proportion suffered for fewer than 61 hours? <br>\n",
    "0.1356. <br>\n",
    "(d) What is the estimated number of hours suffered by the extreme 1 percent either above or below the mean? <br>\n",
    "36.4, 129.6. <br>\n",
    "(e) What proportion suffered for between 1 and 3 days, that is, between 24 and 72 hours? <br>\n",
    "0.2895. <br>\n",
    "(f) What is the estimated number of hours suffered by the middle 95 percent? [See the comment about “middle 95 percent” in Question 5.13(d).] <br>\n",
    "43.8, 122.2. <br>\n",
    "(g) What proportion suffered for between 2 and 4 days? <br>\n",
    "0.7020. <br>\n",
    "(h) A medical researcher wishes to concentrate on the 20 percent who suffered the most. She will work only with those who estimate that they suffered for more than ——— hours. <br>\n",
    "99.8. <br>\n",
    "(i) Another researcher wishes to compare those who suffered least with those who suffered most. If each group is to consist of only the extreme 3 percent, the mild group will consist of those who suffered for fewer than _____ hours, and the severe group will consist of those who suffered for more than _____ hours. <br>\n",
    "45.4 and 120.6. <br>\n",
    "(j) Another survey found that people with colds who took daily doses of vitamin C suffered, on the average, for 61 hours. What proportion of the original survey (with a mean of 83 hours and a standard deviation of 20 hours) suffered for more than 61 hours? <br>\n",
    "0.8643. <br>\n",
    "(k) What proportion of the original survey suffered for exactly 61 hours? (Be careful!) <br>\n",
    "0."
   ]
  },
  {
   "cell_type": "markdown",
   "id": "b6100454-a164-4b45-917e-1e083c2bdbe8",
   "metadata": {},
   "source": [
    "#### **5.16. Admission to a state university depends partially on the applicant’s high school GPA. Assume that the applicants’ GPAs approximate a normal curve with a mean of 3.20 and a standard deviation of 0.30.**\n",
    "(a) If applicants with GPAs of 3.50 or above are automatically admitted, what proportion of applicants will be in this category? <br>\n",
    "0.1586. <br>\n",
    "(b) If applicants with GPAs of 2.50 or below are automatically denied admission, what proportion of applicants will be in this category? <br>\n",
    "0.0099. <br>\n",
    "(c) A special honors program is open to all applicants with GPAs of 3.75 or better. What proportion of applicants are eligible? <br>\n",
    "0.0336. <br>\n",
    "(d) If the special honors program is limited to students whose GPAs rank in the upper 10 percent, what will Brittany’s GPA have to be for admission to this program? <br>\n",
    "3.58."
   ]
  },
  {
   "cell_type": "markdown",
   "id": "c05b5cf3-2377-4680-a70a-526959130e7c",
   "metadata": {},
   "source": [
    "#### **5.17. For each of the following scores, convert into transformed z scores with means and standard deviations of 50 and 10, of 100 and 15, and of 500 and 100, respectively.**\n",
    "(a) score of 34 in distribution with a mean of 41 and a standard deviation of 5. <br>\n",
    "36, 79, 360. <br>\n",
    "(b) score of 880 in a distribution with a mean of 700 and a standard deviation of 120. <br>\n",
    "65, 122.5, 650. <br>\n",
    "(c) score of −3 in a distribution with a mean of 12 and a standard deviation of 10. <br>\n",
    "35, 77.5, 350."
   ]
  },
  {
   "cell_type": "markdown",
   "id": "3db9f4cd-46b8-48fc-8289-7751034125fd",
   "metadata": {},
   "source": [
    "#### **5.18. The body mass index (BMI) measures body size in people by dividing weight (in pounds) by the square of height (in inches) and then multiplying by a factor of 703. A BMI less than 18.5 is defined as underweight; between 18.5 to 24.9 is normal; between 25 and 29.9 is overweight; and 30 or more is obese. It is well established that Americans have become heavier during the last half century. Assume that the positively skewed distribution of BMIs for adult American males has a mean of 28 with a standard deviation of 4.**\n",
    "(a) Would the median BMI score exceed, equal, or be exceeded by the mean BMI score of 28? <br>\n",
    "It would be exceeded by the mean. <br>\n",
    "(b) What z score defines overweight? <br>\n",
    "-0.75. <br>\n",
    "(c) What z score defines obese? <br>\n",
    "0.5."
   ]
  },
  {
   "cell_type": "markdown",
   "id": "6b9225a5-6d96-4663-b3e5-962d63d91da9",
   "metadata": {},
   "source": [
    "#### **5.19 When describing test results, someone objects to the conversion of raw scores into standard scores, claiming that this constitutes an arbitrary change in the value of the test score. How might you respond to this objection?**"
   ]
  },
  {
   "cell_type": "code",
   "execution_count": null,
   "id": "fdc1f672-af81-461a-bf8f-d49ddcd04ef2",
   "metadata": {},
   "outputs": [],
   "source": []
  }
 ],
 "metadata": {
  "kernelspec": {
   "display_name": "Python 3 (ipykernel)",
   "language": "python",
   "name": "python3"
  },
  "language_info": {
   "codemirror_mode": {
    "name": "ipython",
    "version": 3
   },
   "file_extension": ".py",
   "mimetype": "text/x-python",
   "name": "python",
   "nbconvert_exporter": "python",
   "pygments_lexer": "ipython3",
   "version": "3.10.4"
  }
 },
 "nbformat": 4,
 "nbformat_minor": 5
}
