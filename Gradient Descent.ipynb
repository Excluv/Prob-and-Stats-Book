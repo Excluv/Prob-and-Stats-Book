{
 "cells": [
  {
   "cell_type": "code",
   "execution_count": null,
   "id": "5fa5bf64-8e31-415d-b564-c8f4ceefedad",
   "metadata": {},
   "outputs": [],
   "source": [
    "import pandas as pd\n",
    "import numpy as np\n",
    "import matplotlib.pyplot as plt"
   ]
  },
  {
   "cell_type": "code",
   "execution_count": null,
   "id": "87f46087-76b9-4568-bf65-cd7df25039a2",
   "metadata": {},
   "outputs": [],
   "source": [
    "features = pd.read_csv(\n",
    "    filepath_or_buffer='C:\\\\Users\\\\jio\\\\Desktop\\\\featuresX.csv',\n",
    "    sep=',',\n",
    "    header=None,\n",
    "    names=['Size', 'Bedrooms']\n",
    ")\n",
    "price = pd.read_csv(\n",
    "    filepath_or_buffer='C:\\\\Users\\\\jio\\\\Desktop\\\\pricesY.csv',\n",
    "    sep=',',\n",
    "    header=None,\n",
    "    names=['Price']\n",
    ")"
   ]
  },
  {
   "cell_type": "code",
   "execution_count": null,
   "id": "b07da0b0-9081-4fde-a1cd-bda86554e4cd",
   "metadata": {
    "tags": []
   },
   "outputs": [],
   "source": [
    "# Features Scaling:\n",
    "sizes = features.loc[:, 'Size'] / features['Size'].max()\n",
    "bedrooms = features.loc[:, 'Bedrooms'] / features['Bedrooms'].max()\n",
    "prices = price['Price'] / price['Price'].max()"
   ]
  },
  {
   "cell_type": "code",
   "execution_count": null,
   "id": "b63a41c6-d638-4c13-8ee6-912efcc822ee",
   "metadata": {
    "tags": []
   },
   "outputs": [],
   "source": [
    "# Gradient Descent with one variable:\n",
    "def hypothesis_function(weight, bias, x):\n",
    "    hypothesis = bias + (weight * x)\n",
    "    \n",
    "    return hypothesis\n",
    "\n",
    "def cost_function(weight, bias, x, y):\n",
    "    squared_error = (hypothesis_function(weight, bias, x).values - y.values) **2\n",
    "    cost = squared_error.sum() / (2 * len(y))\n",
    "    \n",
    "    return cost\n",
    "\n",
    "def gradient_descent(x, y, iteration=2000, learning_rate=1, threshold=1e-6):\n",
    "    weight = 0.1\n",
    "    bias = 0.01\n",
    "    \n",
    "    costs = list()\n",
    "    weights = list()\n",
    "    \n",
    "    prev_cost = None\n",
    "    \n",
    "    for i in range(iteration):\n",
    "        \n",
    "        curr_cost = cost_function(weight, bias, x, y)\n",
    "        costs.append(curr_cost)\n",
    "        \n",
    "        weights.append(weight)\n",
    "        \n",
    "        if (prev_cost) and ((curr_cost - prev_cost) <= threshold):\n",
    "            break\n",
    "        \n",
    "        gradient0 = hypothesis_function(weight, bias, x) - y\n",
    "        gradient1 = (hypothesis_function(weight, bias, x) - y) * x\n",
    "        temp0 = bias - (learning_rate * gradient0.sum() / len(x))\n",
    "        temp1 = weight - (learning_rate * gradient1.sum() / len(x))\n",
    "        bias = temp0\n",
    "        weight = temp1\n",
    "    \n",
    "    # Visualize the costs and weights of all iterations\n",
    "    plt.figure(figsize=(16, 9))\n",
    "    plt.scatter(weights, costs, marker='o', color='blue')\n",
    "    plt.title('Costs vs. Weights')\n",
    "    plt.ylabel('Cost')\n",
    "    plt.xlabel('Weight')\n",
    "    plt.show()\n",
    "    \n",
    "    return weight, bias"
   ]
  },
  {
   "cell_type": "code",
   "execution_count": null,
   "id": "13dc78a1-09b9-46ea-9902-0b84a30f9e68",
   "metadata": {
    "tags": []
   },
   "outputs": [],
   "source": [
    "estimated_weight, estimated_bias = gradient_descent(sizes, prices)\n",
    "prices_prediction = (estimated_weight * sizes) + estimated_bias\n",
    "\n",
    "# Visualize the Linear Regression function:\n",
    "plt.figure(figsize=(16, 9))\n",
    "plt.scatter(sizes, prices, marker='o', color='red')\n",
    "plt.plot([sizes.min(), sizes.max()], [prices_prediction.min(), prices_prediction.max()],\n",
    "         color='black', markerfacecolor='red'\n",
    "        )\n",
    "plt.ylabel('Price')\n",
    "plt.xlabel('Size')\n",
    "plt.show()"
   ]
  },
  {
   "cell_type": "code",
   "execution_count": null,
   "id": "a455fb9d-5419-4e4c-9bd5-0ddf7bd3537e",
   "metadata": {},
   "outputs": [],
   "source": [
    "# Gradient Descent with multiple variables:\n",
    "import numpy.linalg\n",
    "\n",
    "def normal_equation(*inputs, output=None):\n",
    "    # Compute θ: (X^T)Xθ = (X^T)y\n",
    "    in_matrix = np.array(inputs).T\n",
    "    in_matrix = np.insert(in_matrix, 0, np.ones(len(in_matrix)), axis=1)\n",
    "    lhs = np.dot(in_matrix.T, in_matrix)\n",
    "    rhs = np.dot(in_matrix.T, output.values)\n",
    "    theta_matrix = np.linalg.solve(lhs, rhs)\n",
    "    \n",
    "    return theta_matrix\n",
    "\n",
    "def hypothesis_function(*inputs, output=None):\n",
    "    # Compute θ:\n",
    "    theta_matrix = normal_equation(*inputs, output=output)\n",
    "    \n",
    "    # Compute the hypothesis function: h_θ(x) = θ_0 + (θ_1*x_1) + ⋯ + (θ_n*x_n)\n",
    "    hypothesis = 0\n",
    "    for idx in range(len(theta_matrix)):\n",
    "        if idx == 0:\n",
    "            hypothesis += theta_matrix[idx]\n",
    "        else:\n",
    "            hypothesis += theta_matrix[idx] * inputs[idx - 1]\n",
    "            \n",
    "    return hypothesis\n",
    "\n",
    "def cost_function(hypothesis, output=None):\n",
    "    error = (hypothesis.values - output.values) **2\n",
    "    cost = error.sum() / (2 * len(error))\n",
    "    \n",
    "    return cost"
   ]
  },
  {
   "cell_type": "code",
   "execution_count": null,
   "id": "2fe4818e-f490-41d0-a78f-47525f93b471",
   "metadata": {},
   "outputs": [],
   "source": [
    "prices_prediction = hypothesis_function(sizes, bedrooms, output=prices)\n",
    "\n",
    "# 3D scatterplot:\n",
    "import mpl_toolkits.mplot3d\n",
    "\n",
    "fig = plt.figure(figsize=(16, 9))\n",
    "ax = plt.axes(projection='3d')\n",
    "ax.scatter3D(sizes, bedrooms, prices, color='blue')\n",
    "plt.plot([sizes.min(), sizes.max()], \n",
    "         [bedrooms.min(), bedrooms.max()],\n",
    "         [prices_prediction.min(), prices_prediction.max()],\n",
    "         color='black', markerfacecolor='red'\n",
    "        )\n",
    "plt.show()"
   ]
  },
  {
   "cell_type": "code",
   "execution_count": null,
   "id": "0cd6564e-1379-42be-bb9c-2e6e35bc9839",
   "metadata": {},
   "outputs": [],
   "source": [
    "cost = cost_function(prices_prediction, prices)\n",
    "cost"
   ]
  },
  {
   "cell_type": "code",
   "execution_count": null,
   "id": "5902fce8-65f7-4591-9ab5-f49c1d31abc1",
   "metadata": {},
   "outputs": [],
   "source": []
  }
 ],
 "metadata": {
  "kernelspec": {
   "display_name": "Python 3 (ipykernel)",
   "language": "python",
   "name": "python3"
  },
  "language_info": {
   "codemirror_mode": {
    "name": "ipython",
    "version": 3
   },
   "file_extension": ".py",
   "mimetype": "text/x-python",
   "name": "python",
   "nbconvert_exporter": "python",
   "pygments_lexer": "ipython3",
   "version": "3.10.4"
  }
 },
 "nbformat": 4,
 "nbformat_minor": 5
}
